{
 "cells": [
  {
   "cell_type": "markdown",
   "id": "f9d0aa5c",
   "metadata": {},
   "source": [
    "### Remark\n",
    "- Note: For assessment purpose, will only use transactional data for ML features. Additional categorical data for future development\n",
    "\n",
    "### To predict the delta of observation vs result period\n",
    "#### We can categorize the customer as 3 main segment for different marketing strategy\n",
    "- Customer who will increase revenue generation in new cycle\n",
    "- Customer who will decrease revenue generation in new cycle\n",
    "- Customer who will not generate any revenue in new cycle\n",
    "<br>\n",
    "<br>\n",
    "- Customers with growing potential revenue trend, we can do loyalty program to encourage more spending\n",
    "- Customers with declining potential revenue trend, we can do promotion/vouchers to promote spending\n"
   ]
  },
  {
   "cell_type": "code",
   "execution_count": 1,
   "id": "c096cc24",
   "metadata": {
    "scrolled": true
   },
   "outputs": [
    {
     "data": {
      "image/png": "[encoded data removed]",
      "text/plain": [
       "<IPython.core.display.Image object>"
      ]
     },
     "execution_count": 1,
     "metadata": {},
     "output_type": "execute_result"
    }
   ],
   "source": [
    "from IPython import display\n",
    "display.Image(\"https://i.ibb.co/XSS2BRD/churn-plan.png\")"
   ]
  },
  {
   "cell_type": "markdown",
   "id": "976f3f69",
   "metadata": {},
   "source": [
    "# Importing Libs"
   ]
  },
  {
   "cell_type": "code",
   "execution_count": 2,
   "id": "908544db",
   "metadata": {},
   "outputs": [],
   "source": [
    "import psycopg2\n",
    "import pandas as pd\n",
    "import numpy as np\n",
    "import pandas.io.sql as sqlio\n",
    "import matplotlib.pyplot as plt\n",
    "import seaborn as sns\n",
    "\n",
    "\n",
    "# Use pycaret to see which model works best.\n",
    "# For actual implementation then can use sklearn to tune\n",
    "from pycaret.regression import *\n",
    "\n",
    "\n",
    "from sklearn.preprocessing import StandardScaler"
   ]
  },
  {
   "cell_type": "code",
   "execution_count": 3,
   "id": "f49bda62",
   "metadata": {},
   "outputs": [],
   "source": [
    "# Change scientific notation to 3 decimal view\n",
    "pd.set_option('display.float_format', lambda x: '%.3f' % x)"
   ]
  },
  {
   "cell_type": "markdown",
   "id": "18669e18",
   "metadata": {},
   "source": [
    "# Connecting to DB"
   ]
  },
  {
   "cell_type": "code",
   "execution_count": 4,
   "id": "4ded7903",
   "metadata": {},
   "outputs": [],
   "source": [
    "conn = psycopg2.connect(user = ****\n",
    "                        , password = ****\n",
    "                        , host=****\n",
    "                        , database='postgres')"
   ]
  },
  {
   "cell_type": "markdown",
   "id": "964b2872",
   "metadata": {},
   "source": [
    "# Store table for analysis"
   ]
  },
  {
   "cell_type": "code",
   "execution_count": 5,
   "id": "46cc76b4",
   "metadata": {},
   "outputs": [],
   "source": [
    "query = \"select * from order_items\"\n",
    "df_order_items = sqlio.read_sql_query(query, conn)\n",
    "\n",
    "query = \"select * from products\"\n",
    "df_products = sqlio.read_sql_query(query, conn)\n",
    "\n",
    "query = \"select * from customers\"\n",
    "df_customers = sqlio.read_sql_query(query, conn)"
   ]
  },
  {
   "cell_type": "code",
   "execution_count": 6,
   "id": "649d4409",
   "metadata": {},
   "outputs": [],
   "source": [
    "df_order_items_bak = df_order_items.copy()"
   ]
  },
  {
   "cell_type": "markdown",
   "id": "2e146f74",
   "metadata": {},
   "source": [
    "## Check data"
   ]
  },
  {
   "cell_type": "code",
   "execution_count": 7,
   "id": "71df2c69",
   "metadata": {},
   "outputs": [
    {
     "data": {
      "text/html": [
       "<div>\n",
       "<style scoped>\n",
       "    .dataframe tbody tr th:only-of-type {\n",
       "        vertical-align: middle;\n",
       "    }\n",
       "\n",
       "    .dataframe tbody tr th {\n",
       "        vertical-align: top;\n",
       "    }\n",
       "\n",
       "    .dataframe thead th {\n",
       "        text-align: right;\n",
       "    }\n",
       "</style>\n",
       "<table border=\"1\" class=\"dataframe\">\n",
       "  <thead>\n",
       "    <tr style=\"text-align: right;\">\n",
       "      <th></th>\n",
       "      <th>order_item_id</th>\n",
       "      <th>order_id</th>\n",
       "      <th>customer_id</th>\n",
       "      <th>product_id</th>\n",
       "      <th>date</th>\n",
       "      <th>gmv_amount</th>\n",
       "      <th>markdown_amount</th>\n",
       "      <th>coupon_code_amount</th>\n",
       "      <th>nsbr_amount</th>\n",
       "      <th>qty_ordered</th>\n",
       "      <th>qty_returned</th>\n",
       "      <th>city</th>\n",
       "      <th>channel</th>\n",
       "    </tr>\n",
       "  </thead>\n",
       "  <tbody>\n",
       "    <tr>\n",
       "      <th>0</th>\n",
       "      <td>2281000</td>\n",
       "      <td>327281</td>\n",
       "      <td>24836</td>\n",
       "      <td>6706</td>\n",
       "      <td>2017-01-02 20:54:07.600</td>\n",
       "      <td>50.730</td>\n",
       "      <td>0.000</td>\n",
       "      <td>0.000</td>\n",
       "      <td>46.618</td>\n",
       "      <td>1.000</td>\n",
       "      <td>0.000</td>\n",
       "      <td>A</td>\n",
       "      <td>offline</td>\n",
       "    </tr>\n",
       "    <tr>\n",
       "      <th>1</th>\n",
       "      <td>821218</td>\n",
       "      <td>491688</td>\n",
       "      <td>233705</td>\n",
       "      <td>6893</td>\n",
       "      <td>2017-01-02 20:54:16.000</td>\n",
       "      <td>281.449</td>\n",
       "      <td>187.758</td>\n",
       "      <td>14.044</td>\n",
       "      <td>78.396</td>\n",
       "      <td>1.000</td>\n",
       "      <td>0.000</td>\n",
       "      <td>B</td>\n",
       "      <td>online</td>\n",
       "    </tr>\n",
       "    <tr>\n",
       "      <th>2</th>\n",
       "      <td>2555215</td>\n",
       "      <td>422854</td>\n",
       "      <td>215749</td>\n",
       "      <td>513</td>\n",
       "      <td>2017-01-02 20:54:22.363</td>\n",
       "      <td>267.330</td>\n",
       "      <td>0.000</td>\n",
       "      <td>0.000</td>\n",
       "      <td>245.662</td>\n",
       "      <td>1.000</td>\n",
       "      <td>0.000</td>\n",
       "      <td>A</td>\n",
       "      <td>offline</td>\n",
       "    </tr>\n",
       "    <tr>\n",
       "      <th>3</th>\n",
       "      <td>321758</td>\n",
       "      <td>1192300</td>\n",
       "      <td>104801</td>\n",
       "      <td>5258</td>\n",
       "      <td>2017-01-02 20:54:24.470</td>\n",
       "      <td>243.898</td>\n",
       "      <td>0.000</td>\n",
       "      <td>0.000</td>\n",
       "      <td>240.059</td>\n",
       "      <td>1.000</td>\n",
       "      <td>0.000</td>\n",
       "      <td>B</td>\n",
       "      <td>offline</td>\n",
       "    </tr>\n",
       "    <tr>\n",
       "      <th>4</th>\n",
       "      <td>1526881</td>\n",
       "      <td>888456</td>\n",
       "      <td>87664</td>\n",
       "      <td>3058</td>\n",
       "      <td>2017-01-02 20:56:39.043</td>\n",
       "      <td>267.330</td>\n",
       "      <td>0.000</td>\n",
       "      <td>0.000</td>\n",
       "      <td>245.662</td>\n",
       "      <td>1.000</td>\n",
       "      <td>0.000</td>\n",
       "      <td>A</td>\n",
       "      <td>offline</td>\n",
       "    </tr>\n",
       "  </tbody>\n",
       "</table>\n",
       "</div>"
      ],
      "text/plain": [
       "   order_item_id  order_id  customer_id  product_id                     date  \\\n",
       "0        2281000    327281        24836        6706  2017-01-02 20:54:07.600   \n",
       "1         821218    491688       233705        6893  2017-01-02 20:54:16.000   \n",
       "2        2555215    422854       215749         513  2017-01-02 20:54:22.363   \n",
       "3         321758   1192300       104801        5258  2017-01-02 20:54:24.470   \n",
       "4        1526881    888456        87664        3058  2017-01-02 20:56:39.043   \n",
       "\n",
       "   gmv_amount  markdown_amount  coupon_code_amount  nsbr_amount  qty_ordered  \\\n",
       "0      50.730            0.000               0.000       46.618        1.000   \n",
       "1     281.449          187.758              14.044       78.396        1.000   \n",
       "2     267.330            0.000               0.000      245.662        1.000   \n",
       "3     243.898            0.000               0.000      240.059        1.000   \n",
       "4     267.330            0.000               0.000      245.662        1.000   \n",
       "\n",
       "   qty_returned city  channel  \n",
       "0         0.000    A  offline  \n",
       "1         0.000    B   online  \n",
       "2         0.000    A  offline  \n",
       "3         0.000    B  offline  \n",
       "4         0.000    A  offline  "
      ]
     },
     "execution_count": 7,
     "metadata": {},
     "output_type": "execute_result"
    }
   ],
   "source": [
    "df_order_items.head()"
   ]
  },
  {
   "cell_type": "code",
   "execution_count": 8,
   "id": "ceeebd03",
   "metadata": {},
   "outputs": [
    {
     "data": {
      "text/html": [
       "<div>\n",
       "<style scoped>\n",
       "    .dataframe tbody tr th:only-of-type {\n",
       "        vertical-align: middle;\n",
       "    }\n",
       "\n",
       "    .dataframe tbody tr th {\n",
       "        vertical-align: top;\n",
       "    }\n",
       "\n",
       "    .dataframe thead th {\n",
       "        text-align: right;\n",
       "    }\n",
       "</style>\n",
       "<table border=\"1\" class=\"dataframe\">\n",
       "  <thead>\n",
       "    <tr style=\"text-align: right;\">\n",
       "      <th></th>\n",
       "      <th>product_id</th>\n",
       "      <th>subcategory</th>\n",
       "      <th>occasion</th>\n",
       "    </tr>\n",
       "  </thead>\n",
       "  <tbody>\n",
       "    <tr>\n",
       "      <th>0</th>\n",
       "      <td>0</td>\n",
       "      <td>outer</td>\n",
       "      <td>casual</td>\n",
       "    </tr>\n",
       "    <tr>\n",
       "      <th>1</th>\n",
       "      <td>1</td>\n",
       "      <td>tops</td>\n",
       "      <td>casual</td>\n",
       "    </tr>\n",
       "    <tr>\n",
       "      <th>2</th>\n",
       "      <td>2</td>\n",
       "      <td>dresses</td>\n",
       "      <td>wedding &amp; party</td>\n",
       "    </tr>\n",
       "    <tr>\n",
       "      <th>3</th>\n",
       "      <td>3</td>\n",
       "      <td>dresses</td>\n",
       "      <td>work</td>\n",
       "    </tr>\n",
       "    <tr>\n",
       "      <th>4</th>\n",
       "      <td>4</td>\n",
       "      <td>skirts</td>\n",
       "      <td>work</td>\n",
       "    </tr>\n",
       "  </tbody>\n",
       "</table>\n",
       "</div>"
      ],
      "text/plain": [
       "   product_id subcategory         occasion\n",
       "0           0       outer           casual\n",
       "1           1        tops           casual\n",
       "2           2     dresses  wedding & party\n",
       "3           3     dresses             work\n",
       "4           4      skirts             work"
      ]
     },
     "execution_count": 8,
     "metadata": {},
     "output_type": "execute_result"
    }
   ],
   "source": [
    "df_products.head()"
   ]
  },
  {
   "cell_type": "code",
   "execution_count": 9,
   "id": "302e4b1a",
   "metadata": {},
   "outputs": [
    {
     "data": {
      "text/html": [
       "<div>\n",
       "<style scoped>\n",
       "    .dataframe tbody tr th:only-of-type {\n",
       "        vertical-align: middle;\n",
       "    }\n",
       "\n",
       "    .dataframe tbody tr th {\n",
       "        vertical-align: top;\n",
       "    }\n",
       "\n",
       "    .dataframe thead th {\n",
       "        text-align: right;\n",
       "    }\n",
       "</style>\n",
       "<table border=\"1\" class=\"dataframe\">\n",
       "  <thead>\n",
       "    <tr style=\"text-align: right;\">\n",
       "      <th></th>\n",
       "      <th>customer_id</th>\n",
       "      <th>first_order_date</th>\n",
       "    </tr>\n",
       "  </thead>\n",
       "  <tbody>\n",
       "    <tr>\n",
       "      <th>0</th>\n",
       "      <td>0</td>\n",
       "      <td>2012-11-01</td>\n",
       "    </tr>\n",
       "    <tr>\n",
       "      <th>1</th>\n",
       "      <td>1</td>\n",
       "      <td>2017-08-19</td>\n",
       "    </tr>\n",
       "    <tr>\n",
       "      <th>2</th>\n",
       "      <td>2</td>\n",
       "      <td>2017-04-02</td>\n",
       "    </tr>\n",
       "    <tr>\n",
       "      <th>3</th>\n",
       "      <td>3</td>\n",
       "      <td>2016-12-03</td>\n",
       "    </tr>\n",
       "    <tr>\n",
       "      <th>4</th>\n",
       "      <td>4</td>\n",
       "      <td>2016-10-15</td>\n",
       "    </tr>\n",
       "  </tbody>\n",
       "</table>\n",
       "</div>"
      ],
      "text/plain": [
       "   customer_id first_order_date\n",
       "0            0       2012-11-01\n",
       "1            1       2017-08-19\n",
       "2            2       2017-04-02\n",
       "3            3       2016-12-03\n",
       "4            4       2016-10-15"
      ]
     },
     "execution_count": 9,
     "metadata": {},
     "output_type": "execute_result"
    }
   ],
   "source": [
    "df_customers.head()"
   ]
  },
  {
   "cell_type": "markdown",
   "id": "8061d2ea",
   "metadata": {},
   "source": [
    "# Exploratory Data Analysis"
   ]
  },
  {
   "cell_type": "markdown",
   "id": "ea59d4c6",
   "metadata": {},
   "source": [
    "## Check for missing data"
   ]
  },
  {
   "cell_type": "code",
   "execution_count": 10,
   "id": "5419e1ed",
   "metadata": {},
   "outputs": [
    {
     "name": "stdout",
     "output_type": "stream",
     "text": [
      "<class 'pandas.core.frame.DataFrame'>\n",
      "RangeIndex: 2876375 entries, 0 to 2876374\n",
      "Data columns (total 13 columns):\n",
      " #   Column              Non-Null Count    Dtype  \n",
      "---  ------              --------------    -----  \n",
      " 0   order_item_id       2876375 non-null  int64  \n",
      " 1   order_id            2876375 non-null  int64  \n",
      " 2   customer_id         2876375 non-null  int64  \n",
      " 3   product_id          2876375 non-null  int64  \n",
      " 4   date                2876375 non-null  object \n",
      " 5   gmv_amount          2876375 non-null  float64\n",
      " 6   markdown_amount     2876375 non-null  float64\n",
      " 7   coupon_code_amount  2876375 non-null  float64\n",
      " 8   nsbr_amount         2876375 non-null  float64\n",
      " 9   qty_ordered         2876375 non-null  float64\n",
      " 10  qty_returned        2876375 non-null  float64\n",
      " 11  city                2876375 non-null  object \n",
      " 12  channel             2876375 non-null  object \n",
      "dtypes: float64(6), int64(4), object(3)\n",
      "memory usage: 285.3+ MB\n"
     ]
    }
   ],
   "source": [
    "df_order_items.info(show_counts=1)"
   ]
  },
  {
   "cell_type": "code",
   "execution_count": 11,
   "id": "809d8372",
   "metadata": {},
   "outputs": [
    {
     "name": "stdout",
     "output_type": "stream",
     "text": [
      "<class 'pandas.core.frame.DataFrame'>\n",
      "RangeIndex: 7059 entries, 0 to 7058\n",
      "Data columns (total 3 columns):\n",
      " #   Column       Non-Null Count  Dtype \n",
      "---  ------       --------------  ----- \n",
      " 0   product_id   7059 non-null   int64 \n",
      " 1   subcategory  7059 non-null   object\n",
      " 2   occasion     7059 non-null   object\n",
      "dtypes: int64(1), object(2)\n",
      "memory usage: 165.6+ KB\n"
     ]
    }
   ],
   "source": [
    "df_products.info()"
   ]
  },
  {
   "cell_type": "code",
   "execution_count": 12,
   "id": "c51e3ab9",
   "metadata": {},
   "outputs": [
    {
     "name": "stdout",
     "output_type": "stream",
     "text": [
      "<class 'pandas.core.frame.DataFrame'>\n",
      "RangeIndex: 253251 entries, 0 to 253250\n",
      "Data columns (total 2 columns):\n",
      " #   Column            Non-Null Count   Dtype \n",
      "---  ------            --------------   ----- \n",
      " 0   customer_id       253251 non-null  int64 \n",
      " 1   first_order_date  253251 non-null  object\n",
      "dtypes: int64(1), object(1)\n",
      "memory usage: 3.9+ MB\n"
     ]
    }
   ],
   "source": [
    "df_customers.info()"
   ]
  },
  {
   "cell_type": "markdown",
   "id": "bd45bf77",
   "metadata": {},
   "source": [
    "## Check if any weird data\n",
    "- There are blank categories for some products"
   ]
  },
  {
   "cell_type": "code",
   "execution_count": 13,
   "id": "15a88d85",
   "metadata": {},
   "outputs": [
    {
     "data": {
      "text/plain": [
       "array(['outer', 'tops', 'dresses', 'skirts', 'jumpsuits & rompers',\n",
       "       'pants', 'jewellery', 'heels', 'skorts', 'shorts',\n",
       "       'jumpers & cardigans', 'jeans', 'lifestyle', 'bags & purses',\n",
       "       'flats', '', 'swimsuit', 'books & stationery', 'bra', 'bikini',\n",
       "       'sneakers', 'scarves', 'sunglasses', 'panties', 'tights',\n",
       "       'bralettes', 'slippers', 'platforms', 'hats'], dtype=object)"
      ]
     },
     "execution_count": 13,
     "metadata": {},
     "output_type": "execute_result"
    }
   ],
   "source": [
    "df_products.subcategory.unique()"
   ]
  },
  {
   "cell_type": "code",
   "execution_count": 14,
   "id": "7b807f6f",
   "metadata": {},
   "outputs": [
    {
     "data": {
      "text/plain": [
       "(33, 3)"
      ]
     },
     "execution_count": 14,
     "metadata": {},
     "output_type": "execute_result"
    }
   ],
   "source": [
    "# 33 empty subcat products\n",
    "df_products[df_products['subcategory'] == ''].shape"
   ]
  },
  {
   "cell_type": "code",
   "execution_count": 15,
   "id": "4eb2ffce",
   "metadata": {},
   "outputs": [
    {
     "data": {
      "text/plain": [
       "array(['A', 'B', 'C'], dtype=object)"
      ]
     },
     "execution_count": 15,
     "metadata": {},
     "output_type": "execute_result"
    }
   ],
   "source": [
    "df_order_items.city.unique()"
   ]
  },
  {
   "cell_type": "code",
   "execution_count": null,
   "id": "f3329ad2",
   "metadata": {},
   "outputs": [],
   "source": []
  },
  {
   "cell_type": "markdown",
   "id": "6e4e56cc",
   "metadata": {},
   "source": [
    "## Check for outliers"
   ]
  },
  {
   "cell_type": "code",
   "execution_count": 16,
   "id": "4adc6f13",
   "metadata": {},
   "outputs": [
    {
     "data": {
      "text/html": [
       "<div>\n",
       "<style scoped>\n",
       "    .dataframe tbody tr th:only-of-type {\n",
       "        vertical-align: middle;\n",
       "    }\n",
       "\n",
       "    .dataframe tbody tr th {\n",
       "        vertical-align: top;\n",
       "    }\n",
       "\n",
       "    .dataframe thead th {\n",
       "        text-align: right;\n",
       "    }\n",
       "</style>\n",
       "<table border=\"1\" class=\"dataframe\">\n",
       "  <thead>\n",
       "    <tr style=\"text-align: right;\">\n",
       "      <th></th>\n",
       "      <th>order_item_id</th>\n",
       "      <th>order_id</th>\n",
       "      <th>customer_id</th>\n",
       "      <th>product_id</th>\n",
       "      <th>gmv_amount</th>\n",
       "      <th>markdown_amount</th>\n",
       "      <th>coupon_code_amount</th>\n",
       "      <th>nsbr_amount</th>\n",
       "      <th>qty_ordered</th>\n",
       "      <th>qty_returned</th>\n",
       "    </tr>\n",
       "  </thead>\n",
       "  <tbody>\n",
       "    <tr>\n",
       "      <th>count</th>\n",
       "      <td>2876375.000</td>\n",
       "      <td>2876375.000</td>\n",
       "      <td>2876375.000</td>\n",
       "      <td>2876375.000</td>\n",
       "      <td>2876375.000</td>\n",
       "      <td>2876375.000</td>\n",
       "      <td>2876375.000</td>\n",
       "      <td>2876375.000</td>\n",
       "      <td>2876375.000</td>\n",
       "      <td>2876375.000</td>\n",
       "    </tr>\n",
       "    <tr>\n",
       "      <th>mean</th>\n",
       "      <td>1378003.822</td>\n",
       "      <td>695487.121</td>\n",
       "      <td>126867.933</td>\n",
       "      <td>3519.334</td>\n",
       "      <td>253.036</td>\n",
       "      <td>17.268</td>\n",
       "      <td>13.451</td>\n",
       "      <td>208.683</td>\n",
       "      <td>1.004</td>\n",
       "      <td>0.100</td>\n",
       "    </tr>\n",
       "    <tr>\n",
       "      <th>std</th>\n",
       "      <td>795570.349</td>\n",
       "      <td>401472.212</td>\n",
       "      <td>63909.109</td>\n",
       "      <td>2066.247</td>\n",
       "      <td>65.183</td>\n",
       "      <td>43.187</td>\n",
       "      <td>22.407</td>\n",
       "      <td>71.087</td>\n",
       "      <td>0.080</td>\n",
       "      <td>0.302</td>\n",
       "    </tr>\n",
       "    <tr>\n",
       "      <th>min</th>\n",
       "      <td>0.000</td>\n",
       "      <td>0.000</td>\n",
       "      <td>0.000</td>\n",
       "      <td>0.000</td>\n",
       "      <td>0.000</td>\n",
       "      <td>-207.914</td>\n",
       "      <td>0.000</td>\n",
       "      <td>-1853.915</td>\n",
       "      <td>0.000</td>\n",
       "      <td>0.000</td>\n",
       "    </tr>\n",
       "    <tr>\n",
       "      <th>25%</th>\n",
       "      <td>689007.500</td>\n",
       "      <td>347477.500</td>\n",
       "      <td>82848.000</td>\n",
       "      <td>1698.000</td>\n",
       "      <td>210.330</td>\n",
       "      <td>0.000</td>\n",
       "      <td>0.000</td>\n",
       "      <td>167.085</td>\n",
       "      <td>1.000</td>\n",
       "      <td>0.000</td>\n",
       "    </tr>\n",
       "    <tr>\n",
       "      <th>50%</th>\n",
       "      <td>1378095.000</td>\n",
       "      <td>695529.000</td>\n",
       "      <td>127334.000</td>\n",
       "      <td>3530.000</td>\n",
       "      <td>250.230</td>\n",
       "      <td>0.000</td>\n",
       "      <td>0.000</td>\n",
       "      <td>211.724</td>\n",
       "      <td>1.000</td>\n",
       "      <td>0.000</td>\n",
       "    </tr>\n",
       "    <tr>\n",
       "      <th>75%</th>\n",
       "      <td>2066967.000</td>\n",
       "      <td>1042937.000</td>\n",
       "      <td>170412.000</td>\n",
       "      <td>5351.000</td>\n",
       "      <td>284.430</td>\n",
       "      <td>0.000</td>\n",
       "      <td>26.163</td>\n",
       "      <td>256.930</td>\n",
       "      <td>1.000</td>\n",
       "      <td>0.000</td>\n",
       "    </tr>\n",
       "    <tr>\n",
       "      <th>90%</th>\n",
       "      <td>2480293.600</td>\n",
       "      <td>1252146.000</td>\n",
       "      <td>220164.000</td>\n",
       "      <td>6393.000</td>\n",
       "      <td>324.330</td>\n",
       "      <td>79.800</td>\n",
       "      <td>37.529</td>\n",
       "      <td>287.109</td>\n",
       "      <td>1.000</td>\n",
       "      <td>0.000</td>\n",
       "    </tr>\n",
       "    <tr>\n",
       "      <th>95%</th>\n",
       "      <td>2618168.300</td>\n",
       "      <td>1321711.300</td>\n",
       "      <td>236668.000</td>\n",
       "      <td>6746.000</td>\n",
       "      <td>341.430</td>\n",
       "      <td>125.400</td>\n",
       "      <td>46.056</td>\n",
       "      <td>313.749</td>\n",
       "      <td>1.000</td>\n",
       "      <td>1.000</td>\n",
       "    </tr>\n",
       "    <tr>\n",
       "      <th>99%</th>\n",
       "      <td>2728314.260</td>\n",
       "      <td>1377098.260</td>\n",
       "      <td>249985.000</td>\n",
       "      <td>6999.000</td>\n",
       "      <td>421.230</td>\n",
       "      <td>184.557</td>\n",
       "      <td>71.108</td>\n",
       "      <td>376.182</td>\n",
       "      <td>1.000</td>\n",
       "      <td>1.000</td>\n",
       "    </tr>\n",
       "    <tr>\n",
       "      <th>99.25%</th>\n",
       "      <td>2735166.195</td>\n",
       "      <td>1380495.195</td>\n",
       "      <td>250769.000</td>\n",
       "      <td>7020.000</td>\n",
       "      <td>455.430</td>\n",
       "      <td>193.800</td>\n",
       "      <td>75.827</td>\n",
       "      <td>393.699</td>\n",
       "      <td>1.000</td>\n",
       "      <td>1.000</td>\n",
       "    </tr>\n",
       "    <tr>\n",
       "      <th>99.5%</th>\n",
       "      <td>2742049.130</td>\n",
       "      <td>1383995.130</td>\n",
       "      <td>251613.000</td>\n",
       "      <td>7030.000</td>\n",
       "      <td>477.660</td>\n",
       "      <td>206.961</td>\n",
       "      <td>85.358</td>\n",
       "      <td>425.619</td>\n",
       "      <td>1.000</td>\n",
       "      <td>1.000</td>\n",
       "    </tr>\n",
       "    <tr>\n",
       "      <th>99.9%</th>\n",
       "      <td>2753070.626</td>\n",
       "      <td>1389550.000</td>\n",
       "      <td>252959.000</td>\n",
       "      <td>7051.000</td>\n",
       "      <td>626.430</td>\n",
       "      <td>262.200</td>\n",
       "      <td>284.430</td>\n",
       "      <td>545.178</td>\n",
       "      <td>2.000</td>\n",
       "      <td>1.000</td>\n",
       "    </tr>\n",
       "    <tr>\n",
       "      <th>99.99%</th>\n",
       "      <td>2755546.363</td>\n",
       "      <td>1390801.000</td>\n",
       "      <td>253219.000</td>\n",
       "      <td>7058.000</td>\n",
       "      <td>972.990</td>\n",
       "      <td>387.600</td>\n",
       "      <td>369.997</td>\n",
       "      <td>783.082</td>\n",
       "      <td>4.000</td>\n",
       "      <td>2.000</td>\n",
       "    </tr>\n",
       "    <tr>\n",
       "      <th>max</th>\n",
       "      <td>2755822.000</td>\n",
       "      <td>1390937.000</td>\n",
       "      <td>253250.000</td>\n",
       "      <td>7058.000</td>\n",
       "      <td>7284.600</td>\n",
       "      <td>2138.822</td>\n",
       "      <td>945.630</td>\n",
       "      <td>6816.902</td>\n",
       "      <td>31.000</td>\n",
       "      <td>5.000</td>\n",
       "    </tr>\n",
       "  </tbody>\n",
       "</table>\n",
       "</div>"
      ],
      "text/plain": [
       "        order_item_id    order_id  customer_id  product_id  gmv_amount  \\\n",
       "count     2876375.000 2876375.000  2876375.000 2876375.000 2876375.000   \n",
       "mean      1378003.822  695487.121   126867.933    3519.334     253.036   \n",
       "std        795570.349  401472.212    63909.109    2066.247      65.183   \n",
       "min             0.000       0.000        0.000       0.000       0.000   \n",
       "25%        689007.500  347477.500    82848.000    1698.000     210.330   \n",
       "50%       1378095.000  695529.000   127334.000    3530.000     250.230   \n",
       "75%       2066967.000 1042937.000   170412.000    5351.000     284.430   \n",
       "90%       2480293.600 1252146.000   220164.000    6393.000     324.330   \n",
       "95%       2618168.300 1321711.300   236668.000    6746.000     341.430   \n",
       "99%       2728314.260 1377098.260   249985.000    6999.000     421.230   \n",
       "99.25%    2735166.195 1380495.195   250769.000    7020.000     455.430   \n",
       "99.5%     2742049.130 1383995.130   251613.000    7030.000     477.660   \n",
       "99.9%     2753070.626 1389550.000   252959.000    7051.000     626.430   \n",
       "99.99%    2755546.363 1390801.000   253219.000    7058.000     972.990   \n",
       "max       2755822.000 1390937.000   253250.000    7058.000    7284.600   \n",
       "\n",
       "        markdown_amount  coupon_code_amount  nsbr_amount  qty_ordered  \\\n",
       "count       2876375.000         2876375.000  2876375.000  2876375.000   \n",
       "mean             17.268              13.451      208.683        1.004   \n",
       "std              43.187              22.407       71.087        0.080   \n",
       "min            -207.914               0.000    -1853.915        0.000   \n",
       "25%               0.000               0.000      167.085        1.000   \n",
       "50%               0.000               0.000      211.724        1.000   \n",
       "75%               0.000              26.163      256.930        1.000   \n",
       "90%              79.800              37.529      287.109        1.000   \n",
       "95%             125.400              46.056      313.749        1.000   \n",
       "99%             184.557              71.108      376.182        1.000   \n",
       "99.25%          193.800              75.827      393.699        1.000   \n",
       "99.5%           206.961              85.358      425.619        1.000   \n",
       "99.9%           262.200             284.430      545.178        2.000   \n",
       "99.99%          387.600             369.997      783.082        4.000   \n",
       "max            2138.822             945.630     6816.902       31.000   \n",
       "\n",
       "        qty_returned  \n",
       "count    2876375.000  \n",
       "mean           0.100  \n",
       "std            0.302  \n",
       "min            0.000  \n",
       "25%            0.000  \n",
       "50%            0.000  \n",
       "75%            0.000  \n",
       "90%            0.000  \n",
       "95%            1.000  \n",
       "99%            1.000  \n",
       "99.25%         1.000  \n",
       "99.5%          1.000  \n",
       "99.9%          1.000  \n",
       "99.99%         2.000  \n",
       "max            5.000  "
      ]
     },
     "execution_count": 16,
     "metadata": {},
     "output_type": "execute_result"
    }
   ],
   "source": [
    "df_order_items.describe(percentiles = [0.25, 0.5, 0.75, 0.9, 0.95, 0.99, 0.9925, 0.995, 0.999, 0.9999])"
   ]
  },
  {
   "cell_type": "markdown",
   "id": "3f24c455",
   "metadata": {},
   "source": [
    "#### nsbr and markdown got negative value?\n",
    "- not sure why got negative"
   ]
  },
  {
   "cell_type": "code",
   "execution_count": 17,
   "id": "20b7700d",
   "metadata": {},
   "outputs": [
    {
     "data": {
      "text/plain": [
       "No     2875873\n",
       "Yes        502\n",
       "Name: negative_nsbr, dtype: int64"
      ]
     },
     "execution_count": 17,
     "metadata": {},
     "output_type": "execute_result"
    }
   ],
   "source": [
    "df_order_items['negative_nsbr'] = np.where(df_order_items['nsbr_amount'] < 0, 'Yes', 'No')\n",
    "df_order_items['negative_nsbr'].value_counts()\n",
    "# Outlier, can make it as a feature for future development"
   ]
  },
  {
   "cell_type": "code",
   "execution_count": 18,
   "id": "6193d18b",
   "metadata": {},
   "outputs": [
    {
     "data": {
      "text/plain": [
       "No     2876366\n",
       "Yes          9\n",
       "Name: negative_markdown, dtype: int64"
      ]
     },
     "execution_count": 18,
     "metadata": {},
     "output_type": "execute_result"
    }
   ],
   "source": [
    "df_order_items['negative_markdown'] = np.where(df_order_items['markdown_amount'] < 0, 'Yes', 'No')\n",
    "df_order_items['negative_markdown'].value_counts()\n",
    "# Outlier, can make it as a feature for future development"
   ]
  },
  {
   "cell_type": "markdown",
   "id": "e37ee823",
   "metadata": {},
   "source": [
    "# Feature Engineering"
   ]
  },
  {
   "cell_type": "markdown",
   "id": "aae66cd1",
   "metadata": {},
   "source": [
    "## Convert ids into char"
   ]
  },
  {
   "cell_type": "code",
   "execution_count": 19,
   "id": "7ea16108",
   "metadata": {},
   "outputs": [
    {
     "data": {
      "text/html": [
       "<div>\n",
       "<style scoped>\n",
       "    .dataframe tbody tr th:only-of-type {\n",
       "        vertical-align: middle;\n",
       "    }\n",
       "\n",
       "    .dataframe tbody tr th {\n",
       "        vertical-align: top;\n",
       "    }\n",
       "\n",
       "    .dataframe thead th {\n",
       "        text-align: right;\n",
       "    }\n",
       "</style>\n",
       "<table border=\"1\" class=\"dataframe\">\n",
       "  <thead>\n",
       "    <tr style=\"text-align: right;\">\n",
       "      <th></th>\n",
       "      <th>gmv_amount</th>\n",
       "      <th>markdown_amount</th>\n",
       "      <th>coupon_code_amount</th>\n",
       "      <th>nsbr_amount</th>\n",
       "      <th>qty_ordered</th>\n",
       "      <th>qty_returned</th>\n",
       "    </tr>\n",
       "  </thead>\n",
       "  <tbody>\n",
       "    <tr>\n",
       "      <th>0</th>\n",
       "      <td>50.730</td>\n",
       "      <td>0.000</td>\n",
       "      <td>0.000</td>\n",
       "      <td>46.618</td>\n",
       "      <td>1.000</td>\n",
       "      <td>0.000</td>\n",
       "    </tr>\n",
       "    <tr>\n",
       "      <th>1</th>\n",
       "      <td>281.449</td>\n",
       "      <td>187.758</td>\n",
       "      <td>14.044</td>\n",
       "      <td>78.396</td>\n",
       "      <td>1.000</td>\n",
       "      <td>0.000</td>\n",
       "    </tr>\n",
       "    <tr>\n",
       "      <th>2</th>\n",
       "      <td>267.330</td>\n",
       "      <td>0.000</td>\n",
       "      <td>0.000</td>\n",
       "      <td>245.662</td>\n",
       "      <td>1.000</td>\n",
       "      <td>0.000</td>\n",
       "    </tr>\n",
       "    <tr>\n",
       "      <th>3</th>\n",
       "      <td>243.898</td>\n",
       "      <td>0.000</td>\n",
       "      <td>0.000</td>\n",
       "      <td>240.059</td>\n",
       "      <td>1.000</td>\n",
       "      <td>0.000</td>\n",
       "    </tr>\n",
       "    <tr>\n",
       "      <th>4</th>\n",
       "      <td>267.330</td>\n",
       "      <td>0.000</td>\n",
       "      <td>0.000</td>\n",
       "      <td>245.662</td>\n",
       "      <td>1.000</td>\n",
       "      <td>0.000</td>\n",
       "    </tr>\n",
       "  </tbody>\n",
       "</table>\n",
       "</div>"
      ],
      "text/plain": [
       "   gmv_amount  markdown_amount  coupon_code_amount  nsbr_amount  qty_ordered  \\\n",
       "0      50.730            0.000               0.000       46.618        1.000   \n",
       "1     281.449          187.758              14.044       78.396        1.000   \n",
       "2     267.330            0.000               0.000      245.662        1.000   \n",
       "3     243.898            0.000               0.000      240.059        1.000   \n",
       "4     267.330            0.000               0.000      245.662        1.000   \n",
       "\n",
       "   qty_returned  \n",
       "0         0.000  \n",
       "1         0.000  \n",
       "2         0.000  \n",
       "3         0.000  \n",
       "4         0.000  "
      ]
     },
     "execution_count": 19,
     "metadata": {},
     "output_type": "execute_result"
    }
   ],
   "source": [
    "change_type_list = ['order_item_id', 'order_id', 'customer_id', 'product_id']\n",
    "for i in change_type_list:\n",
    "    df_order_items[i] = df_order_items[i].astype(str)\n",
    "    \n",
    "df_order_items.select_dtypes(include=np.number).head()"
   ]
  },
  {
   "cell_type": "code",
   "execution_count": 20,
   "id": "854f2103",
   "metadata": {
    "scrolled": true
   },
   "outputs": [
    {
     "data": {
      "text/plain": [
       "<AxesSubplot:>"
      ]
     },
     "execution_count": 20,
     "metadata": {},
     "output_type": "execute_result"
    },
    {
     "data": {
      "image/png": "[encoded data removed]",
      "text/plain": [
       "<Figure size 432x288 with 2 Axes>"
      ]
     },
     "metadata": {
      "needs_background": "light"
     },
     "output_type": "display_data"
    }
   ],
   "source": [
    "sns.heatmap(df_order_items.corr(), annot=True)"
   ]
  },
  {
   "cell_type": "markdown",
   "id": "44de7c8c",
   "metadata": {},
   "source": [
    "No multicollinearity problem for now"
   ]
  },
  {
   "cell_type": "markdown",
   "id": "620198bd",
   "metadata": {},
   "source": [
    "### Data Inconsistency?"
   ]
  },
  {
   "cell_type": "markdown",
   "id": "6418cffb",
   "metadata": {},
   "source": [
    "nsbr = gmv - markdown - coupon code? But it doesn't match, calculate the difference between nsbr and the \"unknown amt\" and see if it's a fixed number. Hypothesis: Tax? Shipping fee?"
   ]
  },
  {
   "cell_type": "code",
   "execution_count": 21,
   "id": "b027a0bf",
   "metadata": {},
   "outputs": [],
   "source": [
    "df_order_items['unknown_amt'] = df_order_items['gmv_amount'] - df_order_items['markdown_amount'] - df_order_items['coupon_code_amount']\n",
    "df_order_items['price_diff'] = df_order_items['unknown_amt'] - df_order_items['nsbr_amount']"
   ]
  },
  {
   "cell_type": "markdown",
   "id": "d6c612b8",
   "metadata": {},
   "source": [
    "Result: not fixed % nor fixed value. So not tax either, maybe can be used as a feature in the future"
   ]
  },
  {
   "cell_type": "code",
   "execution_count": 22,
   "id": "e5eaa8bb",
   "metadata": {},
   "outputs": [
    {
     "data": {
      "text/plain": [
       "array([ 4.11247585,  1.25085318, 21.6681185 , ..., 10.98360019,\n",
       "       16.5024747 ,  5.00601882])"
      ]
     },
     "execution_count": 22,
     "metadata": {},
     "output_type": "execute_result"
    }
   ],
   "source": [
    "df_order_items['price_diff'].unique()"
   ]
  },
  {
   "cell_type": "code",
   "execution_count": 23,
   "id": "094ff33d",
   "metadata": {},
   "outputs": [
    {
     "data": {
      "text/plain": [
       "(array([2.10000e+01, 7.80000e+01, 3.96000e+02, 1.07000e+02, 6.66000e+02,\n",
       "        8.67000e+02, 3.95000e+02, 1.29200e+03, 1.27900e+03, 6.18000e+02,\n",
       "        7.39000e+02, 4.34000e+02, 3.07000e+02, 2.27000e+02, 2.49000e+02,\n",
       "        2.16000e+02, 3.21000e+02, 3.09000e+02, 2.84000e+02, 3.78000e+02,\n",
       "        3.43000e+02, 3.96000e+02, 6.55000e+02, 9.36000e+02, 4.88490e+04,\n",
       "        2.89507e+05, 1.46493e+05, 3.68830e+04, 1.06458e+05, 7.45790e+04,\n",
       "        1.03593e+05, 1.56865e+05, 2.59161e+05, 8.09221e+05, 2.76247e+05,\n",
       "        4.71078e+05, 2.75630e+04, 5.11860e+04, 1.26400e+03, 3.41900e+03,\n",
       "        4.72000e+02, 1.11000e+02, 1.00000e+01, 1.90000e+01, 2.60000e+01,\n",
       "        1.00000e+00, 0.00000e+00, 0.00000e+00, 0.00000e+00, 0.00000e+00]),\n",
       " array([-0.2  , -0.192, -0.184, -0.176, -0.168, -0.16 , -0.152, -0.144,\n",
       "        -0.136, -0.128, -0.12 , -0.112, -0.104, -0.096, -0.088, -0.08 ,\n",
       "        -0.072, -0.064, -0.056, -0.048, -0.04 , -0.032, -0.024, -0.016,\n",
       "        -0.008,  0.   ,  0.008,  0.016,  0.024,  0.032,  0.04 ,  0.048,\n",
       "         0.056,  0.064,  0.072,  0.08 ,  0.088,  0.096,  0.104,  0.112,\n",
       "         0.12 ,  0.128,  0.136,  0.144,  0.152,  0.16 ,  0.168,  0.176,\n",
       "         0.184,  0.192,  0.2  ]),\n",
       " <BarContainer object of 50 artists>)"
      ]
     },
     "execution_count": 23,
     "metadata": {},
     "output_type": "execute_result"
    },
    {
     "data": {
      "image/png": "[encoded data removed]",
      "text/plain": [
       "<Figure size 432x288 with 1 Axes>"
      ]
     },
     "metadata": {
      "needs_background": "light"
     },
     "output_type": "display_data"
    }
   ],
   "source": [
    "plt.hist(df_order_items['price_diff']/df_order_items['gmv_amount'], bins= 50, range=[-.2, .2])"
   ]
  },
  {
   "cell_type": "markdown",
   "id": "39489eba",
   "metadata": {},
   "source": [
    "### Make outliers and categorical data into feature (sample only, not going to use it for this modelling)"
   ]
  },
  {
   "cell_type": "code",
   "execution_count": 24,
   "id": "176c0f0a",
   "metadata": {},
   "outputs": [],
   "source": [
    "col_to_convert = ['channel', 'negative_nsbr', 'negative_markdown', 'city']\n",
    "df_sample = df_order_items.copy()\n",
    "for i in col_to_convert:\n",
    "    df_sample = pd.concat([df_sample, pd.get_dummies(df_order_items[i], prefix=i)], axis=1).drop(i, axis = 1)"
   ]
  },
  {
   "cell_type": "code",
   "execution_count": 25,
   "id": "38819e0d",
   "metadata": {},
   "outputs": [
    {
     "data": {
      "text/html": [
       "<div>\n",
       "<style scoped>\n",
       "    .dataframe tbody tr th:only-of-type {\n",
       "        vertical-align: middle;\n",
       "    }\n",
       "\n",
       "    .dataframe tbody tr th {\n",
       "        vertical-align: top;\n",
       "    }\n",
       "\n",
       "    .dataframe thead th {\n",
       "        text-align: right;\n",
       "    }\n",
       "</style>\n",
       "<table border=\"1\" class=\"dataframe\">\n",
       "  <thead>\n",
       "    <tr style=\"text-align: right;\">\n",
       "      <th></th>\n",
       "      <th>order_item_id</th>\n",
       "      <th>order_id</th>\n",
       "      <th>customer_id</th>\n",
       "      <th>product_id</th>\n",
       "      <th>date</th>\n",
       "      <th>gmv_amount</th>\n",
       "      <th>markdown_amount</th>\n",
       "      <th>coupon_code_amount</th>\n",
       "      <th>nsbr_amount</th>\n",
       "      <th>qty_ordered</th>\n",
       "      <th>qty_returned</th>\n",
       "      <th>unknown_amt</th>\n",
       "      <th>price_diff</th>\n",
       "      <th>channel_offline</th>\n",
       "      <th>channel_online</th>\n",
       "      <th>negative_nsbr_No</th>\n",
       "      <th>negative_nsbr_Yes</th>\n",
       "      <th>negative_markdown_No</th>\n",
       "      <th>negative_markdown_Yes</th>\n",
       "      <th>city_A</th>\n",
       "      <th>city_B</th>\n",
       "      <th>city_C</th>\n",
       "    </tr>\n",
       "  </thead>\n",
       "  <tbody>\n",
       "    <tr>\n",
       "      <th>0</th>\n",
       "      <td>2281000</td>\n",
       "      <td>327281</td>\n",
       "      <td>24836</td>\n",
       "      <td>6706</td>\n",
       "      <td>2017-01-02 20:54:07.600</td>\n",
       "      <td>50.730</td>\n",
       "      <td>0.000</td>\n",
       "      <td>0.000</td>\n",
       "      <td>46.618</td>\n",
       "      <td>1.000</td>\n",
       "      <td>0.000</td>\n",
       "      <td>50.730</td>\n",
       "      <td>4.112</td>\n",
       "      <td>1</td>\n",
       "      <td>0</td>\n",
       "      <td>1</td>\n",
       "      <td>0</td>\n",
       "      <td>1</td>\n",
       "      <td>0</td>\n",
       "      <td>1</td>\n",
       "      <td>0</td>\n",
       "      <td>0</td>\n",
       "    </tr>\n",
       "    <tr>\n",
       "      <th>1</th>\n",
       "      <td>821218</td>\n",
       "      <td>491688</td>\n",
       "      <td>233705</td>\n",
       "      <td>6893</td>\n",
       "      <td>2017-01-02 20:54:16.000</td>\n",
       "      <td>281.449</td>\n",
       "      <td>187.758</td>\n",
       "      <td>14.044</td>\n",
       "      <td>78.396</td>\n",
       "      <td>1.000</td>\n",
       "      <td>0.000</td>\n",
       "      <td>79.647</td>\n",
       "      <td>1.251</td>\n",
       "      <td>0</td>\n",
       "      <td>1</td>\n",
       "      <td>1</td>\n",
       "      <td>0</td>\n",
       "      <td>1</td>\n",
       "      <td>0</td>\n",
       "      <td>0</td>\n",
       "      <td>1</td>\n",
       "      <td>0</td>\n",
       "    </tr>\n",
       "    <tr>\n",
       "      <th>2</th>\n",
       "      <td>2555215</td>\n",
       "      <td>422854</td>\n",
       "      <td>215749</td>\n",
       "      <td>513</td>\n",
       "      <td>2017-01-02 20:54:22.363</td>\n",
       "      <td>267.330</td>\n",
       "      <td>0.000</td>\n",
       "      <td>0.000</td>\n",
       "      <td>245.662</td>\n",
       "      <td>1.000</td>\n",
       "      <td>0.000</td>\n",
       "      <td>267.330</td>\n",
       "      <td>21.668</td>\n",
       "      <td>1</td>\n",
       "      <td>0</td>\n",
       "      <td>1</td>\n",
       "      <td>0</td>\n",
       "      <td>1</td>\n",
       "      <td>0</td>\n",
       "      <td>1</td>\n",
       "      <td>0</td>\n",
       "      <td>0</td>\n",
       "    </tr>\n",
       "    <tr>\n",
       "      <th>3</th>\n",
       "      <td>321758</td>\n",
       "      <td>1192300</td>\n",
       "      <td>104801</td>\n",
       "      <td>5258</td>\n",
       "      <td>2017-01-02 20:54:24.470</td>\n",
       "      <td>243.898</td>\n",
       "      <td>0.000</td>\n",
       "      <td>0.000</td>\n",
       "      <td>240.059</td>\n",
       "      <td>1.000</td>\n",
       "      <td>0.000</td>\n",
       "      <td>243.898</td>\n",
       "      <td>3.838</td>\n",
       "      <td>1</td>\n",
       "      <td>0</td>\n",
       "      <td>1</td>\n",
       "      <td>0</td>\n",
       "      <td>1</td>\n",
       "      <td>0</td>\n",
       "      <td>0</td>\n",
       "      <td>1</td>\n",
       "      <td>0</td>\n",
       "    </tr>\n",
       "    <tr>\n",
       "      <th>4</th>\n",
       "      <td>1526881</td>\n",
       "      <td>888456</td>\n",
       "      <td>87664</td>\n",
       "      <td>3058</td>\n",
       "      <td>2017-01-02 20:56:39.043</td>\n",
       "      <td>267.330</td>\n",
       "      <td>0.000</td>\n",
       "      <td>0.000</td>\n",
       "      <td>245.662</td>\n",
       "      <td>1.000</td>\n",
       "      <td>0.000</td>\n",
       "      <td>267.330</td>\n",
       "      <td>21.668</td>\n",
       "      <td>1</td>\n",
       "      <td>0</td>\n",
       "      <td>1</td>\n",
       "      <td>0</td>\n",
       "      <td>1</td>\n",
       "      <td>0</td>\n",
       "      <td>1</td>\n",
       "      <td>0</td>\n",
       "      <td>0</td>\n",
       "    </tr>\n",
       "  </tbody>\n",
       "</table>\n",
       "</div>"
      ],
      "text/plain": [
       "  order_item_id order_id customer_id product_id                     date  \\\n",
       "0       2281000   327281       24836       6706  2017-01-02 20:54:07.600   \n",
       "1        821218   491688      233705       6893  2017-01-02 20:54:16.000   \n",
       "2       2555215   422854      215749        513  2017-01-02 20:54:22.363   \n",
       "3        321758  1192300      104801       5258  2017-01-02 20:54:24.470   \n",
       "4       1526881   888456       87664       3058  2017-01-02 20:56:39.043   \n",
       "\n",
       "   gmv_amount  markdown_amount  coupon_code_amount  nsbr_amount  qty_ordered  \\\n",
       "0      50.730            0.000               0.000       46.618        1.000   \n",
       "1     281.449          187.758              14.044       78.396        1.000   \n",
       "2     267.330            0.000               0.000      245.662        1.000   \n",
       "3     243.898            0.000               0.000      240.059        1.000   \n",
       "4     267.330            0.000               0.000      245.662        1.000   \n",
       "\n",
       "   qty_returned  unknown_amt  price_diff  channel_offline  channel_online  \\\n",
       "0         0.000       50.730       4.112                1               0   \n",
       "1         0.000       79.647       1.251                0               1   \n",
       "2         0.000      267.330      21.668                1               0   \n",
       "3         0.000      243.898       3.838                1               0   \n",
       "4         0.000      267.330      21.668                1               0   \n",
       "\n",
       "   negative_nsbr_No  negative_nsbr_Yes  negative_markdown_No  \\\n",
       "0                 1                  0                     1   \n",
       "1                 1                  0                     1   \n",
       "2                 1                  0                     1   \n",
       "3                 1                  0                     1   \n",
       "4                 1                  0                     1   \n",
       "\n",
       "   negative_markdown_Yes  city_A  city_B  city_C  \n",
       "0                      0       1       0       0  \n",
       "1                      0       0       1       0  \n",
       "2                      0       1       0       0  \n",
       "3                      0       0       1       0  \n",
       "4                      0       1       0       0  "
      ]
     },
     "execution_count": 25,
     "metadata": {},
     "output_type": "execute_result"
    }
   ],
   "source": [
    "df_sample.head()"
   ]
  },
  {
   "cell_type": "code",
   "execution_count": 26,
   "id": "2d8515c8",
   "metadata": {},
   "outputs": [],
   "source": [
    "del df_sample"
   ]
  },
  {
   "cell_type": "code",
   "execution_count": null,
   "id": "104b6f06",
   "metadata": {},
   "outputs": [],
   "source": []
  },
  {
   "cell_type": "markdown",
   "id": "27cb0050",
   "metadata": {},
   "source": [
    "## Prepare features for Modelling, converting data into 3 months block and then create RFM"
   ]
  },
  {
   "cell_type": "markdown",
   "id": "98ec536d",
   "metadata": {},
   "source": [
    "## For assessment purpose, will only take transaction data (primarily numerical data) and returns for modelling."
   ]
  },
  {
   "cell_type": "code",
   "execution_count": 27,
   "id": "1f576ab0",
   "metadata": {},
   "outputs": [
    {
     "data": {
      "text/html": [
       "<div>\n",
       "<style scoped>\n",
       "    .dataframe tbody tr th:only-of-type {\n",
       "        vertical-align: middle;\n",
       "    }\n",
       "\n",
       "    .dataframe tbody tr th {\n",
       "        vertical-align: top;\n",
       "    }\n",
       "\n",
       "    .dataframe thead th {\n",
       "        text-align: right;\n",
       "    }\n",
       "</style>\n",
       "<table border=\"1\" class=\"dataframe\">\n",
       "  <thead>\n",
       "    <tr style=\"text-align: right;\">\n",
       "      <th></th>\n",
       "      <th>order_item_id</th>\n",
       "      <th>order_id</th>\n",
       "      <th>customer_id</th>\n",
       "      <th>product_id</th>\n",
       "      <th>date</th>\n",
       "      <th>gmv_amount</th>\n",
       "      <th>markdown_amount</th>\n",
       "      <th>coupon_code_amount</th>\n",
       "      <th>nsbr_amount</th>\n",
       "      <th>qty_ordered</th>\n",
       "      <th>qty_returned</th>\n",
       "      <th>year_month</th>\n",
       "    </tr>\n",
       "  </thead>\n",
       "  <tbody>\n",
       "    <tr>\n",
       "      <th>1181947</th>\n",
       "      <td>1157465</td>\n",
       "      <td>1313893</td>\n",
       "      <td>248128</td>\n",
       "      <td>1430</td>\n",
       "      <td>2015-01-30</td>\n",
       "      <td>244.194</td>\n",
       "      <td>0.000</td>\n",
       "      <td>0.000</td>\n",
       "      <td>244.194</td>\n",
       "      <td>1.000</td>\n",
       "      <td>0.000</td>\n",
       "      <td>2015-01</td>\n",
       "    </tr>\n",
       "    <tr>\n",
       "      <th>1147848</th>\n",
       "      <td>2513966</td>\n",
       "      <td>162544</td>\n",
       "      <td>127334</td>\n",
       "      <td>5924</td>\n",
       "      <td>2015-01-19</td>\n",
       "      <td>284.429</td>\n",
       "      <td>0.000</td>\n",
       "      <td>28.443</td>\n",
       "      <td>239.240</td>\n",
       "      <td>1.000</td>\n",
       "      <td>0.000</td>\n",
       "      <td>2015-01</td>\n",
       "    </tr>\n",
       "    <tr>\n",
       "      <th>1147847</th>\n",
       "      <td>62738</td>\n",
       "      <td>162544</td>\n",
       "      <td>127334</td>\n",
       "      <td>6004</td>\n",
       "      <td>2015-01-19</td>\n",
       "      <td>227.429</td>\n",
       "      <td>0.000</td>\n",
       "      <td>22.743</td>\n",
       "      <td>191.296</td>\n",
       "      <td>1.000</td>\n",
       "      <td>0.000</td>\n",
       "      <td>2015-01</td>\n",
       "    </tr>\n",
       "    <tr>\n",
       "      <th>1147846</th>\n",
       "      <td>1525523</td>\n",
       "      <td>997790</td>\n",
       "      <td>127334</td>\n",
       "      <td>2194</td>\n",
       "      <td>2015-01-19</td>\n",
       "      <td>93.805</td>\n",
       "      <td>93.805</td>\n",
       "      <td>0.000</td>\n",
       "      <td>0.000</td>\n",
       "      <td>1.000</td>\n",
       "      <td>0.000</td>\n",
       "      <td>2015-01</td>\n",
       "    </tr>\n",
       "    <tr>\n",
       "      <th>1147845</th>\n",
       "      <td>525325</td>\n",
       "      <td>997790</td>\n",
       "      <td>127334</td>\n",
       "      <td>2194</td>\n",
       "      <td>2015-01-19</td>\n",
       "      <td>93.805</td>\n",
       "      <td>93.805</td>\n",
       "      <td>0.000</td>\n",
       "      <td>0.000</td>\n",
       "      <td>1.000</td>\n",
       "      <td>0.000</td>\n",
       "      <td>2015-01</td>\n",
       "    </tr>\n",
       "  </tbody>\n",
       "</table>\n",
       "</div>"
      ],
      "text/plain": [
       "        order_item_id order_id customer_id product_id        date  gmv_amount  \\\n",
       "1181947       1157465  1313893      248128       1430  2015-01-30     244.194   \n",
       "1147848       2513966   162544      127334       5924  2015-01-19     284.429   \n",
       "1147847         62738   162544      127334       6004  2015-01-19     227.429   \n",
       "1147846       1525523   997790      127334       2194  2015-01-19      93.805   \n",
       "1147845        525325   997790      127334       2194  2015-01-19      93.805   \n",
       "\n",
       "         markdown_amount  coupon_code_amount  nsbr_amount  qty_ordered  \\\n",
       "1181947            0.000               0.000      244.194        1.000   \n",
       "1147848            0.000              28.443      239.240        1.000   \n",
       "1147847            0.000              22.743      191.296        1.000   \n",
       "1147846           93.805               0.000        0.000        1.000   \n",
       "1147845           93.805               0.000        0.000        1.000   \n",
       "\n",
       "         qty_returned year_month  \n",
       "1181947         0.000    2015-01  \n",
       "1147848         0.000    2015-01  \n",
       "1147847         0.000    2015-01  \n",
       "1147846         0.000    2015-01  \n",
       "1147845         0.000    2015-01  "
      ]
     },
     "execution_count": 27,
     "metadata": {},
     "output_type": "execute_result"
    }
   ],
   "source": [
    "feature_base = df_order_items[['order_item_id', 'order_id', 'customer_id', 'product_id', 'date',\n",
    "       'gmv_amount', 'markdown_amount', 'coupon_code_amount', 'nsbr_amount',\n",
    "       'qty_ordered', 'qty_returned']]\n",
    "\n",
    "# Convert datetime into year_month and date to date format\n",
    "feature_base['year_month'] = feature_base['date'].str[:7]\n",
    "feature_base['date'] = pd.to_datetime(feature_base['date']).apply(lambda x: x.date())\n",
    "\n",
    "# Sort the data by date, for observation-result period segmentation\n",
    "feature_base = feature_base.sort_values(by='year_month')\n",
    "feature_base.head()"
   ]
  },
  {
   "cell_type": "code",
   "execution_count": 28,
   "id": "0dfc3dc5",
   "metadata": {},
   "outputs": [
    {
     "data": {
      "text/plain": [
       "array(['2015-01', '2015-02', '2015-03', '2015-04', '2015-05', '2015-06',\n",
       "       '2015-07', '2015-08', '2015-09', '2015-10', '2015-11', '2015-12',\n",
       "       '2016-01', '2016-02', '2016-03', '2016-04', '2016-05', '2016-06',\n",
       "       '2016-07', '2016-08', '2016-09', '2016-10', '2016-11', '2016-12',\n",
       "       '2017-01', '2017-02', '2017-03', '2017-04', '2017-05', '2017-06',\n",
       "       '2017-07', '2017-08', '2017-09', '2017-10', '2017-11', '2017-12'],\n",
       "      dtype=object)"
      ]
     },
     "execution_count": 28,
     "metadata": {},
     "output_type": "execute_result"
    }
   ],
   "source": [
    "feature_base.year_month.unique()"
   ]
  },
  {
   "cell_type": "code",
   "execution_count": 29,
   "id": "8524732b",
   "metadata": {},
   "outputs": [
    {
     "data": {
      "text/html": [
       "<div>\n",
       "<style scoped>\n",
       "    .dataframe tbody tr th:only-of-type {\n",
       "        vertical-align: middle;\n",
       "    }\n",
       "\n",
       "    .dataframe tbody tr th {\n",
       "        vertical-align: top;\n",
       "    }\n",
       "\n",
       "    .dataframe thead th {\n",
       "        text-align: right;\n",
       "    }\n",
       "</style>\n",
       "<table border=\"1\" class=\"dataframe\">\n",
       "  <thead>\n",
       "    <tr style=\"text-align: right;\">\n",
       "      <th></th>\n",
       "      <th>year_month</th>\n",
       "      <th>group</th>\n",
       "    </tr>\n",
       "  </thead>\n",
       "  <tbody>\n",
       "    <tr>\n",
       "      <th>0</th>\n",
       "      <td>2015-01</td>\n",
       "      <td>1</td>\n",
       "    </tr>\n",
       "    <tr>\n",
       "      <th>1</th>\n",
       "      <td>2015-02</td>\n",
       "      <td>1</td>\n",
       "    </tr>\n",
       "    <tr>\n",
       "      <th>2</th>\n",
       "      <td>2015-03</td>\n",
       "      <td>1</td>\n",
       "    </tr>\n",
       "    <tr>\n",
       "      <th>3</th>\n",
       "      <td>2015-04</td>\n",
       "      <td>2</td>\n",
       "    </tr>\n",
       "    <tr>\n",
       "      <th>4</th>\n",
       "      <td>2015-05</td>\n",
       "      <td>2</td>\n",
       "    </tr>\n",
       "  </tbody>\n",
       "</table>\n",
       "</div>"
      ],
      "text/plain": [
       "  year_month  group\n",
       "0    2015-01      1\n",
       "1    2015-02      1\n",
       "2    2015-03      1\n",
       "3    2015-04      2\n",
       "4    2015-05      2"
      ]
     },
     "execution_count": 29,
     "metadata": {},
     "output_type": "execute_result"
    }
   ],
   "source": [
    "# Segment every 3 months into a group\n",
    "# Helper function to chunk list into groups\n",
    "def chunker(seq, size):\n",
    "    return (seq[pos:pos + size] for pos in range(0, len(seq), size))\n",
    "\n",
    "grp_dict = dict()\n",
    "\n",
    "counter = 0\n",
    "for i in chunker(feature_base.year_month.unique(), 3):\n",
    "    counter += 1\n",
    "    for j in i:\n",
    "        grp_dict[j] = counter\n",
    "        \n",
    "date_grp = pd.DataFrame({'year_month': grp_dict.keys() , 'group' : grp_dict.values()})\n",
    "date_grp.head()"
   ]
  },
  {
   "cell_type": "code",
   "execution_count": 30,
   "id": "741bc966",
   "metadata": {},
   "outputs": [],
   "source": [
    "feature_base = feature_base.merge(date_grp, on = ['year_month'], how='left')"
   ]
  },
  {
   "cell_type": "markdown",
   "id": "f0db314e",
   "metadata": {},
   "source": [
    "### Recency - Generate the average days between each order and days since last purchase"
   ]
  },
  {
   "cell_type": "code",
   "execution_count": 31,
   "id": "b0b1506b",
   "metadata": {
    "scrolled": false
   },
   "outputs": [
    {
     "data": {
      "text/html": [
       "<div>\n",
       "<style scoped>\n",
       "    .dataframe tbody tr th:only-of-type {\n",
       "        vertical-align: middle;\n",
       "    }\n",
       "\n",
       "    .dataframe tbody tr th {\n",
       "        vertical-align: top;\n",
       "    }\n",
       "\n",
       "    .dataframe thead th {\n",
       "        text-align: right;\n",
       "    }\n",
       "</style>\n",
       "<table border=\"1\" class=\"dataframe\">\n",
       "  <thead>\n",
       "    <tr style=\"text-align: right;\">\n",
       "      <th></th>\n",
       "      <th></th>\n",
       "      <th></th>\n",
       "      <th>date</th>\n",
       "    </tr>\n",
       "    <tr>\n",
       "      <th>group</th>\n",
       "      <th>customer_id</th>\n",
       "      <th>order_id</th>\n",
       "      <th></th>\n",
       "    </tr>\n",
       "  </thead>\n",
       "  <tbody>\n",
       "  </tbody>\n",
       "</table>\n",
       "</div>"
      ],
      "text/plain": [
       "Empty DataFrame\n",
       "Columns: [date]\n",
       "Index: []"
      ]
     },
     "execution_count": 31,
     "metadata": {},
     "output_type": "execute_result"
    }
   ],
   "source": [
    "# Check if there are any order with more than 1 date\n",
    "cust_order_date = feature_base[['group', 'customer_id', 'order_id', 'date']].drop_duplicates()\n",
    "cust_order_date.groupby(['group', 'customer_id', 'order_id']).nunique()[cust_order_date.groupby(['group', 'customer_id', 'order_id']).nunique()['date']>1]\n",
    "\n",
    "# looks ok"
   ]
  },
  {
   "cell_type": "code",
   "execution_count": 32,
   "id": "be489470",
   "metadata": {
    "scrolled": true
   },
   "outputs": [],
   "source": [
    "# For each group and each customer, calculate the average days between transactions\n",
    "cust_order_date = cust_order_date.sort_values(by = ['group', 'customer_id', 'date'])\n",
    "cust_order_date['next_purchase'] = cust_order_date.groupby(['group', 'customer_id'])['date'].shift(-1)\n",
    "cust_order_date['day_diff'] = abs(cust_order_date['date'] - cust_order_date['next_purchase'])\n",
    "cust_order_date = cust_order_date[~cust_order_date['day_diff'].isnull()]\n",
    "cust_order_date['day_diff'] = cust_order_date['day_diff'].apply(lambda x: x.days)\n",
    "df_recency_1 = cust_order_date.groupby(['group', 'customer_id'])['day_diff'].mean()\n",
    "df_recency_1 = pd.DataFrame(df_recency_1).reset_index()"
   ]
  },
  {
   "cell_type": "code",
   "execution_count": 33,
   "id": "4a19b640",
   "metadata": {},
   "outputs": [],
   "source": [
    "# Calculate how many days since last purchase before end of observation period\n",
    "df_recency_2 = pd.DataFrame(cust_order_date.groupby(['group', 'customer_id'])['date'].max()).reset_index()\n",
    "df_recency_3 = pd.DataFrame(cust_order_date.groupby(['group'])['date'].max()).reset_index()\n",
    "\n",
    "df_recency_2 = df_recency_2.merge(df_recency_3, on = ['group'], how = 'left')\n",
    "\n",
    "df_recency_2['days_since_last'] = df_recency_2['date_y'] - df_recency_2['date_x']\n",
    "df_recency_2['days_since_last'] = df_recency_2['days_since_last'].apply(lambda x: x.days)"
   ]
  },
  {
   "cell_type": "code",
   "execution_count": 34,
   "id": "5bd1b246",
   "metadata": {},
   "outputs": [],
   "source": [
    "df_recency = df_recency_1.merge(df_recency_2, on = ['group', 'customer_id'], how = 'left').drop(columns = ['date_x', 'date_y'], axis = 1)"
   ]
  },
  {
   "cell_type": "code",
   "execution_count": 35,
   "id": "dc30f7e4",
   "metadata": {},
   "outputs": [
    {
     "data": {
      "text/plain": [
       "(array([14210.,  8630.,  9407., 11738., 11583.,  8921., 11347., 11791.,\n",
       "         9647.,  9122.,  8890.,  6300.,  6807.,  6120.,  6218.,  6156.,\n",
       "         2797.,  4309.,  3894.,  3475.,  3137.,  2886.,  1500.,  2543.,\n",
       "         1780.,  1659.,  1842.,   771.,  1493.,  1423.,  1510.,  1209.,\n",
       "         1044.,   528.,  1099.,   909.,   848.,   782.,   480.,   756.,\n",
       "          575.,   575.,   536.,   366.,   170.,   339.,   288.,   169.,\n",
       "          108.,    30.]),\n",
       " array([ 0.  ,  1.82,  3.64,  5.46,  7.28,  9.1 , 10.92, 12.74, 14.56,\n",
       "        16.38, 18.2 , 20.02, 21.84, 23.66, 25.48, 27.3 , 29.12, 30.94,\n",
       "        32.76, 34.58, 36.4 , 38.22, 40.04, 41.86, 43.68, 45.5 , 47.32,\n",
       "        49.14, 50.96, 52.78, 54.6 , 56.42, 58.24, 60.06, 61.88, 63.7 ,\n",
       "        65.52, 67.34, 69.16, 70.98, 72.8 , 74.62, 76.44, 78.26, 80.08,\n",
       "        81.9 , 83.72, 85.54, 87.36, 89.18, 91.  ]),\n",
       " <BarContainer object of 50 artists>)"
      ]
     },
     "execution_count": 35,
     "metadata": {},
     "output_type": "execute_result"
    },
    {
     "data": {
      "image/png": "[encoded data removed]",
      "text/plain": [
       "<Figure size 432x288 with 1 Axes>"
      ]
     },
     "metadata": {
      "needs_background": "light"
     },
     "output_type": "display_data"
    }
   ],
   "source": [
    "plt.hist(df_recency['day_diff'], bins = 50)"
   ]
  },
  {
   "cell_type": "code",
   "execution_count": 36,
   "id": "fec1a5df",
   "metadata": {},
   "outputs": [
    {
     "data": {
      "text/plain": [
       "(array([1224., 2398., 3012., 3142., 3953., 1709., 3485., 3914., 3652.,\n",
       "        4439., 4531., 2351., 4154., 4658., 3683., 3857., 1936., 4834.,\n",
       "        5479., 5482., 4271., 3886., 1864., 4055., 3648., 3248., 4740.,\n",
       "        2682., 5085., 5844., 5823., 5818., 4698., 2673., 4635., 4006.,\n",
       "        4408., 4520., 2141., 3994., 4426., 4793., 4686., 4121., 2485.,\n",
       "        4505., 3698., 3423., 4121., 2527.]),\n",
       " array([ 0.  ,  1.82,  3.64,  5.46,  7.28,  9.1 , 10.92, 12.74, 14.56,\n",
       "        16.38, 18.2 , 20.02, 21.84, 23.66, 25.48, 27.3 , 29.12, 30.94,\n",
       "        32.76, 34.58, 36.4 , 38.22, 40.04, 41.86, 43.68, 45.5 , 47.32,\n",
       "        49.14, 50.96, 52.78, 54.6 , 56.42, 58.24, 60.06, 61.88, 63.7 ,\n",
       "        65.52, 67.34, 69.16, 70.98, 72.8 , 74.62, 76.44, 78.26, 80.08,\n",
       "        81.9 , 83.72, 85.54, 87.36, 89.18, 91.  ]),\n",
       " <BarContainer object of 50 artists>)"
      ]
     },
     "execution_count": 36,
     "metadata": {},
     "output_type": "execute_result"
    },
    {
     "data": {
      "image/png": "[encoded data removed]",
      "text/plain": [
       "<Figure size 432x288 with 1 Axes>"
      ]
     },
     "metadata": {
      "needs_background": "light"
     },
     "output_type": "display_data"
    }
   ],
   "source": [
    "plt.hist(df_recency['days_since_last'], bins = 50)"
   ]
  },
  {
   "cell_type": "code",
   "execution_count": 37,
   "id": "4e94d899",
   "metadata": {},
   "outputs": [
    {
     "data": {
      "text/html": [
       "<div>\n",
       "<style scoped>\n",
       "    .dataframe tbody tr th:only-of-type {\n",
       "        vertical-align: middle;\n",
       "    }\n",
       "\n",
       "    .dataframe tbody tr th {\n",
       "        vertical-align: top;\n",
       "    }\n",
       "\n",
       "    .dataframe thead th {\n",
       "        text-align: right;\n",
       "    }\n",
       "</style>\n",
       "<table border=\"1\" class=\"dataframe\">\n",
       "  <thead>\n",
       "    <tr style=\"text-align: right;\">\n",
       "      <th></th>\n",
       "      <th>group</th>\n",
       "      <th>customer_id</th>\n",
       "      <th>day_diff</th>\n",
       "      <th>days_since_last</th>\n",
       "    </tr>\n",
       "  </thead>\n",
       "  <tbody>\n",
       "    <tr>\n",
       "      <th>0</th>\n",
       "      <td>1</td>\n",
       "      <td>100051</td>\n",
       "      <td>43.000</td>\n",
       "      <td>62</td>\n",
       "    </tr>\n",
       "    <tr>\n",
       "      <th>1</th>\n",
       "      <td>1</td>\n",
       "      <td>10006</td>\n",
       "      <td>38.000</td>\n",
       "      <td>80</td>\n",
       "    </tr>\n",
       "    <tr>\n",
       "      <th>2</th>\n",
       "      <td>1</td>\n",
       "      <td>100063</td>\n",
       "      <td>30.000</td>\n",
       "      <td>74</td>\n",
       "    </tr>\n",
       "    <tr>\n",
       "      <th>3</th>\n",
       "      <td>1</td>\n",
       "      <td>100072</td>\n",
       "      <td>32.000</td>\n",
       "      <td>83</td>\n",
       "    </tr>\n",
       "    <tr>\n",
       "      <th>4</th>\n",
       "      <td>1</td>\n",
       "      <td>10010</td>\n",
       "      <td>37.000</td>\n",
       "      <td>3</td>\n",
       "    </tr>\n",
       "  </tbody>\n",
       "</table>\n",
       "</div>"
      ],
      "text/plain": [
       "   group customer_id  day_diff  days_since_last\n",
       "0      1      100051    43.000               62\n",
       "1      1       10006    38.000               80\n",
       "2      1      100063    30.000               74\n",
       "3      1      100072    32.000               83\n",
       "4      1       10010    37.000                3"
      ]
     },
     "execution_count": 37,
     "metadata": {},
     "output_type": "execute_result"
    }
   ],
   "source": [
    "df_recency.head()"
   ]
  },
  {
   "cell_type": "code",
   "execution_count": 38,
   "id": "1d7979d8",
   "metadata": {},
   "outputs": [
    {
     "data": {
      "text/plain": [
       "(192717, 4)"
      ]
     },
     "execution_count": 38,
     "metadata": {},
     "output_type": "execute_result"
    }
   ],
   "source": [
    "df_recency.shape"
   ]
  },
  {
   "cell_type": "markdown",
   "id": "2cc59938",
   "metadata": {},
   "source": [
    "### Frequency - How many transactions and how many items they ordered"
   ]
  },
  {
   "cell_type": "code",
   "execution_count": 39,
   "id": "dc8a64e1",
   "metadata": {},
   "outputs": [],
   "source": [
    "order_freq = feature_base.groupby(['group', 'customer_id'])['order_id'].nunique().reset_index().rename({'order_id': 'order_cnt'}, axis = 1)\n",
    "item_order_freq = feature_base.groupby(['group', 'customer_id'])['qty_ordered'].sum().reset_index()\n",
    "item_return_freq = feature_base.groupby(['group', 'customer_id'])['qty_returned'].sum().reset_index()"
   ]
  },
  {
   "cell_type": "code",
   "execution_count": 40,
   "id": "88c58b0c",
   "metadata": {},
   "outputs": [],
   "source": [
    "df_frequency = order_freq.merge(item_order_freq, on = ['group', 'customer_id'], how = 'left')\n",
    "df_frequency = df_frequency.merge(item_return_freq, on = ['group', 'customer_id'], how = 'left')\n",
    "\n",
    "# Calculate return rate\n",
    "df_frequency['return_rate'] = df_frequency['qty_returned']/df_frequency['qty_ordered']"
   ]
  },
  {
   "cell_type": "code",
   "execution_count": 41,
   "id": "ccc4e008",
   "metadata": {},
   "outputs": [
    {
     "data": {
      "text/html": [
       "<div>\n",
       "<style scoped>\n",
       "    .dataframe tbody tr th:only-of-type {\n",
       "        vertical-align: middle;\n",
       "    }\n",
       "\n",
       "    .dataframe tbody tr th {\n",
       "        vertical-align: top;\n",
       "    }\n",
       "\n",
       "    .dataframe thead th {\n",
       "        text-align: right;\n",
       "    }\n",
       "</style>\n",
       "<table border=\"1\" class=\"dataframe\">\n",
       "  <thead>\n",
       "    <tr style=\"text-align: right;\">\n",
       "      <th></th>\n",
       "      <th>group</th>\n",
       "      <th>customer_id</th>\n",
       "      <th>order_cnt</th>\n",
       "      <th>qty_ordered</th>\n",
       "      <th>qty_returned</th>\n",
       "      <th>return_rate</th>\n",
       "    </tr>\n",
       "  </thead>\n",
       "  <tbody>\n",
       "    <tr>\n",
       "      <th>0</th>\n",
       "      <td>1</td>\n",
       "      <td>100007</td>\n",
       "      <td>1</td>\n",
       "      <td>2.000</td>\n",
       "      <td>0.000</td>\n",
       "      <td>0.000</td>\n",
       "    </tr>\n",
       "    <tr>\n",
       "      <th>1</th>\n",
       "      <td>1</td>\n",
       "      <td>100017</td>\n",
       "      <td>1</td>\n",
       "      <td>3.000</td>\n",
       "      <td>0.000</td>\n",
       "      <td>0.000</td>\n",
       "    </tr>\n",
       "    <tr>\n",
       "      <th>2</th>\n",
       "      <td>1</td>\n",
       "      <td>100022</td>\n",
       "      <td>1</td>\n",
       "      <td>1.000</td>\n",
       "      <td>1.000</td>\n",
       "      <td>1.000</td>\n",
       "    </tr>\n",
       "    <tr>\n",
       "      <th>3</th>\n",
       "      <td>1</td>\n",
       "      <td>100032</td>\n",
       "      <td>1</td>\n",
       "      <td>4.000</td>\n",
       "      <td>1.000</td>\n",
       "      <td>0.250</td>\n",
       "    </tr>\n",
       "    <tr>\n",
       "      <th>4</th>\n",
       "      <td>1</td>\n",
       "      <td>100051</td>\n",
       "      <td>3</td>\n",
       "      <td>5.000</td>\n",
       "      <td>0.000</td>\n",
       "      <td>0.000</td>\n",
       "    </tr>\n",
       "  </tbody>\n",
       "</table>\n",
       "</div>"
      ],
      "text/plain": [
       "   group customer_id  order_cnt  qty_ordered  qty_returned  return_rate\n",
       "0      1      100007          1        2.000         0.000        0.000\n",
       "1      1      100017          1        3.000         0.000        0.000\n",
       "2      1      100022          1        1.000         1.000        1.000\n",
       "3      1      100032          1        4.000         1.000        0.250\n",
       "4      1      100051          3        5.000         0.000        0.000"
      ]
     },
     "execution_count": 41,
     "metadata": {},
     "output_type": "execute_result"
    }
   ],
   "source": [
    "df_frequency.head()"
   ]
  },
  {
   "cell_type": "code",
   "execution_count": 42,
   "id": "3eeefa99",
   "metadata": {},
   "outputs": [
    {
     "data": {
      "text/plain": [
       "(558517, 6)"
      ]
     },
     "execution_count": 42,
     "metadata": {},
     "output_type": "execute_result"
    }
   ],
   "source": [
    "df_frequency.shape"
   ]
  },
  {
   "cell_type": "markdown",
   "id": "d444f768",
   "metadata": {},
   "source": [
    "### Monetary - Total amount spent and total amount discounted"
   ]
  },
  {
   "cell_type": "code",
   "execution_count": 43,
   "id": "05271ea2",
   "metadata": {},
   "outputs": [],
   "source": [
    "df_monetary = feature_base.groupby(['group', 'customer_id'])['gmv_amount', 'markdown_amount', 'coupon_code_amount', 'nsbr_amount'].sum().reset_index()\n",
    "\n",
    "# Combine markdown amount and coupon code amount into a single metric\n",
    "df_monetary['discounted_amount'] = df_monetary['markdown_amount'] + df_monetary['coupon_code_amount']\n",
    "\n",
    "# nsbr and gmv amount have a very high correlation as well, dropping the nsbr_amount\n",
    "df_monetary = df_monetary.drop(['markdown_amount', 'coupon_code_amount', 'nsbr_amount'], axis = 1)"
   ]
  },
  {
   "cell_type": "code",
   "execution_count": 44,
   "id": "e17944b8",
   "metadata": {},
   "outputs": [
    {
     "data": {
      "text/html": [
       "<div>\n",
       "<style scoped>\n",
       "    .dataframe tbody tr th:only-of-type {\n",
       "        vertical-align: middle;\n",
       "    }\n",
       "\n",
       "    .dataframe tbody tr th {\n",
       "        vertical-align: top;\n",
       "    }\n",
       "\n",
       "    .dataframe thead th {\n",
       "        text-align: right;\n",
       "    }\n",
       "</style>\n",
       "<table border=\"1\" class=\"dataframe\">\n",
       "  <thead>\n",
       "    <tr style=\"text-align: right;\">\n",
       "      <th></th>\n",
       "      <th>group</th>\n",
       "      <th>customer_id</th>\n",
       "      <th>gmv_amount</th>\n",
       "      <th>discounted_amount</th>\n",
       "    </tr>\n",
       "  </thead>\n",
       "  <tbody>\n",
       "    <tr>\n",
       "      <th>0</th>\n",
       "      <td>1</td>\n",
       "      <td>100007</td>\n",
       "      <td>544.783</td>\n",
       "      <td>0.000</td>\n",
       "    </tr>\n",
       "    <tr>\n",
       "      <th>1</th>\n",
       "      <td>1</td>\n",
       "      <td>100017</td>\n",
       "      <td>773.682</td>\n",
       "      <td>0.000</td>\n",
       "    </tr>\n",
       "    <tr>\n",
       "      <th>2</th>\n",
       "      <td>1</td>\n",
       "      <td>100022</td>\n",
       "      <td>324.330</td>\n",
       "      <td>0.000</td>\n",
       "    </tr>\n",
       "    <tr>\n",
       "      <th>3</th>\n",
       "      <td>1</td>\n",
       "      <td>100032</td>\n",
       "      <td>983.820</td>\n",
       "      <td>0.000</td>\n",
       "    </tr>\n",
       "    <tr>\n",
       "      <th>4</th>\n",
       "      <td>1</td>\n",
       "      <td>100051</td>\n",
       "      <td>1399.350</td>\n",
       "      <td>68.400</td>\n",
       "    </tr>\n",
       "  </tbody>\n",
       "</table>\n",
       "</div>"
      ],
      "text/plain": [
       "   group customer_id  gmv_amount  discounted_amount\n",
       "0      1      100007     544.783              0.000\n",
       "1      1      100017     773.682              0.000\n",
       "2      1      100022     324.330              0.000\n",
       "3      1      100032     983.820              0.000\n",
       "4      1      100051    1399.350             68.400"
      ]
     },
     "execution_count": 44,
     "metadata": {},
     "output_type": "execute_result"
    }
   ],
   "source": [
    "df_monetary.head()"
   ]
  },
  {
   "cell_type": "code",
   "execution_count": 45,
   "id": "2e912a3a",
   "metadata": {},
   "outputs": [
    {
     "data": {
      "text/plain": [
       "(558517, 4)"
      ]
     },
     "execution_count": 45,
     "metadata": {},
     "output_type": "execute_result"
    }
   ],
   "source": [
    "df_monetary.shape"
   ]
  },
  {
   "cell_type": "markdown",
   "id": "ac71fef7",
   "metadata": {},
   "source": [
    "### Aggregating all the data back into one table"
   ]
  },
  {
   "cell_type": "code",
   "execution_count": 83,
   "id": "38f17318",
   "metadata": {},
   "outputs": [],
   "source": [
    "df = df_frequency.merge(df_recency, on = ['group', 'customer_id'], how = 'left')\n",
    "df = df.merge(df_monetary, on = ['group', 'customer_id'], how = 'left')\n",
    "\n",
    "# Fill date_diff and days_since_last. This is not the best way to handle it because it mixes up with active user. \n",
    "# For assessment purpose, not going to spend too much time perfecting it for now.\n",
    "# The frequency and monetary part will be able to differentiate the active and inactive customer.\n",
    "\n",
    "df = df.fillna(0)"
   ]
  },
  {
   "cell_type": "code",
   "execution_count": 84,
   "id": "72d9f14d",
   "metadata": {},
   "outputs": [
    {
     "data": {
      "text/html": [
       "<div>\n",
       "<style scoped>\n",
       "    .dataframe tbody tr th:only-of-type {\n",
       "        vertical-align: middle;\n",
       "    }\n",
       "\n",
       "    .dataframe tbody tr th {\n",
       "        vertical-align: top;\n",
       "    }\n",
       "\n",
       "    .dataframe thead th {\n",
       "        text-align: right;\n",
       "    }\n",
       "</style>\n",
       "<table border=\"1\" class=\"dataframe\">\n",
       "  <thead>\n",
       "    <tr style=\"text-align: right;\">\n",
       "      <th></th>\n",
       "      <th>group</th>\n",
       "      <th>customer_id</th>\n",
       "      <th>order_cnt</th>\n",
       "      <th>qty_ordered</th>\n",
       "      <th>qty_returned</th>\n",
       "      <th>return_rate</th>\n",
       "      <th>day_diff</th>\n",
       "      <th>days_since_last</th>\n",
       "      <th>gmv_amount</th>\n",
       "      <th>discounted_amount</th>\n",
       "    </tr>\n",
       "  </thead>\n",
       "  <tbody>\n",
       "    <tr>\n",
       "      <th>0</th>\n",
       "      <td>1</td>\n",
       "      <td>100007</td>\n",
       "      <td>1</td>\n",
       "      <td>2.000</td>\n",
       "      <td>0.000</td>\n",
       "      <td>0.000</td>\n",
       "      <td>0.000</td>\n",
       "      <td>0.000</td>\n",
       "      <td>544.783</td>\n",
       "      <td>0.000</td>\n",
       "    </tr>\n",
       "    <tr>\n",
       "      <th>1</th>\n",
       "      <td>1</td>\n",
       "      <td>100017</td>\n",
       "      <td>1</td>\n",
       "      <td>3.000</td>\n",
       "      <td>0.000</td>\n",
       "      <td>0.000</td>\n",
       "      <td>0.000</td>\n",
       "      <td>0.000</td>\n",
       "      <td>773.682</td>\n",
       "      <td>0.000</td>\n",
       "    </tr>\n",
       "    <tr>\n",
       "      <th>2</th>\n",
       "      <td>1</td>\n",
       "      <td>100022</td>\n",
       "      <td>1</td>\n",
       "      <td>1.000</td>\n",
       "      <td>1.000</td>\n",
       "      <td>1.000</td>\n",
       "      <td>0.000</td>\n",
       "      <td>0.000</td>\n",
       "      <td>324.330</td>\n",
       "      <td>0.000</td>\n",
       "    </tr>\n",
       "    <tr>\n",
       "      <th>3</th>\n",
       "      <td>1</td>\n",
       "      <td>100032</td>\n",
       "      <td>1</td>\n",
       "      <td>4.000</td>\n",
       "      <td>1.000</td>\n",
       "      <td>0.250</td>\n",
       "      <td>0.000</td>\n",
       "      <td>0.000</td>\n",
       "      <td>983.820</td>\n",
       "      <td>0.000</td>\n",
       "    </tr>\n",
       "    <tr>\n",
       "      <th>4</th>\n",
       "      <td>1</td>\n",
       "      <td>100051</td>\n",
       "      <td>3</td>\n",
       "      <td>5.000</td>\n",
       "      <td>0.000</td>\n",
       "      <td>0.000</td>\n",
       "      <td>43.000</td>\n",
       "      <td>62.000</td>\n",
       "      <td>1399.350</td>\n",
       "      <td>68.400</td>\n",
       "    </tr>\n",
       "  </tbody>\n",
       "</table>\n",
       "</div>"
      ],
      "text/plain": [
       "   group customer_id  order_cnt  qty_ordered  qty_returned  return_rate  \\\n",
       "0      1      100007          1        2.000         0.000        0.000   \n",
       "1      1      100017          1        3.000         0.000        0.000   \n",
       "2      1      100022          1        1.000         1.000        1.000   \n",
       "3      1      100032          1        4.000         1.000        0.250   \n",
       "4      1      100051          3        5.000         0.000        0.000   \n",
       "\n",
       "   day_diff  days_since_last  gmv_amount  discounted_amount  \n",
       "0     0.000            0.000     544.783              0.000  \n",
       "1     0.000            0.000     773.682              0.000  \n",
       "2     0.000            0.000     324.330              0.000  \n",
       "3     0.000            0.000     983.820              0.000  \n",
       "4    43.000           62.000    1399.350             68.400  "
      ]
     },
     "execution_count": 84,
     "metadata": {},
     "output_type": "execute_result"
    }
   ],
   "source": [
    "df.head()"
   ]
  },
  {
   "cell_type": "markdown",
   "id": "1a37b094",
   "metadata": {},
   "source": [
    "### Check collinearity"
   ]
  },
  {
   "cell_type": "code",
   "execution_count": 85,
   "id": "01a4d961",
   "metadata": {
    "scrolled": true
   },
   "outputs": [
    {
     "data": {
      "text/html": [
       "<div>\n",
       "<style scoped>\n",
       "    .dataframe tbody tr th:only-of-type {\n",
       "        vertical-align: middle;\n",
       "    }\n",
       "\n",
       "    .dataframe tbody tr th {\n",
       "        vertical-align: top;\n",
       "    }\n",
       "\n",
       "    .dataframe thead th {\n",
       "        text-align: right;\n",
       "    }\n",
       "</style>\n",
       "<table border=\"1\" class=\"dataframe\">\n",
       "  <thead>\n",
       "    <tr style=\"text-align: right;\">\n",
       "      <th></th>\n",
       "      <th>group</th>\n",
       "      <th>order_cnt</th>\n",
       "      <th>qty_ordered</th>\n",
       "      <th>qty_returned</th>\n",
       "      <th>return_rate</th>\n",
       "      <th>day_diff</th>\n",
       "      <th>days_since_last</th>\n",
       "      <th>gmv_amount</th>\n",
       "      <th>discounted_amount</th>\n",
       "    </tr>\n",
       "  </thead>\n",
       "  <tbody>\n",
       "    <tr>\n",
       "      <th>count</th>\n",
       "      <td>558517.000</td>\n",
       "      <td>558517.000</td>\n",
       "      <td>558517.000</td>\n",
       "      <td>558517.000</td>\n",
       "      <td>558517.000</td>\n",
       "      <td>558517.000</td>\n",
       "      <td>558517.000</td>\n",
       "      <td>558517.000</td>\n",
       "      <td>558517.000</td>\n",
       "    </tr>\n",
       "    <tr>\n",
       "      <th>mean</th>\n",
       "      <td>7.696</td>\n",
       "      <td>2.490</td>\n",
       "      <td>5.169</td>\n",
       "      <td>0.516</td>\n",
       "      <td>0.095</td>\n",
       "      <td>7.184</td>\n",
       "      <td>16.318</td>\n",
       "      <td>1303.142</td>\n",
       "      <td>158.205</td>\n",
       "    </tr>\n",
       "    <tr>\n",
       "      <th>std</th>\n",
       "      <td>3.316</td>\n",
       "      <td>208.670</td>\n",
       "      <td>348.488</td>\n",
       "      <td>7.955</td>\n",
       "      <td>0.224</td>\n",
       "      <td>14.265</td>\n",
       "      <td>26.783</td>\n",
       "      <td>89319.342</td>\n",
       "      <td>7691.695</td>\n",
       "    </tr>\n",
       "    <tr>\n",
       "      <th>min</th>\n",
       "      <td>1.000</td>\n",
       "      <td>1.000</td>\n",
       "      <td>1.000</td>\n",
       "      <td>0.000</td>\n",
       "      <td>0.000</td>\n",
       "      <td>0.000</td>\n",
       "      <td>0.000</td>\n",
       "      <td>0.000</td>\n",
       "      <td>0.000</td>\n",
       "    </tr>\n",
       "    <tr>\n",
       "      <th>25%</th>\n",
       "      <td>5.000</td>\n",
       "      <td>1.000</td>\n",
       "      <td>1.000</td>\n",
       "      <td>0.000</td>\n",
       "      <td>0.000</td>\n",
       "      <td>0.000</td>\n",
       "      <td>0.000</td>\n",
       "      <td>307.230</td>\n",
       "      <td>0.000</td>\n",
       "    </tr>\n",
       "    <tr>\n",
       "      <th>50%</th>\n",
       "      <td>8.000</td>\n",
       "      <td>1.000</td>\n",
       "      <td>3.000</td>\n",
       "      <td>0.000</td>\n",
       "      <td>0.000</td>\n",
       "      <td>0.000</td>\n",
       "      <td>0.000</td>\n",
       "      <td>631.560</td>\n",
       "      <td>0.000</td>\n",
       "    </tr>\n",
       "    <tr>\n",
       "      <th>75%</th>\n",
       "      <td>10.000</td>\n",
       "      <td>2.000</td>\n",
       "      <td>5.000</td>\n",
       "      <td>0.000</td>\n",
       "      <td>0.000</td>\n",
       "      <td>9.000</td>\n",
       "      <td>29.000</td>\n",
       "      <td>1183.307</td>\n",
       "      <td>114.000</td>\n",
       "    </tr>\n",
       "    <tr>\n",
       "      <th>max</th>\n",
       "      <td>12.000</td>\n",
       "      <td>80600.000</td>\n",
       "      <td>140385.000</td>\n",
       "      <td>3102.000</td>\n",
       "      <td>1.000</td>\n",
       "      <td>91.000</td>\n",
       "      <td>91.000</td>\n",
       "      <td>36391222.510</td>\n",
       "      <td>3871265.259</td>\n",
       "    </tr>\n",
       "  </tbody>\n",
       "</table>\n",
       "</div>"
      ],
      "text/plain": [
       "           group  order_cnt  qty_ordered  qty_returned  return_rate  \\\n",
       "count 558517.000 558517.000   558517.000    558517.000   558517.000   \n",
       "mean       7.696      2.490        5.169         0.516        0.095   \n",
       "std        3.316    208.670      348.488         7.955        0.224   \n",
       "min        1.000      1.000        1.000         0.000        0.000   \n",
       "25%        5.000      1.000        1.000         0.000        0.000   \n",
       "50%        8.000      1.000        3.000         0.000        0.000   \n",
       "75%       10.000      2.000        5.000         0.000        0.000   \n",
       "max       12.000  80600.000   140385.000      3102.000        1.000   \n",
       "\n",
       "        day_diff  days_since_last   gmv_amount  discounted_amount  \n",
       "count 558517.000       558517.000   558517.000         558517.000  \n",
       "mean       7.184           16.318     1303.142            158.205  \n",
       "std       14.265           26.783    89319.342           7691.695  \n",
       "min        0.000            0.000        0.000              0.000  \n",
       "25%        0.000            0.000      307.230              0.000  \n",
       "50%        0.000            0.000      631.560              0.000  \n",
       "75%        9.000           29.000     1183.307            114.000  \n",
       "max       91.000           91.000 36391222.510        3871265.259  "
      ]
     },
     "execution_count": 85,
     "metadata": {},
     "output_type": "execute_result"
    }
   ],
   "source": [
    "df.describe()"
   ]
  },
  {
   "cell_type": "code",
   "execution_count": 86,
   "id": "65b8cfac",
   "metadata": {
    "scrolled": false
   },
   "outputs": [
    {
     "data": {
      "text/plain": [
       "<AxesSubplot:>"
      ]
     },
     "execution_count": 86,
     "metadata": {},
     "output_type": "execute_result"
    },
    {
     "data": {
      "image/png": "[encoded data removed]",
      "text/plain": [
       "<Figure size 640x480 with 2 Axes>"
      ]
     },
     "metadata": {},
     "output_type": "display_data"
    }
   ],
   "source": [
    "from matplotlib.pyplot import figure\n",
    "\n",
    "figure(figsize=(8, 6), dpi=80)\n",
    "\n",
    "sns.heatmap(df[df.columns[2:]].corr(), annot = True)"
   ]
  },
  {
   "cell_type": "markdown",
   "id": "84e266e0",
   "metadata": {},
   "source": [
    "- dropping order_count because closely related to gmv_amount\n",
    "- dropping qty_ordered because closely related to gmv_amount\n",
    "- dropping qty_returned because already have return rate\n",
    "\n",
    "- creating discounted_pct instead of discounted amount\n"
   ]
  },
  {
   "cell_type": "code",
   "execution_count": 87,
   "id": "b1945e10",
   "metadata": {},
   "outputs": [],
   "source": [
    "# gmv_amount = doesn't seems right, dropping them\n",
    "df = df[df['gmv_amount'] != 0]\n",
    "\n",
    "# create a discount pct col instead of using discount number\n",
    "df['discount_pct'] = df['discounted_amount']/df['gmv_amount']\n",
    "df = df.drop(columns=['discounted_amount', 'order_cnt', 'qty_ordered', 'qty_returned'], axis = 1)\n"
   ]
  },
  {
   "cell_type": "code",
   "execution_count": 88,
   "id": "452f1f83",
   "metadata": {},
   "outputs": [
    {
     "data": {
      "text/html": [
       "<div>\n",
       "<style scoped>\n",
       "    .dataframe tbody tr th:only-of-type {\n",
       "        vertical-align: middle;\n",
       "    }\n",
       "\n",
       "    .dataframe tbody tr th {\n",
       "        vertical-align: top;\n",
       "    }\n",
       "\n",
       "    .dataframe thead th {\n",
       "        text-align: right;\n",
       "    }\n",
       "</style>\n",
       "<table border=\"1\" class=\"dataframe\">\n",
       "  <thead>\n",
       "    <tr style=\"text-align: right;\">\n",
       "      <th></th>\n",
       "      <th>group</th>\n",
       "      <th>customer_id</th>\n",
       "      <th>return_rate</th>\n",
       "      <th>day_diff</th>\n",
       "      <th>days_since_last</th>\n",
       "      <th>gmv_amount</th>\n",
       "      <th>discount_pct</th>\n",
       "    </tr>\n",
       "  </thead>\n",
       "  <tbody>\n",
       "    <tr>\n",
       "      <th>0</th>\n",
       "      <td>1</td>\n",
       "      <td>100007</td>\n",
       "      <td>0.000</td>\n",
       "      <td>0.000</td>\n",
       "      <td>0.000</td>\n",
       "      <td>544.783</td>\n",
       "      <td>0.000</td>\n",
       "    </tr>\n",
       "    <tr>\n",
       "      <th>1</th>\n",
       "      <td>1</td>\n",
       "      <td>100017</td>\n",
       "      <td>0.000</td>\n",
       "      <td>0.000</td>\n",
       "      <td>0.000</td>\n",
       "      <td>773.682</td>\n",
       "      <td>0.000</td>\n",
       "    </tr>\n",
       "    <tr>\n",
       "      <th>2</th>\n",
       "      <td>1</td>\n",
       "      <td>100022</td>\n",
       "      <td>1.000</td>\n",
       "      <td>0.000</td>\n",
       "      <td>0.000</td>\n",
       "      <td>324.330</td>\n",
       "      <td>0.000</td>\n",
       "    </tr>\n",
       "    <tr>\n",
       "      <th>3</th>\n",
       "      <td>1</td>\n",
       "      <td>100032</td>\n",
       "      <td>0.250</td>\n",
       "      <td>0.000</td>\n",
       "      <td>0.000</td>\n",
       "      <td>983.820</td>\n",
       "      <td>0.000</td>\n",
       "    </tr>\n",
       "    <tr>\n",
       "      <th>4</th>\n",
       "      <td>1</td>\n",
       "      <td>100051</td>\n",
       "      <td>0.000</td>\n",
       "      <td>43.000</td>\n",
       "      <td>62.000</td>\n",
       "      <td>1399.350</td>\n",
       "      <td>0.049</td>\n",
       "    </tr>\n",
       "  </tbody>\n",
       "</table>\n",
       "</div>"
      ],
      "text/plain": [
       "   group customer_id  return_rate  day_diff  days_since_last  gmv_amount  \\\n",
       "0      1      100007        0.000     0.000            0.000     544.783   \n",
       "1      1      100017        0.000     0.000            0.000     773.682   \n",
       "2      1      100022        1.000     0.000            0.000     324.330   \n",
       "3      1      100032        0.250     0.000            0.000     983.820   \n",
       "4      1      100051        0.000    43.000           62.000    1399.350   \n",
       "\n",
       "   discount_pct  \n",
       "0         0.000  \n",
       "1         0.000  \n",
       "2         0.000  \n",
       "3         0.000  \n",
       "4         0.049  "
      ]
     },
     "execution_count": 88,
     "metadata": {},
     "output_type": "execute_result"
    }
   ],
   "source": [
    "df.head()"
   ]
  },
  {
   "cell_type": "code",
   "execution_count": 89,
   "id": "c3570261",
   "metadata": {
    "scrolled": true
   },
   "outputs": [
    {
     "data": {
      "text/plain": [
       "<AxesSubplot:>"
      ]
     },
     "execution_count": 89,
     "metadata": {},
     "output_type": "execute_result"
    },
    {
     "data": {
      "image/png": "[encoded data removed]",
      "text/plain": [
       "<Figure size 640x480 with 2 Axes>"
      ]
     },
     "metadata": {},
     "output_type": "display_data"
    }
   ],
   "source": [
    "figure(figsize=(8, 6), dpi=80)\n",
    "sns.heatmap(df[df.columns[2:]].corr(), annot = True)"
   ]
  },
  {
   "cell_type": "markdown",
   "id": "cc531c29",
   "metadata": {},
   "source": [
    "## Create label - future GMV vs previous GMV delta"
   ]
  },
  {
   "cell_type": "code",
   "execution_count": 90,
   "id": "a883419d",
   "metadata": {},
   "outputs": [],
   "source": [
    "df['shift'] = df['group'] + 1\n",
    "df = df.merge(df[['group', 'customer_id', 'gmv_amount']].rename({'gmv_amount':'future_gmv'}, axis = 1)\n",
    "              , left_on = ['shift', 'customer_id']\n",
    "              , right_on = ['group', 'customer_id']\n",
    "              , how = 'left') \\\n",
    "                .drop(['shift', 'group_y'], axis = 1) \\\n",
    "                .rename({'group_x':'group'}, axis = 1).fillna(0)"
   ]
  },
  {
   "cell_type": "code",
   "execution_count": 91,
   "id": "8b680c6f",
   "metadata": {},
   "outputs": [],
   "source": [
    "df['next_month_delta'] = ((df['future_gmv'] - df['gmv_amount'])/df['gmv_amount'])\n",
    "df['next_month_delta'] = df['next_month_delta'].astype(float)\n",
    "\n",
    "# df['future_gmv'] = df['future_gmv'].astype(float)\n",
    "df = df.drop(columns = ['future_gmv'], axis = 1)\n"
   ]
  },
  {
   "cell_type": "code",
   "execution_count": 92,
   "id": "fe25284a",
   "metadata": {},
   "outputs": [
    {
     "data": {
      "text/html": [
       "<div>\n",
       "<style scoped>\n",
       "    .dataframe tbody tr th:only-of-type {\n",
       "        vertical-align: middle;\n",
       "    }\n",
       "\n",
       "    .dataframe tbody tr th {\n",
       "        vertical-align: top;\n",
       "    }\n",
       "\n",
       "    .dataframe thead th {\n",
       "        text-align: right;\n",
       "    }\n",
       "</style>\n",
       "<table border=\"1\" class=\"dataframe\">\n",
       "  <thead>\n",
       "    <tr style=\"text-align: right;\">\n",
       "      <th></th>\n",
       "      <th>group</th>\n",
       "      <th>customer_id</th>\n",
       "      <th>return_rate</th>\n",
       "      <th>day_diff</th>\n",
       "      <th>days_since_last</th>\n",
       "      <th>gmv_amount</th>\n",
       "      <th>discount_pct</th>\n",
       "      <th>next_month_delta</th>\n",
       "    </tr>\n",
       "  </thead>\n",
       "  <tbody>\n",
       "    <tr>\n",
       "      <th>0</th>\n",
       "      <td>1</td>\n",
       "      <td>100007</td>\n",
       "      <td>0.000</td>\n",
       "      <td>0.000</td>\n",
       "      <td>0.000</td>\n",
       "      <td>544.783</td>\n",
       "      <td>0.000</td>\n",
       "      <td>-1.000</td>\n",
       "    </tr>\n",
       "    <tr>\n",
       "      <th>1</th>\n",
       "      <td>1</td>\n",
       "      <td>100017</td>\n",
       "      <td>0.000</td>\n",
       "      <td>0.000</td>\n",
       "      <td>0.000</td>\n",
       "      <td>773.682</td>\n",
       "      <td>0.000</td>\n",
       "      <td>1.352</td>\n",
       "    </tr>\n",
       "    <tr>\n",
       "      <th>2</th>\n",
       "      <td>1</td>\n",
       "      <td>100022</td>\n",
       "      <td>1.000</td>\n",
       "      <td>0.000</td>\n",
       "      <td>0.000</td>\n",
       "      <td>324.330</td>\n",
       "      <td>0.000</td>\n",
       "      <td>-0.351</td>\n",
       "    </tr>\n",
       "    <tr>\n",
       "      <th>3</th>\n",
       "      <td>1</td>\n",
       "      <td>100032</td>\n",
       "      <td>0.250</td>\n",
       "      <td>0.000</td>\n",
       "      <td>0.000</td>\n",
       "      <td>983.820</td>\n",
       "      <td>0.000</td>\n",
       "      <td>-1.000</td>\n",
       "    </tr>\n",
       "    <tr>\n",
       "      <th>4</th>\n",
       "      <td>1</td>\n",
       "      <td>100051</td>\n",
       "      <td>0.000</td>\n",
       "      <td>43.000</td>\n",
       "      <td>62.000</td>\n",
       "      <td>1399.350</td>\n",
       "      <td>0.049</td>\n",
       "      <td>-0.374</td>\n",
       "    </tr>\n",
       "  </tbody>\n",
       "</table>\n",
       "</div>"
      ],
      "text/plain": [
       "   group customer_id  return_rate  day_diff  days_since_last  gmv_amount  \\\n",
       "0      1      100007        0.000     0.000            0.000     544.783   \n",
       "1      1      100017        0.000     0.000            0.000     773.682   \n",
       "2      1      100022        1.000     0.000            0.000     324.330   \n",
       "3      1      100032        0.250     0.000            0.000     983.820   \n",
       "4      1      100051        0.000    43.000           62.000    1399.350   \n",
       "\n",
       "   discount_pct  next_month_delta  \n",
       "0         0.000            -1.000  \n",
       "1         0.000             1.352  \n",
       "2         0.000            -0.351  \n",
       "3         0.000            -1.000  \n",
       "4         0.049            -0.374  "
      ]
     },
     "execution_count": 92,
     "metadata": {},
     "output_type": "execute_result"
    }
   ],
   "source": [
    "df.head()\n",
    "\n",
    "# next_month_delta is the future activity trend"
   ]
  },
  {
   "cell_type": "code",
   "execution_count": null,
   "id": "f89f3dec",
   "metadata": {},
   "outputs": [],
   "source": []
  },
  {
   "cell_type": "markdown",
   "id": "cf82a2fb",
   "metadata": {},
   "source": [
    "### EDA Findings"
   ]
  },
  {
   "cell_type": "markdown",
   "id": "17aec14d",
   "metadata": {},
   "source": [
    "- About 34% of customers have repeat purchase\n",
    "- About 17% of customers generate equal or more revenue than previous 3 month\n",
    "- About 7.5% of customers generate more revenue than previous 3 months"
   ]
  },
  {
   "cell_type": "code",
   "execution_count": 93,
   "id": "09638330",
   "metadata": {
    "scrolled": true
   },
   "outputs": [
    {
     "data": {
      "text/plain": [
       "count    558514.000\n",
       "mean         -0.462\n",
       "std           1.431\n",
       "min          -1.000\n",
       "25%          -1.000\n",
       "50%          -1.000\n",
       "65.5%        -1.000\n",
       "66%          -0.903\n",
       "75%          -0.444\n",
       "80%          -0.176\n",
       "82.5%        -0.029\n",
       "83%           0.000\n",
       "85%           0.120\n",
       "90%           0.635\n",
       "92.5%         1.033\n",
       "95%           1.678\n",
       "99%           5.157\n",
       "99.25%        5.955\n",
       "99.5%         7.197\n",
       "99.9%        13.508\n",
       "99.99%       30.545\n",
       "max         179.329\n",
       "Name: next_month_delta, dtype: float64"
      ]
     },
     "execution_count": 93,
     "metadata": {},
     "output_type": "execute_result"
    }
   ],
   "source": [
    "df['next_month_delta'].describe(percentiles = [0.25, 0.5, .655, .66, 0.75, 0.8, 0.825, 0.83, 0.85, 0.9, .925, 0.95, 0.99, 0.9925, 0.995, 0.999, 0.9999])"
   ]
  },
  {
   "cell_type": "code",
   "execution_count": 94,
   "id": "b367f8d1",
   "metadata": {},
   "outputs": [],
   "source": [
    "# df = df.drop(columns = ['next_month_delta'], axis = 1)"
   ]
  },
  {
   "cell_type": "markdown",
   "id": "0d9e30e1",
   "metadata": {},
   "source": [
    "### Split data for validation and training"
   ]
  },
  {
   "cell_type": "code",
   "execution_count": 95,
   "id": "b45a0b75",
   "metadata": {},
   "outputs": [],
   "source": [
    "# Train Data\n",
    "df_train = df[df['group'] < 3]\n",
    "\n",
    "# Keep only feature column\n",
    "df_train = df.drop(['group', 'customer_id'], axis = 1)"
   ]
  },
  {
   "cell_type": "code",
   "execution_count": 96,
   "id": "250142b6",
   "metadata": {},
   "outputs": [],
   "source": [
    "# Store group 11 for test score\n",
    "df_validation = df[df['group'] == 3].copy()\n",
    "\n",
    "# Keep only feature column\n",
    "df_validation = df_validation.drop(['group', 'customer_id'], axis = 1)"
   ]
  },
  {
   "cell_type": "code",
   "execution_count": 97,
   "id": "8a85ca6d",
   "metadata": {},
   "outputs": [],
   "source": [
    "# standardize everyone that buy more than previous year to remove the impact of high fold\n",
    "df_train['next_month_delta'] = np.where((df_train['next_month_delta'] > 1), 1.1, df_train['next_month_delta'])"
   ]
  },
  {
   "cell_type": "code",
   "execution_count": 98,
   "id": "f97d3bac",
   "metadata": {},
   "outputs": [
    {
     "data": {
      "text/html": [
       "<div>\n",
       "<style scoped>\n",
       "    .dataframe tbody tr th:only-of-type {\n",
       "        vertical-align: middle;\n",
       "    }\n",
       "\n",
       "    .dataframe tbody tr th {\n",
       "        vertical-align: top;\n",
       "    }\n",
       "\n",
       "    .dataframe thead th {\n",
       "        text-align: right;\n",
       "    }\n",
       "</style>\n",
       "<table border=\"1\" class=\"dataframe\">\n",
       "  <thead>\n",
       "    <tr style=\"text-align: right;\">\n",
       "      <th></th>\n",
       "      <th>return_rate</th>\n",
       "      <th>day_diff</th>\n",
       "      <th>days_since_last</th>\n",
       "      <th>gmv_amount</th>\n",
       "      <th>discount_pct</th>\n",
       "      <th>next_month_delta</th>\n",
       "    </tr>\n",
       "  </thead>\n",
       "  <tbody>\n",
       "    <tr>\n",
       "      <th>count</th>\n",
       "      <td>558514.000</td>\n",
       "      <td>558514.000</td>\n",
       "      <td>558514.000</td>\n",
       "      <td>558514.000</td>\n",
       "      <td>558514.000</td>\n",
       "      <td>558514.000</td>\n",
       "    </tr>\n",
       "    <tr>\n",
       "      <th>mean</th>\n",
       "      <td>0.095</td>\n",
       "      <td>7.184</td>\n",
       "      <td>16.318</td>\n",
       "      <td>1303.149</td>\n",
       "      <td>0.097</td>\n",
       "      <td>-0.615</td>\n",
       "    </tr>\n",
       "    <tr>\n",
       "      <th>std</th>\n",
       "      <td>0.224</td>\n",
       "      <td>14.265</td>\n",
       "      <td>26.783</td>\n",
       "      <td>89319.582</td>\n",
       "      <td>0.159</td>\n",
       "      <td>0.665</td>\n",
       "    </tr>\n",
       "    <tr>\n",
       "      <th>min</th>\n",
       "      <td>0.000</td>\n",
       "      <td>0.000</td>\n",
       "      <td>0.000</td>\n",
       "      <td>18.210</td>\n",
       "      <td>0.000</td>\n",
       "      <td>-1.000</td>\n",
       "    </tr>\n",
       "    <tr>\n",
       "      <th>25%</th>\n",
       "      <td>0.000</td>\n",
       "      <td>0.000</td>\n",
       "      <td>0.000</td>\n",
       "      <td>307.230</td>\n",
       "      <td>0.000</td>\n",
       "      <td>-1.000</td>\n",
       "    </tr>\n",
       "    <tr>\n",
       "      <th>50%</th>\n",
       "      <td>0.000</td>\n",
       "      <td>0.000</td>\n",
       "      <td>0.000</td>\n",
       "      <td>631.560</td>\n",
       "      <td>0.000</td>\n",
       "      <td>-1.000</td>\n",
       "    </tr>\n",
       "    <tr>\n",
       "      <th>75%</th>\n",
       "      <td>0.000</td>\n",
       "      <td>9.000</td>\n",
       "      <td>29.000</td>\n",
       "      <td>1183.317</td>\n",
       "      <td>0.114</td>\n",
       "      <td>-0.444</td>\n",
       "    </tr>\n",
       "    <tr>\n",
       "      <th>max</th>\n",
       "      <td>1.000</td>\n",
       "      <td>91.000</td>\n",
       "      <td>91.000</td>\n",
       "      <td>36391222.510</td>\n",
       "      <td>1.000</td>\n",
       "      <td>1.100</td>\n",
       "    </tr>\n",
       "  </tbody>\n",
       "</table>\n",
       "</div>"
      ],
      "text/plain": [
       "       return_rate   day_diff  days_since_last   gmv_amount  discount_pct  \\\n",
       "count   558514.000 558514.000       558514.000   558514.000    558514.000   \n",
       "mean         0.095      7.184           16.318     1303.149         0.097   \n",
       "std          0.224     14.265           26.783    89319.582         0.159   \n",
       "min          0.000      0.000            0.000       18.210         0.000   \n",
       "25%          0.000      0.000            0.000      307.230         0.000   \n",
       "50%          0.000      0.000            0.000      631.560         0.000   \n",
       "75%          0.000      9.000           29.000     1183.317         0.114   \n",
       "max          1.000     91.000           91.000 36391222.510         1.000   \n",
       "\n",
       "       next_month_delta  \n",
       "count        558514.000  \n",
       "mean             -0.615  \n",
       "std               0.665  \n",
       "min              -1.000  \n",
       "25%              -1.000  \n",
       "50%              -1.000  \n",
       "75%              -0.444  \n",
       "max               1.100  "
      ]
     },
     "execution_count": 98,
     "metadata": {},
     "output_type": "execute_result"
    }
   ],
   "source": [
    "df_train.describe()"
   ]
  },
  {
   "cell_type": "code",
   "execution_count": 133,
   "id": "d7d5c77b",
   "metadata": {},
   "outputs": [
    {
     "data": {
      "text/plain": [
       "Text(0, 0.5, 'Count')"
      ]
     },
     "execution_count": 133,
     "metadata": {},
     "output_type": "execute_result"
    },
    {
     "data": {
      "image/png": "[encoded data removed]",
      "text/plain": [
       "<Figure size 576x396 with 1 Axes>"
      ]
     },
     "metadata": {},
     "output_type": "display_data"
    }
   ],
   "source": [
    "# Training data are heavily skewed toward -1, a very high chance of having a not so good performing \n",
    "plt.hist(df_train['next_month_delta'], bins = 50)\n",
    "plt.xlabel('Customer Action')\n",
    "plt.ylabel('Count')"
   ]
  },
  {
   "cell_type": "markdown",
   "id": "d0c42453",
   "metadata": {},
   "source": [
    "## Scale Data"
   ]
  },
  {
   "cell_type": "code",
   "execution_count": 99,
   "id": "1ff512bf",
   "metadata": {
    "scrolled": true
   },
   "outputs": [
    {
     "data": {
      "text/html": [
       "<div>\n",
       "<style scoped>\n",
       "    .dataframe tbody tr th:only-of-type {\n",
       "        vertical-align: middle;\n",
       "    }\n",
       "\n",
       "    .dataframe tbody tr th {\n",
       "        vertical-align: top;\n",
       "    }\n",
       "\n",
       "    .dataframe thead th {\n",
       "        text-align: right;\n",
       "    }\n",
       "</style>\n",
       "<table border=\"1\" class=\"dataframe\">\n",
       "  <thead>\n",
       "    <tr style=\"text-align: right;\">\n",
       "      <th></th>\n",
       "      <th>group</th>\n",
       "      <th>customer_id</th>\n",
       "      <th>return_rate</th>\n",
       "      <th>day_diff</th>\n",
       "      <th>days_since_last</th>\n",
       "      <th>gmv_amount</th>\n",
       "      <th>discount_pct</th>\n",
       "      <th>next_month_delta</th>\n",
       "    </tr>\n",
       "  </thead>\n",
       "  <tbody>\n",
       "    <tr>\n",
       "      <th>0</th>\n",
       "      <td>1</td>\n",
       "      <td>100007</td>\n",
       "      <td>0.000</td>\n",
       "      <td>0.000</td>\n",
       "      <td>0.000</td>\n",
       "      <td>544.783</td>\n",
       "      <td>0.000</td>\n",
       "      <td>-1.000</td>\n",
       "    </tr>\n",
       "    <tr>\n",
       "      <th>1</th>\n",
       "      <td>1</td>\n",
       "      <td>100017</td>\n",
       "      <td>0.000</td>\n",
       "      <td>0.000</td>\n",
       "      <td>0.000</td>\n",
       "      <td>773.682</td>\n",
       "      <td>0.000</td>\n",
       "      <td>1.352</td>\n",
       "    </tr>\n",
       "    <tr>\n",
       "      <th>2</th>\n",
       "      <td>1</td>\n",
       "      <td>100022</td>\n",
       "      <td>1.000</td>\n",
       "      <td>0.000</td>\n",
       "      <td>0.000</td>\n",
       "      <td>324.330</td>\n",
       "      <td>0.000</td>\n",
       "      <td>-0.351</td>\n",
       "    </tr>\n",
       "    <tr>\n",
       "      <th>3</th>\n",
       "      <td>1</td>\n",
       "      <td>100032</td>\n",
       "      <td>0.250</td>\n",
       "      <td>0.000</td>\n",
       "      <td>0.000</td>\n",
       "      <td>983.820</td>\n",
       "      <td>0.000</td>\n",
       "      <td>-1.000</td>\n",
       "    </tr>\n",
       "    <tr>\n",
       "      <th>4</th>\n",
       "      <td>1</td>\n",
       "      <td>100051</td>\n",
       "      <td>0.000</td>\n",
       "      <td>43.000</td>\n",
       "      <td>62.000</td>\n",
       "      <td>1399.350</td>\n",
       "      <td>0.049</td>\n",
       "      <td>-0.374</td>\n",
       "    </tr>\n",
       "  </tbody>\n",
       "</table>\n",
       "</div>"
      ],
      "text/plain": [
       "   group customer_id  return_rate  day_diff  days_since_last  gmv_amount  \\\n",
       "0      1      100007        0.000     0.000            0.000     544.783   \n",
       "1      1      100017        0.000     0.000            0.000     773.682   \n",
       "2      1      100022        1.000     0.000            0.000     324.330   \n",
       "3      1      100032        0.250     0.000            0.000     983.820   \n",
       "4      1      100051        0.000    43.000           62.000    1399.350   \n",
       "\n",
       "   discount_pct  next_month_delta  \n",
       "0         0.000            -1.000  \n",
       "1         0.000             1.352  \n",
       "2         0.000            -0.351  \n",
       "3         0.000            -1.000  \n",
       "4         0.049            -0.374  "
      ]
     },
     "execution_count": 99,
     "metadata": {},
     "output_type": "execute_result"
    }
   ],
   "source": [
    "df.head()"
   ]
  },
  {
   "cell_type": "code",
   "execution_count": null,
   "id": "e6441545",
   "metadata": {},
   "outputs": [],
   "source": []
  },
  {
   "cell_type": "code",
   "execution_count": 100,
   "id": "753b4185",
   "metadata": {},
   "outputs": [],
   "source": [
    "def scale_data(x):\n",
    "    label = pd.DataFrame(x['next_month_delta']).reset_index(drop=True)\n",
    "    pre_scale_feature = x.drop('next_month_delta', axis = 1).reset_index(drop=True)\n",
    "\n",
    "    model = StandardScaler()\n",
    "    df_scaled = model.fit_transform(pre_scale_feature)\n",
    "    df_scaled = pd.DataFrame(df_scaled)\n",
    "    df_scaled = pd.concat([df_scaled, label], axis = 1)\n",
    "    df_scaled.columns = x.columns\n",
    "    df_scaled['next_month_delta'] = df_scaled['next_month_delta'].astype(float)\n",
    "    return df_scaled"
   ]
  },
  {
   "cell_type": "code",
   "execution_count": 101,
   "id": "eb13d9e4",
   "metadata": {},
   "outputs": [],
   "source": [
    "df_train_scaled = scale_data(df_train)\n",
    "df_validation_scaled = scale_data(df_validation)"
   ]
  },
  {
   "cell_type": "markdown",
   "id": "f78b9459",
   "metadata": {},
   "source": [
    "# Modelling"
   ]
  },
  {
   "cell_type": "code",
   "execution_count": 102,
   "id": "5701f9ca",
   "metadata": {
    "scrolled": false
   },
   "outputs": [
    {
     "data": {
      "text/html": [
       "<style  type=\"text/css\" >\n",
       "    #T_1d0cc_ th {\n",
       "          text-align: left;\n",
       "    }#T_1d0cc_row0_col0,#T_1d0cc_row0_col1,#T_1d0cc_row0_col5,#T_1d0cc_row0_col6,#T_1d0cc_row1_col0,#T_1d0cc_row1_col1,#T_1d0cc_row1_col2,#T_1d0cc_row1_col3,#T_1d0cc_row1_col4,#T_1d0cc_row1_col5,#T_1d0cc_row1_col6,#T_1d0cc_row2_col0,#T_1d0cc_row2_col1,#T_1d0cc_row2_col2,#T_1d0cc_row2_col3,#T_1d0cc_row2_col4,#T_1d0cc_row2_col5,#T_1d0cc_row2_col6,#T_1d0cc_row3_col0,#T_1d0cc_row3_col1,#T_1d0cc_row3_col2,#T_1d0cc_row3_col3,#T_1d0cc_row3_col4,#T_1d0cc_row3_col5,#T_1d0cc_row3_col6,#T_1d0cc_row4_col0,#T_1d0cc_row4_col1,#T_1d0cc_row4_col2,#T_1d0cc_row4_col3,#T_1d0cc_row4_col4,#T_1d0cc_row4_col5,#T_1d0cc_row4_col6,#T_1d0cc_row5_col0,#T_1d0cc_row5_col1,#T_1d0cc_row5_col2,#T_1d0cc_row5_col3,#T_1d0cc_row5_col4,#T_1d0cc_row5_col5,#T_1d0cc_row5_col6,#T_1d0cc_row6_col0,#T_1d0cc_row6_col1,#T_1d0cc_row6_col2,#T_1d0cc_row6_col3,#T_1d0cc_row6_col4,#T_1d0cc_row6_col5,#T_1d0cc_row6_col6,#T_1d0cc_row7_col0,#T_1d0cc_row7_col1,#T_1d0cc_row7_col2,#T_1d0cc_row7_col3,#T_1d0cc_row7_col4,#T_1d0cc_row7_col5,#T_1d0cc_row7_col6,#T_1d0cc_row8_col0,#T_1d0cc_row8_col1,#T_1d0cc_row8_col2,#T_1d0cc_row8_col3,#T_1d0cc_row8_col4,#T_1d0cc_row8_col5,#T_1d0cc_row8_col6,#T_1d0cc_row9_col0,#T_1d0cc_row9_col1,#T_1d0cc_row9_col2,#T_1d0cc_row9_col3,#T_1d0cc_row9_col4,#T_1d0cc_row9_col5,#T_1d0cc_row9_col6,#T_1d0cc_row10_col0,#T_1d0cc_row10_col1,#T_1d0cc_row10_col2,#T_1d0cc_row10_col3,#T_1d0cc_row10_col4,#T_1d0cc_row10_col5,#T_1d0cc_row10_col6,#T_1d0cc_row11_col0,#T_1d0cc_row11_col1,#T_1d0cc_row11_col2,#T_1d0cc_row11_col3,#T_1d0cc_row11_col4,#T_1d0cc_row11_col5,#T_1d0cc_row12_col0,#T_1d0cc_row12_col1,#T_1d0cc_row12_col2,#T_1d0cc_row12_col3,#T_1d0cc_row12_col4,#T_1d0cc_row12_col5,#T_1d0cc_row12_col6,#T_1d0cc_row13_col0,#T_1d0cc_row13_col2,#T_1d0cc_row13_col3,#T_1d0cc_row13_col4,#T_1d0cc_row13_col6,#T_1d0cc_row14_col0,#T_1d0cc_row14_col1,#T_1d0cc_row14_col2,#T_1d0cc_row14_col3,#T_1d0cc_row14_col4,#T_1d0cc_row14_col5,#T_1d0cc_row14_col6,#T_1d0cc_row15_col0,#T_1d0cc_row15_col1,#T_1d0cc_row15_col2,#T_1d0cc_row15_col3,#T_1d0cc_row15_col4,#T_1d0cc_row15_col5,#T_1d0cc_row15_col6{\n",
       "            text-align:  left;\n",
       "            text-align:  left;\n",
       "        }#T_1d0cc_row0_col2,#T_1d0cc_row0_col3,#T_1d0cc_row0_col4,#T_1d0cc_row11_col6,#T_1d0cc_row13_col1,#T_1d0cc_row13_col5{\n",
       "            text-align:  left;\n",
       "            text-align:  left;\n",
       "            background-color:  yellow;\n",
       "        }#T_1d0cc_row0_col7,#T_1d0cc_row1_col7,#T_1d0cc_row2_col7,#T_1d0cc_row3_col7,#T_1d0cc_row5_col7,#T_1d0cc_row6_col7,#T_1d0cc_row7_col7,#T_1d0cc_row8_col7,#T_1d0cc_row9_col7,#T_1d0cc_row10_col7,#T_1d0cc_row11_col7,#T_1d0cc_row12_col7,#T_1d0cc_row13_col7,#T_1d0cc_row14_col7,#T_1d0cc_row15_col7{\n",
       "            text-align:  left;\n",
       "            text-align:  left;\n",
       "            background-color:  lightgrey;\n",
       "        }#T_1d0cc_row4_col7{\n",
       "            text-align:  left;\n",
       "            text-align:  left;\n",
       "            background-color:  yellow;\n",
       "            background-color:  lightgrey;\n",
       "        }</style><table id=\"T_1d0cc_\" ><thead>    <tr>        <th class=\"blank level0\" ></th>        <th class=\"col_heading level0 col0\" >Model</th>        <th class=\"col_heading level0 col1\" >MAE</th>        <th class=\"col_heading level0 col2\" >MSE</th>        <th class=\"col_heading level0 col3\" >RMSE</th>        <th class=\"col_heading level0 col4\" >R2</th>        <th class=\"col_heading level0 col5\" >RMSLE</th>        <th class=\"col_heading level0 col6\" >MAPE</th>        <th class=\"col_heading level0 col7\" >TT (Sec)</th>    </tr></thead><tbody>\n",
       "                <tr>\n",
       "                        <th id=\"T_1d0cc_level0_row0\" class=\"row_heading level0 row0\" >lightgbm</th>\n",
       "                        <td id=\"T_1d0cc_row0_col0\" class=\"data row0 col0\" >Light Gradient Boosting Machine</td>\n",
       "                        <td id=\"T_1d0cc_row0_col1\" class=\"data row0 col1\" >0.4966</td>\n",
       "                        <td id=\"T_1d0cc_row0_col2\" class=\"data row0 col2\" >0.4236</td>\n",
       "                        <td id=\"T_1d0cc_row0_col3\" class=\"data row0 col3\" >0.6508</td>\n",
       "                        <td id=\"T_1d0cc_row0_col4\" class=\"data row0 col4\" >0.0429</td>\n",
       "                        <td id=\"T_1d0cc_row0_col5\" class=\"data row0 col5\" >0.2259</td>\n",
       "                        <td id=\"T_1d0cc_row0_col6\" class=\"data row0 col6\" >608022088999.3201</td>\n",
       "                        <td id=\"T_1d0cc_row0_col7\" class=\"data row0 col7\" >1.5240</td>\n",
       "            </tr>\n",
       "            <tr>\n",
       "                        <th id=\"T_1d0cc_level0_row1\" class=\"row_heading level0 row1\" >xgboost</th>\n",
       "                        <td id=\"T_1d0cc_row1_col0\" class=\"data row1 col0\" >Extreme Gradient Boosting</td>\n",
       "                        <td id=\"T_1d0cc_row1_col1\" class=\"data row1 col1\" >0.4954</td>\n",
       "                        <td id=\"T_1d0cc_row1_col2\" class=\"data row1 col2\" >0.4242</td>\n",
       "                        <td id=\"T_1d0cc_row1_col3\" class=\"data row1 col3\" >0.6513</td>\n",
       "                        <td id=\"T_1d0cc_row1_col4\" class=\"data row1 col4\" >0.0414</td>\n",
       "                        <td id=\"T_1d0cc_row1_col5\" class=\"data row1 col5\" >0.2293</td>\n",
       "                        <td id=\"T_1d0cc_row1_col6\" class=\"data row1 col6\" >613685926297.6000</td>\n",
       "                        <td id=\"T_1d0cc_row1_col7\" class=\"data row1 col7\" >1.9520</td>\n",
       "            </tr>\n",
       "            <tr>\n",
       "                        <th id=\"T_1d0cc_level0_row2\" class=\"row_heading level0 row2\" >catboost</th>\n",
       "                        <td id=\"T_1d0cc_row2_col0\" class=\"data row2 col0\" >CatBoost Regressor</td>\n",
       "                        <td id=\"T_1d0cc_row2_col1\" class=\"data row2 col1\" >0.4963</td>\n",
       "                        <td id=\"T_1d0cc_row2_col2\" class=\"data row2 col2\" >0.4243</td>\n",
       "                        <td id=\"T_1d0cc_row2_col3\" class=\"data row2 col3\" >0.6514</td>\n",
       "                        <td id=\"T_1d0cc_row2_col4\" class=\"data row2 col4\" >0.0412</td>\n",
       "                        <td id=\"T_1d0cc_row2_col5\" class=\"data row2 col5\" >0.2273</td>\n",
       "                        <td id=\"T_1d0cc_row2_col6\" class=\"data row2 col6\" >616052549850.4834</td>\n",
       "                        <td id=\"T_1d0cc_row2_col7\" class=\"data row2 col7\" >5.3540</td>\n",
       "            </tr>\n",
       "            <tr>\n",
       "                        <th id=\"T_1d0cc_level0_row3\" class=\"row_heading level0 row3\" >lr</th>\n",
       "                        <td id=\"T_1d0cc_row3_col0\" class=\"data row3 col0\" >Linear Regression</td>\n",
       "                        <td id=\"T_1d0cc_row3_col1\" class=\"data row3 col1\" >0.5064</td>\n",
       "                        <td id=\"T_1d0cc_row3_col2\" class=\"data row3 col2\" >0.4318</td>\n",
       "                        <td id=\"T_1d0cc_row3_col3\" class=\"data row3 col3\" >0.6571</td>\n",
       "                        <td id=\"T_1d0cc_row3_col4\" class=\"data row3 col4\" >0.0242</td>\n",
       "                        <td id=\"T_1d0cc_row3_col5\" class=\"data row3 col5\" >0.2242</td>\n",
       "                        <td id=\"T_1d0cc_row3_col6\" class=\"data row3 col6\" >634337355366.4000</td>\n",
       "                        <td id=\"T_1d0cc_row3_col7\" class=\"data row3 col7\" >0.0340</td>\n",
       "            </tr>\n",
       "            <tr>\n",
       "                        <th id=\"T_1d0cc_level0_row4\" class=\"row_heading level0 row4\" >ridge</th>\n",
       "                        <td id=\"T_1d0cc_row4_col0\" class=\"data row4 col0\" >Ridge Regression</td>\n",
       "                        <td id=\"T_1d0cc_row4_col1\" class=\"data row4 col1\" >0.5064</td>\n",
       "                        <td id=\"T_1d0cc_row4_col2\" class=\"data row4 col2\" >0.4318</td>\n",
       "                        <td id=\"T_1d0cc_row4_col3\" class=\"data row4 col3\" >0.6571</td>\n",
       "                        <td id=\"T_1d0cc_row4_col4\" class=\"data row4 col4\" >0.0242</td>\n",
       "                        <td id=\"T_1d0cc_row4_col5\" class=\"data row4 col5\" >0.2242</td>\n",
       "                        <td id=\"T_1d0cc_row4_col6\" class=\"data row4 col6\" >634337466777.6000</td>\n",
       "                        <td id=\"T_1d0cc_row4_col7\" class=\"data row4 col7\" >0.0280</td>\n",
       "            </tr>\n",
       "            <tr>\n",
       "                        <th id=\"T_1d0cc_level0_row5\" class=\"row_heading level0 row5\" >lar</th>\n",
       "                        <td id=\"T_1d0cc_row5_col0\" class=\"data row5 col0\" >Least Angle Regression</td>\n",
       "                        <td id=\"T_1d0cc_row5_col1\" class=\"data row5 col1\" >0.5064</td>\n",
       "                        <td id=\"T_1d0cc_row5_col2\" class=\"data row5 col2\" >0.4318</td>\n",
       "                        <td id=\"T_1d0cc_row5_col3\" class=\"data row5 col3\" >0.6571</td>\n",
       "                        <td id=\"T_1d0cc_row5_col4\" class=\"data row5 col4\" >0.0242</td>\n",
       "                        <td id=\"T_1d0cc_row5_col5\" class=\"data row5 col5\" >0.2242</td>\n",
       "                        <td id=\"T_1d0cc_row5_col6\" class=\"data row5 col6\" >634337390914.3334</td>\n",
       "                        <td id=\"T_1d0cc_row5_col7\" class=\"data row5 col7\" >0.0320</td>\n",
       "            </tr>\n",
       "            <tr>\n",
       "                        <th id=\"T_1d0cc_level0_row6\" class=\"row_heading level0 row6\" >br</th>\n",
       "                        <td id=\"T_1d0cc_row6_col0\" class=\"data row6 col0\" >Bayesian Ridge</td>\n",
       "                        <td id=\"T_1d0cc_row6_col1\" class=\"data row6 col1\" >0.5064</td>\n",
       "                        <td id=\"T_1d0cc_row6_col2\" class=\"data row6 col2\" >0.4318</td>\n",
       "                        <td id=\"T_1d0cc_row6_col3\" class=\"data row6 col3\" >0.6571</td>\n",
       "                        <td id=\"T_1d0cc_row6_col4\" class=\"data row6 col4\" >0.0242</td>\n",
       "                        <td id=\"T_1d0cc_row6_col5\" class=\"data row6 col5\" >0.2242</td>\n",
       "                        <td id=\"T_1d0cc_row6_col6\" class=\"data row6 col6\" >634346640778.9519</td>\n",
       "                        <td id=\"T_1d0cc_row6_col7\" class=\"data row6 col7\" >0.0520</td>\n",
       "            </tr>\n",
       "            <tr>\n",
       "                        <th id=\"T_1d0cc_level0_row7\" class=\"row_heading level0 row7\" >omp</th>\n",
       "                        <td id=\"T_1d0cc_row7_col0\" class=\"data row7 col0\" >Orthogonal Matching Pursuit</td>\n",
       "                        <td id=\"T_1d0cc_row7_col1\" class=\"data row7 col1\" >0.5128</td>\n",
       "                        <td id=\"T_1d0cc_row7_col2\" class=\"data row7 col2\" >0.4369</td>\n",
       "                        <td id=\"T_1d0cc_row7_col3\" class=\"data row7 col3\" >0.6610</td>\n",
       "                        <td id=\"T_1d0cc_row7_col4\" class=\"data row7 col4\" >0.0127</td>\n",
       "                        <td id=\"T_1d0cc_row7_col5\" class=\"data row7 col5\" >0.2229</td>\n",
       "                        <td id=\"T_1d0cc_row7_col6\" class=\"data row7 col6\" >661236422476.0817</td>\n",
       "                        <td id=\"T_1d0cc_row7_col7\" class=\"data row7 col7\" >0.0320</td>\n",
       "            </tr>\n",
       "            <tr>\n",
       "                        <th id=\"T_1d0cc_level0_row8\" class=\"row_heading level0 row8\" >lasso</th>\n",
       "                        <td id=\"T_1d0cc_row8_col0\" class=\"data row8 col0\" >Lasso Regression</td>\n",
       "                        <td id=\"T_1d0cc_row8_col1\" class=\"data row8 col1\" >0.5212</td>\n",
       "                        <td id=\"T_1d0cc_row8_col2\" class=\"data row8 col2\" >0.4425</td>\n",
       "                        <td id=\"T_1d0cc_row8_col3\" class=\"data row8 col3\" >0.6652</td>\n",
       "                        <td id=\"T_1d0cc_row8_col4\" class=\"data row8 col4\" >-0.0000</td>\n",
       "                        <td id=\"T_1d0cc_row8_col5\" class=\"data row8 col5\" >0.2224</td>\n",
       "                        <td id=\"T_1d0cc_row8_col6\" class=\"data row8 col6\" >669347571302.4000</td>\n",
       "                        <td id=\"T_1d0cc_row8_col7\" class=\"data row8 col7\" >0.0300</td>\n",
       "            </tr>\n",
       "            <tr>\n",
       "                        <th id=\"T_1d0cc_level0_row9\" class=\"row_heading level0 row9\" >en</th>\n",
       "                        <td id=\"T_1d0cc_row9_col0\" class=\"data row9 col0\" >Elastic Net</td>\n",
       "                        <td id=\"T_1d0cc_row9_col1\" class=\"data row9 col1\" >0.5212</td>\n",
       "                        <td id=\"T_1d0cc_row9_col2\" class=\"data row9 col2\" >0.4425</td>\n",
       "                        <td id=\"T_1d0cc_row9_col3\" class=\"data row9 col3\" >0.6652</td>\n",
       "                        <td id=\"T_1d0cc_row9_col4\" class=\"data row9 col4\" >-0.0000</td>\n",
       "                        <td id=\"T_1d0cc_row9_col5\" class=\"data row9 col5\" >0.2224</td>\n",
       "                        <td id=\"T_1d0cc_row9_col6\" class=\"data row9 col6\" >669347571302.4000</td>\n",
       "                        <td id=\"T_1d0cc_row9_col7\" class=\"data row9 col7\" >0.0300</td>\n",
       "            </tr>\n",
       "            <tr>\n",
       "                        <th id=\"T_1d0cc_level0_row10\" class=\"row_heading level0 row10\" >llar</th>\n",
       "                        <td id=\"T_1d0cc_row10_col0\" class=\"data row10 col0\" >Lasso Least Angle Regression</td>\n",
       "                        <td id=\"T_1d0cc_row10_col1\" class=\"data row10 col1\" >0.5212</td>\n",
       "                        <td id=\"T_1d0cc_row10_col2\" class=\"data row10 col2\" >0.4425</td>\n",
       "                        <td id=\"T_1d0cc_row10_col3\" class=\"data row10 col3\" >0.6652</td>\n",
       "                        <td id=\"T_1d0cc_row10_col4\" class=\"data row10 col4\" >-0.0000</td>\n",
       "                        <td id=\"T_1d0cc_row10_col5\" class=\"data row10 col5\" >0.2224</td>\n",
       "                        <td id=\"T_1d0cc_row10_col6\" class=\"data row10 col6\" >669347601983.1946</td>\n",
       "                        <td id=\"T_1d0cc_row10_col7\" class=\"data row10 col7\" >0.0320</td>\n",
       "            </tr>\n",
       "            <tr>\n",
       "                        <th id=\"T_1d0cc_level0_row11\" class=\"row_heading level0 row11\" >ada</th>\n",
       "                        <td id=\"T_1d0cc_row11_col0\" class=\"data row11 col0\" >AdaBoost Regressor</td>\n",
       "                        <td id=\"T_1d0cc_row11_col1\" class=\"data row11 col1\" >0.5854</td>\n",
       "                        <td id=\"T_1d0cc_row11_col2\" class=\"data row11 col2\" >0.4601</td>\n",
       "                        <td id=\"T_1d0cc_row11_col3\" class=\"data row11 col3\" >0.6783</td>\n",
       "                        <td id=\"T_1d0cc_row11_col4\" class=\"data row11 col4\" >-0.0397</td>\n",
       "                        <td id=\"T_1d0cc_row11_col5\" class=\"data row11 col5\" >0.3002</td>\n",
       "                        <td id=\"T_1d0cc_row11_col6\" class=\"data row11 col6\" >479237350789.8073</td>\n",
       "                        <td id=\"T_1d0cc_row11_col7\" class=\"data row11 col7\" >2.0740</td>\n",
       "            </tr>\n",
       "            <tr>\n",
       "                        <th id=\"T_1d0cc_level0_row12\" class=\"row_heading level0 row12\" >et</th>\n",
       "                        <td id=\"T_1d0cc_row12_col0\" class=\"data row12 col0\" >Extra Trees Regressor</td>\n",
       "                        <td id=\"T_1d0cc_row12_col1\" class=\"data row12 col1\" >0.5056</td>\n",
       "                        <td id=\"T_1d0cc_row12_col2\" class=\"data row12 col2\" >0.4719</td>\n",
       "                        <td id=\"T_1d0cc_row12_col3\" class=\"data row12 col3\" >0.6870</td>\n",
       "                        <td id=\"T_1d0cc_row12_col4\" class=\"data row12 col4\" >-0.0664</td>\n",
       "                        <td id=\"T_1d0cc_row12_col5\" class=\"data row12 col5\" >0.2539</td>\n",
       "                        <td id=\"T_1d0cc_row12_col6\" class=\"data row12 col6\" >637005979242.0466</td>\n",
       "                        <td id=\"T_1d0cc_row12_col7\" class=\"data row12 col7\" >18.3280</td>\n",
       "            </tr>\n",
       "            <tr>\n",
       "                        <th id=\"T_1d0cc_level0_row13\" class=\"row_heading level0 row13\" >huber</th>\n",
       "                        <td id=\"T_1d0cc_row13_col0\" class=\"data row13 col0\" >Huber Regressor</td>\n",
       "                        <td id=\"T_1d0cc_row13_col1\" class=\"data row13 col1\" >0.3898</td>\n",
       "                        <td id=\"T_1d0cc_row13_col2\" class=\"data row13 col2\" >0.5317</td>\n",
       "                        <td id=\"T_1d0cc_row13_col3\" class=\"data row13 col3\" >0.7292</td>\n",
       "                        <td id=\"T_1d0cc_row13_col4\" class=\"data row13 col4\" >-0.2015</td>\n",
       "                        <td id=\"T_1d0cc_row13_col5\" class=\"data row13 col5\" >0.1868</td>\n",
       "                        <td id=\"T_1d0cc_row13_col6\" class=\"data row13 col6\" >985225156787.8668</td>\n",
       "                        <td id=\"T_1d0cc_row13_col7\" class=\"data row13 col7\" >0.9680</td>\n",
       "            </tr>\n",
       "            <tr>\n",
       "                        <th id=\"T_1d0cc_level0_row14\" class=\"row_heading level0 row14\" >dt</th>\n",
       "                        <td id=\"T_1d0cc_row14_col0\" class=\"data row14 col0\" >Decision Tree Regressor</td>\n",
       "                        <td id=\"T_1d0cc_row14_col1\" class=\"data row14 col1\" >0.5450</td>\n",
       "                        <td id=\"T_1d0cc_row14_col2\" class=\"data row14 col2\" >0.6095</td>\n",
       "                        <td id=\"T_1d0cc_row14_col3\" class=\"data row14 col3\" >0.7807</td>\n",
       "                        <td id=\"T_1d0cc_row14_col4\" class=\"data row14 col4\" >-0.3774</td>\n",
       "                        <td id=\"T_1d0cc_row14_col5\" class=\"data row14 col5\" >0.2560</td>\n",
       "                        <td id=\"T_1d0cc_row14_col6\" class=\"data row14 col6\" >761004238141.0612</td>\n",
       "                        <td id=\"T_1d0cc_row14_col7\" class=\"data row14 col7\" >0.9700</td>\n",
       "            </tr>\n",
       "            <tr>\n",
       "                        <th id=\"T_1d0cc_level0_row15\" class=\"row_heading level0 row15\" >par</th>\n",
       "                        <td id=\"T_1d0cc_row15_col0\" class=\"data row15 col0\" >Passive Aggressive Regressor</td>\n",
       "                        <td id=\"T_1d0cc_row15_col1\" class=\"data row15 col1\" >0.8108</td>\n",
       "                        <td id=\"T_1d0cc_row15_col2\" class=\"data row15 col2\" >5.3382</td>\n",
       "                        <td id=\"T_1d0cc_row15_col3\" class=\"data row15 col3\" >2.0640</td>\n",
       "                        <td id=\"T_1d0cc_row15_col4\" class=\"data row15 col4\" >-11.0787</td>\n",
       "                        <td id=\"T_1d0cc_row15_col5\" class=\"data row15 col5\" >0.3380</td>\n",
       "                        <td id=\"T_1d0cc_row15_col6\" class=\"data row15 col6\" >1080718873545.5652</td>\n",
       "                        <td id=\"T_1d0cc_row15_col7\" class=\"data row15 col7\" >0.2660</td>\n",
       "            </tr>\n",
       "    </tbody></table>"
      ],
      "text/plain": [
       "<pandas.io.formats.style.Styler at 0x211f0b7b040>"
      ]
     },
     "metadata": {},
     "output_type": "display_data"
    },
    {
     "data": {
      "application/vnd.jupyter.widget-view+json": {
       "model_id": "2d1ce4eb533c4508b201f04b75785aef",
       "version_major": 2,
       "version_minor": 0
      },
      "text/plain": [
       "interactive(children=(ToggleButtons(description='Plot Type:', icons=('',), options=(('Hyperparameters', 'param…"
      ]
     },
     "metadata": {},
     "output_type": "display_data"
    }
   ],
   "source": [
    "s = setup(df_train_scaled, target='next_month_delta', use_gpu = True, fold=5)\n",
    "# excluding some model that takes very long to run\n",
    "best = compare_models(exclude = ['knn', 'rf', 'gbr'])\n",
    "evaluate_model(best)"
   ]
  },
  {
   "cell_type": "code",
   "execution_count": 103,
   "id": "6cf702b8",
   "metadata": {},
   "outputs": [
    {
     "data": {
      "text/html": [
       "<style  type=\"text/css\" >\n",
       "#T_2f72d_row5_col0,#T_2f72d_row5_col1,#T_2f72d_row5_col2,#T_2f72d_row5_col3,#T_2f72d_row5_col4,#T_2f72d_row5_col5{\n",
       "            background:  yellow;\n",
       "        }</style><table id=\"T_2f72d_\" ><thead>    <tr>        <th class=\"blank level0\" ></th>        <th class=\"col_heading level0 col0\" >MAE</th>        <th class=\"col_heading level0 col1\" >MSE</th>        <th class=\"col_heading level0 col2\" >RMSE</th>        <th class=\"col_heading level0 col3\" >R2</th>        <th class=\"col_heading level0 col4\" >RMSLE</th>        <th class=\"col_heading level0 col5\" >MAPE</th>    </tr></thead><tbody>\n",
       "                <tr>\n",
       "                        <th id=\"T_2f72d_level0_row0\" class=\"row_heading level0 row0\" >0</th>\n",
       "                        <td id=\"T_2f72d_row0_col0\" class=\"data row0 col0\" >0.4962</td>\n",
       "                        <td id=\"T_2f72d_row0_col1\" class=\"data row0 col1\" >0.4229</td>\n",
       "                        <td id=\"T_2f72d_row0_col2\" class=\"data row0 col2\" >0.6503</td>\n",
       "                        <td id=\"T_2f72d_row0_col3\" class=\"data row0 col3\" >0.0423</td>\n",
       "                        <td id=\"T_2f72d_row0_col4\" class=\"data row0 col4\" >0.2259</td>\n",
       "                        <td id=\"T_2f72d_row0_col5\" class=\"data row0 col5\" >668321045062.0865</td>\n",
       "            </tr>\n",
       "            <tr>\n",
       "                        <th id=\"T_2f72d_level0_row1\" class=\"row_heading level0 row1\" >1</th>\n",
       "                        <td id=\"T_2f72d_row1_col0\" class=\"data row1 col0\" >0.4951</td>\n",
       "                        <td id=\"T_2f72d_row1_col1\" class=\"data row1 col1\" >0.4207</td>\n",
       "                        <td id=\"T_2f72d_row1_col2\" class=\"data row1 col2\" >0.6486</td>\n",
       "                        <td id=\"T_2f72d_row1_col3\" class=\"data row1 col3\" >0.0449</td>\n",
       "                        <td id=\"T_2f72d_row1_col4\" class=\"data row1 col4\" >0.2255</td>\n",
       "                        <td id=\"T_2f72d_row1_col5\" class=\"data row1 col5\" >597226516177.9714</td>\n",
       "            </tr>\n",
       "            <tr>\n",
       "                        <th id=\"T_2f72d_level0_row2\" class=\"row_heading level0 row2\" >2</th>\n",
       "                        <td id=\"T_2f72d_row2_col0\" class=\"data row2 col0\" >0.4974</td>\n",
       "                        <td id=\"T_2f72d_row2_col1\" class=\"data row2 col1\" >0.4252</td>\n",
       "                        <td id=\"T_2f72d_row2_col2\" class=\"data row2 col2\" >0.6521</td>\n",
       "                        <td id=\"T_2f72d_row2_col3\" class=\"data row2 col3\" >0.0416</td>\n",
       "                        <td id=\"T_2f72d_row2_col4\" class=\"data row2 col4\" >0.2260</td>\n",
       "                        <td id=\"T_2f72d_row2_col5\" class=\"data row2 col5\" >722945963781.4243</td>\n",
       "            </tr>\n",
       "            <tr>\n",
       "                        <th id=\"T_2f72d_level0_row3\" class=\"row_heading level0 row3\" >3</th>\n",
       "                        <td id=\"T_2f72d_row3_col0\" class=\"data row3 col0\" >0.4986</td>\n",
       "                        <td id=\"T_2f72d_row3_col1\" class=\"data row3 col1\" >0.4274</td>\n",
       "                        <td id=\"T_2f72d_row3_col2\" class=\"data row3 col2\" >0.6537</td>\n",
       "                        <td id=\"T_2f72d_row3_col3\" class=\"data row3 col3\" >0.0423</td>\n",
       "                        <td id=\"T_2f72d_row3_col4\" class=\"data row3 col4\" >0.2258</td>\n",
       "                        <td id=\"T_2f72d_row3_col5\" class=\"data row3 col5\" >750952763951.2345</td>\n",
       "            </tr>\n",
       "            <tr>\n",
       "                        <th id=\"T_2f72d_level0_row4\" class=\"row_heading level0 row4\" >4</th>\n",
       "                        <td id=\"T_2f72d_row4_col0\" class=\"data row4 col0\" >0.4958</td>\n",
       "                        <td id=\"T_2f72d_row4_col1\" class=\"data row4 col1\" >0.4217</td>\n",
       "                        <td id=\"T_2f72d_row4_col2\" class=\"data row4 col2\" >0.6494</td>\n",
       "                        <td id=\"T_2f72d_row4_col3\" class=\"data row4 col3\" >0.0431</td>\n",
       "                        <td id=\"T_2f72d_row4_col4\" class=\"data row4 col4\" >0.2264</td>\n",
       "                        <td id=\"T_2f72d_row4_col5\" class=\"data row4 col5\" >300664159901.5940</td>\n",
       "            </tr>\n",
       "            <tr>\n",
       "                        <th id=\"T_2f72d_level0_row5\" class=\"row_heading level0 row5\" >Mean</th>\n",
       "                        <td id=\"T_2f72d_row5_col0\" class=\"data row5 col0\" >0.4966</td>\n",
       "                        <td id=\"T_2f72d_row5_col1\" class=\"data row5 col1\" >0.4236</td>\n",
       "                        <td id=\"T_2f72d_row5_col2\" class=\"data row5 col2\" >0.6508</td>\n",
       "                        <td id=\"T_2f72d_row5_col3\" class=\"data row5 col3\" >0.0429</td>\n",
       "                        <td id=\"T_2f72d_row5_col4\" class=\"data row5 col4\" >0.2259</td>\n",
       "                        <td id=\"T_2f72d_row5_col5\" class=\"data row5 col5\" >608022089774.8621</td>\n",
       "            </tr>\n",
       "            <tr>\n",
       "                        <th id=\"T_2f72d_level0_row6\" class=\"row_heading level0 row6\" >SD</th>\n",
       "                        <td id=\"T_2f72d_row6_col0\" class=\"data row6 col0\" >0.0012</td>\n",
       "                        <td id=\"T_2f72d_row6_col1\" class=\"data row6 col1\" >0.0024</td>\n",
       "                        <td id=\"T_2f72d_row6_col2\" class=\"data row6 col2\" >0.0019</td>\n",
       "                        <td id=\"T_2f72d_row6_col3\" class=\"data row6 col3\" >0.0011</td>\n",
       "                        <td id=\"T_2f72d_row6_col4\" class=\"data row6 col4\" >0.0003</td>\n",
       "                        <td id=\"T_2f72d_row6_col5\" class=\"data row6 col5\" >162393398825.9288</td>\n",
       "            </tr>\n",
       "    </tbody></table>"
      ],
      "text/plain": [
       "<pandas.io.formats.style.Styler at 0x211f1030e20>"
      ]
     },
     "metadata": {},
     "output_type": "display_data"
    }
   ],
   "source": [
    "lightgbm = create_model('lightgbm')"
   ]
  },
  {
   "cell_type": "code",
   "execution_count": 104,
   "id": "bb717afa",
   "metadata": {},
   "outputs": [
    {
     "data": {
      "text/html": [
       "<style  type=\"text/css\" >\n",
       "#T_db1f3_row5_col0,#T_db1f3_row5_col1,#T_db1f3_row5_col2,#T_db1f3_row5_col3,#T_db1f3_row5_col4,#T_db1f3_row5_col5{\n",
       "            background:  yellow;\n",
       "        }</style><table id=\"T_db1f3_\" ><thead>    <tr>        <th class=\"blank level0\" ></th>        <th class=\"col_heading level0 col0\" >MAE</th>        <th class=\"col_heading level0 col1\" >MSE</th>        <th class=\"col_heading level0 col2\" >RMSE</th>        <th class=\"col_heading level0 col3\" >R2</th>        <th class=\"col_heading level0 col4\" >RMSLE</th>        <th class=\"col_heading level0 col5\" >MAPE</th>    </tr></thead><tbody>\n",
       "                <tr>\n",
       "                        <th id=\"T_db1f3_level0_row0\" class=\"row_heading level0 row0\" >0</th>\n",
       "                        <td id=\"T_db1f3_row0_col0\" class=\"data row0 col0\" >0.4957</td>\n",
       "                        <td id=\"T_db1f3_row0_col1\" class=\"data row0 col1\" >0.4225</td>\n",
       "                        <td id=\"T_db1f3_row0_col2\" class=\"data row0 col2\" >0.6500</td>\n",
       "                        <td id=\"T_db1f3_row0_col3\" class=\"data row0 col3\" >0.0433</td>\n",
       "                        <td id=\"T_db1f3_row0_col4\" class=\"data row0 col4\" >0.2259</td>\n",
       "                        <td id=\"T_db1f3_row0_col5\" class=\"data row0 col5\" >671922088932.9351</td>\n",
       "            </tr>\n",
       "            <tr>\n",
       "                        <th id=\"T_db1f3_level0_row1\" class=\"row_heading level0 row1\" >1</th>\n",
       "                        <td id=\"T_db1f3_row1_col0\" class=\"data row1 col0\" >0.4947</td>\n",
       "                        <td id=\"T_db1f3_row1_col1\" class=\"data row1 col1\" >0.4204</td>\n",
       "                        <td id=\"T_db1f3_row1_col2\" class=\"data row1 col2\" >0.6484</td>\n",
       "                        <td id=\"T_db1f3_row1_col3\" class=\"data row1 col3\" >0.0454</td>\n",
       "                        <td id=\"T_db1f3_row1_col4\" class=\"data row1 col4\" >0.2255</td>\n",
       "                        <td id=\"T_db1f3_row1_col5\" class=\"data row1 col5\" >606921279736.8351</td>\n",
       "            </tr>\n",
       "            <tr>\n",
       "                        <th id=\"T_db1f3_level0_row2\" class=\"row_heading level0 row2\" >2</th>\n",
       "                        <td id=\"T_db1f3_row2_col0\" class=\"data row2 col0\" >0.4972</td>\n",
       "                        <td id=\"T_db1f3_row2_col1\" class=\"data row2 col1\" >0.4250</td>\n",
       "                        <td id=\"T_db1f3_row2_col2\" class=\"data row2 col2\" >0.6520</td>\n",
       "                        <td id=\"T_db1f3_row2_col3\" class=\"data row2 col3\" >0.0419</td>\n",
       "                        <td id=\"T_db1f3_row2_col4\" class=\"data row2 col4\" >0.2261</td>\n",
       "                        <td id=\"T_db1f3_row2_col5\" class=\"data row2 col5\" >724674923897.5386</td>\n",
       "            </tr>\n",
       "            <tr>\n",
       "                        <th id=\"T_db1f3_level0_row3\" class=\"row_heading level0 row3\" >3</th>\n",
       "                        <td id=\"T_db1f3_row3_col0\" class=\"data row3 col0\" >0.4982</td>\n",
       "                        <td id=\"T_db1f3_row3_col1\" class=\"data row3 col1\" >0.4271</td>\n",
       "                        <td id=\"T_db1f3_row3_col2\" class=\"data row3 col2\" >0.6535</td>\n",
       "                        <td id=\"T_db1f3_row3_col3\" class=\"data row3 col3\" >0.0431</td>\n",
       "                        <td id=\"T_db1f3_row3_col4\" class=\"data row3 col4\" >0.2259</td>\n",
       "                        <td id=\"T_db1f3_row3_col5\" class=\"data row3 col5\" >765981771513.7142</td>\n",
       "            </tr>\n",
       "            <tr>\n",
       "                        <th id=\"T_db1f3_level0_row4\" class=\"row_heading level0 row4\" >4</th>\n",
       "                        <td id=\"T_db1f3_row4_col0\" class=\"data row4 col0\" >0.4952</td>\n",
       "                        <td id=\"T_db1f3_row4_col1\" class=\"data row4 col1\" >0.4213</td>\n",
       "                        <td id=\"T_db1f3_row4_col2\" class=\"data row4 col2\" >0.6491</td>\n",
       "                        <td id=\"T_db1f3_row4_col3\" class=\"data row4 col3\" >0.0441</td>\n",
       "                        <td id=\"T_db1f3_row4_col4\" class=\"data row4 col4\" >0.2266</td>\n",
       "                        <td id=\"T_db1f3_row4_col5\" class=\"data row4 col5\" >298487378942.9842</td>\n",
       "            </tr>\n",
       "            <tr>\n",
       "                        <th id=\"T_db1f3_level0_row5\" class=\"row_heading level0 row5\" >Mean</th>\n",
       "                        <td id=\"T_db1f3_row5_col0\" class=\"data row5 col0\" >0.4962</td>\n",
       "                        <td id=\"T_db1f3_row5_col1\" class=\"data row5 col1\" >0.4233</td>\n",
       "                        <td id=\"T_db1f3_row5_col2\" class=\"data row5 col2\" >0.6506</td>\n",
       "                        <td id=\"T_db1f3_row5_col3\" class=\"data row5 col3\" >0.0436</td>\n",
       "                        <td id=\"T_db1f3_row5_col4\" class=\"data row5 col4\" >0.2260</td>\n",
       "                        <td id=\"T_db1f3_row5_col5\" class=\"data row5 col5\" >613597488604.8015</td>\n",
       "            </tr>\n",
       "            <tr>\n",
       "                        <th id=\"T_db1f3_level0_row6\" class=\"row_heading level0 row6\" >SD</th>\n",
       "                        <td id=\"T_db1f3_row6_col0\" class=\"data row6 col0\" >0.0013</td>\n",
       "                        <td id=\"T_db1f3_row6_col1\" class=\"data row6 col1\" >0.0025</td>\n",
       "                        <td id=\"T_db1f3_row6_col2\" class=\"data row6 col2\" >0.0019</td>\n",
       "                        <td id=\"T_db1f3_row6_col3\" class=\"data row6 col3\" >0.0012</td>\n",
       "                        <td id=\"T_db1f3_row6_col4\" class=\"data row6 col4\" >0.0003</td>\n",
       "                        <td id=\"T_db1f3_row6_col5\" class=\"data row6 col5\" >166312884821.4975</td>\n",
       "            </tr>\n",
       "    </tbody></table>"
      ],
      "text/plain": [
       "<pandas.io.formats.style.Styler at 0x211f0bbe6d0>"
      ]
     },
     "metadata": {},
     "output_type": "display_data"
    }
   ],
   "source": [
    "tuned_lightgbm = tune_model(lightgbm)"
   ]
  },
  {
   "cell_type": "code",
   "execution_count": 105,
   "id": "6dd017f2",
   "metadata": {},
   "outputs": [
    {
     "name": "stdout",
     "output_type": "stream",
     "text": [
      "LGBMRegressor(bagging_fraction=0.9, bagging_freq=5, boosting_type='gbdt',\n",
      "              class_weight=None, colsample_bytree=1.0, device='gpu',\n",
      "              feature_fraction=0.7, importance_type='split', learning_rate=0.1,\n",
      "              max_depth=-1, min_child_samples=76, min_child_weight=0.001,\n",
      "              min_split_gain=0.8, n_estimators=140, n_jobs=-1, num_leaves=200,\n",
      "              objective=None, random_state=4763, reg_alpha=0.05,\n",
      "              reg_lambda=0.05, silent=True, subsample=1.0,\n",
      "              subsample_for_bin=200000, subsample_freq=0)\n"
     ]
    }
   ],
   "source": [
    "print(tuned_lightgbm)"
   ]
  },
  {
   "cell_type": "code",
   "execution_count": 106,
   "id": "be61f981",
   "metadata": {},
   "outputs": [
    {
     "name": "stdout",
     "output_type": "stream",
     "text": [
      "[LightGBM] [Warning] feature_fraction is set=0.7, colsample_bytree=1.0 will be ignored. Current value: feature_fraction=0.7\n",
      "[LightGBM] [Warning] bagging_fraction is set=0.9, subsample=1.0 will be ignored. Current value: bagging_fraction=0.9\n",
      "[LightGBM] [Warning] bagging_freq is set=5, subsample_freq=0 will be ignored. Current value: bagging_freq=5\n",
      "[LightGBM] [Warning] feature_fraction is set=0.7, colsample_bytree=1.0 will be ignored. Current value: feature_fraction=0.7\n",
      "[LightGBM] [Warning] bagging_fraction is set=0.9, subsample=1.0 will be ignored. Current value: bagging_fraction=0.9\n",
      "[LightGBM] [Warning] bagging_freq is set=5, subsample_freq=0 will be ignored. Current value: bagging_freq=5\n",
      "[LightGBM] [Warning] feature_fraction is set=0.7, colsample_bytree=1.0 will be ignored. Current value: feature_fraction=0.7\n",
      "[LightGBM] [Warning] bagging_fraction is set=0.9, subsample=1.0 will be ignored. Current value: bagging_fraction=0.9\n",
      "[LightGBM] [Warning] bagging_freq is set=5, subsample_freq=0 will be ignored. Current value: bagging_freq=5\n",
      "[LightGBM] [Warning] feature_fraction is set=0.7, colsample_bytree=1.0 will be ignored. Current value: feature_fraction=0.7\n",
      "[LightGBM] [Warning] bagging_fraction is set=0.9, subsample=1.0 will be ignored. Current value: bagging_fraction=0.9\n",
      "[LightGBM] [Warning] bagging_freq is set=5, subsample_freq=0 will be ignored. Current value: bagging_freq=5\n"
     ]
    }
   ],
   "source": [
    "final_lightgbm = finalize_model(tuned_lightgbm)"
   ]
  },
  {
   "cell_type": "code",
   "execution_count": 107,
   "id": "eba26d55",
   "metadata": {},
   "outputs": [],
   "source": [
    "unseen_predictions = predict_model(final_lightgbm, data=df_validation_scaled)"
   ]
  },
  {
   "cell_type": "code",
   "execution_count": 110,
   "id": "cb84e478",
   "metadata": {},
   "outputs": [
    {
     "data": {
      "text/html": [
       "<div>\n",
       "<style scoped>\n",
       "    .dataframe tbody tr th:only-of-type {\n",
       "        vertical-align: middle;\n",
       "    }\n",
       "\n",
       "    .dataframe tbody tr th {\n",
       "        vertical-align: top;\n",
       "    }\n",
       "\n",
       "    .dataframe thead th {\n",
       "        text-align: right;\n",
       "    }\n",
       "</style>\n",
       "<table border=\"1\" class=\"dataframe\">\n",
       "  <thead>\n",
       "    <tr style=\"text-align: right;\">\n",
       "      <th></th>\n",
       "      <th>return_rate</th>\n",
       "      <th>day_diff</th>\n",
       "      <th>days_since_last</th>\n",
       "      <th>gmv_amount</th>\n",
       "      <th>discount_pct</th>\n",
       "      <th>next_month_delta</th>\n",
       "      <th>Label</th>\n",
       "    </tr>\n",
       "  </thead>\n",
       "  <tbody>\n",
       "    <tr>\n",
       "      <th>0</th>\n",
       "      <td>-0.550</td>\n",
       "      <td>-0.517</td>\n",
       "      <td>-0.581</td>\n",
       "      <td>-0.009</td>\n",
       "      <td>-0.558</td>\n",
       "      <td>-1.000</td>\n",
       "      <td>-0.818</td>\n",
       "    </tr>\n",
       "    <tr>\n",
       "      <th>1</th>\n",
       "      <td>-0.550</td>\n",
       "      <td>-0.517</td>\n",
       "      <td>-0.581</td>\n",
       "      <td>-0.005</td>\n",
       "      <td>-0.558</td>\n",
       "      <td>-1.000</td>\n",
       "      <td>-0.875</td>\n",
       "    </tr>\n",
       "    <tr>\n",
       "      <th>2</th>\n",
       "      <td>1.739</td>\n",
       "      <td>0.060</td>\n",
       "      <td>-0.129</td>\n",
       "      <td>-0.003</td>\n",
       "      <td>0.152</td>\n",
       "      <td>-0.534</td>\n",
       "      <td>-0.493</td>\n",
       "    </tr>\n",
       "    <tr>\n",
       "      <th>3</th>\n",
       "      <td>-0.550</td>\n",
       "      <td>-0.517</td>\n",
       "      <td>-0.581</td>\n",
       "      <td>-0.010</td>\n",
       "      <td>-0.558</td>\n",
       "      <td>1.100</td>\n",
       "      <td>-0.821</td>\n",
       "    </tr>\n",
       "    <tr>\n",
       "      <th>4</th>\n",
       "      <td>1.167</td>\n",
       "      <td>1.087</td>\n",
       "      <td>1.679</td>\n",
       "      <td>-0.003</td>\n",
       "      <td>0.033</td>\n",
       "      <td>0.287</td>\n",
       "      <td>-0.446</td>\n",
       "    </tr>\n",
       "  </tbody>\n",
       "</table>\n",
       "</div>"
      ],
      "text/plain": [
       "   return_rate  day_diff  days_since_last  gmv_amount  discount_pct  \\\n",
       "0       -0.550    -0.517           -0.581      -0.009        -0.558   \n",
       "1       -0.550    -0.517           -0.581      -0.005        -0.558   \n",
       "2        1.739     0.060           -0.129      -0.003         0.152   \n",
       "3       -0.550    -0.517           -0.581      -0.010        -0.558   \n",
       "4        1.167     1.087            1.679      -0.003         0.033   \n",
       "\n",
       "   next_month_delta  Label  \n",
       "0            -1.000 -0.818  \n",
       "1            -1.000 -0.875  \n",
       "2            -0.534 -0.493  \n",
       "3             1.100 -0.821  \n",
       "4             0.287 -0.446  "
      ]
     },
     "execution_count": 110,
     "metadata": {},
     "output_type": "execute_result"
    }
   ],
   "source": [
    "unseen_predictions['next_month_delta'] = np.where(unseen_predictions['next_month_delta'] > 1.1, 1.1, unseen_predictions['next_month_delta'])\n",
    "unseen_predictions.head()"
   ]
  },
  {
   "cell_type": "code",
   "execution_count": 129,
   "id": "d0e87fa6",
   "metadata": {
    "scrolled": true
   },
   "outputs": [
    {
     "data": {
      "image/png": "[encoded data removed]",
      "text/plain": [
       "<Figure size 576x396 with 1 Axes>"
      ]
     },
     "metadata": {},
     "output_type": "display_data"
    }
   ],
   "source": [
    "x = np.linspace(-1.2,1.2,100)\n",
    "y = 2*x+1\n",
    "plt.plot(x, y, color = 'black', label='Best Fit Possible', linestyle='dashed')\n",
    "plt.scatter(data = unseen_predictions, x = 'next_month_delta', y = 'Label' )\n",
    "plt.ylim(-1.2, 1.2)\n",
    "plt.xlim(-1.2, 1.2)\n",
    "plt.xlabel('Actual')\n",
    "plt.ylabel('Predicted')\n",
    "plt.show()"
   ]
  },
  {
   "cell_type": "code",
   "execution_count": 131,
   "id": "01a52192",
   "metadata": {},
   "outputs": [
    {
     "data": {
      "text/plain": [
       "(array([7.000e+00, 4.200e+01, 6.500e+01, 1.120e+02, 2.290e+02, 4.970e+02,\n",
       "        2.190e+02, 5.770e+02, 3.202e+03, 4.578e+03, 7.310e+02, 6.120e+02,\n",
       "        5.360e+02, 6.610e+02, 9.490e+02, 1.664e+03, 1.491e+03, 8.290e+02,\n",
       "        7.650e+02, 5.700e+02, 5.020e+02, 5.560e+02, 6.970e+02, 7.390e+02,\n",
       "        6.690e+02, 5.750e+02, 4.850e+02, 7.620e+02, 2.410e+02, 1.670e+02,\n",
       "        2.450e+02, 1.970e+02, 1.520e+02, 6.900e+01, 2.100e+01, 2.600e+01,\n",
       "        1.000e+00, 1.000e+00, 0.000e+00, 1.100e+01, 2.000e+00, 0.000e+00,\n",
       "        1.000e+00, 1.000e+00, 0.000e+00, 1.000e+00, 0.000e+00, 0.000e+00,\n",
       "        0.000e+00, 2.000e+00]),\n",
       " array([-1.03613061, -1.01337959, -0.99062858, -0.96787756, -0.94512655,\n",
       "        -0.92237553, -0.89962452, -0.8768735 , -0.85412249, -0.83137147,\n",
       "        -0.80862045, -0.78586944, -0.76311842, -0.74036741, -0.71761639,\n",
       "        -0.69486538, -0.67211436, -0.64936335, -0.62661233, -0.60386132,\n",
       "        -0.5811103 , -0.55835928, -0.53560827, -0.51285725, -0.49010624,\n",
       "        -0.46735522, -0.44460421, -0.42185319, -0.39910218, -0.37635116,\n",
       "        -0.35360014, -0.33084913, -0.30809811, -0.2853471 , -0.26259608,\n",
       "        -0.23984507, -0.21709405, -0.19434304, -0.17159202, -0.14884101,\n",
       "        -0.12608999, -0.10333897, -0.08058796, -0.05783694, -0.03508593,\n",
       "        -0.01233491,  0.0104161 ,  0.03316712,  0.05591813,  0.07866915,\n",
       "         0.10142016]),\n",
       " <BarContainer object of 50 artists>)"
      ]
     },
     "execution_count": 131,
     "metadata": {},
     "output_type": "execute_result"
    },
    {
     "data": {
      "image/png": "[encoded data removed]",
      "text/plain": [
       "<Figure size 576x396 with 1 Axes>"
      ]
     },
     "metadata": {},
     "output_type": "display_data"
    }
   ],
   "source": [
    "plt.hist(unseen_predictions['Label'], bins= 50)"
   ]
  },
  {
   "cell_type": "code",
   "execution_count": null,
   "id": "ca8ae4e4",
   "metadata": {},
   "outputs": [],
   "source": []
  }
 ],
 "metadata": {
  "kernelspec": {
   "display_name": "Python 3",
   "language": "python",
   "name": "python3"
  },
  "language_info": {
   "codemirror_mode": {
    "name": "ipython",
    "version": 3
   },
   "file_extension": ".py",
   "mimetype": "text/x-python",
   "name": "python",
   "nbconvert_exporter": "python",
   "pygments_lexer": "ipython3",
   "version": "3.9.6"
  }
 },
 "nbformat": 4,
 "nbformat_minor": 5
}
