{
 "cells": [
  {
   "cell_type": "markdown",
   "id": "f9d0aa5c",
   "metadata": {},
   "source": [
    "### Remark\n",
    "- Note: For assessment purpose, will only use transactional data for ML features. Additional categorical data for future development\n",
    "\n",
    "### To predict the delta of observation vs result period\n",
    "#### We can categorize the customer as 3 main segment for different marketing strategy\n",
    "- Customer who will increase revenue generation in new cycle\n",
    "- Customer who will decrease revenue generation in new cycle\n",
    "- Customer who will not generate any revenue in new cycle\n",
    "<br>\n",
    "<br>\n",
    "- Customers with growing potential revenue trend, we can do loyalty program to encourage more spending\n",
    "- Customers with declining potential revenue trend, we can do promotion/vouchers to promote spending\n"
   ]
  },
  {
   "cell_type": "code",
   "execution_count": 1,
   "id": "c096cc24",
   "metadata": {
    "scrolled": true
   },
   "outputs": [
    {
     "data": {
      "image/png": "[encoded data removed]",
      "text/plain": [
       "<IPython.core.display.Image object>"
      ]
     },
     "execution_count": 1,
     "metadata": {},
     "output_type": "execute_result"
    }
   ],
   "source": [
    "from IPython import display\n",
    "display.Image(\"https://i.ibb.co/XSS2BRD/churn-plan.png\")"
   ]
  },
  {
   "cell_type": "markdown",
   "id": "976f3f69",
   "metadata": {},
   "source": [
    "# Importing Libs"
   ]
  },
  {
   "cell_type": "code",
   "execution_count": 2,
   "id": "908544db",
   "metadata": {},
   "outputs": [],
   "source": [
    "import psycopg2\n",
    "import pandas as pd\n",
    "import numpy as np\n",
    "import pandas.io.sql as sqlio\n",
    "import matplotlib.pyplot as plt\n",
    "import seaborn as sns\n",
    "\n",
    "\n",
    "# Use pycaret to see which model works best.\n",
    "# For actual implementation then can use sklearn to tune\n",
    "from pycaret.regression import *\n",
    "\n",
    "\n",
    "from sklearn.preprocessing import StandardScaler"
   ]
  },
  {
   "cell_type": "code",
   "execution_count": 3,
   "id": "f49bda62",
   "metadata": {},
   "outputs": [],
   "source": [
    "# Change scientific notation to 3 decimal view\n",
    "pd.set_option('display.float_format', lambda x: '%.3f' % x)"
   ]
  },
  {
   "cell_type": "markdown",
   "id": "18669e18",
   "metadata": {},
   "source": [
    "# Connecting to DB"
   ]
  },
  {
   "cell_type": "code",
   "execution_count": 4,
   "id": "4ded7903",
   "metadata": {},
   "outputs": [],
   "source": [
    "conn = psycopg2.connect(user = ****\n",
    "                        , password = ****\n",
    "                        , host=****\n",
    "                        , database='postgres')"
   ]
  },
  {
   "cell_type": "markdown",
   "id": "964b2872",
   "metadata": {},
   "source": [
    "# Store table for analysis"
   ]
  },
  {
   "cell_type": "code",
   "execution_count": 5,
   "id": "46cc76b4",
   "metadata": {},
   "outputs": [],
   "source": [
    "query = \"select * from order_items\"\n",
    "df_order_items = sqlio.read_sql_query(query, conn)\n",
    "\n",
    "query = \"select * from products\"\n",
    "df_products = sqlio.read_sql_query(query, conn)\n",
    "\n",
    "query = \"select * from customers\"\n",
    "df_customers = sqlio.read_sql_query(query, conn)"
   ]
  },
  {
   "cell_type": "code",
   "execution_count": 6,
   "id": "649d4409",
   "metadata": {},
   "outputs": [],
   "source": [
    "df_order_items_bak = df_order_items.copy()"
   ]
  },
  {
   "cell_type": "markdown",
   "id": "2e146f74",
   "metadata": {},
   "source": [
    "## Check data"
   ]
  },
  {
   "cell_type": "code",
   "execution_count": 7,
   "id": "71df2c69",
   "metadata": {},
   "outputs": [
    {
     "data": {
      "text/html": [
       "<div>\n",
       "<style scoped>\n",
       "    .dataframe tbody tr th:only-of-type {\n",
       "        vertical-align: middle;\n",
       "    }\n",
       "\n",
       "    .dataframe tbody tr th {\n",
       "        vertical-align: top;\n",
       "    }\n",
       "\n",
       "    .dataframe thead th {\n",
       "        text-align: right;\n",
       "    }\n",
       "</style>\n",
       "<table border=\"1\" class=\"dataframe\">\n",
       "  <thead>\n",
       "    <tr style=\"text-align: right;\">\n",
       "      <th></th>\n",
       "      <th>order_item_id</th>\n",
       "      <th>order_id</th>\n",
       "      <th>customer_id</th>\n",
       "      <th>product_id</th>\n",
       "      <th>date</th>\n",
       "      <th>gmv_amount</th>\n",
       "      <th>markdown_amount</th>\n",
       "      <th>coupon_code_amount</th>\n",
       "      <th>nsbr_amount</th>\n",
       "      <th>qty_ordered</th>\n",
       "      <th>qty_returned</th>\n",
       "      <th>city</th>\n",
       "      <th>channel</th>\n",
       "    </tr>\n",
       "  </thead>\n",
       "  <tbody>\n",
       "    <tr>\n",
       "      <th>0</th>\n",
       "      <td>1783282</td>\n",
       "      <td>59179</td>\n",
       "      <td>218963</td>\n",
       "      <td>4007</td>\n",
       "      <td>2015-03-04 15:55:22</td>\n",
       "      <td>250.230</td>\n",
       "      <td>0.000</td>\n",
       "      <td>25.023</td>\n",
       "      <td>210.501</td>\n",
       "      <td>1.000</td>\n",
       "      <td>0.000</td>\n",
       "      <td>A</td>\n",
       "      <td>online</td>\n",
       "    </tr>\n",
       "    <tr>\n",
       "      <th>1</th>\n",
       "      <td>1799828</td>\n",
       "      <td>59179</td>\n",
       "      <td>218963</td>\n",
       "      <td>514</td>\n",
       "      <td>2015-03-04 15:55:22</td>\n",
       "      <td>210.330</td>\n",
       "      <td>0.000</td>\n",
       "      <td>21.033</td>\n",
       "      <td>176.928</td>\n",
       "      <td>1.000</td>\n",
       "      <td>0.000</td>\n",
       "      <td>A</td>\n",
       "      <td>online</td>\n",
       "    </tr>\n",
       "    <tr>\n",
       "      <th>2</th>\n",
       "      <td>439862</td>\n",
       "      <td>59179</td>\n",
       "      <td>218963</td>\n",
       "      <td>1830</td>\n",
       "      <td>2015-03-04 15:55:22</td>\n",
       "      <td>210.330</td>\n",
       "      <td>0.000</td>\n",
       "      <td>21.033</td>\n",
       "      <td>176.871</td>\n",
       "      <td>1.000</td>\n",
       "      <td>0.000</td>\n",
       "      <td>A</td>\n",
       "      <td>online</td>\n",
       "    </tr>\n",
       "    <tr>\n",
       "      <th>3</th>\n",
       "      <td>2491214</td>\n",
       "      <td>763486</td>\n",
       "      <td>117379</td>\n",
       "      <td>878</td>\n",
       "      <td>2015-03-04 15:57:36</td>\n",
       "      <td>264.189</td>\n",
       "      <td>0.000</td>\n",
       "      <td>0.000</td>\n",
       "      <td>264.189</td>\n",
       "      <td>1.000</td>\n",
       "      <td>1.000</td>\n",
       "      <td>B</td>\n",
       "      <td>online</td>\n",
       "    </tr>\n",
       "    <tr>\n",
       "      <th>4</th>\n",
       "      <td>1100357</td>\n",
       "      <td>763486</td>\n",
       "      <td>117379</td>\n",
       "      <td>4007</td>\n",
       "      <td>2015-03-04 15:57:36</td>\n",
       "      <td>245.304</td>\n",
       "      <td>0.000</td>\n",
       "      <td>0.000</td>\n",
       "      <td>245.304</td>\n",
       "      <td>1.000</td>\n",
       "      <td>0.000</td>\n",
       "      <td>B</td>\n",
       "      <td>online</td>\n",
       "    </tr>\n",
       "  </tbody>\n",
       "</table>\n",
       "</div>"
      ],
      "text/plain": [
       "   order_item_id  order_id  customer_id  product_id                 date  \\\n",
       "0        1783282     59179       218963        4007  2015-03-04 15:55:22   \n",
       "1        1799828     59179       218963         514  2015-03-04 15:55:22   \n",
       "2         439862     59179       218963        1830  2015-03-04 15:55:22   \n",
       "3        2491214    763486       117379         878  2015-03-04 15:57:36   \n",
       "4        1100357    763486       117379        4007  2015-03-04 15:57:36   \n",
       "\n",
       "   gmv_amount  markdown_amount  coupon_code_amount  nsbr_amount  qty_ordered  \\\n",
       "0     250.230            0.000              25.023      210.501        1.000   \n",
       "1     210.330            0.000              21.033      176.928        1.000   \n",
       "2     210.330            0.000              21.033      176.871        1.000   \n",
       "3     264.189            0.000               0.000      264.189        1.000   \n",
       "4     245.304            0.000               0.000      245.304        1.000   \n",
       "\n",
       "   qty_returned city channel  \n",
       "0         0.000    A  online  \n",
       "1         0.000    A  online  \n",
       "2         0.000    A  online  \n",
       "3         1.000    B  online  \n",
       "4         0.000    B  online  "
      ]
     },
     "execution_count": 7,
     "metadata": {},
     "output_type": "execute_result"
    }
   ],
   "source": [
    "df_order_items.head()"
   ]
  },
  {
   "cell_type": "code",
   "execution_count": 8,
   "id": "ceeebd03",
   "metadata": {},
   "outputs": [
    {
     "data": {
      "text/html": [
       "<div>\n",
       "<style scoped>\n",
       "    .dataframe tbody tr th:only-of-type {\n",
       "        vertical-align: middle;\n",
       "    }\n",
       "\n",
       "    .dataframe tbody tr th {\n",
       "        vertical-align: top;\n",
       "    }\n",
       "\n",
       "    .dataframe thead th {\n",
       "        text-align: right;\n",
       "    }\n",
       "</style>\n",
       "<table border=\"1\" class=\"dataframe\">\n",
       "  <thead>\n",
       "    <tr style=\"text-align: right;\">\n",
       "      <th></th>\n",
       "      <th>product_id</th>\n",
       "      <th>subcategory</th>\n",
       "      <th>occasion</th>\n",
       "    </tr>\n",
       "  </thead>\n",
       "  <tbody>\n",
       "    <tr>\n",
       "      <th>0</th>\n",
       "      <td>0</td>\n",
       "      <td>outer</td>\n",
       "      <td>casual</td>\n",
       "    </tr>\n",
       "    <tr>\n",
       "      <th>1</th>\n",
       "      <td>1</td>\n",
       "      <td>tops</td>\n",
       "      <td>casual</td>\n",
       "    </tr>\n",
       "    <tr>\n",
       "      <th>2</th>\n",
       "      <td>2</td>\n",
       "      <td>dresses</td>\n",
       "      <td>wedding &amp; party</td>\n",
       "    </tr>\n",
       "    <tr>\n",
       "      <th>3</th>\n",
       "      <td>3</td>\n",
       "      <td>dresses</td>\n",
       "      <td>work</td>\n",
       "    </tr>\n",
       "    <tr>\n",
       "      <th>4</th>\n",
       "      <td>4</td>\n",
       "      <td>skirts</td>\n",
       "      <td>work</td>\n",
       "    </tr>\n",
       "  </tbody>\n",
       "</table>\n",
       "</div>"
      ],
      "text/plain": [
       "   product_id subcategory         occasion\n",
       "0           0       outer           casual\n",
       "1           1        tops           casual\n",
       "2           2     dresses  wedding & party\n",
       "3           3     dresses             work\n",
       "4           4      skirts             work"
      ]
     },
     "execution_count": 8,
     "metadata": {},
     "output_type": "execute_result"
    }
   ],
   "source": [
    "df_products.head()"
   ]
  },
  {
   "cell_type": "code",
   "execution_count": 9,
   "id": "302e4b1a",
   "metadata": {},
   "outputs": [
    {
     "data": {
      "text/html": [
       "<div>\n",
       "<style scoped>\n",
       "    .dataframe tbody tr th:only-of-type {\n",
       "        vertical-align: middle;\n",
       "    }\n",
       "\n",
       "    .dataframe tbody tr th {\n",
       "        vertical-align: top;\n",
       "    }\n",
       "\n",
       "    .dataframe thead th {\n",
       "        text-align: right;\n",
       "    }\n",
       "</style>\n",
       "<table border=\"1\" class=\"dataframe\">\n",
       "  <thead>\n",
       "    <tr style=\"text-align: right;\">\n",
       "      <th></th>\n",
       "      <th>customer_id</th>\n",
       "      <th>first_order_date</th>\n",
       "    </tr>\n",
       "  </thead>\n",
       "  <tbody>\n",
       "    <tr>\n",
       "      <th>0</th>\n",
       "      <td>0</td>\n",
       "      <td>2012-11-01</td>\n",
       "    </tr>\n",
       "    <tr>\n",
       "      <th>1</th>\n",
       "      <td>1</td>\n",
       "      <td>2017-08-19</td>\n",
       "    </tr>\n",
       "    <tr>\n",
       "      <th>2</th>\n",
       "      <td>2</td>\n",
       "      <td>2017-04-02</td>\n",
       "    </tr>\n",
       "    <tr>\n",
       "      <th>3</th>\n",
       "      <td>3</td>\n",
       "      <td>2016-12-03</td>\n",
       "    </tr>\n",
       "    <tr>\n",
       "      <th>4</th>\n",
       "      <td>4</td>\n",
       "      <td>2016-10-15</td>\n",
       "    </tr>\n",
       "  </tbody>\n",
       "</table>\n",
       "</div>"
      ],
      "text/plain": [
       "   customer_id first_order_date\n",
       "0            0       2012-11-01\n",
       "1            1       2017-08-19\n",
       "2            2       2017-04-02\n",
       "3            3       2016-12-03\n",
       "4            4       2016-10-15"
      ]
     },
     "execution_count": 9,
     "metadata": {},
     "output_type": "execute_result"
    }
   ],
   "source": [
    "df_customers.head()"
   ]
  },
  {
   "cell_type": "markdown",
   "id": "8061d2ea",
   "metadata": {},
   "source": [
    "# Exploratory Data Analysis"
   ]
  },
  {
   "cell_type": "markdown",
   "id": "ea59d4c6",
   "metadata": {},
   "source": [
    "## Check for missing data"
   ]
  },
  {
   "cell_type": "code",
   "execution_count": 10,
   "id": "5419e1ed",
   "metadata": {},
   "outputs": [
    {
     "name": "stdout",
     "output_type": "stream",
     "text": [
      "<class 'pandas.core.frame.DataFrame'>\n",
      "RangeIndex: 2876375 entries, 0 to 2876374\n",
      "Data columns (total 13 columns):\n",
      " #   Column              Non-Null Count    Dtype  \n",
      "---  ------              --------------    -----  \n",
      " 0   order_item_id       2876375 non-null  int64  \n",
      " 1   order_id            2876375 non-null  int64  \n",
      " 2   customer_id         2876375 non-null  int64  \n",
      " 3   product_id          2876375 non-null  int64  \n",
      " 4   date                2876375 non-null  object \n",
      " 5   gmv_amount          2876375 non-null  float64\n",
      " 6   markdown_amount     2876375 non-null  float64\n",
      " 7   coupon_code_amount  2876375 non-null  float64\n",
      " 8   nsbr_amount         2876375 non-null  float64\n",
      " 9   qty_ordered         2876375 non-null  float64\n",
      " 10  qty_returned        2876375 non-null  float64\n",
      " 11  city                2876375 non-null  object \n",
      " 12  channel             2876375 non-null  object \n",
      "dtypes: float64(6), int64(4), object(3)\n",
      "memory usage: 285.3+ MB\n"
     ]
    }
   ],
   "source": [
    "df_order_items.info(show_counts=1)"
   ]
  },
  {
   "cell_type": "code",
   "execution_count": 11,
   "id": "809d8372",
   "metadata": {},
   "outputs": [
    {
     "name": "stdout",
     "output_type": "stream",
     "text": [
      "<class 'pandas.core.frame.DataFrame'>\n",
      "RangeIndex: 7059 entries, 0 to 7058\n",
      "Data columns (total 3 columns):\n",
      " #   Column       Non-Null Count  Dtype \n",
      "---  ------       --------------  ----- \n",
      " 0   product_id   7059 non-null   int64 \n",
      " 1   subcategory  7059 non-null   object\n",
      " 2   occasion     7059 non-null   object\n",
      "dtypes: int64(1), object(2)\n",
      "memory usage: 165.6+ KB\n"
     ]
    }
   ],
   "source": [
    "df_products.info()"
   ]
  },
  {
   "cell_type": "code",
   "execution_count": 12,
   "id": "c51e3ab9",
   "metadata": {},
   "outputs": [
    {
     "name": "stdout",
     "output_type": "stream",
     "text": [
      "<class 'pandas.core.frame.DataFrame'>\n",
      "RangeIndex: 253251 entries, 0 to 253250\n",
      "Data columns (total 2 columns):\n",
      " #   Column            Non-Null Count   Dtype \n",
      "---  ------            --------------   ----- \n",
      " 0   customer_id       253251 non-null  int64 \n",
      " 1   first_order_date  253251 non-null  object\n",
      "dtypes: int64(1), object(1)\n",
      "memory usage: 3.9+ MB\n"
     ]
    }
   ],
   "source": [
    "df_customers.info()"
   ]
  },
  {
   "cell_type": "markdown",
   "id": "bd45bf77",
   "metadata": {},
   "source": [
    "## Check if any weird data\n",
    "- There are blank categories for some products"
   ]
  },
  {
   "cell_type": "code",
   "execution_count": 13,
   "id": "15a88d85",
   "metadata": {},
   "outputs": [
    {
     "data": {
      "text/plain": [
       "array(['outer', 'tops', 'dresses', 'skirts', 'jumpsuits & rompers',\n",
       "       'pants', 'jewellery', 'heels', 'skorts', 'shorts',\n",
       "       'jumpers & cardigans', 'jeans', 'lifestyle', 'bags & purses',\n",
       "       'flats', '', 'swimsuit', 'books & stationery', 'bra', 'bikini',\n",
       "       'sneakers', 'scarves', 'sunglasses', 'panties', 'tights',\n",
       "       'bralettes', 'slippers', 'platforms', 'hats'], dtype=object)"
      ]
     },
     "execution_count": 13,
     "metadata": {},
     "output_type": "execute_result"
    }
   ],
   "source": [
    "df_products.subcategory.unique()"
   ]
  },
  {
   "cell_type": "code",
   "execution_count": 14,
   "id": "7b807f6f",
   "metadata": {},
   "outputs": [
    {
     "data": {
      "text/plain": [
       "(33, 3)"
      ]
     },
     "execution_count": 14,
     "metadata": {},
     "output_type": "execute_result"
    }
   ],
   "source": [
    "# 33 empty subcat products\n",
    "df_products[df_products['subcategory'] == ''].shape"
   ]
  },
  {
   "cell_type": "code",
   "execution_count": 15,
   "id": "4eb2ffce",
   "metadata": {},
   "outputs": [
    {
     "data": {
      "text/plain": [
       "array(['A', 'B', 'C'], dtype=object)"
      ]
     },
     "execution_count": 15,
     "metadata": {},
     "output_type": "execute_result"
    }
   ],
   "source": [
    "df_order_items.city.unique()"
   ]
  },
  {
   "cell_type": "code",
   "execution_count": null,
   "id": "f3329ad2",
   "metadata": {},
   "outputs": [],
   "source": []
  },
  {
   "cell_type": "markdown",
   "id": "6e4e56cc",
   "metadata": {},
   "source": [
    "## Check for outliers"
   ]
  },
  {
   "cell_type": "code",
   "execution_count": 16,
   "id": "4adc6f13",
   "metadata": {},
   "outputs": [
    {
     "data": {
      "text/html": [
       "<div>\n",
       "<style scoped>\n",
       "    .dataframe tbody tr th:only-of-type {\n",
       "        vertical-align: middle;\n",
       "    }\n",
       "\n",
       "    .dataframe tbody tr th {\n",
       "        vertical-align: top;\n",
       "    }\n",
       "\n",
       "    .dataframe thead th {\n",
       "        text-align: right;\n",
       "    }\n",
       "</style>\n",
       "<table border=\"1\" class=\"dataframe\">\n",
       "  <thead>\n",
       "    <tr style=\"text-align: right;\">\n",
       "      <th></th>\n",
       "      <th>order_item_id</th>\n",
       "      <th>order_id</th>\n",
       "      <th>customer_id</th>\n",
       "      <th>product_id</th>\n",
       "      <th>gmv_amount</th>\n",
       "      <th>markdown_amount</th>\n",
       "      <th>coupon_code_amount</th>\n",
       "      <th>nsbr_amount</th>\n",
       "      <th>qty_ordered</th>\n",
       "      <th>qty_returned</th>\n",
       "    </tr>\n",
       "  </thead>\n",
       "  <tbody>\n",
       "    <tr>\n",
       "      <th>count</th>\n",
       "      <td>2876375.000</td>\n",
       "      <td>2876375.000</td>\n",
       "      <td>2876375.000</td>\n",
       "      <td>2876375.000</td>\n",
       "      <td>2876375.000</td>\n",
       "      <td>2876375.000</td>\n",
       "      <td>2876375.000</td>\n",
       "      <td>2876375.000</td>\n",
       "      <td>2876375.000</td>\n",
       "      <td>2876375.000</td>\n",
       "    </tr>\n",
       "    <tr>\n",
       "      <th>mean</th>\n",
       "      <td>1378003.822</td>\n",
       "      <td>695487.121</td>\n",
       "      <td>126867.933</td>\n",
       "      <td>3519.334</td>\n",
       "      <td>253.036</td>\n",
       "      <td>17.268</td>\n",
       "      <td>13.451</td>\n",
       "      <td>208.683</td>\n",
       "      <td>1.004</td>\n",
       "      <td>0.100</td>\n",
       "    </tr>\n",
       "    <tr>\n",
       "      <th>std</th>\n",
       "      <td>795570.349</td>\n",
       "      <td>401472.212</td>\n",
       "      <td>63909.109</td>\n",
       "      <td>2066.247</td>\n",
       "      <td>65.183</td>\n",
       "      <td>43.187</td>\n",
       "      <td>22.407</td>\n",
       "      <td>71.087</td>\n",
       "      <td>0.080</td>\n",
       "      <td>0.302</td>\n",
       "    </tr>\n",
       "    <tr>\n",
       "      <th>min</th>\n",
       "      <td>0.000</td>\n",
       "      <td>0.000</td>\n",
       "      <td>0.000</td>\n",
       "      <td>0.000</td>\n",
       "      <td>0.000</td>\n",
       "      <td>-207.914</td>\n",
       "      <td>0.000</td>\n",
       "      <td>-1853.915</td>\n",
       "      <td>0.000</td>\n",
       "      <td>0.000</td>\n",
       "    </tr>\n",
       "    <tr>\n",
       "      <th>25%</th>\n",
       "      <td>689007.500</td>\n",
       "      <td>347477.500</td>\n",
       "      <td>82848.000</td>\n",
       "      <td>1698.000</td>\n",
       "      <td>210.330</td>\n",
       "      <td>0.000</td>\n",
       "      <td>0.000</td>\n",
       "      <td>167.085</td>\n",
       "      <td>1.000</td>\n",
       "      <td>0.000</td>\n",
       "    </tr>\n",
       "    <tr>\n",
       "      <th>50%</th>\n",
       "      <td>1378095.000</td>\n",
       "      <td>695529.000</td>\n",
       "      <td>127334.000</td>\n",
       "      <td>3530.000</td>\n",
       "      <td>250.230</td>\n",
       "      <td>0.000</td>\n",
       "      <td>0.000</td>\n",
       "      <td>211.724</td>\n",
       "      <td>1.000</td>\n",
       "      <td>0.000</td>\n",
       "    </tr>\n",
       "    <tr>\n",
       "      <th>75%</th>\n",
       "      <td>2066967.000</td>\n",
       "      <td>1042937.000</td>\n",
       "      <td>170412.000</td>\n",
       "      <td>5351.000</td>\n",
       "      <td>284.430</td>\n",
       "      <td>0.000</td>\n",
       "      <td>26.163</td>\n",
       "      <td>256.930</td>\n",
       "      <td>1.000</td>\n",
       "      <td>0.000</td>\n",
       "    </tr>\n",
       "    <tr>\n",
       "      <th>90%</th>\n",
       "      <td>2480293.600</td>\n",
       "      <td>1252146.000</td>\n",
       "      <td>220164.000</td>\n",
       "      <td>6393.000</td>\n",
       "      <td>324.330</td>\n",
       "      <td>79.800</td>\n",
       "      <td>37.529</td>\n",
       "      <td>287.109</td>\n",
       "      <td>1.000</td>\n",
       "      <td>0.000</td>\n",
       "    </tr>\n",
       "    <tr>\n",
       "      <th>95%</th>\n",
       "      <td>2618168.300</td>\n",
       "      <td>1321711.300</td>\n",
       "      <td>236668.000</td>\n",
       "      <td>6746.000</td>\n",
       "      <td>341.430</td>\n",
       "      <td>125.400</td>\n",
       "      <td>46.056</td>\n",
       "      <td>313.749</td>\n",
       "      <td>1.000</td>\n",
       "      <td>1.000</td>\n",
       "    </tr>\n",
       "    <tr>\n",
       "      <th>99%</th>\n",
       "      <td>2728314.260</td>\n",
       "      <td>1377098.260</td>\n",
       "      <td>249985.000</td>\n",
       "      <td>6999.000</td>\n",
       "      <td>421.230</td>\n",
       "      <td>184.557</td>\n",
       "      <td>71.108</td>\n",
       "      <td>376.182</td>\n",
       "      <td>1.000</td>\n",
       "      <td>1.000</td>\n",
       "    </tr>\n",
       "    <tr>\n",
       "      <th>99.25%</th>\n",
       "      <td>2735166.195</td>\n",
       "      <td>1380495.195</td>\n",
       "      <td>250769.000</td>\n",
       "      <td>7020.000</td>\n",
       "      <td>455.430</td>\n",
       "      <td>193.800</td>\n",
       "      <td>75.827</td>\n",
       "      <td>393.699</td>\n",
       "      <td>1.000</td>\n",
       "      <td>1.000</td>\n",
       "    </tr>\n",
       "    <tr>\n",
       "      <th>99.5%</th>\n",
       "      <td>2742049.130</td>\n",
       "      <td>1383995.130</td>\n",
       "      <td>251613.000</td>\n",
       "      <td>7030.000</td>\n",
       "      <td>477.660</td>\n",
       "      <td>206.961</td>\n",
       "      <td>85.358</td>\n",
       "      <td>425.619</td>\n",
       "      <td>1.000</td>\n",
       "      <td>1.000</td>\n",
       "    </tr>\n",
       "    <tr>\n",
       "      <th>99.9%</th>\n",
       "      <td>2753070.626</td>\n",
       "      <td>1389550.000</td>\n",
       "      <td>252959.000</td>\n",
       "      <td>7051.000</td>\n",
       "      <td>626.430</td>\n",
       "      <td>262.200</td>\n",
       "      <td>284.430</td>\n",
       "      <td>545.178</td>\n",
       "      <td>2.000</td>\n",
       "      <td>1.000</td>\n",
       "    </tr>\n",
       "    <tr>\n",
       "      <th>99.99%</th>\n",
       "      <td>2755546.363</td>\n",
       "      <td>1390801.000</td>\n",
       "      <td>253219.000</td>\n",
       "      <td>7058.000</td>\n",
       "      <td>972.990</td>\n",
       "      <td>387.600</td>\n",
       "      <td>369.997</td>\n",
       "      <td>783.082</td>\n",
       "      <td>4.000</td>\n",
       "      <td>2.000</td>\n",
       "    </tr>\n",
       "    <tr>\n",
       "      <th>max</th>\n",
       "      <td>2755822.000</td>\n",
       "      <td>1390937.000</td>\n",
       "      <td>253250.000</td>\n",
       "      <td>7058.000</td>\n",
       "      <td>7284.600</td>\n",
       "      <td>2138.822</td>\n",
       "      <td>945.630</td>\n",
       "      <td>6816.902</td>\n",
       "      <td>31.000</td>\n",
       "      <td>5.000</td>\n",
       "    </tr>\n",
       "  </tbody>\n",
       "</table>\n",
       "</div>"
      ],
      "text/plain": [
       "        order_item_id    order_id  customer_id  product_id  gmv_amount  \\\n",
       "count     2876375.000 2876375.000  2876375.000 2876375.000 2876375.000   \n",
       "mean      1378003.822  695487.121   126867.933    3519.334     253.036   \n",
       "std        795570.349  401472.212    63909.109    2066.247      65.183   \n",
       "min             0.000       0.000        0.000       0.000       0.000   \n",
       "25%        689007.500  347477.500    82848.000    1698.000     210.330   \n",
       "50%       1378095.000  695529.000   127334.000    3530.000     250.230   \n",
       "75%       2066967.000 1042937.000   170412.000    5351.000     284.430   \n",
       "90%       2480293.600 1252146.000   220164.000    6393.000     324.330   \n",
       "95%       2618168.300 1321711.300   236668.000    6746.000     341.430   \n",
       "99%       2728314.260 1377098.260   249985.000    6999.000     421.230   \n",
       "99.25%    2735166.195 1380495.195   250769.000    7020.000     455.430   \n",
       "99.5%     2742049.130 1383995.130   251613.000    7030.000     477.660   \n",
       "99.9%     2753070.626 1389550.000   252959.000    7051.000     626.430   \n",
       "99.99%    2755546.363 1390801.000   253219.000    7058.000     972.990   \n",
       "max       2755822.000 1390937.000   253250.000    7058.000    7284.600   \n",
       "\n",
       "        markdown_amount  coupon_code_amount  nsbr_amount  qty_ordered  \\\n",
       "count       2876375.000         2876375.000  2876375.000  2876375.000   \n",
       "mean             17.268              13.451      208.683        1.004   \n",
       "std              43.187              22.407       71.087        0.080   \n",
       "min            -207.914               0.000    -1853.915        0.000   \n",
       "25%               0.000               0.000      167.085        1.000   \n",
       "50%               0.000               0.000      211.724        1.000   \n",
       "75%               0.000              26.163      256.930        1.000   \n",
       "90%              79.800              37.529      287.109        1.000   \n",
       "95%             125.400              46.056      313.749        1.000   \n",
       "99%             184.557              71.108      376.182        1.000   \n",
       "99.25%          193.800              75.827      393.699        1.000   \n",
       "99.5%           206.961              85.358      425.619        1.000   \n",
       "99.9%           262.200             284.430      545.178        2.000   \n",
       "99.99%          387.600             369.997      783.082        4.000   \n",
       "max            2138.822             945.630     6816.902       31.000   \n",
       "\n",
       "        qty_returned  \n",
       "count    2876375.000  \n",
       "mean           0.100  \n",
       "std            0.302  \n",
       "min            0.000  \n",
       "25%            0.000  \n",
       "50%            0.000  \n",
       "75%            0.000  \n",
       "90%            0.000  \n",
       "95%            1.000  \n",
       "99%            1.000  \n",
       "99.25%         1.000  \n",
       "99.5%          1.000  \n",
       "99.9%          1.000  \n",
       "99.99%         2.000  \n",
       "max            5.000  "
      ]
     },
     "execution_count": 16,
     "metadata": {},
     "output_type": "execute_result"
    }
   ],
   "source": [
    "df_order_items.describe(percentiles = [0.25, 0.5, 0.75, 0.9, 0.95, 0.99, 0.9925, 0.995, 0.999, 0.9999])"
   ]
  },
  {
   "cell_type": "markdown",
   "id": "3f24c455",
   "metadata": {},
   "source": [
    "#### nsbr and markdown got negative value?\n",
    "- not sure why got negative"
   ]
  },
  {
   "cell_type": "code",
   "execution_count": 17,
   "id": "20b7700d",
   "metadata": {},
   "outputs": [
    {
     "data": {
      "text/plain": [
       "No     2875873\n",
       "Yes        502\n",
       "Name: negative_nsbr, dtype: int64"
      ]
     },
     "execution_count": 17,
     "metadata": {},
     "output_type": "execute_result"
    }
   ],
   "source": [
    "df_order_items['negative_nsbr'] = np.where(df_order_items['nsbr_amount'] < 0, 'Yes', 'No')\n",
    "df_order_items['negative_nsbr'].value_counts()\n",
    "# Outlier, can make it as a feature for future development"
   ]
  },
  {
   "cell_type": "code",
   "execution_count": 18,
   "id": "6193d18b",
   "metadata": {},
   "outputs": [
    {
     "data": {
      "text/plain": [
       "No     2876366\n",
       "Yes          9\n",
       "Name: negative_markdown, dtype: int64"
      ]
     },
     "execution_count": 18,
     "metadata": {},
     "output_type": "execute_result"
    }
   ],
   "source": [
    "df_order_items['negative_markdown'] = np.where(df_order_items['markdown_amount'] < 0, 'Yes', 'No')\n",
    "df_order_items['negative_markdown'].value_counts()\n",
    "# Outlier, can make it as a feature for future development"
   ]
  },
  {
   "cell_type": "markdown",
   "id": "e37ee823",
   "metadata": {},
   "source": [
    "# Feature Engineering"
   ]
  },
  {
   "cell_type": "markdown",
   "id": "aae66cd1",
   "metadata": {},
   "source": [
    "## Convert ids into char"
   ]
  },
  {
   "cell_type": "code",
   "execution_count": 19,
   "id": "7ea16108",
   "metadata": {},
   "outputs": [
    {
     "data": {
      "text/html": [
       "<div>\n",
       "<style scoped>\n",
       "    .dataframe tbody tr th:only-of-type {\n",
       "        vertical-align: middle;\n",
       "    }\n",
       "\n",
       "    .dataframe tbody tr th {\n",
       "        vertical-align: top;\n",
       "    }\n",
       "\n",
       "    .dataframe thead th {\n",
       "        text-align: right;\n",
       "    }\n",
       "</style>\n",
       "<table border=\"1\" class=\"dataframe\">\n",
       "  <thead>\n",
       "    <tr style=\"text-align: right;\">\n",
       "      <th></th>\n",
       "      <th>gmv_amount</th>\n",
       "      <th>markdown_amount</th>\n",
       "      <th>coupon_code_amount</th>\n",
       "      <th>nsbr_amount</th>\n",
       "      <th>qty_ordered</th>\n",
       "      <th>qty_returned</th>\n",
       "    </tr>\n",
       "  </thead>\n",
       "  <tbody>\n",
       "    <tr>\n",
       "      <th>0</th>\n",
       "      <td>250.230</td>\n",
       "      <td>0.000</td>\n",
       "      <td>25.023</td>\n",
       "      <td>210.501</td>\n",
       "      <td>1.000</td>\n",
       "      <td>0.000</td>\n",
       "    </tr>\n",
       "    <tr>\n",
       "      <th>1</th>\n",
       "      <td>210.330</td>\n",
       "      <td>0.000</td>\n",
       "      <td>21.033</td>\n",
       "      <td>176.928</td>\n",
       "      <td>1.000</td>\n",
       "      <td>0.000</td>\n",
       "    </tr>\n",
       "    <tr>\n",
       "      <th>2</th>\n",
       "      <td>210.330</td>\n",
       "      <td>0.000</td>\n",
       "      <td>21.033</td>\n",
       "      <td>176.871</td>\n",
       "      <td>1.000</td>\n",
       "      <td>0.000</td>\n",
       "    </tr>\n",
       "    <tr>\n",
       "      <th>3</th>\n",
       "      <td>264.189</td>\n",
       "      <td>0.000</td>\n",
       "      <td>0.000</td>\n",
       "      <td>264.189</td>\n",
       "      <td>1.000</td>\n",
       "      <td>1.000</td>\n",
       "    </tr>\n",
       "    <tr>\n",
       "      <th>4</th>\n",
       "      <td>245.304</td>\n",
       "      <td>0.000</td>\n",
       "      <td>0.000</td>\n",
       "      <td>245.304</td>\n",
       "      <td>1.000</td>\n",
       "      <td>0.000</td>\n",
       "    </tr>\n",
       "  </tbody>\n",
       "</table>\n",
       "</div>"
      ],
      "text/plain": [
       "   gmv_amount  markdown_amount  coupon_code_amount  nsbr_amount  qty_ordered  \\\n",
       "0     250.230            0.000              25.023      210.501        1.000   \n",
       "1     210.330            0.000              21.033      176.928        1.000   \n",
       "2     210.330            0.000              21.033      176.871        1.000   \n",
       "3     264.189            0.000               0.000      264.189        1.000   \n",
       "4     245.304            0.000               0.000      245.304        1.000   \n",
       "\n",
       "   qty_returned  \n",
       "0         0.000  \n",
       "1         0.000  \n",
       "2         0.000  \n",
       "3         1.000  \n",
       "4         0.000  "
      ]
     },
     "execution_count": 19,
     "metadata": {},
     "output_type": "execute_result"
    }
   ],
   "source": [
    "change_type_list = ['order_item_id', 'order_id', 'customer_id', 'product_id']\n",
    "for i in change_type_list:\n",
    "    df_order_items[i] = df_order_items[i].astype(str)\n",
    "    \n",
    "df_order_items.select_dtypes(include=np.number).head()"
   ]
  },
  {
   "cell_type": "code",
   "execution_count": 20,
   "id": "854f2103",
   "metadata": {
    "scrolled": true
   },
   "outputs": [
    {
     "data": {
      "text/plain": [
       "<AxesSubplot:>"
      ]
     },
     "execution_count": 20,
     "metadata": {},
     "output_type": "execute_result"
    },
    {
     "data": {
      "image/png": "[encoded data removed]",
      "text/plain": [
       "<Figure size 432x288 with 2 Axes>"
      ]
     },
     "metadata": {
      "needs_background": "light"
     },
     "output_type": "display_data"
    }
   ],
   "source": [
    "sns.heatmap(df_order_items.corr(), annot=True)"
   ]
  },
  {
   "cell_type": "markdown",
   "id": "44de7c8c",
   "metadata": {},
   "source": [
    "No multicollinearity problem for now"
   ]
  },
  {
   "cell_type": "markdown",
   "id": "620198bd",
   "metadata": {},
   "source": [
    "### Data Inconsistency?"
   ]
  },
  {
   "cell_type": "markdown",
   "id": "6418cffb",
   "metadata": {},
   "source": [
    "nsbr = gmv - markdown - coupon code? But it doesn't match, calculate the difference between nsbr and the \"unknown amt\" and see if it's a fixed number. Hypothesis: Tax? Shipping fee?"
   ]
  },
  {
   "cell_type": "code",
   "execution_count": 21,
   "id": "b027a0bf",
   "metadata": {},
   "outputs": [],
   "source": [
    "df_order_items['unknown_amt'] = df_order_items['gmv_amount'] - df_order_items['markdown_amount'] - df_order_items['coupon_code_amount']\n",
    "df_order_items['price_diff'] = df_order_items['unknown_amt'] - df_order_items['nsbr_amount']"
   ]
  },
  {
   "cell_type": "markdown",
   "id": "d6c612b8",
   "metadata": {},
   "source": [
    "Result: not fixed % nor fixed value. So not tax either, maybe can be used as a feature in the future"
   ]
  },
  {
   "cell_type": "code",
   "execution_count": 22,
   "id": "e5eaa8bb",
   "metadata": {},
   "outputs": [
    {
     "data": {
      "text/plain": [
       "array([14.706     , 12.369     , 12.426     , ..., 16.21673448,\n",
       "       17.4179118 ,  6.3427434 ])"
      ]
     },
     "execution_count": 22,
     "metadata": {},
     "output_type": "execute_result"
    }
   ],
   "source": [
    "df_order_items['price_diff'].unique()"
   ]
  },
  {
   "cell_type": "code",
   "execution_count": 23,
   "id": "094ff33d",
   "metadata": {},
   "outputs": [
    {
     "data": {
      "text/plain": [
       "(array([2.10000e+01, 7.80000e+01, 3.96000e+02, 1.07000e+02, 6.66000e+02,\n",
       "        8.67000e+02, 3.95000e+02, 1.29200e+03, 1.27900e+03, 6.18000e+02,\n",
       "        7.39000e+02, 4.34000e+02, 3.07000e+02, 2.27000e+02, 2.49000e+02,\n",
       "        2.16000e+02, 3.21000e+02, 3.09000e+02, 2.84000e+02, 3.78000e+02,\n",
       "        3.43000e+02, 3.96000e+02, 6.55000e+02, 9.36000e+02, 4.88490e+04,\n",
       "        2.89507e+05, 1.46493e+05, 3.68830e+04, 1.06458e+05, 7.45790e+04,\n",
       "        1.03593e+05, 1.56865e+05, 2.59161e+05, 8.09221e+05, 2.76247e+05,\n",
       "        4.71078e+05, 2.75630e+04, 5.11860e+04, 1.26400e+03, 3.41900e+03,\n",
       "        4.72000e+02, 1.11000e+02, 1.00000e+01, 1.90000e+01, 2.60000e+01,\n",
       "        1.00000e+00, 0.00000e+00, 0.00000e+00, 0.00000e+00, 0.00000e+00]),\n",
       " array([-0.2  , -0.192, -0.184, -0.176, -0.168, -0.16 , -0.152, -0.144,\n",
       "        -0.136, -0.128, -0.12 , -0.112, -0.104, -0.096, -0.088, -0.08 ,\n",
       "        -0.072, -0.064, -0.056, -0.048, -0.04 , -0.032, -0.024, -0.016,\n",
       "        -0.008,  0.   ,  0.008,  0.016,  0.024,  0.032,  0.04 ,  0.048,\n",
       "         0.056,  0.064,  0.072,  0.08 ,  0.088,  0.096,  0.104,  0.112,\n",
       "         0.12 ,  0.128,  0.136,  0.144,  0.152,  0.16 ,  0.168,  0.176,\n",
       "         0.184,  0.192,  0.2  ]),\n",
       " <BarContainer object of 50 artists>)"
      ]
     },
     "execution_count": 23,
     "metadata": {},
     "output_type": "execute_result"
    },
    {
     "data": {
      "image/png": "[encoded data removed]",
      "text/plain": [
       "<Figure size 432x288 with 1 Axes>"
      ]
     },
     "metadata": {
      "needs_background": "light"
     },
     "output_type": "display_data"
    }
   ],
   "source": [
    "plt.hist(df_order_items['price_diff']/df_order_items['gmv_amount'], bins= 50, range=[-.2, .2])"
   ]
  },
  {
   "cell_type": "markdown",
   "id": "39489eba",
   "metadata": {},
   "source": [
    "### Make outliers and categorical data into feature (sample only, not going to use it for this modelling)"
   ]
  },
  {
   "cell_type": "code",
   "execution_count": 24,
   "id": "176c0f0a",
   "metadata": {},
   "outputs": [],
   "source": [
    "col_to_convert = ['channel', 'negative_nsbr', 'negative_markdown', 'city']\n",
    "df_sample = df_order_items.copy()\n",
    "for i in col_to_convert:\n",
    "    df_sample = pd.concat([df_sample, pd.get_dummies(df_order_items[i], prefix=i)], axis=1).drop(i, axis = 1)"
   ]
  },
  {
   "cell_type": "code",
   "execution_count": 25,
   "id": "38819e0d",
   "metadata": {},
   "outputs": [
    {
     "data": {
      "text/html": [
       "<div>\n",
       "<style scoped>\n",
       "    .dataframe tbody tr th:only-of-type {\n",
       "        vertical-align: middle;\n",
       "    }\n",
       "\n",
       "    .dataframe tbody tr th {\n",
       "        vertical-align: top;\n",
       "    }\n",
       "\n",
       "    .dataframe thead th {\n",
       "        text-align: right;\n",
       "    }\n",
       "</style>\n",
       "<table border=\"1\" class=\"dataframe\">\n",
       "  <thead>\n",
       "    <tr style=\"text-align: right;\">\n",
       "      <th></th>\n",
       "      <th>order_item_id</th>\n",
       "      <th>order_id</th>\n",
       "      <th>customer_id</th>\n",
       "      <th>product_id</th>\n",
       "      <th>date</th>\n",
       "      <th>gmv_amount</th>\n",
       "      <th>markdown_amount</th>\n",
       "      <th>coupon_code_amount</th>\n",
       "      <th>nsbr_amount</th>\n",
       "      <th>qty_ordered</th>\n",
       "      <th>qty_returned</th>\n",
       "      <th>unknown_amt</th>\n",
       "      <th>price_diff</th>\n",
       "      <th>channel_offline</th>\n",
       "      <th>channel_online</th>\n",
       "      <th>negative_nsbr_No</th>\n",
       "      <th>negative_nsbr_Yes</th>\n",
       "      <th>negative_markdown_No</th>\n",
       "      <th>negative_markdown_Yes</th>\n",
       "      <th>city_A</th>\n",
       "      <th>city_B</th>\n",
       "      <th>city_C</th>\n",
       "    </tr>\n",
       "  </thead>\n",
       "  <tbody>\n",
       "    <tr>\n",
       "      <th>0</th>\n",
       "      <td>1783282</td>\n",
       "      <td>59179</td>\n",
       "      <td>218963</td>\n",
       "      <td>4007</td>\n",
       "      <td>2015-03-04 15:55:22</td>\n",
       "      <td>250.230</td>\n",
       "      <td>0.000</td>\n",
       "      <td>25.023</td>\n",
       "      <td>210.501</td>\n",
       "      <td>1.000</td>\n",
       "      <td>0.000</td>\n",
       "      <td>225.207</td>\n",
       "      <td>14.706</td>\n",
       "      <td>0</td>\n",
       "      <td>1</td>\n",
       "      <td>1</td>\n",
       "      <td>0</td>\n",
       "      <td>1</td>\n",
       "      <td>0</td>\n",
       "      <td>1</td>\n",
       "      <td>0</td>\n",
       "      <td>0</td>\n",
       "    </tr>\n",
       "    <tr>\n",
       "      <th>1</th>\n",
       "      <td>1799828</td>\n",
       "      <td>59179</td>\n",
       "      <td>218963</td>\n",
       "      <td>514</td>\n",
       "      <td>2015-03-04 15:55:22</td>\n",
       "      <td>210.330</td>\n",
       "      <td>0.000</td>\n",
       "      <td>21.033</td>\n",
       "      <td>176.928</td>\n",
       "      <td>1.000</td>\n",
       "      <td>0.000</td>\n",
       "      <td>189.297</td>\n",
       "      <td>12.369</td>\n",
       "      <td>0</td>\n",
       "      <td>1</td>\n",
       "      <td>1</td>\n",
       "      <td>0</td>\n",
       "      <td>1</td>\n",
       "      <td>0</td>\n",
       "      <td>1</td>\n",
       "      <td>0</td>\n",
       "      <td>0</td>\n",
       "    </tr>\n",
       "    <tr>\n",
       "      <th>2</th>\n",
       "      <td>439862</td>\n",
       "      <td>59179</td>\n",
       "      <td>218963</td>\n",
       "      <td>1830</td>\n",
       "      <td>2015-03-04 15:55:22</td>\n",
       "      <td>210.330</td>\n",
       "      <td>0.000</td>\n",
       "      <td>21.033</td>\n",
       "      <td>176.871</td>\n",
       "      <td>1.000</td>\n",
       "      <td>0.000</td>\n",
       "      <td>189.297</td>\n",
       "      <td>12.426</td>\n",
       "      <td>0</td>\n",
       "      <td>1</td>\n",
       "      <td>1</td>\n",
       "      <td>0</td>\n",
       "      <td>1</td>\n",
       "      <td>0</td>\n",
       "      <td>1</td>\n",
       "      <td>0</td>\n",
       "      <td>0</td>\n",
       "    </tr>\n",
       "    <tr>\n",
       "      <th>3</th>\n",
       "      <td>2491214</td>\n",
       "      <td>763486</td>\n",
       "      <td>117379</td>\n",
       "      <td>878</td>\n",
       "      <td>2015-03-04 15:57:36</td>\n",
       "      <td>264.189</td>\n",
       "      <td>0.000</td>\n",
       "      <td>0.000</td>\n",
       "      <td>264.189</td>\n",
       "      <td>1.000</td>\n",
       "      <td>1.000</td>\n",
       "      <td>264.189</td>\n",
       "      <td>0.000</td>\n",
       "      <td>0</td>\n",
       "      <td>1</td>\n",
       "      <td>1</td>\n",
       "      <td>0</td>\n",
       "      <td>1</td>\n",
       "      <td>0</td>\n",
       "      <td>0</td>\n",
       "      <td>1</td>\n",
       "      <td>0</td>\n",
       "    </tr>\n",
       "    <tr>\n",
       "      <th>4</th>\n",
       "      <td>1100357</td>\n",
       "      <td>763486</td>\n",
       "      <td>117379</td>\n",
       "      <td>4007</td>\n",
       "      <td>2015-03-04 15:57:36</td>\n",
       "      <td>245.304</td>\n",
       "      <td>0.000</td>\n",
       "      <td>0.000</td>\n",
       "      <td>245.304</td>\n",
       "      <td>1.000</td>\n",
       "      <td>0.000</td>\n",
       "      <td>245.304</td>\n",
       "      <td>0.000</td>\n",
       "      <td>0</td>\n",
       "      <td>1</td>\n",
       "      <td>1</td>\n",
       "      <td>0</td>\n",
       "      <td>1</td>\n",
       "      <td>0</td>\n",
       "      <td>0</td>\n",
       "      <td>1</td>\n",
       "      <td>0</td>\n",
       "    </tr>\n",
       "  </tbody>\n",
       "</table>\n",
       "</div>"
      ],
      "text/plain": [
       "  order_item_id order_id customer_id product_id                 date  \\\n",
       "0       1783282    59179      218963       4007  2015-03-04 15:55:22   \n",
       "1       1799828    59179      218963        514  2015-03-04 15:55:22   \n",
       "2        439862    59179      218963       1830  2015-03-04 15:55:22   \n",
       "3       2491214   763486      117379        878  2015-03-04 15:57:36   \n",
       "4       1100357   763486      117379       4007  2015-03-04 15:57:36   \n",
       "\n",
       "   gmv_amount  markdown_amount  coupon_code_amount  nsbr_amount  qty_ordered  \\\n",
       "0     250.230            0.000              25.023      210.501        1.000   \n",
       "1     210.330            0.000              21.033      176.928        1.000   \n",
       "2     210.330            0.000              21.033      176.871        1.000   \n",
       "3     264.189            0.000               0.000      264.189        1.000   \n",
       "4     245.304            0.000               0.000      245.304        1.000   \n",
       "\n",
       "   qty_returned  unknown_amt  price_diff  channel_offline  channel_online  \\\n",
       "0         0.000      225.207      14.706                0               1   \n",
       "1         0.000      189.297      12.369                0               1   \n",
       "2         0.000      189.297      12.426                0               1   \n",
       "3         1.000      264.189       0.000                0               1   \n",
       "4         0.000      245.304       0.000                0               1   \n",
       "\n",
       "   negative_nsbr_No  negative_nsbr_Yes  negative_markdown_No  \\\n",
       "0                 1                  0                     1   \n",
       "1                 1                  0                     1   \n",
       "2                 1                  0                     1   \n",
       "3                 1                  0                     1   \n",
       "4                 1                  0                     1   \n",
       "\n",
       "   negative_markdown_Yes  city_A  city_B  city_C  \n",
       "0                      0       1       0       0  \n",
       "1                      0       1       0       0  \n",
       "2                      0       1       0       0  \n",
       "3                      0       0       1       0  \n",
       "4                      0       0       1       0  "
      ]
     },
     "execution_count": 25,
     "metadata": {},
     "output_type": "execute_result"
    }
   ],
   "source": [
    "df_sample.head()"
   ]
  },
  {
   "cell_type": "code",
   "execution_count": 26,
   "id": "2d8515c8",
   "metadata": {},
   "outputs": [],
   "source": [
    "del df_sample"
   ]
  },
  {
   "cell_type": "code",
   "execution_count": null,
   "id": "104b6f06",
   "metadata": {},
   "outputs": [],
   "source": []
  },
  {
   "cell_type": "markdown",
   "id": "27cb0050",
   "metadata": {},
   "source": [
    "## Prepare features for Modelling, converting data into 3 months block and then create RFM"
   ]
  },
  {
   "cell_type": "markdown",
   "id": "98ec536d",
   "metadata": {},
   "source": [
    "## For assessment purpose, will only take transaction data (primarily numerical data) and returns for modelling."
   ]
  },
  {
   "cell_type": "code",
   "execution_count": 27,
   "id": "1f576ab0",
   "metadata": {},
   "outputs": [
    {
     "data": {
      "text/html": [
       "<div>\n",
       "<style scoped>\n",
       "    .dataframe tbody tr th:only-of-type {\n",
       "        vertical-align: middle;\n",
       "    }\n",
       "\n",
       "    .dataframe tbody tr th {\n",
       "        vertical-align: top;\n",
       "    }\n",
       "\n",
       "    .dataframe thead th {\n",
       "        text-align: right;\n",
       "    }\n",
       "</style>\n",
       "<table border=\"1\" class=\"dataframe\">\n",
       "  <thead>\n",
       "    <tr style=\"text-align: right;\">\n",
       "      <th></th>\n",
       "      <th>order_item_id</th>\n",
       "      <th>order_id</th>\n",
       "      <th>customer_id</th>\n",
       "      <th>product_id</th>\n",
       "      <th>date</th>\n",
       "      <th>gmv_amount</th>\n",
       "      <th>markdown_amount</th>\n",
       "      <th>coupon_code_amount</th>\n",
       "      <th>nsbr_amount</th>\n",
       "      <th>qty_ordered</th>\n",
       "      <th>qty_returned</th>\n",
       "      <th>year_month</th>\n",
       "    </tr>\n",
       "  </thead>\n",
       "  <tbody>\n",
       "    <tr>\n",
       "      <th>2801525</th>\n",
       "      <td>2231228</td>\n",
       "      <td>623979</td>\n",
       "      <td>167034</td>\n",
       "      <td>6228</td>\n",
       "      <td>2015-01-24</td>\n",
       "      <td>206.597</td>\n",
       "      <td>0.000</td>\n",
       "      <td>0.000</td>\n",
       "      <td>206.597</td>\n",
       "      <td>1.000</td>\n",
       "      <td>0.000</td>\n",
       "      <td>2015-01</td>\n",
       "    </tr>\n",
       "    <tr>\n",
       "      <th>2776688</th>\n",
       "      <td>1757629</td>\n",
       "      <td>283851</td>\n",
       "      <td>29372</td>\n",
       "      <td>215</td>\n",
       "      <td>2015-01-17</td>\n",
       "      <td>250.230</td>\n",
       "      <td>0.000</td>\n",
       "      <td>25.023</td>\n",
       "      <td>210.501</td>\n",
       "      <td>1.000</td>\n",
       "      <td>0.000</td>\n",
       "      <td>2015-01</td>\n",
       "    </tr>\n",
       "    <tr>\n",
       "      <th>2776687</th>\n",
       "      <td>784607</td>\n",
       "      <td>283851</td>\n",
       "      <td>29372</td>\n",
       "      <td>1047</td>\n",
       "      <td>2015-01-17</td>\n",
       "      <td>284.430</td>\n",
       "      <td>0.000</td>\n",
       "      <td>28.443</td>\n",
       "      <td>239.229</td>\n",
       "      <td>1.000</td>\n",
       "      <td>0.000</td>\n",
       "      <td>2015-01</td>\n",
       "    </tr>\n",
       "    <tr>\n",
       "      <th>2776686</th>\n",
       "      <td>1874944</td>\n",
       "      <td>575330</td>\n",
       "      <td>16276</td>\n",
       "      <td>5495</td>\n",
       "      <td>2015-01-17</td>\n",
       "      <td>324.330</td>\n",
       "      <td>0.000</td>\n",
       "      <td>0.000</td>\n",
       "      <td>303.126</td>\n",
       "      <td>1.000</td>\n",
       "      <td>1.000</td>\n",
       "      <td>2015-01</td>\n",
       "    </tr>\n",
       "    <tr>\n",
       "      <th>2776685</th>\n",
       "      <td>230929</td>\n",
       "      <td>1252712</td>\n",
       "      <td>145182</td>\n",
       "      <td>955</td>\n",
       "      <td>2015-01-17</td>\n",
       "      <td>225.395</td>\n",
       "      <td>0.000</td>\n",
       "      <td>0.000</td>\n",
       "      <td>225.395</td>\n",
       "      <td>1.000</td>\n",
       "      <td>1.000</td>\n",
       "      <td>2015-01</td>\n",
       "    </tr>\n",
       "  </tbody>\n",
       "</table>\n",
       "</div>"
      ],
      "text/plain": [
       "        order_item_id order_id customer_id product_id        date  gmv_amount  \\\n",
       "2801525       2231228   623979      167034       6228  2015-01-24     206.597   \n",
       "2776688       1757629   283851       29372        215  2015-01-17     250.230   \n",
       "2776687        784607   283851       29372       1047  2015-01-17     284.430   \n",
       "2776686       1874944   575330       16276       5495  2015-01-17     324.330   \n",
       "2776685        230929  1252712      145182        955  2015-01-17     225.395   \n",
       "\n",
       "         markdown_amount  coupon_code_amount  nsbr_amount  qty_ordered  \\\n",
       "2801525            0.000               0.000      206.597        1.000   \n",
       "2776688            0.000              25.023      210.501        1.000   \n",
       "2776687            0.000              28.443      239.229        1.000   \n",
       "2776686            0.000               0.000      303.126        1.000   \n",
       "2776685            0.000               0.000      225.395        1.000   \n",
       "\n",
       "         qty_returned year_month  \n",
       "2801525         0.000    2015-01  \n",
       "2776688         0.000    2015-01  \n",
       "2776687         0.000    2015-01  \n",
       "2776686         1.000    2015-01  \n",
       "2776685         1.000    2015-01  "
      ]
     },
     "execution_count": 27,
     "metadata": {},
     "output_type": "execute_result"
    }
   ],
   "source": [
    "feature_base = df_order_items[['order_item_id', 'order_id', 'customer_id', 'product_id', 'date',\n",
    "       'gmv_amount', 'markdown_amount', 'coupon_code_amount', 'nsbr_amount',\n",
    "       'qty_ordered', 'qty_returned']]\n",
    "\n",
    "# Convert datetime into year_month and date to date format\n",
    "feature_base['year_month'] = feature_base['date'].str[:7]\n",
    "feature_base['date'] = pd.to_datetime(feature_base['date']).apply(lambda x: x.date())\n",
    "\n",
    "# Sort the data by date, for observation-result period segmentation\n",
    "feature_base = feature_base.sort_values(by='year_month')\n",
    "feature_base.head()"
   ]
  },
  {
   "cell_type": "code",
   "execution_count": 28,
   "id": "0dfc3dc5",
   "metadata": {},
   "outputs": [
    {
     "data": {
      "text/plain": [
       "array(['2015-01', '2015-02', '2015-03', '2015-04', '2015-05', '2015-06',\n",
       "       '2015-07', '2015-08', '2015-09', '2015-10', '2015-11', '2015-12',\n",
       "       '2016-01', '2016-02', '2016-03', '2016-04', '2016-05', '2016-06',\n",
       "       '2016-07', '2016-08', '2016-09', '2016-10', '2016-11', '2016-12',\n",
       "       '2017-01', '2017-02', '2017-03', '2017-04', '2017-05', '2017-06',\n",
       "       '2017-07', '2017-08', '2017-09', '2017-10', '2017-11', '2017-12'],\n",
       "      dtype=object)"
      ]
     },
     "execution_count": 28,
     "metadata": {},
     "output_type": "execute_result"
    }
   ],
   "source": [
    "feature_base.year_month.unique()"
   ]
  },
  {
   "cell_type": "code",
   "execution_count": 29,
   "id": "8524732b",
   "metadata": {},
   "outputs": [
    {
     "data": {
      "text/html": [
       "<div>\n",
       "<style scoped>\n",
       "    .dataframe tbody tr th:only-of-type {\n",
       "        vertical-align: middle;\n",
       "    }\n",
       "\n",
       "    .dataframe tbody tr th {\n",
       "        vertical-align: top;\n",
       "    }\n",
       "\n",
       "    .dataframe thead th {\n",
       "        text-align: right;\n",
       "    }\n",
       "</style>\n",
       "<table border=\"1\" class=\"dataframe\">\n",
       "  <thead>\n",
       "    <tr style=\"text-align: right;\">\n",
       "      <th></th>\n",
       "      <th>year_month</th>\n",
       "      <th>group</th>\n",
       "    </tr>\n",
       "  </thead>\n",
       "  <tbody>\n",
       "    <tr>\n",
       "      <th>0</th>\n",
       "      <td>2015-01</td>\n",
       "      <td>1</td>\n",
       "    </tr>\n",
       "    <tr>\n",
       "      <th>1</th>\n",
       "      <td>2015-02</td>\n",
       "      <td>1</td>\n",
       "    </tr>\n",
       "    <tr>\n",
       "      <th>2</th>\n",
       "      <td>2015-03</td>\n",
       "      <td>1</td>\n",
       "    </tr>\n",
       "    <tr>\n",
       "      <th>3</th>\n",
       "      <td>2015-04</td>\n",
       "      <td>2</td>\n",
       "    </tr>\n",
       "    <tr>\n",
       "      <th>4</th>\n",
       "      <td>2015-05</td>\n",
       "      <td>2</td>\n",
       "    </tr>\n",
       "  </tbody>\n",
       "</table>\n",
       "</div>"
      ],
      "text/plain": [
       "  year_month  group\n",
       "0    2015-01      1\n",
       "1    2015-02      1\n",
       "2    2015-03      1\n",
       "3    2015-04      2\n",
       "4    2015-05      2"
      ]
     },
     "execution_count": 29,
     "metadata": {},
     "output_type": "execute_result"
    }
   ],
   "source": [
    "# Segment every 3 months into a group\n",
    "# Helper function to chunk list into groups\n",
    "def chunker(seq, size):\n",
    "    return (seq[pos:pos + size] for pos in range(0, len(seq), size))\n",
    "\n",
    "grp_dict = dict()\n",
    "\n",
    "counter = 0\n",
    "for i in chunker(feature_base.year_month.unique(), 3):\n",
    "    counter += 1\n",
    "    for j in i:\n",
    "        grp_dict[j] = counter\n",
    "        \n",
    "date_grp = pd.DataFrame({'year_month': grp_dict.keys() , 'group' : grp_dict.values()})\n",
    "date_grp.head()"
   ]
  },
  {
   "cell_type": "code",
   "execution_count": 30,
   "id": "741bc966",
   "metadata": {},
   "outputs": [],
   "source": [
    "feature_base = feature_base.merge(date_grp, on = ['year_month'], how='left')"
   ]
  },
  {
   "cell_type": "markdown",
   "id": "f0db314e",
   "metadata": {},
   "source": [
    "### Recency - Generate the average days between each order and days since last purchase"
   ]
  },
  {
   "cell_type": "code",
   "execution_count": 31,
   "id": "b0b1506b",
   "metadata": {
    "scrolled": false
   },
   "outputs": [
    {
     "data": {
      "text/html": [
       "<div>\n",
       "<style scoped>\n",
       "    .dataframe tbody tr th:only-of-type {\n",
       "        vertical-align: middle;\n",
       "    }\n",
       "\n",
       "    .dataframe tbody tr th {\n",
       "        vertical-align: top;\n",
       "    }\n",
       "\n",
       "    .dataframe thead th {\n",
       "        text-align: right;\n",
       "    }\n",
       "</style>\n",
       "<table border=\"1\" class=\"dataframe\">\n",
       "  <thead>\n",
       "    <tr style=\"text-align: right;\">\n",
       "      <th></th>\n",
       "      <th></th>\n",
       "      <th></th>\n",
       "      <th>date</th>\n",
       "    </tr>\n",
       "    <tr>\n",
       "      <th>group</th>\n",
       "      <th>customer_id</th>\n",
       "      <th>order_id</th>\n",
       "      <th></th>\n",
       "    </tr>\n",
       "  </thead>\n",
       "  <tbody>\n",
       "  </tbody>\n",
       "</table>\n",
       "</div>"
      ],
      "text/plain": [
       "Empty DataFrame\n",
       "Columns: [date]\n",
       "Index: []"
      ]
     },
     "execution_count": 31,
     "metadata": {},
     "output_type": "execute_result"
    }
   ],
   "source": [
    "# Check if there are any order with more than 1 date\n",
    "cust_order_date = feature_base[['group', 'customer_id', 'order_id', 'date']].drop_duplicates()\n",
    "cust_order_date.groupby(['group', 'customer_id', 'order_id']).nunique()[cust_order_date.groupby(['group', 'customer_id', 'order_id']).nunique()['date']>1]\n",
    "\n",
    "# looks ok"
   ]
  },
  {
   "cell_type": "code",
   "execution_count": 32,
   "id": "be489470",
   "metadata": {
    "scrolled": true
   },
   "outputs": [],
   "source": [
    "# For each group and each customer, calculate the average days between transactions\n",
    "cust_order_date = cust_order_date.sort_values(by = ['group', 'customer_id', 'date'])\n",
    "cust_order_date['next_purchase'] = cust_order_date.groupby(['group', 'customer_id'])['date'].shift(-1)\n",
    "cust_order_date['day_diff'] = abs(cust_order_date['date'] - cust_order_date['next_purchase'])\n",
    "cust_order_date = cust_order_date[~cust_order_date['day_diff'].isnull()]\n",
    "cust_order_date['day_diff'] = cust_order_date['day_diff'].apply(lambda x: x.days)\n",
    "df_recency_1 = cust_order_date.groupby(['group', 'customer_id'])['day_diff'].mean()\n",
    "df_recency_1 = pd.DataFrame(df_recency_1).reset_index()"
   ]
  },
  {
   "cell_type": "code",
   "execution_count": 33,
   "id": "4a19b640",
   "metadata": {},
   "outputs": [],
   "source": [
    "# Calculate how many days since last purchase before end of observation period\n",
    "df_recency_2 = pd.DataFrame(cust_order_date.groupby(['group', 'customer_id'])['date'].max()).reset_index()\n",
    "df_recency_3 = pd.DataFrame(cust_order_date.groupby(['group'])['date'].max()).reset_index()\n",
    "\n",
    "df_recency_2 = df_recency_2.merge(df_recency_3, on = ['group'], how = 'left')\n",
    "\n",
    "df_recency_2['days_since_last'] = df_recency_2['date_y'] - df_recency_2['date_x']\n",
    "df_recency_2['days_since_last'] = df_recency_2['days_since_last'].apply(lambda x: x.days)"
   ]
  },
  {
   "cell_type": "code",
   "execution_count": 34,
   "id": "5bd1b246",
   "metadata": {},
   "outputs": [],
   "source": [
    "df_recency = df_recency_1.merge(df_recency_2, on = ['group', 'customer_id'], how = 'left').drop(columns = ['date_x', 'date_y'], axis = 1)"
   ]
  },
  {
   "cell_type": "code",
   "execution_count": 35,
   "id": "dc30f7e4",
   "metadata": {},
   "outputs": [
    {
     "data": {
      "text/plain": [
       "(array([14210.,  8630.,  9407., 11738., 11583.,  8921., 11347., 11791.,\n",
       "         9647.,  9122.,  8890.,  6300.,  6807.,  6120.,  6218.,  6156.,\n",
       "         2797.,  4309.,  3894.,  3475.,  3137.,  2886.,  1500.,  2543.,\n",
       "         1780.,  1659.,  1842.,   771.,  1493.,  1423.,  1510.,  1209.,\n",
       "         1044.,   528.,  1099.,   909.,   848.,   782.,   480.,   756.,\n",
       "          575.,   575.,   536.,   366.,   170.,   339.,   288.,   169.,\n",
       "          108.,    30.]),\n",
       " array([ 0.  ,  1.82,  3.64,  5.46,  7.28,  9.1 , 10.92, 12.74, 14.56,\n",
       "        16.38, 18.2 , 20.02, 21.84, 23.66, 25.48, 27.3 , 29.12, 30.94,\n",
       "        32.76, 34.58, 36.4 , 38.22, 40.04, 41.86, 43.68, 45.5 , 47.32,\n",
       "        49.14, 50.96, 52.78, 54.6 , 56.42, 58.24, 60.06, 61.88, 63.7 ,\n",
       "        65.52, 67.34, 69.16, 70.98, 72.8 , 74.62, 76.44, 78.26, 80.08,\n",
       "        81.9 , 83.72, 85.54, 87.36, 89.18, 91.  ]),\n",
       " <BarContainer object of 50 artists>)"
      ]
     },
     "execution_count": 35,
     "metadata": {},
     "output_type": "execute_result"
    },
    {
     "data": {
      "image/png": "[encoded data removed]",
      "text/plain": [
       "<Figure size 432x288 with 1 Axes>"
      ]
     },
     "metadata": {
      "needs_background": "light"
     },
     "output_type": "display_data"
    }
   ],
   "source": [
    "plt.hist(df_recency['day_diff'], bins = 50)"
   ]
  },
  {
   "cell_type": "code",
   "execution_count": 36,
   "id": "fec1a5df",
   "metadata": {},
   "outputs": [
    {
     "data": {
      "text/plain": [
       "(array([1224., 2398., 3012., 3142., 3953., 1709., 3485., 3914., 3652.,\n",
       "        4439., 4531., 2351., 4154., 4658., 3683., 3857., 1936., 4834.,\n",
       "        5479., 5482., 4271., 3886., 1864., 4055., 3648., 3248., 4740.,\n",
       "        2682., 5085., 5844., 5823., 5818., 4698., 2673., 4635., 4006.,\n",
       "        4408., 4520., 2141., 3994., 4426., 4793., 4686., 4121., 2485.,\n",
       "        4505., 3698., 3423., 4121., 2527.]),\n",
       " array([ 0.  ,  1.82,  3.64,  5.46,  7.28,  9.1 , 10.92, 12.74, 14.56,\n",
       "        16.38, 18.2 , 20.02, 21.84, 23.66, 25.48, 27.3 , 29.12, 30.94,\n",
       "        32.76, 34.58, 36.4 , 38.22, 40.04, 41.86, 43.68, 45.5 , 47.32,\n",
       "        49.14, 50.96, 52.78, 54.6 , 56.42, 58.24, 60.06, 61.88, 63.7 ,\n",
       "        65.52, 67.34, 69.16, 70.98, 72.8 , 74.62, 76.44, 78.26, 80.08,\n",
       "        81.9 , 83.72, 85.54, 87.36, 89.18, 91.  ]),\n",
       " <BarContainer object of 50 artists>)"
      ]
     },
     "execution_count": 36,
     "metadata": {},
     "output_type": "execute_result"
    },
    {
     "data": {
      "image/png": "[encoded data removed]",
      "text/plain": [
       "<Figure size 432x288 with 1 Axes>"
      ]
     },
     "metadata": {
      "needs_background": "light"
     },
     "output_type": "display_data"
    }
   ],
   "source": [
    "plt.hist(df_recency['days_since_last'], bins = 50)"
   ]
  },
  {
   "cell_type": "code",
   "execution_count": 37,
   "id": "4e94d899",
   "metadata": {},
   "outputs": [
    {
     "data": {
      "text/html": [
       "<div>\n",
       "<style scoped>\n",
       "    .dataframe tbody tr th:only-of-type {\n",
       "        vertical-align: middle;\n",
       "    }\n",
       "\n",
       "    .dataframe tbody tr th {\n",
       "        vertical-align: top;\n",
       "    }\n",
       "\n",
       "    .dataframe thead th {\n",
       "        text-align: right;\n",
       "    }\n",
       "</style>\n",
       "<table border=\"1\" class=\"dataframe\">\n",
       "  <thead>\n",
       "    <tr style=\"text-align: right;\">\n",
       "      <th></th>\n",
       "      <th>group</th>\n",
       "      <th>customer_id</th>\n",
       "      <th>day_diff</th>\n",
       "      <th>days_since_last</th>\n",
       "    </tr>\n",
       "  </thead>\n",
       "  <tbody>\n",
       "    <tr>\n",
       "      <th>0</th>\n",
       "      <td>1</td>\n",
       "      <td>100051</td>\n",
       "      <td>43.000</td>\n",
       "      <td>62</td>\n",
       "    </tr>\n",
       "    <tr>\n",
       "      <th>1</th>\n",
       "      <td>1</td>\n",
       "      <td>10006</td>\n",
       "      <td>38.000</td>\n",
       "      <td>80</td>\n",
       "    </tr>\n",
       "    <tr>\n",
       "      <th>2</th>\n",
       "      <td>1</td>\n",
       "      <td>100063</td>\n",
       "      <td>30.000</td>\n",
       "      <td>74</td>\n",
       "    </tr>\n",
       "    <tr>\n",
       "      <th>3</th>\n",
       "      <td>1</td>\n",
       "      <td>100072</td>\n",
       "      <td>32.000</td>\n",
       "      <td>83</td>\n",
       "    </tr>\n",
       "    <tr>\n",
       "      <th>4</th>\n",
       "      <td>1</td>\n",
       "      <td>10010</td>\n",
       "      <td>37.000</td>\n",
       "      <td>3</td>\n",
       "    </tr>\n",
       "  </tbody>\n",
       "</table>\n",
       "</div>"
      ],
      "text/plain": [
       "   group customer_id  day_diff  days_since_last\n",
       "0      1      100051    43.000               62\n",
       "1      1       10006    38.000               80\n",
       "2      1      100063    30.000               74\n",
       "3      1      100072    32.000               83\n",
       "4      1       10010    37.000                3"
      ]
     },
     "execution_count": 37,
     "metadata": {},
     "output_type": "execute_result"
    }
   ],
   "source": [
    "df_recency.head()"
   ]
  },
  {
   "cell_type": "code",
   "execution_count": 38,
   "id": "1d7979d8",
   "metadata": {},
   "outputs": [
    {
     "data": {
      "text/plain": [
       "(192717, 4)"
      ]
     },
     "execution_count": 38,
     "metadata": {},
     "output_type": "execute_result"
    }
   ],
   "source": [
    "df_recency.shape"
   ]
  },
  {
   "cell_type": "markdown",
   "id": "2cc59938",
   "metadata": {},
   "source": [
    "### Frequency - How many transactions and how many items they ordered"
   ]
  },
  {
   "cell_type": "code",
   "execution_count": 39,
   "id": "dc8a64e1",
   "metadata": {},
   "outputs": [],
   "source": [
    "order_freq = feature_base.groupby(['group', 'customer_id'])['order_id'].nunique().reset_index().rename({'order_id': 'order_cnt'}, axis = 1)\n",
    "item_order_freq = feature_base.groupby(['group', 'customer_id'])['qty_ordered'].sum().reset_index()\n",
    "item_return_freq = feature_base.groupby(['group', 'customer_id'])['qty_returned'].sum().reset_index()"
   ]
  },
  {
   "cell_type": "code",
   "execution_count": 40,
   "id": "88c58b0c",
   "metadata": {},
   "outputs": [],
   "source": [
    "df_frequency = order_freq.merge(item_order_freq, on = ['group', 'customer_id'], how = 'left')\n",
    "df_frequency = df_frequency.merge(item_return_freq, on = ['group', 'customer_id'], how = 'left')\n",
    "\n",
    "# Calculate return rate\n",
    "df_frequency['return_rate'] = df_frequency['qty_returned']/df_frequency['qty_ordered']"
   ]
  },
  {
   "cell_type": "code",
   "execution_count": 41,
   "id": "ccc4e008",
   "metadata": {},
   "outputs": [
    {
     "data": {
      "text/html": [
       "<div>\n",
       "<style scoped>\n",
       "    .dataframe tbody tr th:only-of-type {\n",
       "        vertical-align: middle;\n",
       "    }\n",
       "\n",
       "    .dataframe tbody tr th {\n",
       "        vertical-align: top;\n",
       "    }\n",
       "\n",
       "    .dataframe thead th {\n",
       "        text-align: right;\n",
       "    }\n",
       "</style>\n",
       "<table border=\"1\" class=\"dataframe\">\n",
       "  <thead>\n",
       "    <tr style=\"text-align: right;\">\n",
       "      <th></th>\n",
       "      <th>group</th>\n",
       "      <th>customer_id</th>\n",
       "      <th>order_cnt</th>\n",
       "      <th>qty_ordered</th>\n",
       "      <th>qty_returned</th>\n",
       "      <th>return_rate</th>\n",
       "    </tr>\n",
       "  </thead>\n",
       "  <tbody>\n",
       "    <tr>\n",
       "      <th>0</th>\n",
       "      <td>1</td>\n",
       "      <td>100007</td>\n",
       "      <td>1</td>\n",
       "      <td>2.000</td>\n",
       "      <td>0.000</td>\n",
       "      <td>0.000</td>\n",
       "    </tr>\n",
       "    <tr>\n",
       "      <th>1</th>\n",
       "      <td>1</td>\n",
       "      <td>100017</td>\n",
       "      <td>1</td>\n",
       "      <td>3.000</td>\n",
       "      <td>0.000</td>\n",
       "      <td>0.000</td>\n",
       "    </tr>\n",
       "    <tr>\n",
       "      <th>2</th>\n",
       "      <td>1</td>\n",
       "      <td>100022</td>\n",
       "      <td>1</td>\n",
       "      <td>1.000</td>\n",
       "      <td>1.000</td>\n",
       "      <td>1.000</td>\n",
       "    </tr>\n",
       "    <tr>\n",
       "      <th>3</th>\n",
       "      <td>1</td>\n",
       "      <td>100032</td>\n",
       "      <td>1</td>\n",
       "      <td>4.000</td>\n",
       "      <td>1.000</td>\n",
       "      <td>0.250</td>\n",
       "    </tr>\n",
       "    <tr>\n",
       "      <th>4</th>\n",
       "      <td>1</td>\n",
       "      <td>100051</td>\n",
       "      <td>3</td>\n",
       "      <td>5.000</td>\n",
       "      <td>0.000</td>\n",
       "      <td>0.000</td>\n",
       "    </tr>\n",
       "  </tbody>\n",
       "</table>\n",
       "</div>"
      ],
      "text/plain": [
       "   group customer_id  order_cnt  qty_ordered  qty_returned  return_rate\n",
       "0      1      100007          1        2.000         0.000        0.000\n",
       "1      1      100017          1        3.000         0.000        0.000\n",
       "2      1      100022          1        1.000         1.000        1.000\n",
       "3      1      100032          1        4.000         1.000        0.250\n",
       "4      1      100051          3        5.000         0.000        0.000"
      ]
     },
     "execution_count": 41,
     "metadata": {},
     "output_type": "execute_result"
    }
   ],
   "source": [
    "df_frequency.head()"
   ]
  },
  {
   "cell_type": "code",
   "execution_count": 42,
   "id": "3eeefa99",
   "metadata": {},
   "outputs": [
    {
     "data": {
      "text/plain": [
       "(558517, 6)"
      ]
     },
     "execution_count": 42,
     "metadata": {},
     "output_type": "execute_result"
    }
   ],
   "source": [
    "df_frequency.shape"
   ]
  },
  {
   "cell_type": "markdown",
   "id": "d444f768",
   "metadata": {},
   "source": [
    "### Monetary - Total amount spent and total amount discounted"
   ]
  },
  {
   "cell_type": "code",
   "execution_count": 43,
   "id": "05271ea2",
   "metadata": {},
   "outputs": [],
   "source": [
    "df_monetary = feature_base.groupby(['group', 'customer_id'])['gmv_amount', 'markdown_amount', 'coupon_code_amount', 'nsbr_amount'].sum().reset_index()\n",
    "\n",
    "# Combine markdown amount and coupon code amount into a single metric\n",
    "df_monetary['discounted_amount'] = df_monetary['markdown_amount'] + df_monetary['coupon_code_amount']\n",
    "\n",
    "# nsbr and gmv amount have a very high correlation as well, dropping the nsbr_amount\n",
    "df_monetary = df_monetary.drop(['markdown_amount', 'coupon_code_amount', 'nsbr_amount'], axis = 1)"
   ]
  },
  {
   "cell_type": "code",
   "execution_count": 44,
   "id": "e17944b8",
   "metadata": {},
   "outputs": [
    {
     "data": {
      "text/html": [
       "<div>\n",
       "<style scoped>\n",
       "    .dataframe tbody tr th:only-of-type {\n",
       "        vertical-align: middle;\n",
       "    }\n",
       "\n",
       "    .dataframe tbody tr th {\n",
       "        vertical-align: top;\n",
       "    }\n",
       "\n",
       "    .dataframe thead th {\n",
       "        text-align: right;\n",
       "    }\n",
       "</style>\n",
       "<table border=\"1\" class=\"dataframe\">\n",
       "  <thead>\n",
       "    <tr style=\"text-align: right;\">\n",
       "      <th></th>\n",
       "      <th>group</th>\n",
       "      <th>customer_id</th>\n",
       "      <th>gmv_amount</th>\n",
       "      <th>discounted_amount</th>\n",
       "    </tr>\n",
       "  </thead>\n",
       "  <tbody>\n",
       "    <tr>\n",
       "      <th>0</th>\n",
       "      <td>1</td>\n",
       "      <td>100007</td>\n",
       "      <td>544.783</td>\n",
       "      <td>0.000</td>\n",
       "    </tr>\n",
       "    <tr>\n",
       "      <th>1</th>\n",
       "      <td>1</td>\n",
       "      <td>100017</td>\n",
       "      <td>773.682</td>\n",
       "      <td>0.000</td>\n",
       "    </tr>\n",
       "    <tr>\n",
       "      <th>2</th>\n",
       "      <td>1</td>\n",
       "      <td>100022</td>\n",
       "      <td>324.330</td>\n",
       "      <td>0.000</td>\n",
       "    </tr>\n",
       "    <tr>\n",
       "      <th>3</th>\n",
       "      <td>1</td>\n",
       "      <td>100032</td>\n",
       "      <td>983.820</td>\n",
       "      <td>0.000</td>\n",
       "    </tr>\n",
       "    <tr>\n",
       "      <th>4</th>\n",
       "      <td>1</td>\n",
       "      <td>100051</td>\n",
       "      <td>1399.350</td>\n",
       "      <td>68.400</td>\n",
       "    </tr>\n",
       "  </tbody>\n",
       "</table>\n",
       "</div>"
      ],
      "text/plain": [
       "   group customer_id  gmv_amount  discounted_amount\n",
       "0      1      100007     544.783              0.000\n",
       "1      1      100017     773.682              0.000\n",
       "2      1      100022     324.330              0.000\n",
       "3      1      100032     983.820              0.000\n",
       "4      1      100051    1399.350             68.400"
      ]
     },
     "execution_count": 44,
     "metadata": {},
     "output_type": "execute_result"
    }
   ],
   "source": [
    "df_monetary.head()"
   ]
  },
  {
   "cell_type": "code",
   "execution_count": 45,
   "id": "2e912a3a",
   "metadata": {},
   "outputs": [
    {
     "data": {
      "text/plain": [
       "(558517, 4)"
      ]
     },
     "execution_count": 45,
     "metadata": {},
     "output_type": "execute_result"
    }
   ],
   "source": [
    "df_monetary.shape"
   ]
  },
  {
   "cell_type": "markdown",
   "id": "ac71fef7",
   "metadata": {},
   "source": [
    "### Aggregating all the data back into one table"
   ]
  },
  {
   "cell_type": "code",
   "execution_count": 46,
   "id": "38f17318",
   "metadata": {},
   "outputs": [],
   "source": [
    "df = df_frequency.merge(df_recency, on = ['group', 'customer_id'], how = 'left')\n",
    "df = df.merge(df_monetary, on = ['group', 'customer_id'], how = 'left')\n",
    "\n",
    "# Fill date_diff and days_since_last. This is not the best way to handle it because it mixes up with active user. \n",
    "# For assessment purpose, not going to spend too much time perfecting it for now.\n",
    "# The frequency and monetary part will be able to differentiate the active and inactive customer.\n",
    "\n",
    "df = df.fillna(0)"
   ]
  },
  {
   "cell_type": "code",
   "execution_count": 47,
   "id": "72d9f14d",
   "metadata": {},
   "outputs": [
    {
     "data": {
      "text/html": [
       "<div>\n",
       "<style scoped>\n",
       "    .dataframe tbody tr th:only-of-type {\n",
       "        vertical-align: middle;\n",
       "    }\n",
       "\n",
       "    .dataframe tbody tr th {\n",
       "        vertical-align: top;\n",
       "    }\n",
       "\n",
       "    .dataframe thead th {\n",
       "        text-align: right;\n",
       "    }\n",
       "</style>\n",
       "<table border=\"1\" class=\"dataframe\">\n",
       "  <thead>\n",
       "    <tr style=\"text-align: right;\">\n",
       "      <th></th>\n",
       "      <th>group</th>\n",
       "      <th>customer_id</th>\n",
       "      <th>order_cnt</th>\n",
       "      <th>qty_ordered</th>\n",
       "      <th>qty_returned</th>\n",
       "      <th>return_rate</th>\n",
       "      <th>day_diff</th>\n",
       "      <th>days_since_last</th>\n",
       "      <th>gmv_amount</th>\n",
       "      <th>discounted_amount</th>\n",
       "    </tr>\n",
       "  </thead>\n",
       "  <tbody>\n",
       "    <tr>\n",
       "      <th>0</th>\n",
       "      <td>1</td>\n",
       "      <td>100007</td>\n",
       "      <td>1</td>\n",
       "      <td>2.000</td>\n",
       "      <td>0.000</td>\n",
       "      <td>0.000</td>\n",
       "      <td>0.000</td>\n",
       "      <td>0.000</td>\n",
       "      <td>544.783</td>\n",
       "      <td>0.000</td>\n",
       "    </tr>\n",
       "    <tr>\n",
       "      <th>1</th>\n",
       "      <td>1</td>\n",
       "      <td>100017</td>\n",
       "      <td>1</td>\n",
       "      <td>3.000</td>\n",
       "      <td>0.000</td>\n",
       "      <td>0.000</td>\n",
       "      <td>0.000</td>\n",
       "      <td>0.000</td>\n",
       "      <td>773.682</td>\n",
       "      <td>0.000</td>\n",
       "    </tr>\n",
       "    <tr>\n",
       "      <th>2</th>\n",
       "      <td>1</td>\n",
       "      <td>100022</td>\n",
       "      <td>1</td>\n",
       "      <td>1.000</td>\n",
       "      <td>1.000</td>\n",
       "      <td>1.000</td>\n",
       "      <td>0.000</td>\n",
       "      <td>0.000</td>\n",
       "      <td>324.330</td>\n",
       "      <td>0.000</td>\n",
       "    </tr>\n",
       "    <tr>\n",
       "      <th>3</th>\n",
       "      <td>1</td>\n",
       "      <td>100032</td>\n",
       "      <td>1</td>\n",
       "      <td>4.000</td>\n",
       "      <td>1.000</td>\n",
       "      <td>0.250</td>\n",
       "      <td>0.000</td>\n",
       "      <td>0.000</td>\n",
       "      <td>983.820</td>\n",
       "      <td>0.000</td>\n",
       "    </tr>\n",
       "    <tr>\n",
       "      <th>4</th>\n",
       "      <td>1</td>\n",
       "      <td>100051</td>\n",
       "      <td>3</td>\n",
       "      <td>5.000</td>\n",
       "      <td>0.000</td>\n",
       "      <td>0.000</td>\n",
       "      <td>43.000</td>\n",
       "      <td>62.000</td>\n",
       "      <td>1399.350</td>\n",
       "      <td>68.400</td>\n",
       "    </tr>\n",
       "  </tbody>\n",
       "</table>\n",
       "</div>"
      ],
      "text/plain": [
       "   group customer_id  order_cnt  qty_ordered  qty_returned  return_rate  \\\n",
       "0      1      100007          1        2.000         0.000        0.000   \n",
       "1      1      100017          1        3.000         0.000        0.000   \n",
       "2      1      100022          1        1.000         1.000        1.000   \n",
       "3      1      100032          1        4.000         1.000        0.250   \n",
       "4      1      100051          3        5.000         0.000        0.000   \n",
       "\n",
       "   day_diff  days_since_last  gmv_amount  discounted_amount  \n",
       "0     0.000            0.000     544.783              0.000  \n",
       "1     0.000            0.000     773.682              0.000  \n",
       "2     0.000            0.000     324.330              0.000  \n",
       "3     0.000            0.000     983.820              0.000  \n",
       "4    43.000           62.000    1399.350             68.400  "
      ]
     },
     "execution_count": 47,
     "metadata": {},
     "output_type": "execute_result"
    }
   ],
   "source": [
    "df.head()"
   ]
  },
  {
   "cell_type": "markdown",
   "id": "1a37b094",
   "metadata": {},
   "source": [
    "### Check collinearity"
   ]
  },
  {
   "cell_type": "code",
   "execution_count": 48,
   "id": "01a4d961",
   "metadata": {
    "scrolled": true
   },
   "outputs": [
    {
     "data": {
      "text/html": [
       "<div>\n",
       "<style scoped>\n",
       "    .dataframe tbody tr th:only-of-type {\n",
       "        vertical-align: middle;\n",
       "    }\n",
       "\n",
       "    .dataframe tbody tr th {\n",
       "        vertical-align: top;\n",
       "    }\n",
       "\n",
       "    .dataframe thead th {\n",
       "        text-align: right;\n",
       "    }\n",
       "</style>\n",
       "<table border=\"1\" class=\"dataframe\">\n",
       "  <thead>\n",
       "    <tr style=\"text-align: right;\">\n",
       "      <th></th>\n",
       "      <th>group</th>\n",
       "      <th>order_cnt</th>\n",
       "      <th>qty_ordered</th>\n",
       "      <th>qty_returned</th>\n",
       "      <th>return_rate</th>\n",
       "      <th>day_diff</th>\n",
       "      <th>days_since_last</th>\n",
       "      <th>gmv_amount</th>\n",
       "      <th>discounted_amount</th>\n",
       "    </tr>\n",
       "  </thead>\n",
       "  <tbody>\n",
       "    <tr>\n",
       "      <th>count</th>\n",
       "      <td>558517.000</td>\n",
       "      <td>558517.000</td>\n",
       "      <td>558517.000</td>\n",
       "      <td>558517.000</td>\n",
       "      <td>558517.000</td>\n",
       "      <td>558517.000</td>\n",
       "      <td>558517.000</td>\n",
       "      <td>558517.000</td>\n",
       "      <td>558517.000</td>\n",
       "    </tr>\n",
       "    <tr>\n",
       "      <th>mean</th>\n",
       "      <td>7.696</td>\n",
       "      <td>2.490</td>\n",
       "      <td>5.169</td>\n",
       "      <td>0.516</td>\n",
       "      <td>0.095</td>\n",
       "      <td>7.184</td>\n",
       "      <td>16.318</td>\n",
       "      <td>1303.142</td>\n",
       "      <td>158.205</td>\n",
       "    </tr>\n",
       "    <tr>\n",
       "      <th>std</th>\n",
       "      <td>3.316</td>\n",
       "      <td>208.670</td>\n",
       "      <td>348.488</td>\n",
       "      <td>7.955</td>\n",
       "      <td>0.224</td>\n",
       "      <td>14.265</td>\n",
       "      <td>26.783</td>\n",
       "      <td>89319.342</td>\n",
       "      <td>7691.695</td>\n",
       "    </tr>\n",
       "    <tr>\n",
       "      <th>min</th>\n",
       "      <td>1.000</td>\n",
       "      <td>1.000</td>\n",
       "      <td>1.000</td>\n",
       "      <td>0.000</td>\n",
       "      <td>0.000</td>\n",
       "      <td>0.000</td>\n",
       "      <td>0.000</td>\n",
       "      <td>0.000</td>\n",
       "      <td>0.000</td>\n",
       "    </tr>\n",
       "    <tr>\n",
       "      <th>25%</th>\n",
       "      <td>5.000</td>\n",
       "      <td>1.000</td>\n",
       "      <td>1.000</td>\n",
       "      <td>0.000</td>\n",
       "      <td>0.000</td>\n",
       "      <td>0.000</td>\n",
       "      <td>0.000</td>\n",
       "      <td>307.230</td>\n",
       "      <td>0.000</td>\n",
       "    </tr>\n",
       "    <tr>\n",
       "      <th>50%</th>\n",
       "      <td>8.000</td>\n",
       "      <td>1.000</td>\n",
       "      <td>3.000</td>\n",
       "      <td>0.000</td>\n",
       "      <td>0.000</td>\n",
       "      <td>0.000</td>\n",
       "      <td>0.000</td>\n",
       "      <td>631.560</td>\n",
       "      <td>0.000</td>\n",
       "    </tr>\n",
       "    <tr>\n",
       "      <th>75%</th>\n",
       "      <td>10.000</td>\n",
       "      <td>2.000</td>\n",
       "      <td>5.000</td>\n",
       "      <td>0.000</td>\n",
       "      <td>0.000</td>\n",
       "      <td>9.000</td>\n",
       "      <td>29.000</td>\n",
       "      <td>1183.307</td>\n",
       "      <td>114.000</td>\n",
       "    </tr>\n",
       "    <tr>\n",
       "      <th>max</th>\n",
       "      <td>12.000</td>\n",
       "      <td>80600.000</td>\n",
       "      <td>140385.000</td>\n",
       "      <td>3102.000</td>\n",
       "      <td>1.000</td>\n",
       "      <td>91.000</td>\n",
       "      <td>91.000</td>\n",
       "      <td>36391222.510</td>\n",
       "      <td>3871265.259</td>\n",
       "    </tr>\n",
       "  </tbody>\n",
       "</table>\n",
       "</div>"
      ],
      "text/plain": [
       "           group  order_cnt  qty_ordered  qty_returned  return_rate  \\\n",
       "count 558517.000 558517.000   558517.000    558517.000   558517.000   \n",
       "mean       7.696      2.490        5.169         0.516        0.095   \n",
       "std        3.316    208.670      348.488         7.955        0.224   \n",
       "min        1.000      1.000        1.000         0.000        0.000   \n",
       "25%        5.000      1.000        1.000         0.000        0.000   \n",
       "50%        8.000      1.000        3.000         0.000        0.000   \n",
       "75%       10.000      2.000        5.000         0.000        0.000   \n",
       "max       12.000  80600.000   140385.000      3102.000        1.000   \n",
       "\n",
       "        day_diff  days_since_last   gmv_amount  discounted_amount  \n",
       "count 558517.000       558517.000   558517.000         558517.000  \n",
       "mean       7.184           16.318     1303.142            158.205  \n",
       "std       14.265           26.783    89319.342           7691.695  \n",
       "min        0.000            0.000        0.000              0.000  \n",
       "25%        0.000            0.000      307.230              0.000  \n",
       "50%        0.000            0.000      631.560              0.000  \n",
       "75%        9.000           29.000     1183.307            114.000  \n",
       "max       91.000           91.000 36391222.510        3871265.259  "
      ]
     },
     "execution_count": 48,
     "metadata": {},
     "output_type": "execute_result"
    }
   ],
   "source": [
    "df.describe()"
   ]
  },
  {
   "cell_type": "code",
   "execution_count": 49,
   "id": "65b8cfac",
   "metadata": {
    "scrolled": false
   },
   "outputs": [
    {
     "data": {
      "text/plain": [
       "<AxesSubplot:>"
      ]
     },
     "execution_count": 49,
     "metadata": {},
     "output_type": "execute_result"
    },
    {
     "data": {
      "image/png": "[encoded data removed]",
      "text/plain": [
       "<Figure size 640x480 with 2 Axes>"
      ]
     },
     "metadata": {
      "needs_background": "light"
     },
     "output_type": "display_data"
    }
   ],
   "source": [
    "from matplotlib.pyplot import figure\n",
    "\n",
    "figure(figsize=(8, 6), dpi=80)\n",
    "\n",
    "sns.heatmap(df[df.columns[2:]].corr(), annot = True)"
   ]
  },
  {
   "cell_type": "markdown",
   "id": "84e266e0",
   "metadata": {},
   "source": [
    "- dropping order_count because closely related to gmv_amount\n",
    "- dropping qty_ordered because closely related to gmv_amount\n",
    "- dropping qty_returned because already have return rate\n",
    "\n",
    "- creating discounted_pct instead of discounted amount\n"
   ]
  },
  {
   "cell_type": "code",
   "execution_count": 50,
   "id": "b1945e10",
   "metadata": {},
   "outputs": [],
   "source": [
    "# gmv_amount = doesn't seems right, dropping them\n",
    "df = df[df['gmv_amount'] != 0]\n",
    "\n",
    "# create a discount pct col instead of using discount number\n",
    "df['discount_pct'] = df['discounted_amount']/df['gmv_amount']\n",
    "df = df.drop(columns=['discounted_amount', 'order_cnt', 'qty_ordered', 'qty_returned'], axis = 1)\n"
   ]
  },
  {
   "cell_type": "code",
   "execution_count": 51,
   "id": "452f1f83",
   "metadata": {},
   "outputs": [
    {
     "data": {
      "text/html": [
       "<div>\n",
       "<style scoped>\n",
       "    .dataframe tbody tr th:only-of-type {\n",
       "        vertical-align: middle;\n",
       "    }\n",
       "\n",
       "    .dataframe tbody tr th {\n",
       "        vertical-align: top;\n",
       "    }\n",
       "\n",
       "    .dataframe thead th {\n",
       "        text-align: right;\n",
       "    }\n",
       "</style>\n",
       "<table border=\"1\" class=\"dataframe\">\n",
       "  <thead>\n",
       "    <tr style=\"text-align: right;\">\n",
       "      <th></th>\n",
       "      <th>group</th>\n",
       "      <th>customer_id</th>\n",
       "      <th>return_rate</th>\n",
       "      <th>day_diff</th>\n",
       "      <th>days_since_last</th>\n",
       "      <th>gmv_amount</th>\n",
       "      <th>discount_pct</th>\n",
       "    </tr>\n",
       "  </thead>\n",
       "  <tbody>\n",
       "    <tr>\n",
       "      <th>0</th>\n",
       "      <td>1</td>\n",
       "      <td>100007</td>\n",
       "      <td>0.000</td>\n",
       "      <td>0.000</td>\n",
       "      <td>0.000</td>\n",
       "      <td>544.783</td>\n",
       "      <td>0.000</td>\n",
       "    </tr>\n",
       "    <tr>\n",
       "      <th>1</th>\n",
       "      <td>1</td>\n",
       "      <td>100017</td>\n",
       "      <td>0.000</td>\n",
       "      <td>0.000</td>\n",
       "      <td>0.000</td>\n",
       "      <td>773.682</td>\n",
       "      <td>0.000</td>\n",
       "    </tr>\n",
       "    <tr>\n",
       "      <th>2</th>\n",
       "      <td>1</td>\n",
       "      <td>100022</td>\n",
       "      <td>1.000</td>\n",
       "      <td>0.000</td>\n",
       "      <td>0.000</td>\n",
       "      <td>324.330</td>\n",
       "      <td>0.000</td>\n",
       "    </tr>\n",
       "    <tr>\n",
       "      <th>3</th>\n",
       "      <td>1</td>\n",
       "      <td>100032</td>\n",
       "      <td>0.250</td>\n",
       "      <td>0.000</td>\n",
       "      <td>0.000</td>\n",
       "      <td>983.820</td>\n",
       "      <td>0.000</td>\n",
       "    </tr>\n",
       "    <tr>\n",
       "      <th>4</th>\n",
       "      <td>1</td>\n",
       "      <td>100051</td>\n",
       "      <td>0.000</td>\n",
       "      <td>43.000</td>\n",
       "      <td>62.000</td>\n",
       "      <td>1399.350</td>\n",
       "      <td>0.049</td>\n",
       "    </tr>\n",
       "  </tbody>\n",
       "</table>\n",
       "</div>"
      ],
      "text/plain": [
       "   group customer_id  return_rate  day_diff  days_since_last  gmv_amount  \\\n",
       "0      1      100007        0.000     0.000            0.000     544.783   \n",
       "1      1      100017        0.000     0.000            0.000     773.682   \n",
       "2      1      100022        1.000     0.000            0.000     324.330   \n",
       "3      1      100032        0.250     0.000            0.000     983.820   \n",
       "4      1      100051        0.000    43.000           62.000    1399.350   \n",
       "\n",
       "   discount_pct  \n",
       "0         0.000  \n",
       "1         0.000  \n",
       "2         0.000  \n",
       "3         0.000  \n",
       "4         0.049  "
      ]
     },
     "execution_count": 51,
     "metadata": {},
     "output_type": "execute_result"
    }
   ],
   "source": [
    "df.head()"
   ]
  },
  {
   "cell_type": "code",
   "execution_count": 52,
   "id": "c3570261",
   "metadata": {
    "scrolled": true
   },
   "outputs": [
    {
     "data": {
      "text/plain": [
       "<AxesSubplot:>"
      ]
     },
     "execution_count": 52,
     "metadata": {},
     "output_type": "execute_result"
    },
    {
     "data": {
      "image/png": "[encoded data removed]",
      "text/plain": [
       "<Figure size 640x480 with 2 Axes>"
      ]
     },
     "metadata": {
      "needs_background": "light"
     },
     "output_type": "display_data"
    }
   ],
   "source": [
    "figure(figsize=(8, 6), dpi=80)\n",
    "sns.heatmap(df[df.columns[2:]].corr(), annot = True)"
   ]
  },
  {
   "cell_type": "markdown",
   "id": "cc531c29",
   "metadata": {},
   "source": [
    "## Create label - future GMV vs previous GMV delta"
   ]
  },
  {
   "cell_type": "code",
   "execution_count": 53,
   "id": "a883419d",
   "metadata": {},
   "outputs": [],
   "source": [
    "df['shift'] = df['group'] + 1\n",
    "df = df.merge(df[['group', 'customer_id', 'gmv_amount']].rename({'gmv_amount':'future_gmv'}, axis = 1)\n",
    "              , left_on = ['shift', 'customer_id']\n",
    "              , right_on = ['group', 'customer_id']\n",
    "              , how = 'left') \\\n",
    "                .drop(['shift', 'group_y'], axis = 1) \\\n",
    "                .rename({'group_x':'group'}, axis = 1).fillna(0)"
   ]
  },
  {
   "cell_type": "code",
   "execution_count": 54,
   "id": "8b680c6f",
   "metadata": {},
   "outputs": [],
   "source": [
    "df['next_month_delta'] = ((df['future_gmv'] - df['gmv_amount'])/df['gmv_amount'])\n",
    "df['next_month_delta'] = df['next_month_delta'].astype(float)\n",
    "\n",
    "# df['future_gmv'] = df['future_gmv'].astype(float)\n",
    "df = df.drop(columns = ['future_gmv'], axis = 1)\n"
   ]
  },
  {
   "cell_type": "code",
   "execution_count": 55,
   "id": "fe25284a",
   "metadata": {},
   "outputs": [
    {
     "data": {
      "text/html": [
       "<div>\n",
       "<style scoped>\n",
       "    .dataframe tbody tr th:only-of-type {\n",
       "        vertical-align: middle;\n",
       "    }\n",
       "\n",
       "    .dataframe tbody tr th {\n",
       "        vertical-align: top;\n",
       "    }\n",
       "\n",
       "    .dataframe thead th {\n",
       "        text-align: right;\n",
       "    }\n",
       "</style>\n",
       "<table border=\"1\" class=\"dataframe\">\n",
       "  <thead>\n",
       "    <tr style=\"text-align: right;\">\n",
       "      <th></th>\n",
       "      <th>group</th>\n",
       "      <th>customer_id</th>\n",
       "      <th>return_rate</th>\n",
       "      <th>day_diff</th>\n",
       "      <th>days_since_last</th>\n",
       "      <th>gmv_amount</th>\n",
       "      <th>discount_pct</th>\n",
       "      <th>next_month_delta</th>\n",
       "    </tr>\n",
       "  </thead>\n",
       "  <tbody>\n",
       "    <tr>\n",
       "      <th>0</th>\n",
       "      <td>1</td>\n",
       "      <td>100007</td>\n",
       "      <td>0.000</td>\n",
       "      <td>0.000</td>\n",
       "      <td>0.000</td>\n",
       "      <td>544.783</td>\n",
       "      <td>0.000</td>\n",
       "      <td>-1.000</td>\n",
       "    </tr>\n",
       "    <tr>\n",
       "      <th>1</th>\n",
       "      <td>1</td>\n",
       "      <td>100017</td>\n",
       "      <td>0.000</td>\n",
       "      <td>0.000</td>\n",
       "      <td>0.000</td>\n",
       "      <td>773.682</td>\n",
       "      <td>0.000</td>\n",
       "      <td>1.352</td>\n",
       "    </tr>\n",
       "    <tr>\n",
       "      <th>2</th>\n",
       "      <td>1</td>\n",
       "      <td>100022</td>\n",
       "      <td>1.000</td>\n",
       "      <td>0.000</td>\n",
       "      <td>0.000</td>\n",
       "      <td>324.330</td>\n",
       "      <td>0.000</td>\n",
       "      <td>-0.351</td>\n",
       "    </tr>\n",
       "    <tr>\n",
       "      <th>3</th>\n",
       "      <td>1</td>\n",
       "      <td>100032</td>\n",
       "      <td>0.250</td>\n",
       "      <td>0.000</td>\n",
       "      <td>0.000</td>\n",
       "      <td>983.820</td>\n",
       "      <td>0.000</td>\n",
       "      <td>-1.000</td>\n",
       "    </tr>\n",
       "    <tr>\n",
       "      <th>4</th>\n",
       "      <td>1</td>\n",
       "      <td>100051</td>\n",
       "      <td>0.000</td>\n",
       "      <td>43.000</td>\n",
       "      <td>62.000</td>\n",
       "      <td>1399.350</td>\n",
       "      <td>0.049</td>\n",
       "      <td>-0.374</td>\n",
       "    </tr>\n",
       "  </tbody>\n",
       "</table>\n",
       "</div>"
      ],
      "text/plain": [
       "   group customer_id  return_rate  day_diff  days_since_last  gmv_amount  \\\n",
       "0      1      100007        0.000     0.000            0.000     544.783   \n",
       "1      1      100017        0.000     0.000            0.000     773.682   \n",
       "2      1      100022        1.000     0.000            0.000     324.330   \n",
       "3      1      100032        0.250     0.000            0.000     983.820   \n",
       "4      1      100051        0.000    43.000           62.000    1399.350   \n",
       "\n",
       "   discount_pct  next_month_delta  \n",
       "0         0.000            -1.000  \n",
       "1         0.000             1.352  \n",
       "2         0.000            -0.351  \n",
       "3         0.000            -1.000  \n",
       "4         0.049            -0.374  "
      ]
     },
     "execution_count": 55,
     "metadata": {},
     "output_type": "execute_result"
    }
   ],
   "source": [
    "df.head()\n",
    "\n",
    "# next_month_delta is the future activity trend"
   ]
  },
  {
   "cell_type": "code",
   "execution_count": null,
   "id": "f89f3dec",
   "metadata": {},
   "outputs": [],
   "source": []
  },
  {
   "cell_type": "markdown",
   "id": "cf82a2fb",
   "metadata": {},
   "source": [
    "### EDA Findings"
   ]
  },
  {
   "cell_type": "markdown",
   "id": "17aec14d",
   "metadata": {},
   "source": [
    "- About 34% of customers have repeat purchase\n",
    "- About 17% of customers generate equal or more revenue than previous 3 month\n",
    "- About 7.5% of customers generate double revenue compared to previous 3 months"
   ]
  },
  {
   "cell_type": "code",
   "execution_count": 56,
   "id": "09638330",
   "metadata": {
    "scrolled": true
   },
   "outputs": [
    {
     "data": {
      "text/plain": [
       "count    558514.000\n",
       "mean         -0.462\n",
       "std           1.431\n",
       "min          -1.000\n",
       "25%          -1.000\n",
       "50%          -1.000\n",
       "65.5%        -1.000\n",
       "66%          -0.903\n",
       "75%          -0.444\n",
       "80%          -0.176\n",
       "82.5%        -0.029\n",
       "83%           0.000\n",
       "85%           0.120\n",
       "90%           0.635\n",
       "92.5%         1.033\n",
       "95%           1.678\n",
       "99%           5.157\n",
       "99.25%        5.955\n",
       "99.5%         7.197\n",
       "99.9%        13.508\n",
       "99.99%       30.545\n",
       "max         179.329\n",
       "Name: next_month_delta, dtype: float64"
      ]
     },
     "execution_count": 56,
     "metadata": {},
     "output_type": "execute_result"
    }
   ],
   "source": [
    "df['next_month_delta'].describe(percentiles = [0.25, 0.5, .655, .66, 0.75, 0.8, 0.825, 0.83, 0.85, 0.9, .925, 0.95, 0.99, 0.9925, 0.995, 0.999, 0.9999])"
   ]
  },
  {
   "cell_type": "code",
   "execution_count": 57,
   "id": "b367f8d1",
   "metadata": {},
   "outputs": [],
   "source": [
    "# df = df.drop(columns = ['next_month_delta'], axis = 1)"
   ]
  },
  {
   "cell_type": "markdown",
   "id": "0d9e30e1",
   "metadata": {},
   "source": [
    "### Split data for validation and training"
   ]
  },
  {
   "cell_type": "code",
   "execution_count": 58,
   "id": "b45a0b75",
   "metadata": {},
   "outputs": [],
   "source": [
    "# Train Data\n",
    "df_train = df[df['group'] < 11]\n",
    "\n",
    "# Keep only feature column\n",
    "df_train = df.drop(['group', 'customer_id'], axis = 1)"
   ]
  },
  {
   "cell_type": "code",
   "execution_count": 59,
   "id": "250142b6",
   "metadata": {},
   "outputs": [],
   "source": [
    "# Store group 11 for test score\n",
    "df_validation = df[df['group'] == 11].copy()\n",
    "\n",
    "# Keep only feature column\n",
    "df_validation = df_validation.drop(['group', 'customer_id'], axis = 1)"
   ]
  },
  {
   "cell_type": "code",
   "execution_count": 60,
   "id": "8a85ca6d",
   "metadata": {},
   "outputs": [],
   "source": [
    "# standardize everyone that buy more than previous year to remove the impact of high fold\n",
    "df_train['next_month_delta'] = np.where((df_train['next_month_delta'] > 1), 1.1, df_train['next_month_delta'])"
   ]
  },
  {
   "cell_type": "code",
   "execution_count": 61,
   "id": "f97d3bac",
   "metadata": {},
   "outputs": [
    {
     "data": {
      "text/html": [
       "<div>\n",
       "<style scoped>\n",
       "    .dataframe tbody tr th:only-of-type {\n",
       "        vertical-align: middle;\n",
       "    }\n",
       "\n",
       "    .dataframe tbody tr th {\n",
       "        vertical-align: top;\n",
       "    }\n",
       "\n",
       "    .dataframe thead th {\n",
       "        text-align: right;\n",
       "    }\n",
       "</style>\n",
       "<table border=\"1\" class=\"dataframe\">\n",
       "  <thead>\n",
       "    <tr style=\"text-align: right;\">\n",
       "      <th></th>\n",
       "      <th>return_rate</th>\n",
       "      <th>day_diff</th>\n",
       "      <th>days_since_last</th>\n",
       "      <th>gmv_amount</th>\n",
       "      <th>discount_pct</th>\n",
       "      <th>next_month_delta</th>\n",
       "    </tr>\n",
       "  </thead>\n",
       "  <tbody>\n",
       "    <tr>\n",
       "      <th>count</th>\n",
       "      <td>558514.000</td>\n",
       "      <td>558514.000</td>\n",
       "      <td>558514.000</td>\n",
       "      <td>558514.000</td>\n",
       "      <td>558514.000</td>\n",
       "      <td>558514.000</td>\n",
       "    </tr>\n",
       "    <tr>\n",
       "      <th>mean</th>\n",
       "      <td>0.095</td>\n",
       "      <td>7.184</td>\n",
       "      <td>16.318</td>\n",
       "      <td>1303.149</td>\n",
       "      <td>0.097</td>\n",
       "      <td>-0.615</td>\n",
       "    </tr>\n",
       "    <tr>\n",
       "      <th>std</th>\n",
       "      <td>0.224</td>\n",
       "      <td>14.265</td>\n",
       "      <td>26.783</td>\n",
       "      <td>89319.582</td>\n",
       "      <td>0.159</td>\n",
       "      <td>0.665</td>\n",
       "    </tr>\n",
       "    <tr>\n",
       "      <th>min</th>\n",
       "      <td>0.000</td>\n",
       "      <td>0.000</td>\n",
       "      <td>0.000</td>\n",
       "      <td>18.210</td>\n",
       "      <td>0.000</td>\n",
       "      <td>-1.000</td>\n",
       "    </tr>\n",
       "    <tr>\n",
       "      <th>25%</th>\n",
       "      <td>0.000</td>\n",
       "      <td>0.000</td>\n",
       "      <td>0.000</td>\n",
       "      <td>307.230</td>\n",
       "      <td>0.000</td>\n",
       "      <td>-1.000</td>\n",
       "    </tr>\n",
       "    <tr>\n",
       "      <th>50%</th>\n",
       "      <td>0.000</td>\n",
       "      <td>0.000</td>\n",
       "      <td>0.000</td>\n",
       "      <td>631.560</td>\n",
       "      <td>0.000</td>\n",
       "      <td>-1.000</td>\n",
       "    </tr>\n",
       "    <tr>\n",
       "      <th>75%</th>\n",
       "      <td>0.000</td>\n",
       "      <td>9.000</td>\n",
       "      <td>29.000</td>\n",
       "      <td>1183.317</td>\n",
       "      <td>0.114</td>\n",
       "      <td>-0.444</td>\n",
       "    </tr>\n",
       "    <tr>\n",
       "      <th>max</th>\n",
       "      <td>1.000</td>\n",
       "      <td>91.000</td>\n",
       "      <td>91.000</td>\n",
       "      <td>36391222.510</td>\n",
       "      <td>1.000</td>\n",
       "      <td>1.100</td>\n",
       "    </tr>\n",
       "  </tbody>\n",
       "</table>\n",
       "</div>"
      ],
      "text/plain": [
       "       return_rate   day_diff  days_since_last   gmv_amount  discount_pct  \\\n",
       "count   558514.000 558514.000       558514.000   558514.000    558514.000   \n",
       "mean         0.095      7.184           16.318     1303.149         0.097   \n",
       "std          0.224     14.265           26.783    89319.582         0.159   \n",
       "min          0.000      0.000            0.000       18.210         0.000   \n",
       "25%          0.000      0.000            0.000      307.230         0.000   \n",
       "50%          0.000      0.000            0.000      631.560         0.000   \n",
       "75%          0.000      9.000           29.000     1183.317         0.114   \n",
       "max          1.000     91.000           91.000 36391222.510         1.000   \n",
       "\n",
       "       next_month_delta  \n",
       "count        558514.000  \n",
       "mean             -0.615  \n",
       "std               0.665  \n",
       "min              -1.000  \n",
       "25%              -1.000  \n",
       "50%              -1.000  \n",
       "75%              -0.444  \n",
       "max               1.100  "
      ]
     },
     "execution_count": 61,
     "metadata": {},
     "output_type": "execute_result"
    }
   ],
   "source": [
    "df_train.describe()"
   ]
  },
  {
   "cell_type": "code",
   "execution_count": 62,
   "id": "d7d5c77b",
   "metadata": {},
   "outputs": [
    {
     "data": {
      "text/plain": [
       "Text(0, 0.5, 'Count')"
      ]
     },
     "execution_count": 62,
     "metadata": {},
     "output_type": "execute_result"
    },
    {
     "data": {
      "image/png": "[encoded data removed]",
      "text/plain": [
       "<Figure size 432x288 with 1 Axes>"
      ]
     },
     "metadata": {
      "needs_background": "light"
     },
     "output_type": "display_data"
    }
   ],
   "source": [
    "# Training data are heavily skewed toward -1, a very high chance of having a not so good performing \n",
    "plt.hist(df_train['next_month_delta'], bins = 50)\n",
    "plt.xlabel('Customer Action')\n",
    "plt.ylabel('Count')"
   ]
  },
  {
   "cell_type": "markdown",
   "id": "d0c42453",
   "metadata": {},
   "source": [
    "## Scale Data"
   ]
  },
  {
   "cell_type": "code",
   "execution_count": 63,
   "id": "1ff512bf",
   "metadata": {
    "scrolled": true
   },
   "outputs": [
    {
     "data": {
      "text/html": [
       "<div>\n",
       "<style scoped>\n",
       "    .dataframe tbody tr th:only-of-type {\n",
       "        vertical-align: middle;\n",
       "    }\n",
       "\n",
       "    .dataframe tbody tr th {\n",
       "        vertical-align: top;\n",
       "    }\n",
       "\n",
       "    .dataframe thead th {\n",
       "        text-align: right;\n",
       "    }\n",
       "</style>\n",
       "<table border=\"1\" class=\"dataframe\">\n",
       "  <thead>\n",
       "    <tr style=\"text-align: right;\">\n",
       "      <th></th>\n",
       "      <th>group</th>\n",
       "      <th>customer_id</th>\n",
       "      <th>return_rate</th>\n",
       "      <th>day_diff</th>\n",
       "      <th>days_since_last</th>\n",
       "      <th>gmv_amount</th>\n",
       "      <th>discount_pct</th>\n",
       "      <th>next_month_delta</th>\n",
       "    </tr>\n",
       "  </thead>\n",
       "  <tbody>\n",
       "    <tr>\n",
       "      <th>0</th>\n",
       "      <td>1</td>\n",
       "      <td>100007</td>\n",
       "      <td>0.000</td>\n",
       "      <td>0.000</td>\n",
       "      <td>0.000</td>\n",
       "      <td>544.783</td>\n",
       "      <td>0.000</td>\n",
       "      <td>-1.000</td>\n",
       "    </tr>\n",
       "    <tr>\n",
       "      <th>1</th>\n",
       "      <td>1</td>\n",
       "      <td>100017</td>\n",
       "      <td>0.000</td>\n",
       "      <td>0.000</td>\n",
       "      <td>0.000</td>\n",
       "      <td>773.682</td>\n",
       "      <td>0.000</td>\n",
       "      <td>1.352</td>\n",
       "    </tr>\n",
       "    <tr>\n",
       "      <th>2</th>\n",
       "      <td>1</td>\n",
       "      <td>100022</td>\n",
       "      <td>1.000</td>\n",
       "      <td>0.000</td>\n",
       "      <td>0.000</td>\n",
       "      <td>324.330</td>\n",
       "      <td>0.000</td>\n",
       "      <td>-0.351</td>\n",
       "    </tr>\n",
       "    <tr>\n",
       "      <th>3</th>\n",
       "      <td>1</td>\n",
       "      <td>100032</td>\n",
       "      <td>0.250</td>\n",
       "      <td>0.000</td>\n",
       "      <td>0.000</td>\n",
       "      <td>983.820</td>\n",
       "      <td>0.000</td>\n",
       "      <td>-1.000</td>\n",
       "    </tr>\n",
       "    <tr>\n",
       "      <th>4</th>\n",
       "      <td>1</td>\n",
       "      <td>100051</td>\n",
       "      <td>0.000</td>\n",
       "      <td>43.000</td>\n",
       "      <td>62.000</td>\n",
       "      <td>1399.350</td>\n",
       "      <td>0.049</td>\n",
       "      <td>-0.374</td>\n",
       "    </tr>\n",
       "  </tbody>\n",
       "</table>\n",
       "</div>"
      ],
      "text/plain": [
       "   group customer_id  return_rate  day_diff  days_since_last  gmv_amount  \\\n",
       "0      1      100007        0.000     0.000            0.000     544.783   \n",
       "1      1      100017        0.000     0.000            0.000     773.682   \n",
       "2      1      100022        1.000     0.000            0.000     324.330   \n",
       "3      1      100032        0.250     0.000            0.000     983.820   \n",
       "4      1      100051        0.000    43.000           62.000    1399.350   \n",
       "\n",
       "   discount_pct  next_month_delta  \n",
       "0         0.000            -1.000  \n",
       "1         0.000             1.352  \n",
       "2         0.000            -0.351  \n",
       "3         0.000            -1.000  \n",
       "4         0.049            -0.374  "
      ]
     },
     "execution_count": 63,
     "metadata": {},
     "output_type": "execute_result"
    }
   ],
   "source": [
    "df.head()"
   ]
  },
  {
   "cell_type": "code",
   "execution_count": null,
   "id": "e6441545",
   "metadata": {},
   "outputs": [],
   "source": []
  },
  {
   "cell_type": "code",
   "execution_count": 64,
   "id": "753b4185",
   "metadata": {},
   "outputs": [],
   "source": [
    "def scale_data(x):\n",
    "    label = pd.DataFrame(x['next_month_delta']).reset_index(drop=True)\n",
    "    pre_scale_feature = x.drop('next_month_delta', axis = 1).reset_index(drop=True)\n",
    "\n",
    "    model = StandardScaler()\n",
    "    df_scaled = model.fit_transform(pre_scale_feature)\n",
    "    df_scaled = pd.DataFrame(df_scaled)\n",
    "    df_scaled = pd.concat([df_scaled, label], axis = 1)\n",
    "    df_scaled.columns = x.columns\n",
    "    df_scaled['next_month_delta'] = df_scaled['next_month_delta'].astype(float)\n",
    "    return df_scaled"
   ]
  },
  {
   "cell_type": "code",
   "execution_count": 65,
   "id": "eb13d9e4",
   "metadata": {},
   "outputs": [],
   "source": [
    "df_train_scaled = scale_data(df_train)\n",
    "df_validation_scaled = scale_data(df_validation)"
   ]
  },
  {
   "cell_type": "markdown",
   "id": "f78b9459",
   "metadata": {},
   "source": [
    "# Modelling"
   ]
  },
  {
   "cell_type": "code",
   "execution_count": 66,
   "id": "5701f9ca",
   "metadata": {
    "scrolled": false
   },
   "outputs": [
    {
     "data": {
      "text/html": [
       "<style  type=\"text/css\" >\n",
       "    #T_fd47d_ th {\n",
       "          text-align: left;\n",
       "    }#T_fd47d_row0_col0,#T_fd47d_row0_col1,#T_fd47d_row0_col5,#T_fd47d_row0_col6,#T_fd47d_row1_col0,#T_fd47d_row1_col1,#T_fd47d_row1_col2,#T_fd47d_row1_col3,#T_fd47d_row1_col4,#T_fd47d_row1_col5,#T_fd47d_row1_col6,#T_fd47d_row2_col0,#T_fd47d_row2_col1,#T_fd47d_row2_col2,#T_fd47d_row2_col3,#T_fd47d_row2_col4,#T_fd47d_row2_col5,#T_fd47d_row2_col6,#T_fd47d_row3_col0,#T_fd47d_row3_col1,#T_fd47d_row3_col2,#T_fd47d_row3_col3,#T_fd47d_row3_col4,#T_fd47d_row3_col5,#T_fd47d_row3_col6,#T_fd47d_row4_col0,#T_fd47d_row4_col1,#T_fd47d_row4_col2,#T_fd47d_row4_col3,#T_fd47d_row4_col4,#T_fd47d_row4_col5,#T_fd47d_row4_col6,#T_fd47d_row5_col0,#T_fd47d_row5_col1,#T_fd47d_row5_col2,#T_fd47d_row5_col3,#T_fd47d_row5_col4,#T_fd47d_row5_col5,#T_fd47d_row5_col6,#T_fd47d_row6_col0,#T_fd47d_row6_col1,#T_fd47d_row6_col2,#T_fd47d_row6_col3,#T_fd47d_row6_col4,#T_fd47d_row6_col5,#T_fd47d_row6_col6,#T_fd47d_row7_col0,#T_fd47d_row7_col1,#T_fd47d_row7_col2,#T_fd47d_row7_col3,#T_fd47d_row7_col4,#T_fd47d_row7_col5,#T_fd47d_row7_col6,#T_fd47d_row8_col0,#T_fd47d_row8_col1,#T_fd47d_row8_col2,#T_fd47d_row8_col3,#T_fd47d_row8_col4,#T_fd47d_row8_col5,#T_fd47d_row8_col6,#T_fd47d_row9_col0,#T_fd47d_row9_col1,#T_fd47d_row9_col2,#T_fd47d_row9_col3,#T_fd47d_row9_col4,#T_fd47d_row9_col5,#T_fd47d_row9_col6,#T_fd47d_row10_col0,#T_fd47d_row10_col1,#T_fd47d_row10_col2,#T_fd47d_row10_col3,#T_fd47d_row10_col4,#T_fd47d_row10_col5,#T_fd47d_row10_col6,#T_fd47d_row11_col0,#T_fd47d_row11_col1,#T_fd47d_row11_col2,#T_fd47d_row11_col3,#T_fd47d_row11_col4,#T_fd47d_row11_col5,#T_fd47d_row12_col0,#T_fd47d_row12_col1,#T_fd47d_row12_col2,#T_fd47d_row12_col3,#T_fd47d_row12_col4,#T_fd47d_row12_col5,#T_fd47d_row12_col6,#T_fd47d_row13_col0,#T_fd47d_row13_col1,#T_fd47d_row13_col2,#T_fd47d_row13_col3,#T_fd47d_row13_col4,#T_fd47d_row13_col5,#T_fd47d_row13_col6,#T_fd47d_row14_col0,#T_fd47d_row14_col2,#T_fd47d_row14_col3,#T_fd47d_row14_col4,#T_fd47d_row14_col6,#T_fd47d_row15_col0,#T_fd47d_row15_col1,#T_fd47d_row15_col2,#T_fd47d_row15_col3,#T_fd47d_row15_col4,#T_fd47d_row15_col5,#T_fd47d_row15_col6{\n",
       "            text-align:  left;\n",
       "            text-align:  left;\n",
       "        }#T_fd47d_row0_col2,#T_fd47d_row0_col3,#T_fd47d_row0_col4,#T_fd47d_row11_col6,#T_fd47d_row14_col1,#T_fd47d_row14_col5{\n",
       "            text-align:  left;\n",
       "            text-align:  left;\n",
       "            background-color:  yellow;\n",
       "        }#T_fd47d_row0_col7,#T_fd47d_row1_col7,#T_fd47d_row2_col7,#T_fd47d_row3_col7,#T_fd47d_row5_col7,#T_fd47d_row6_col7,#T_fd47d_row7_col7,#T_fd47d_row8_col7,#T_fd47d_row10_col7,#T_fd47d_row11_col7,#T_fd47d_row12_col7,#T_fd47d_row13_col7,#T_fd47d_row14_col7,#T_fd47d_row15_col7{\n",
       "            text-align:  left;\n",
       "            text-align:  left;\n",
       "            background-color:  lightgrey;\n",
       "        }#T_fd47d_row4_col7,#T_fd47d_row9_col7{\n",
       "            text-align:  left;\n",
       "            text-align:  left;\n",
       "            background-color:  yellow;\n",
       "            background-color:  lightgrey;\n",
       "        }</style><table id=\"T_fd47d_\" ><thead>    <tr>        <th class=\"blank level0\" ></th>        <th class=\"col_heading level0 col0\" >Model</th>        <th class=\"col_heading level0 col1\" >MAE</th>        <th class=\"col_heading level0 col2\" >MSE</th>        <th class=\"col_heading level0 col3\" >RMSE</th>        <th class=\"col_heading level0 col4\" >R2</th>        <th class=\"col_heading level0 col5\" >RMSLE</th>        <th class=\"col_heading level0 col6\" >MAPE</th>        <th class=\"col_heading level0 col7\" >TT (Sec)</th>    </tr></thead><tbody>\n",
       "                <tr>\n",
       "                        <th id=\"T_fd47d_level0_row0\" class=\"row_heading level0 row0\" >lightgbm</th>\n",
       "                        <td id=\"T_fd47d_row0_col0\" class=\"data row0 col0\" >Light Gradient Boosting Machine</td>\n",
       "                        <td id=\"T_fd47d_row0_col1\" class=\"data row0 col1\" >0.4960</td>\n",
       "                        <td id=\"T_fd47d_row0_col2\" class=\"data row0 col2\" >0.4230</td>\n",
       "                        <td id=\"T_fd47d_row0_col3\" class=\"data row0 col3\" >0.6504</td>\n",
       "                        <td id=\"T_fd47d_row0_col4\" class=\"data row0 col4\" >0.0422</td>\n",
       "                        <td id=\"T_fd47d_row0_col5\" class=\"data row0 col5\" >0.2252</td>\n",
       "                        <td id=\"T_fd47d_row0_col6\" class=\"data row0 col6\" >593332716487.8396</td>\n",
       "                        <td id=\"T_fd47d_row0_col7\" class=\"data row0 col7\" >1.4340</td>\n",
       "            </tr>\n",
       "            <tr>\n",
       "                        <th id=\"T_fd47d_level0_row1\" class=\"row_heading level0 row1\" >catboost</th>\n",
       "                        <td id=\"T_fd47d_row1_col0\" class=\"data row1 col0\" >CatBoost Regressor</td>\n",
       "                        <td id=\"T_fd47d_row1_col1\" class=\"data row1 col1\" >0.4957</td>\n",
       "                        <td id=\"T_fd47d_row1_col2\" class=\"data row1 col2\" >0.4237</td>\n",
       "                        <td id=\"T_fd47d_row1_col3\" class=\"data row1 col3\" >0.6510</td>\n",
       "                        <td id=\"T_fd47d_row1_col4\" class=\"data row1 col4\" >0.0406</td>\n",
       "                        <td id=\"T_fd47d_row1_col5\" class=\"data row1 col5\" >0.2267</td>\n",
       "                        <td id=\"T_fd47d_row1_col6\" class=\"data row1 col6\" >610745487570.2253</td>\n",
       "                        <td id=\"T_fd47d_row1_col7\" class=\"data row1 col7\" >5.7380</td>\n",
       "            </tr>\n",
       "            <tr>\n",
       "                        <th id=\"T_fd47d_level0_row2\" class=\"row_heading level0 row2\" >xgboost</th>\n",
       "                        <td id=\"T_fd47d_row2_col0\" class=\"data row2 col0\" >Extreme Gradient Boosting</td>\n",
       "                        <td id=\"T_fd47d_row2_col1\" class=\"data row2 col1\" >0.4949</td>\n",
       "                        <td id=\"T_fd47d_row2_col2\" class=\"data row2 col2\" >0.4239</td>\n",
       "                        <td id=\"T_fd47d_row2_col3\" class=\"data row2 col3\" >0.6511</td>\n",
       "                        <td id=\"T_fd47d_row2_col4\" class=\"data row2 col4\" >0.0403</td>\n",
       "                        <td id=\"T_fd47d_row2_col5\" class=\"data row2 col5\" >0.2286</td>\n",
       "                        <td id=\"T_fd47d_row2_col6\" class=\"data row2 col6\" >592962066841.6000</td>\n",
       "                        <td id=\"T_fd47d_row2_col7\" class=\"data row2 col7\" >2.1300</td>\n",
       "            </tr>\n",
       "            <tr>\n",
       "                        <th id=\"T_fd47d_level0_row3\" class=\"row_heading level0 row3\" >lr</th>\n",
       "                        <td id=\"T_fd47d_row3_col0\" class=\"data row3 col0\" >Linear Regression</td>\n",
       "                        <td id=\"T_fd47d_row3_col1\" class=\"data row3 col1\" >0.5058</td>\n",
       "                        <td id=\"T_fd47d_row3_col2\" class=\"data row3 col2\" >0.4313</td>\n",
       "                        <td id=\"T_fd47d_row3_col3\" class=\"data row3 col3\" >0.6567</td>\n",
       "                        <td id=\"T_fd47d_row3_col4\" class=\"data row3 col4\" >0.0235</td>\n",
       "                        <td id=\"T_fd47d_row3_col5\" class=\"data row3 col5\" >0.2237</td>\n",
       "                        <td id=\"T_fd47d_row3_col6\" class=\"data row3 col6\" >607525869977.6000</td>\n",
       "                        <td id=\"T_fd47d_row3_col7\" class=\"data row3 col7\" >0.0400</td>\n",
       "            </tr>\n",
       "            <tr>\n",
       "                        <th id=\"T_fd47d_level0_row4\" class=\"row_heading level0 row4\" >ridge</th>\n",
       "                        <td id=\"T_fd47d_row4_col0\" class=\"data row4 col0\" >Ridge Regression</td>\n",
       "                        <td id=\"T_fd47d_row4_col1\" class=\"data row4 col1\" >0.5058</td>\n",
       "                        <td id=\"T_fd47d_row4_col2\" class=\"data row4 col2\" >0.4313</td>\n",
       "                        <td id=\"T_fd47d_row4_col3\" class=\"data row4 col3\" >0.6567</td>\n",
       "                        <td id=\"T_fd47d_row4_col4\" class=\"data row4 col4\" >0.0235</td>\n",
       "                        <td id=\"T_fd47d_row4_col5\" class=\"data row4 col5\" >0.2237</td>\n",
       "                        <td id=\"T_fd47d_row4_col6\" class=\"data row4 col6\" >607526007603.2000</td>\n",
       "                        <td id=\"T_fd47d_row4_col7\" class=\"data row4 col7\" >0.0300</td>\n",
       "            </tr>\n",
       "            <tr>\n",
       "                        <th id=\"T_fd47d_level0_row5\" class=\"row_heading level0 row5\" >lar</th>\n",
       "                        <td id=\"T_fd47d_row5_col0\" class=\"data row5 col0\" >Least Angle Regression</td>\n",
       "                        <td id=\"T_fd47d_row5_col1\" class=\"data row5 col1\" >0.5058</td>\n",
       "                        <td id=\"T_fd47d_row5_col2\" class=\"data row5 col2\" >0.4313</td>\n",
       "                        <td id=\"T_fd47d_row5_col3\" class=\"data row5 col3\" >0.6567</td>\n",
       "                        <td id=\"T_fd47d_row5_col4\" class=\"data row5 col4\" >0.0235</td>\n",
       "                        <td id=\"T_fd47d_row5_col5\" class=\"data row5 col5\" >0.2237</td>\n",
       "                        <td id=\"T_fd47d_row5_col6\" class=\"data row5 col6\" >607525880082.3865</td>\n",
       "                        <td id=\"T_fd47d_row5_col7\" class=\"data row5 col7\" >0.0340</td>\n",
       "            </tr>\n",
       "            <tr>\n",
       "                        <th id=\"T_fd47d_level0_row6\" class=\"row_heading level0 row6\" >br</th>\n",
       "                        <td id=\"T_fd47d_row6_col0\" class=\"data row6 col0\" >Bayesian Ridge</td>\n",
       "                        <td id=\"T_fd47d_row6_col1\" class=\"data row6 col1\" >0.5058</td>\n",
       "                        <td id=\"T_fd47d_row6_col2\" class=\"data row6 col2\" >0.4313</td>\n",
       "                        <td id=\"T_fd47d_row6_col3\" class=\"data row6 col3\" >0.6567</td>\n",
       "                        <td id=\"T_fd47d_row6_col4\" class=\"data row6 col4\" >0.0235</td>\n",
       "                        <td id=\"T_fd47d_row6_col5\" class=\"data row6 col5\" >0.2237</td>\n",
       "                        <td id=\"T_fd47d_row6_col6\" class=\"data row6 col6\" >607539489454.1920</td>\n",
       "                        <td id=\"T_fd47d_row6_col7\" class=\"data row6 col7\" >0.0560</td>\n",
       "            </tr>\n",
       "            <tr>\n",
       "                        <th id=\"T_fd47d_level0_row7\" class=\"row_heading level0 row7\" >omp</th>\n",
       "                        <td id=\"T_fd47d_row7_col0\" class=\"data row7 col0\" >Orthogonal Matching Pursuit</td>\n",
       "                        <td id=\"T_fd47d_row7_col1\" class=\"data row7 col1\" >0.5122</td>\n",
       "                        <td id=\"T_fd47d_row7_col2\" class=\"data row7 col2\" >0.4363</td>\n",
       "                        <td id=\"T_fd47d_row7_col3\" class=\"data row7 col3\" >0.6605</td>\n",
       "                        <td id=\"T_fd47d_row7_col4\" class=\"data row7 col4\" >0.0122</td>\n",
       "                        <td id=\"T_fd47d_row7_col5\" class=\"data row7 col5\" >0.2224</td>\n",
       "                        <td id=\"T_fd47d_row7_col6\" class=\"data row7 col6\" >639055090073.1791</td>\n",
       "                        <td id=\"T_fd47d_row7_col7\" class=\"data row7 col7\" >0.0340</td>\n",
       "            </tr>\n",
       "            <tr>\n",
       "                        <th id=\"T_fd47d_level0_row8\" class=\"row_heading level0 row8\" >lasso</th>\n",
       "                        <td id=\"T_fd47d_row8_col0\" class=\"data row8 col0\" >Lasso Regression</td>\n",
       "                        <td id=\"T_fd47d_row8_col1\" class=\"data row8 col1\" >0.5203</td>\n",
       "                        <td id=\"T_fd47d_row8_col2\" class=\"data row8 col2\" >0.4417</td>\n",
       "                        <td id=\"T_fd47d_row8_col3\" class=\"data row8 col3\" >0.6646</td>\n",
       "                        <td id=\"T_fd47d_row8_col4\" class=\"data row8 col4\" >-0.0000</td>\n",
       "                        <td id=\"T_fd47d_row8_col5\" class=\"data row8 col5\" >0.2220</td>\n",
       "                        <td id=\"T_fd47d_row8_col6\" class=\"data row8 col6\" >649302042214.4000</td>\n",
       "                        <td id=\"T_fd47d_row8_col7\" class=\"data row8 col7\" >0.0320</td>\n",
       "            </tr>\n",
       "            <tr>\n",
       "                        <th id=\"T_fd47d_level0_row9\" class=\"row_heading level0 row9\" >en</th>\n",
       "                        <td id=\"T_fd47d_row9_col0\" class=\"data row9 col0\" >Elastic Net</td>\n",
       "                        <td id=\"T_fd47d_row9_col1\" class=\"data row9 col1\" >0.5203</td>\n",
       "                        <td id=\"T_fd47d_row9_col2\" class=\"data row9 col2\" >0.4417</td>\n",
       "                        <td id=\"T_fd47d_row9_col3\" class=\"data row9 col3\" >0.6646</td>\n",
       "                        <td id=\"T_fd47d_row9_col4\" class=\"data row9 col4\" >-0.0000</td>\n",
       "                        <td id=\"T_fd47d_row9_col5\" class=\"data row9 col5\" >0.2220</td>\n",
       "                        <td id=\"T_fd47d_row9_col6\" class=\"data row9 col6\" >649302042214.4000</td>\n",
       "                        <td id=\"T_fd47d_row9_col7\" class=\"data row9 col7\" >0.0300</td>\n",
       "            </tr>\n",
       "            <tr>\n",
       "                        <th id=\"T_fd47d_level0_row10\" class=\"row_heading level0 row10\" >llar</th>\n",
       "                        <td id=\"T_fd47d_row10_col0\" class=\"data row10 col0\" >Lasso Least Angle Regression</td>\n",
       "                        <td id=\"T_fd47d_row10_col1\" class=\"data row10 col1\" >0.5203</td>\n",
       "                        <td id=\"T_fd47d_row10_col2\" class=\"data row10 col2\" >0.4417</td>\n",
       "                        <td id=\"T_fd47d_row10_col3\" class=\"data row10 col3\" >0.6646</td>\n",
       "                        <td id=\"T_fd47d_row10_col4\" class=\"data row10 col4\" >-0.0000</td>\n",
       "                        <td id=\"T_fd47d_row10_col5\" class=\"data row10 col5\" >0.2220</td>\n",
       "                        <td id=\"T_fd47d_row10_col6\" class=\"data row10 col6\" >649302031661.1069</td>\n",
       "                        <td id=\"T_fd47d_row10_col7\" class=\"data row10 col7\" >0.0320</td>\n",
       "            </tr>\n",
       "            <tr>\n",
       "                        <th id=\"T_fd47d_level0_row11\" class=\"row_heading level0 row11\" >ada</th>\n",
       "                        <td id=\"T_fd47d_row11_col0\" class=\"data row11 col0\" >AdaBoost Regressor</td>\n",
       "                        <td id=\"T_fd47d_row11_col1\" class=\"data row11 col1\" >0.5858</td>\n",
       "                        <td id=\"T_fd47d_row11_col2\" class=\"data row11 col2\" >0.4605</td>\n",
       "                        <td id=\"T_fd47d_row11_col3\" class=\"data row11 col3\" >0.6786</td>\n",
       "                        <td id=\"T_fd47d_row11_col4\" class=\"data row11 col4\" >-0.0427</td>\n",
       "                        <td id=\"T_fd47d_row11_col5\" class=\"data row11 col5\" >0.2998</td>\n",
       "                        <td id=\"T_fd47d_row11_col6\" class=\"data row11 col6\" >465489131628.2905</td>\n",
       "                        <td id=\"T_fd47d_row11_col7\" class=\"data row11 col7\" >2.1840</td>\n",
       "            </tr>\n",
       "            <tr>\n",
       "                        <th id=\"T_fd47d_level0_row12\" class=\"row_heading level0 row12\" >et</th>\n",
       "                        <td id=\"T_fd47d_row12_col0\" class=\"data row12 col0\" >Extra Trees Regressor</td>\n",
       "                        <td id=\"T_fd47d_row12_col1\" class=\"data row12 col1\" >0.5054</td>\n",
       "                        <td id=\"T_fd47d_row12_col2\" class=\"data row12 col2\" >0.4721</td>\n",
       "                        <td id=\"T_fd47d_row12_col3\" class=\"data row12 col3\" >0.6871</td>\n",
       "                        <td id=\"T_fd47d_row12_col4\" class=\"data row12 col4\" >-0.0688</td>\n",
       "                        <td id=\"T_fd47d_row12_col5\" class=\"data row12 col5\" >0.2537</td>\n",
       "                        <td id=\"T_fd47d_row12_col6\" class=\"data row12 col6\" >657166791230.7286</td>\n",
       "                        <td id=\"T_fd47d_row12_col7\" class=\"data row12 col7\" >21.7820</td>\n",
       "            </tr>\n",
       "            <tr>\n",
       "                        <th id=\"T_fd47d_level0_row13\" class=\"row_heading level0 row13\" >dt</th>\n",
       "                        <td id=\"T_fd47d_row13_col0\" class=\"data row13 col0\" >Decision Tree Regressor</td>\n",
       "                        <td id=\"T_fd47d_row13_col1\" class=\"data row13 col1\" >0.5445</td>\n",
       "                        <td id=\"T_fd47d_row13_col2\" class=\"data row13 col2\" >0.6086</td>\n",
       "                        <td id=\"T_fd47d_row13_col3\" class=\"data row13 col3\" >0.7802</td>\n",
       "                        <td id=\"T_fd47d_row13_col4\" class=\"data row13 col4\" >-0.3780</td>\n",
       "                        <td id=\"T_fd47d_row13_col5\" class=\"data row13 col5\" >0.2555</td>\n",
       "                        <td id=\"T_fd47d_row13_col6\" class=\"data row13 col6\" >779561612740.4856</td>\n",
       "                        <td id=\"T_fd47d_row13_col7\" class=\"data row13 col7\" >1.0220</td>\n",
       "            </tr>\n",
       "            <tr>\n",
       "                        <th id=\"T_fd47d_level0_row14\" class=\"row_heading level0 row14\" >huber</th>\n",
       "                        <td id=\"T_fd47d_row14_col0\" class=\"data row14 col0\" >Huber Regressor</td>\n",
       "                        <td id=\"T_fd47d_row14_col1\" class=\"data row14 col1\" >0.3903</td>\n",
       "                        <td id=\"T_fd47d_row14_col2\" class=\"data row14 col2\" >1.4254</td>\n",
       "                        <td id=\"T_fd47d_row14_col3\" class=\"data row14 col3\" >1.0310</td>\n",
       "                        <td id=\"T_fd47d_row14_col4\" class=\"data row14 col4\" >-2.2425</td>\n",
       "                        <td id=\"T_fd47d_row14_col5\" class=\"data row14 col5\" >0.1865</td>\n",
       "                        <td id=\"T_fd47d_row14_col6\" class=\"data row14 col6\" >948009035816.4069</td>\n",
       "                        <td id=\"T_fd47d_row14_col7\" class=\"data row14 col7\" >1.1820</td>\n",
       "            </tr>\n",
       "            <tr>\n",
       "                        <th id=\"T_fd47d_level0_row15\" class=\"row_heading level0 row15\" >par</th>\n",
       "                        <td id=\"T_fd47d_row15_col0\" class=\"data row15 col0\" >Passive Aggressive Regressor</td>\n",
       "                        <td id=\"T_fd47d_row15_col1\" class=\"data row15 col1\" >0.8088</td>\n",
       "                        <td id=\"T_fd47d_row15_col2\" class=\"data row15 col2\" >1.7856</td>\n",
       "                        <td id=\"T_fd47d_row15_col3\" class=\"data row15 col3\" >1.2878</td>\n",
       "                        <td id=\"T_fd47d_row15_col4\" class=\"data row15 col4\" >-3.0451</td>\n",
       "                        <td id=\"T_fd47d_row15_col5\" class=\"data row15 col5\" >0.2885</td>\n",
       "                        <td id=\"T_fd47d_row15_col6\" class=\"data row15 col6\" >1072005413614.9766</td>\n",
       "                        <td id=\"T_fd47d_row15_col7\" class=\"data row15 col7\" >0.2400</td>\n",
       "            </tr>\n",
       "    </tbody></table>"
      ],
      "text/plain": [
       "<pandas.io.formats.style.Styler at 0x289f178fd00>"
      ]
     },
     "metadata": {},
     "output_type": "display_data"
    },
    {
     "data": {
      "application/vnd.jupyter.widget-view+json": {
       "model_id": "27d50069ca2e409799cf52ec9cbf2e0a",
       "version_major": 2,
       "version_minor": 0
      },
      "text/plain": [
       "interactive(children=(ToggleButtons(description='Plot Type:', icons=('',), options=(('Hyperparameters', 'param…"
      ]
     },
     "metadata": {},
     "output_type": "display_data"
    }
   ],
   "source": [
    "s = setup(df_train_scaled, target='next_month_delta', use_gpu = True, fold=5)\n",
    "# excluding some model that takes very long to run\n",
    "best = compare_models(exclude = ['knn', 'rf', 'gbr'])\n",
    "evaluate_model(best)"
   ]
  },
  {
   "cell_type": "code",
   "execution_count": 67,
   "id": "6cf702b8",
   "metadata": {},
   "outputs": [
    {
     "data": {
      "text/html": [
       "<style  type=\"text/css\" >\n",
       "#T_a3ba5_row5_col0,#T_a3ba5_row5_col1,#T_a3ba5_row5_col2,#T_a3ba5_row5_col3,#T_a3ba5_row5_col4,#T_a3ba5_row5_col5{\n",
       "            background:  yellow;\n",
       "        }</style><table id=\"T_a3ba5_\" ><thead>    <tr>        <th class=\"blank level0\" ></th>        <th class=\"col_heading level0 col0\" >MAE</th>        <th class=\"col_heading level0 col1\" >MSE</th>        <th class=\"col_heading level0 col2\" >RMSE</th>        <th class=\"col_heading level0 col3\" >R2</th>        <th class=\"col_heading level0 col4\" >RMSLE</th>        <th class=\"col_heading level0 col5\" >MAPE</th>    </tr></thead><tbody>\n",
       "                <tr>\n",
       "                        <th id=\"T_a3ba5_level0_row0\" class=\"row_heading level0 row0\" >0</th>\n",
       "                        <td id=\"T_a3ba5_row0_col0\" class=\"data row0 col0\" >0.4957</td>\n",
       "                        <td id=\"T_a3ba5_row0_col1\" class=\"data row0 col1\" >0.4237</td>\n",
       "                        <td id=\"T_a3ba5_row0_col2\" class=\"data row0 col2\" >0.6509</td>\n",
       "                        <td id=\"T_a3ba5_row0_col3\" class=\"data row0 col3\" >0.0429</td>\n",
       "                        <td id=\"T_a3ba5_row0_col4\" class=\"data row0 col4\" >0.2243</td>\n",
       "                        <td id=\"T_a3ba5_row0_col5\" class=\"data row0 col5\" >594493596750.3923</td>\n",
       "            </tr>\n",
       "            <tr>\n",
       "                        <th id=\"T_a3ba5_level0_row1\" class=\"row_heading level0 row1\" >1</th>\n",
       "                        <td id=\"T_a3ba5_row1_col0\" class=\"data row1 col0\" >0.4966</td>\n",
       "                        <td id=\"T_a3ba5_row1_col1\" class=\"data row1 col1\" >0.4254</td>\n",
       "                        <td id=\"T_a3ba5_row1_col2\" class=\"data row1 col2\" >0.6522</td>\n",
       "                        <td id=\"T_a3ba5_row1_col3\" class=\"data row1 col3\" >0.0415</td>\n",
       "                        <td id=\"T_a3ba5_row1_col4\" class=\"data row1 col4\" >0.2246</td>\n",
       "                        <td id=\"T_a3ba5_row1_col5\" class=\"data row1 col5\" >521525243733.1169</td>\n",
       "            </tr>\n",
       "            <tr>\n",
       "                        <th id=\"T_a3ba5_level0_row2\" class=\"row_heading level0 row2\" >2</th>\n",
       "                        <td id=\"T_a3ba5_row2_col0\" class=\"data row2 col0\" >0.4965</td>\n",
       "                        <td id=\"T_a3ba5_row2_col1\" class=\"data row2 col1\" >0.4220</td>\n",
       "                        <td id=\"T_a3ba5_row2_col2\" class=\"data row2 col2\" >0.6496</td>\n",
       "                        <td id=\"T_a3ba5_row2_col3\" class=\"data row2 col3\" >0.0418</td>\n",
       "                        <td id=\"T_a3ba5_row2_col4\" class=\"data row2 col4\" >0.2264</td>\n",
       "                        <td id=\"T_a3ba5_row2_col5\" class=\"data row2 col5\" >826999243218.6724</td>\n",
       "            </tr>\n",
       "            <tr>\n",
       "                        <th id=\"T_a3ba5_level0_row3\" class=\"row_heading level0 row3\" >3</th>\n",
       "                        <td id=\"T_a3ba5_row3_col0\" class=\"data row3 col0\" >0.4966</td>\n",
       "                        <td id=\"T_a3ba5_row3_col1\" class=\"data row3 col1\" >0.4241</td>\n",
       "                        <td id=\"T_a3ba5_row3_col2\" class=\"data row3 col2\" >0.6512</td>\n",
       "                        <td id=\"T_a3ba5_row3_col3\" class=\"data row3 col3\" >0.0431</td>\n",
       "                        <td id=\"T_a3ba5_row3_col4\" class=\"data row3 col4\" >0.2254</td>\n",
       "                        <td id=\"T_a3ba5_row3_col5\" class=\"data row3 col5\" >438879476461.2074</td>\n",
       "            </tr>\n",
       "            <tr>\n",
       "                        <th id=\"T_a3ba5_level0_row4\" class=\"row_heading level0 row4\" >4</th>\n",
       "                        <td id=\"T_a3ba5_row4_col0\" class=\"data row4 col0\" >0.4947</td>\n",
       "                        <td id=\"T_a3ba5_row4_col1\" class=\"data row4 col1\" >0.4201</td>\n",
       "                        <td id=\"T_a3ba5_row4_col2\" class=\"data row4 col2\" >0.6482</td>\n",
       "                        <td id=\"T_a3ba5_row4_col3\" class=\"data row4 col3\" >0.0417</td>\n",
       "                        <td id=\"T_a3ba5_row4_col4\" class=\"data row4 col4\" >0.2253</td>\n",
       "                        <td id=\"T_a3ba5_row4_col5\" class=\"data row4 col5\" >584766012784.4224</td>\n",
       "            </tr>\n",
       "            <tr>\n",
       "                        <th id=\"T_a3ba5_level0_row5\" class=\"row_heading level0 row5\" >Mean</th>\n",
       "                        <td id=\"T_a3ba5_row5_col0\" class=\"data row5 col0\" >0.4960</td>\n",
       "                        <td id=\"T_a3ba5_row5_col1\" class=\"data row5 col1\" >0.4230</td>\n",
       "                        <td id=\"T_a3ba5_row5_col2\" class=\"data row5 col2\" >0.6504</td>\n",
       "                        <td id=\"T_a3ba5_row5_col3\" class=\"data row5 col3\" >0.0422</td>\n",
       "                        <td id=\"T_a3ba5_row5_col4\" class=\"data row5 col4\" >0.2252</td>\n",
       "                        <td id=\"T_a3ba5_row5_col5\" class=\"data row5 col5\" >593332714589.5623</td>\n",
       "            </tr>\n",
       "            <tr>\n",
       "                        <th id=\"T_a3ba5_level0_row6\" class=\"row_heading level0 row6\" >SD</th>\n",
       "                        <td id=\"T_a3ba5_row6_col0\" class=\"data row6 col0\" >0.0008</td>\n",
       "                        <td id=\"T_a3ba5_row6_col1\" class=\"data row6 col1\" >0.0018</td>\n",
       "                        <td id=\"T_a3ba5_row6_col2\" class=\"data row6 col2\" >0.0014</td>\n",
       "                        <td id=\"T_a3ba5_row6_col3\" class=\"data row6 col3\" >0.0007</td>\n",
       "                        <td id=\"T_a3ba5_row6_col4\" class=\"data row6 col4\" >0.0007</td>\n",
       "                        <td id=\"T_a3ba5_row6_col5\" class=\"data row6 col5\" >129373025216.1723</td>\n",
       "            </tr>\n",
       "    </tbody></table>"
      ],
      "text/plain": [
       "<pandas.io.formats.style.Styler at 0x289ef902670>"
      ]
     },
     "metadata": {},
     "output_type": "display_data"
    }
   ],
   "source": [
    "lightgbm = create_model('lightgbm')"
   ]
  },
  {
   "cell_type": "code",
   "execution_count": 68,
   "id": "bb717afa",
   "metadata": {},
   "outputs": [
    {
     "data": {
      "text/html": [
       "<style  type=\"text/css\" >\n",
       "#T_3cdc4_row5_col0,#T_3cdc4_row5_col1,#T_3cdc4_row5_col2,#T_3cdc4_row5_col3,#T_3cdc4_row5_col4,#T_3cdc4_row5_col5{\n",
       "            background:  yellow;\n",
       "        }</style><table id=\"T_3cdc4_\" ><thead>    <tr>        <th class=\"blank level0\" ></th>        <th class=\"col_heading level0 col0\" >MAE</th>        <th class=\"col_heading level0 col1\" >MSE</th>        <th class=\"col_heading level0 col2\" >RMSE</th>        <th class=\"col_heading level0 col3\" >R2</th>        <th class=\"col_heading level0 col4\" >RMSLE</th>        <th class=\"col_heading level0 col5\" >MAPE</th>    </tr></thead><tbody>\n",
       "                <tr>\n",
       "                        <th id=\"T_3cdc4_level0_row0\" class=\"row_heading level0 row0\" >0</th>\n",
       "                        <td id=\"T_3cdc4_row0_col0\" class=\"data row0 col0\" >0.4957</td>\n",
       "                        <td id=\"T_3cdc4_row0_col1\" class=\"data row0 col1\" >0.4237</td>\n",
       "                        <td id=\"T_3cdc4_row0_col2\" class=\"data row0 col2\" >0.6509</td>\n",
       "                        <td id=\"T_3cdc4_row0_col3\" class=\"data row0 col3\" >0.0428</td>\n",
       "                        <td id=\"T_3cdc4_row0_col4\" class=\"data row0 col4\" >0.2242</td>\n",
       "                        <td id=\"T_3cdc4_row0_col5\" class=\"data row0 col5\" >590120522749.9976</td>\n",
       "            </tr>\n",
       "            <tr>\n",
       "                        <th id=\"T_3cdc4_level0_row1\" class=\"row_heading level0 row1\" >1</th>\n",
       "                        <td id=\"T_3cdc4_row1_col0\" class=\"data row1 col0\" >0.4964</td>\n",
       "                        <td id=\"T_3cdc4_row1_col1\" class=\"data row1 col1\" >0.4253</td>\n",
       "                        <td id=\"T_3cdc4_row1_col2\" class=\"data row1 col2\" >0.6521</td>\n",
       "                        <td id=\"T_3cdc4_row1_col3\" class=\"data row1 col3\" >0.0417</td>\n",
       "                        <td id=\"T_3cdc4_row1_col4\" class=\"data row1 col4\" >0.2246</td>\n",
       "                        <td id=\"T_3cdc4_row1_col5\" class=\"data row1 col5\" >523583473802.6279</td>\n",
       "            </tr>\n",
       "            <tr>\n",
       "                        <th id=\"T_3cdc4_level0_row2\" class=\"row_heading level0 row2\" >2</th>\n",
       "                        <td id=\"T_3cdc4_row2_col0\" class=\"data row2 col0\" >0.4964</td>\n",
       "                        <td id=\"T_3cdc4_row2_col1\" class=\"data row2 col1\" >0.4220</td>\n",
       "                        <td id=\"T_3cdc4_row2_col2\" class=\"data row2 col2\" >0.6496</td>\n",
       "                        <td id=\"T_3cdc4_row2_col3\" class=\"data row2 col3\" >0.0419</td>\n",
       "                        <td id=\"T_3cdc4_row2_col4\" class=\"data row2 col4\" >0.2261</td>\n",
       "                        <td id=\"T_3cdc4_row2_col5\" class=\"data row2 col5\" >825822040046.3713</td>\n",
       "            </tr>\n",
       "            <tr>\n",
       "                        <th id=\"T_3cdc4_level0_row3\" class=\"row_heading level0 row3\" >3</th>\n",
       "                        <td id=\"T_3cdc4_row3_col0\" class=\"data row3 col0\" >0.4965</td>\n",
       "                        <td id=\"T_3cdc4_row3_col1\" class=\"data row3 col1\" >0.4240</td>\n",
       "                        <td id=\"T_3cdc4_row3_col2\" class=\"data row3 col2\" >0.6512</td>\n",
       "                        <td id=\"T_3cdc4_row3_col3\" class=\"data row3 col3\" >0.0432</td>\n",
       "                        <td id=\"T_3cdc4_row3_col4\" class=\"data row3 col4\" >0.2253</td>\n",
       "                        <td id=\"T_3cdc4_row3_col5\" class=\"data row3 col5\" >435993681644.4872</td>\n",
       "            </tr>\n",
       "            <tr>\n",
       "                        <th id=\"T_3cdc4_level0_row4\" class=\"row_heading level0 row4\" >4</th>\n",
       "                        <td id=\"T_3cdc4_row4_col0\" class=\"data row4 col0\" >0.4945</td>\n",
       "                        <td id=\"T_3cdc4_row4_col1\" class=\"data row4 col1\" >0.4199</td>\n",
       "                        <td id=\"T_3cdc4_row4_col2\" class=\"data row4 col2\" >0.6480</td>\n",
       "                        <td id=\"T_3cdc4_row4_col3\" class=\"data row4 col3\" >0.0421</td>\n",
       "                        <td id=\"T_3cdc4_row4_col4\" class=\"data row4 col4\" >0.2251</td>\n",
       "                        <td id=\"T_3cdc4_row4_col5\" class=\"data row4 col5\" >569562767835.3214</td>\n",
       "            </tr>\n",
       "            <tr>\n",
       "                        <th id=\"T_3cdc4_level0_row5\" class=\"row_heading level0 row5\" >Mean</th>\n",
       "                        <td id=\"T_3cdc4_row5_col0\" class=\"data row5 col0\" >0.4959</td>\n",
       "                        <td id=\"T_3cdc4_row5_col1\" class=\"data row5 col1\" >0.4230</td>\n",
       "                        <td id=\"T_3cdc4_row5_col2\" class=\"data row5 col2\" >0.6504</td>\n",
       "                        <td id=\"T_3cdc4_row5_col3\" class=\"data row5 col3\" >0.0424</td>\n",
       "                        <td id=\"T_3cdc4_row5_col4\" class=\"data row5 col4\" >0.2250</td>\n",
       "                        <td id=\"T_3cdc4_row5_col5\" class=\"data row5 col5\" >589016497215.7610</td>\n",
       "            </tr>\n",
       "            <tr>\n",
       "                        <th id=\"T_3cdc4_level0_row6\" class=\"row_heading level0 row6\" >SD</th>\n",
       "                        <td id=\"T_3cdc4_row6_col0\" class=\"data row6 col0\" >0.0008</td>\n",
       "                        <td id=\"T_3cdc4_row6_col1\" class=\"data row6 col1\" >0.0019</td>\n",
       "                        <td id=\"T_3cdc4_row6_col2\" class=\"data row6 col2\" >0.0014</td>\n",
       "                        <td id=\"T_3cdc4_row6_col3\" class=\"data row6 col3\" >0.0005</td>\n",
       "                        <td id=\"T_3cdc4_row6_col4\" class=\"data row6 col4\" >0.0007</td>\n",
       "                        <td id=\"T_3cdc4_row6_col5\" class=\"data row6 col5\" >129733568680.4548</td>\n",
       "            </tr>\n",
       "    </tbody></table>"
      ],
      "text/plain": [
       "<pandas.io.formats.style.Styler at 0x289f0dce1f0>"
      ]
     },
     "metadata": {},
     "output_type": "display_data"
    }
   ],
   "source": [
    "tuned_lightgbm = tune_model(lightgbm)"
   ]
  },
  {
   "cell_type": "code",
   "execution_count": 69,
   "id": "6dd017f2",
   "metadata": {},
   "outputs": [
    {
     "name": "stdout",
     "output_type": "stream",
     "text": [
      "LGBMRegressor(bagging_fraction=0.6, bagging_freq=0, boosting_type='gbdt',\n",
      "              class_weight=None, colsample_bytree=1.0, device='gpu',\n",
      "              feature_fraction=0.6, importance_type='split', learning_rate=0.2,\n",
      "              max_depth=-1, min_child_samples=51, min_child_weight=0.001,\n",
      "              min_split_gain=0.6, n_estimators=170, n_jobs=-1, num_leaves=80,\n",
      "              objective=None, random_state=2004, reg_alpha=0.2,\n",
      "              reg_lambda=0.0001, silent=True, subsample=1.0,\n",
      "              subsample_for_bin=200000, subsample_freq=0)\n"
     ]
    }
   ],
   "source": [
    "print(tuned_lightgbm)"
   ]
  },
  {
   "cell_type": "code",
   "execution_count": 70,
   "id": "be61f981",
   "metadata": {},
   "outputs": [
    {
     "name": "stdout",
     "output_type": "stream",
     "text": [
      "[LightGBM] [Warning] feature_fraction is set=0.6, colsample_bytree=1.0 will be ignored. Current value: feature_fraction=0.6\n",
      "[LightGBM] [Warning] bagging_fraction is set=0.6, subsample=1.0 will be ignored. Current value: bagging_fraction=0.6\n",
      "[LightGBM] [Warning] bagging_freq is set=0, subsample_freq=0 will be ignored. Current value: bagging_freq=0\n",
      "[LightGBM] [Warning] feature_fraction is set=0.6, colsample_bytree=1.0 will be ignored. Current value: feature_fraction=0.6\n",
      "[LightGBM] [Warning] bagging_fraction is set=0.6, subsample=1.0 will be ignored. Current value: bagging_fraction=0.6\n",
      "[LightGBM] [Warning] bagging_freq is set=0, subsample_freq=0 will be ignored. Current value: bagging_freq=0\n",
      "[LightGBM] [Warning] feature_fraction is set=0.6, colsample_bytree=1.0 will be ignored. Current value: feature_fraction=0.6\n",
      "[LightGBM] [Warning] bagging_fraction is set=0.6, subsample=1.0 will be ignored. Current value: bagging_fraction=0.6\n",
      "[LightGBM] [Warning] bagging_freq is set=0, subsample_freq=0 will be ignored. Current value: bagging_freq=0\n",
      "[LightGBM] [Warning] feature_fraction is set=0.6, colsample_bytree=1.0 will be ignored. Current value: feature_fraction=0.6\n",
      "[LightGBM] [Warning] bagging_fraction is set=0.6, subsample=1.0 will be ignored. Current value: bagging_fraction=0.6\n",
      "[LightGBM] [Warning] bagging_freq is set=0, subsample_freq=0 will be ignored. Current value: bagging_freq=0\n"
     ]
    }
   ],
   "source": [
    "final_lightgbm = finalize_model(tuned_lightgbm)"
   ]
  },
  {
   "cell_type": "code",
   "execution_count": 71,
   "id": "eba26d55",
   "metadata": {},
   "outputs": [],
   "source": [
    "unseen_predictions = predict_model(final_lightgbm, data=df_validation_scaled)"
   ]
  },
  {
   "cell_type": "code",
   "execution_count": 72,
   "id": "cb84e478",
   "metadata": {},
   "outputs": [
    {
     "data": {
      "text/html": [
       "<div>\n",
       "<style scoped>\n",
       "    .dataframe tbody tr th:only-of-type {\n",
       "        vertical-align: middle;\n",
       "    }\n",
       "\n",
       "    .dataframe tbody tr th {\n",
       "        vertical-align: top;\n",
       "    }\n",
       "\n",
       "    .dataframe thead th {\n",
       "        text-align: right;\n",
       "    }\n",
       "</style>\n",
       "<table border=\"1\" class=\"dataframe\">\n",
       "  <thead>\n",
       "    <tr style=\"text-align: right;\">\n",
       "      <th></th>\n",
       "      <th>return_rate</th>\n",
       "      <th>day_diff</th>\n",
       "      <th>days_since_last</th>\n",
       "      <th>gmv_amount</th>\n",
       "      <th>discount_pct</th>\n",
       "      <th>next_month_delta</th>\n",
       "      <th>Label</th>\n",
       "    </tr>\n",
       "  </thead>\n",
       "  <tbody>\n",
       "    <tr>\n",
       "      <th>0</th>\n",
       "      <td>-0.447</td>\n",
       "      <td>-0.497</td>\n",
       "      <td>-0.597</td>\n",
       "      <td>-0.076</td>\n",
       "      <td>-0.575</td>\n",
       "      <td>-1.000</td>\n",
       "      <td>-0.720</td>\n",
       "    </tr>\n",
       "    <tr>\n",
       "      <th>1</th>\n",
       "      <td>1.044</td>\n",
       "      <td>0.257</td>\n",
       "      <td>0.402</td>\n",
       "      <td>-0.031</td>\n",
       "      <td>-0.575</td>\n",
       "      <td>-0.694</td>\n",
       "      <td>-0.349</td>\n",
       "    </tr>\n",
       "    <tr>\n",
       "      <th>2</th>\n",
       "      <td>1.342</td>\n",
       "      <td>1.046</td>\n",
       "      <td>0.556</td>\n",
       "      <td>0.032</td>\n",
       "      <td>0.296</td>\n",
       "      <td>-0.776</td>\n",
       "      <td>-0.517</td>\n",
       "    </tr>\n",
       "    <tr>\n",
       "      <th>3</th>\n",
       "      <td>-0.447</td>\n",
       "      <td>-0.497</td>\n",
       "      <td>-0.597</td>\n",
       "      <td>-0.076</td>\n",
       "      <td>-0.575</td>\n",
       "      <td>0.525</td>\n",
       "      <td>-0.720</td>\n",
       "    </tr>\n",
       "    <tr>\n",
       "      <th>4</th>\n",
       "      <td>-0.447</td>\n",
       "      <td>-0.497</td>\n",
       "      <td>-0.597</td>\n",
       "      <td>-0.075</td>\n",
       "      <td>-0.575</td>\n",
       "      <td>-1.000</td>\n",
       "      <td>-0.720</td>\n",
       "    </tr>\n",
       "  </tbody>\n",
       "</table>\n",
       "</div>"
      ],
      "text/plain": [
       "   return_rate  day_diff  days_since_last  gmv_amount  discount_pct  \\\n",
       "0       -0.447    -0.497           -0.597      -0.076        -0.575   \n",
       "1        1.044     0.257            0.402      -0.031        -0.575   \n",
       "2        1.342     1.046            0.556       0.032         0.296   \n",
       "3       -0.447    -0.497           -0.597      -0.076        -0.575   \n",
       "4       -0.447    -0.497           -0.597      -0.075        -0.575   \n",
       "\n",
       "   next_month_delta  Label  \n",
       "0            -1.000 -0.720  \n",
       "1            -0.694 -0.349  \n",
       "2            -0.776 -0.517  \n",
       "3             0.525 -0.720  \n",
       "4            -1.000 -0.720  "
      ]
     },
     "execution_count": 72,
     "metadata": {},
     "output_type": "execute_result"
    }
   ],
   "source": [
    "unseen_predictions['next_month_delta'] = np.where(unseen_predictions['next_month_delta'] > 1.1, 1.1, unseen_predictions['next_month_delta'])\n",
    "unseen_predictions.head()"
   ]
  },
  {
   "cell_type": "code",
   "execution_count": 73,
   "id": "d0e87fa6",
   "metadata": {
    "scrolled": true
   },
   "outputs": [
    {
     "data": {
      "image/png": "[encoded data removed]",
      "text/plain": [
       "<Figure size 576x396 with 1 Axes>"
      ]
     },
     "metadata": {},
     "output_type": "display_data"
    }
   ],
   "source": [
    "x = np.linspace(-1.2,1.2,100)\n",
    "y = x\n",
    "plt.plot(x, y, color = 'black', label='Best Fit Possible', linestyle='dashed')\n",
    "plt.scatter(data = unseen_predictions, x = 'next_month_delta', y = 'Label' )\n",
    "plt.ylim(-1.2, 1.2)\n",
    "plt.xlim(-1.2, 1.2)\n",
    "plt.xlabel('Actual')\n",
    "plt.ylabel('Predicted')\n",
    "plt.show()"
   ]
  },
  {
   "cell_type": "code",
   "execution_count": 74,
   "id": "01a52192",
   "metadata": {},
   "outputs": [
    {
     "data": {
      "text/plain": [
       "(array([2.2000e+01, 7.9000e+01, 9.5000e+01, 8.5000e+01, 1.2100e+02,\n",
       "        1.8000e+02, 2.1200e+02, 2.8100e+02, 3.6300e+02, 5.5300e+02,\n",
       "        6.8900e+02, 9.4000e+02, 9.5800e+02, 9.7400e+02, 1.7900e+03,\n",
       "        2.4921e+04, 1.7430e+03, 1.9720e+03, 1.3470e+03, 2.8940e+03,\n",
       "        2.8680e+03, 1.0410e+03, 9.4700e+02, 1.0580e+03, 7.3300e+02,\n",
       "        7.8000e+02, 5.8300e+02, 7.7900e+02, 4.2500e+02, 3.1900e+02,\n",
       "        3.4100e+02, 2.6600e+02, 1.5100e+02, 1.0000e+02, 1.1600e+02,\n",
       "        3.3000e+01, 9.2100e+02, 2.0000e+01, 1.9000e+01, 1.8000e+01,\n",
       "        7.0000e+00, 6.0000e+00, 3.0000e+00, 3.0000e+00, 0.0000e+00,\n",
       "        1.0000e+00, 0.0000e+00, 0.0000e+00, 0.0000e+00, 1.0000e+00]),\n",
       " array([-1.06979803, -1.0471142 , -1.02443037, -1.00174654, -0.97906272,\n",
       "        -0.95637889, -0.93369506, -0.91101124, -0.88832741, -0.86564358,\n",
       "        -0.84295975, -0.82027593, -0.7975921 , -0.77490827, -0.75222445,\n",
       "        -0.72954062, -0.70685679, -0.68417296, -0.66148914, -0.63880531,\n",
       "        -0.61612148, -0.59343766, -0.57075383, -0.54807   , -0.52538617,\n",
       "        -0.50270235, -0.48001852, -0.45733469, -0.43465087, -0.41196704,\n",
       "        -0.38928321, -0.36659938, -0.34391556, -0.32123173, -0.2985479 ,\n",
       "        -0.27586408, -0.25318025, -0.23049642, -0.20781259, -0.18512877,\n",
       "        -0.16244494, -0.13976111, -0.11707729, -0.09439346, -0.07170963,\n",
       "        -0.0490258 , -0.02634198, -0.00365815,  0.01902568,  0.0417095 ,\n",
       "         0.06439333]),\n",
       " <BarContainer object of 50 artists>)"
      ]
     },
     "execution_count": 74,
     "metadata": {},
     "output_type": "execute_result"
    },
    {
     "data": {
      "image/png": "[encoded data removed]",
      "text/plain": [
       "<Figure size 576x396 with 1 Axes>"
      ]
     },
     "metadata": {},
     "output_type": "display_data"
    }
   ],
   "source": [
    "plt.hist(unseen_predictions['Label'], bins= 50)"
   ]
  },
  {
   "cell_type": "code",
   "execution_count": null,
   "id": "ca8ae4e4",
   "metadata": {},
   "outputs": [],
   "source": []
  }
 ],
 "metadata": {
  "kernelspec": {
   "display_name": "Python 3",
   "language": "python",
   "name": "python3"
  },
  "language_info": {
   "codemirror_mode": {
    "name": "ipython",
    "version": 3
   },
   "file_extension": ".py",
   "mimetype": "text/x-python",
   "name": "python",
   "nbconvert_exporter": "python",
   "pygments_lexer": "ipython3",
   "version": "3.9.6"
  }
 },
 "nbformat": 4,
 "nbformat_minor": 5
}
