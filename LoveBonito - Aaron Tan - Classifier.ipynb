{
 "cells": [
  {
   "cell_type": "markdown",
   "id": "f9d0aa5c",
   "metadata": {},
   "source": [
    "### Remark\n",
    "- Note: For assessment purpose, will only use transactional data for ML features. Additional categorical data for future development\n",
    "\n",
    "### To predict the delta of observation vs result period\n",
    "#### We can categorize the customer as 3 main segment for different marketing strategy\n",
    "- Customer who will increase revenue generation in new cycle\n",
    "- Customer who will decrease revenue generation in new cycle\n",
    "- Customer who will not generate any revenue in new cycle\n",
    "<br>\n",
    "<br>\n",
    "- Customers with growing potential revenue trend, we can do loyalty program to encourage more spending\n",
    "- Customers with declining potential revenue trend, we can do promotion/vouchers to promote spending\n"
   ]
  },
  {
   "cell_type": "code",
   "execution_count": 121,
   "id": "c096cc24",
   "metadata": {
    "scrolled": true
   },
   "outputs": [
    {
     "data": {
      "image/png": "[encoded data removed]",
      "text/plain": [
       "<IPython.core.display.Image object>"
      ]
     },
     "execution_count": 121,
     "metadata": {},
     "output_type": "execute_result"
    }
   ],
   "source": [
    "from IPython import display\n",
    "display.Image(\"https://i.ibb.co/XSS2BRD/churn-plan.png\")"
   ]
  },
  {
   "cell_type": "markdown",
   "id": "976f3f69",
   "metadata": {},
   "source": [
    "# Importing Libs"
   ]
  },
  {
   "cell_type": "code",
   "execution_count": 122,
   "id": "908544db",
   "metadata": {},
   "outputs": [],
   "source": [
    "import psycopg2\n",
    "import pandas as pd\n",
    "import numpy as np\n",
    "import pandas.io.sql as sqlio\n",
    "import matplotlib.pyplot as plt\n",
    "import seaborn as sns\n",
    "\n",
    "\n",
    "# Use pycaret to see which model works best.\n",
    "# For actual implementation then can use sklearn to tune\n",
    "from pycaret.classification import *\n",
    "\n",
    "\n",
    "from sklearn.preprocessing import StandardScaler"
   ]
  },
  {
   "cell_type": "code",
   "execution_count": 123,
   "id": "f49bda62",
   "metadata": {},
   "outputs": [],
   "source": [
    "# Change scientific notation to 3 decimal view\n",
    "pd.set_option('display.float_format', lambda x: '%.3f' % x)"
   ]
  },
  {
   "cell_type": "markdown",
   "id": "18669e18",
   "metadata": {},
   "source": [
    "# Connecting to DB"
   ]
  },
  {
   "cell_type": "code",
   "execution_count": 124,
   "id": "4ded7903",
   "metadata": {},
   "outputs": [],
   "source": [
    "conn = psycopg2.connect(user = ****\n",
    "                        , password = ****\n",
    "                        , host=****\n",
    "                        , database='postgres')"
   ]
  },
  {
   "cell_type": "markdown",
   "id": "964b2872",
   "metadata": {},
   "source": [
    "# Store table for analysis"
   ]
  },
  {
   "cell_type": "code",
   "execution_count": 125,
   "id": "46cc76b4",
   "metadata": {},
   "outputs": [],
   "source": [
    "query = \"select * from order_items\"\n",
    "df_order_items = sqlio.read_sql_query(query, conn)\n",
    "\n",
    "query = \"select * from products\"\n",
    "df_products = sqlio.read_sql_query(query, conn)\n",
    "\n",
    "query = \"select * from customers\"\n",
    "df_customers = sqlio.read_sql_query(query, conn)"
   ]
  },
  {
   "cell_type": "code",
   "execution_count": 126,
   "id": "649d4409",
   "metadata": {},
   "outputs": [],
   "source": [
    "df_order_items_bak = df_order_items.copy()"
   ]
  },
  {
   "cell_type": "markdown",
   "id": "2e146f74",
   "metadata": {},
   "source": [
    "## Check data"
   ]
  },
  {
   "cell_type": "code",
   "execution_count": 127,
   "id": "71df2c69",
   "metadata": {},
   "outputs": [
    {
     "data": {
      "text/html": [
       "<div>\n",
       "<style scoped>\n",
       "    .dataframe tbody tr th:only-of-type {\n",
       "        vertical-align: middle;\n",
       "    }\n",
       "\n",
       "    .dataframe tbody tr th {\n",
       "        vertical-align: top;\n",
       "    }\n",
       "\n",
       "    .dataframe thead th {\n",
       "        text-align: right;\n",
       "    }\n",
       "</style>\n",
       "<table border=\"1\" class=\"dataframe\">\n",
       "  <thead>\n",
       "    <tr style=\"text-align: right;\">\n",
       "      <th></th>\n",
       "      <th>order_item_id</th>\n",
       "      <th>order_id</th>\n",
       "      <th>customer_id</th>\n",
       "      <th>product_id</th>\n",
       "      <th>date</th>\n",
       "      <th>gmv_amount</th>\n",
       "      <th>markdown_amount</th>\n",
       "      <th>coupon_code_amount</th>\n",
       "      <th>nsbr_amount</th>\n",
       "      <th>qty_ordered</th>\n",
       "      <th>qty_returned</th>\n",
       "      <th>city</th>\n",
       "      <th>channel</th>\n",
       "    </tr>\n",
       "  </thead>\n",
       "  <tbody>\n",
       "    <tr>\n",
       "      <th>0</th>\n",
       "      <td>1783282</td>\n",
       "      <td>59179</td>\n",
       "      <td>218963</td>\n",
       "      <td>4007</td>\n",
       "      <td>2015-03-04 15:55:22</td>\n",
       "      <td>250.230</td>\n",
       "      <td>0.000</td>\n",
       "      <td>25.023</td>\n",
       "      <td>210.501</td>\n",
       "      <td>1.000</td>\n",
       "      <td>0.000</td>\n",
       "      <td>A</td>\n",
       "      <td>online</td>\n",
       "    </tr>\n",
       "    <tr>\n",
       "      <th>1</th>\n",
       "      <td>1799828</td>\n",
       "      <td>59179</td>\n",
       "      <td>218963</td>\n",
       "      <td>514</td>\n",
       "      <td>2015-03-04 15:55:22</td>\n",
       "      <td>210.330</td>\n",
       "      <td>0.000</td>\n",
       "      <td>21.033</td>\n",
       "      <td>176.928</td>\n",
       "      <td>1.000</td>\n",
       "      <td>0.000</td>\n",
       "      <td>A</td>\n",
       "      <td>online</td>\n",
       "    </tr>\n",
       "    <tr>\n",
       "      <th>2</th>\n",
       "      <td>439862</td>\n",
       "      <td>59179</td>\n",
       "      <td>218963</td>\n",
       "      <td>1830</td>\n",
       "      <td>2015-03-04 15:55:22</td>\n",
       "      <td>210.330</td>\n",
       "      <td>0.000</td>\n",
       "      <td>21.033</td>\n",
       "      <td>176.871</td>\n",
       "      <td>1.000</td>\n",
       "      <td>0.000</td>\n",
       "      <td>A</td>\n",
       "      <td>online</td>\n",
       "    </tr>\n",
       "    <tr>\n",
       "      <th>3</th>\n",
       "      <td>2491214</td>\n",
       "      <td>763486</td>\n",
       "      <td>117379</td>\n",
       "      <td>878</td>\n",
       "      <td>2015-03-04 15:57:36</td>\n",
       "      <td>264.189</td>\n",
       "      <td>0.000</td>\n",
       "      <td>0.000</td>\n",
       "      <td>264.189</td>\n",
       "      <td>1.000</td>\n",
       "      <td>1.000</td>\n",
       "      <td>B</td>\n",
       "      <td>online</td>\n",
       "    </tr>\n",
       "    <tr>\n",
       "      <th>4</th>\n",
       "      <td>1100357</td>\n",
       "      <td>763486</td>\n",
       "      <td>117379</td>\n",
       "      <td>4007</td>\n",
       "      <td>2015-03-04 15:57:36</td>\n",
       "      <td>245.304</td>\n",
       "      <td>0.000</td>\n",
       "      <td>0.000</td>\n",
       "      <td>245.304</td>\n",
       "      <td>1.000</td>\n",
       "      <td>0.000</td>\n",
       "      <td>B</td>\n",
       "      <td>online</td>\n",
       "    </tr>\n",
       "  </tbody>\n",
       "</table>\n",
       "</div>"
      ],
      "text/plain": [
       "   order_item_id  order_id  customer_id  product_id                 date  \\\n",
       "0        1783282     59179       218963        4007  2015-03-04 15:55:22   \n",
       "1        1799828     59179       218963         514  2015-03-04 15:55:22   \n",
       "2         439862     59179       218963        1830  2015-03-04 15:55:22   \n",
       "3        2491214    763486       117379         878  2015-03-04 15:57:36   \n",
       "4        1100357    763486       117379        4007  2015-03-04 15:57:36   \n",
       "\n",
       "   gmv_amount  markdown_amount  coupon_code_amount  nsbr_amount  qty_ordered  \\\n",
       "0     250.230            0.000              25.023      210.501        1.000   \n",
       "1     210.330            0.000              21.033      176.928        1.000   \n",
       "2     210.330            0.000              21.033      176.871        1.000   \n",
       "3     264.189            0.000               0.000      264.189        1.000   \n",
       "4     245.304            0.000               0.000      245.304        1.000   \n",
       "\n",
       "   qty_returned city channel  \n",
       "0         0.000    A  online  \n",
       "1         0.000    A  online  \n",
       "2         0.000    A  online  \n",
       "3         1.000    B  online  \n",
       "4         0.000    B  online  "
      ]
     },
     "execution_count": 127,
     "metadata": {},
     "output_type": "execute_result"
    }
   ],
   "source": [
    "df_order_items.head()"
   ]
  },
  {
   "cell_type": "code",
   "execution_count": 128,
   "id": "ceeebd03",
   "metadata": {},
   "outputs": [
    {
     "data": {
      "text/html": [
       "<div>\n",
       "<style scoped>\n",
       "    .dataframe tbody tr th:only-of-type {\n",
       "        vertical-align: middle;\n",
       "    }\n",
       "\n",
       "    .dataframe tbody tr th {\n",
       "        vertical-align: top;\n",
       "    }\n",
       "\n",
       "    .dataframe thead th {\n",
       "        text-align: right;\n",
       "    }\n",
       "</style>\n",
       "<table border=\"1\" class=\"dataframe\">\n",
       "  <thead>\n",
       "    <tr style=\"text-align: right;\">\n",
       "      <th></th>\n",
       "      <th>product_id</th>\n",
       "      <th>subcategory</th>\n",
       "      <th>occasion</th>\n",
       "    </tr>\n",
       "  </thead>\n",
       "  <tbody>\n",
       "    <tr>\n",
       "      <th>0</th>\n",
       "      <td>0</td>\n",
       "      <td>outer</td>\n",
       "      <td>casual</td>\n",
       "    </tr>\n",
       "    <tr>\n",
       "      <th>1</th>\n",
       "      <td>1</td>\n",
       "      <td>tops</td>\n",
       "      <td>casual</td>\n",
       "    </tr>\n",
       "    <tr>\n",
       "      <th>2</th>\n",
       "      <td>2</td>\n",
       "      <td>dresses</td>\n",
       "      <td>wedding &amp; party</td>\n",
       "    </tr>\n",
       "    <tr>\n",
       "      <th>3</th>\n",
       "      <td>3</td>\n",
       "      <td>dresses</td>\n",
       "      <td>work</td>\n",
       "    </tr>\n",
       "    <tr>\n",
       "      <th>4</th>\n",
       "      <td>4</td>\n",
       "      <td>skirts</td>\n",
       "      <td>work</td>\n",
       "    </tr>\n",
       "  </tbody>\n",
       "</table>\n",
       "</div>"
      ],
      "text/plain": [
       "   product_id subcategory         occasion\n",
       "0           0       outer           casual\n",
       "1           1        tops           casual\n",
       "2           2     dresses  wedding & party\n",
       "3           3     dresses             work\n",
       "4           4      skirts             work"
      ]
     },
     "execution_count": 128,
     "metadata": {},
     "output_type": "execute_result"
    }
   ],
   "source": [
    "df_products.head()"
   ]
  },
  {
   "cell_type": "code",
   "execution_count": 129,
   "id": "302e4b1a",
   "metadata": {},
   "outputs": [
    {
     "data": {
      "text/html": [
       "<div>\n",
       "<style scoped>\n",
       "    .dataframe tbody tr th:only-of-type {\n",
       "        vertical-align: middle;\n",
       "    }\n",
       "\n",
       "    .dataframe tbody tr th {\n",
       "        vertical-align: top;\n",
       "    }\n",
       "\n",
       "    .dataframe thead th {\n",
       "        text-align: right;\n",
       "    }\n",
       "</style>\n",
       "<table border=\"1\" class=\"dataframe\">\n",
       "  <thead>\n",
       "    <tr style=\"text-align: right;\">\n",
       "      <th></th>\n",
       "      <th>customer_id</th>\n",
       "      <th>first_order_date</th>\n",
       "    </tr>\n",
       "  </thead>\n",
       "  <tbody>\n",
       "    <tr>\n",
       "      <th>0</th>\n",
       "      <td>0</td>\n",
       "      <td>2012-11-01</td>\n",
       "    </tr>\n",
       "    <tr>\n",
       "      <th>1</th>\n",
       "      <td>1</td>\n",
       "      <td>2017-08-19</td>\n",
       "    </tr>\n",
       "    <tr>\n",
       "      <th>2</th>\n",
       "      <td>2</td>\n",
       "      <td>2017-04-02</td>\n",
       "    </tr>\n",
       "    <tr>\n",
       "      <th>3</th>\n",
       "      <td>3</td>\n",
       "      <td>2016-12-03</td>\n",
       "    </tr>\n",
       "    <tr>\n",
       "      <th>4</th>\n",
       "      <td>4</td>\n",
       "      <td>2016-10-15</td>\n",
       "    </tr>\n",
       "  </tbody>\n",
       "</table>\n",
       "</div>"
      ],
      "text/plain": [
       "   customer_id first_order_date\n",
       "0            0       2012-11-01\n",
       "1            1       2017-08-19\n",
       "2            2       2017-04-02\n",
       "3            3       2016-12-03\n",
       "4            4       2016-10-15"
      ]
     },
     "execution_count": 129,
     "metadata": {},
     "output_type": "execute_result"
    }
   ],
   "source": [
    "df_customers.head()"
   ]
  },
  {
   "cell_type": "markdown",
   "id": "8061d2ea",
   "metadata": {},
   "source": [
    "# Exploratory Data Analysis"
   ]
  },
  {
   "cell_type": "markdown",
   "id": "ea59d4c6",
   "metadata": {},
   "source": [
    "## Check for missing data"
   ]
  },
  {
   "cell_type": "code",
   "execution_count": 130,
   "id": "5419e1ed",
   "metadata": {},
   "outputs": [
    {
     "name": "stdout",
     "output_type": "stream",
     "text": [
      "<class 'pandas.core.frame.DataFrame'>\n",
      "RangeIndex: 2876375 entries, 0 to 2876374\n",
      "Data columns (total 13 columns):\n",
      " #   Column              Non-Null Count    Dtype  \n",
      "---  ------              --------------    -----  \n",
      " 0   order_item_id       2876375 non-null  int64  \n",
      " 1   order_id            2876375 non-null  int64  \n",
      " 2   customer_id         2876375 non-null  int64  \n",
      " 3   product_id          2876375 non-null  int64  \n",
      " 4   date                2876375 non-null  object \n",
      " 5   gmv_amount          2876375 non-null  float64\n",
      " 6   markdown_amount     2876375 non-null  float64\n",
      " 7   coupon_code_amount  2876375 non-null  float64\n",
      " 8   nsbr_amount         2876375 non-null  float64\n",
      " 9   qty_ordered         2876375 non-null  float64\n",
      " 10  qty_returned        2876375 non-null  float64\n",
      " 11  city                2876375 non-null  object \n",
      " 12  channel             2876375 non-null  object \n",
      "dtypes: float64(6), int64(4), object(3)\n",
      "memory usage: 285.3+ MB\n"
     ]
    }
   ],
   "source": [
    "df_order_items.info(show_counts=1)"
   ]
  },
  {
   "cell_type": "code",
   "execution_count": 131,
   "id": "809d8372",
   "metadata": {},
   "outputs": [
    {
     "name": "stdout",
     "output_type": "stream",
     "text": [
      "<class 'pandas.core.frame.DataFrame'>\n",
      "RangeIndex: 7059 entries, 0 to 7058\n",
      "Data columns (total 3 columns):\n",
      " #   Column       Non-Null Count  Dtype \n",
      "---  ------       --------------  ----- \n",
      " 0   product_id   7059 non-null   int64 \n",
      " 1   subcategory  7059 non-null   object\n",
      " 2   occasion     7059 non-null   object\n",
      "dtypes: int64(1), object(2)\n",
      "memory usage: 165.6+ KB\n"
     ]
    }
   ],
   "source": [
    "df_products.info()"
   ]
  },
  {
   "cell_type": "code",
   "execution_count": 132,
   "id": "c51e3ab9",
   "metadata": {},
   "outputs": [
    {
     "name": "stdout",
     "output_type": "stream",
     "text": [
      "<class 'pandas.core.frame.DataFrame'>\n",
      "RangeIndex: 253251 entries, 0 to 253250\n",
      "Data columns (total 2 columns):\n",
      " #   Column            Non-Null Count   Dtype \n",
      "---  ------            --------------   ----- \n",
      " 0   customer_id       253251 non-null  int64 \n",
      " 1   first_order_date  253251 non-null  object\n",
      "dtypes: int64(1), object(1)\n",
      "memory usage: 3.9+ MB\n"
     ]
    }
   ],
   "source": [
    "df_customers.info()"
   ]
  },
  {
   "cell_type": "markdown",
   "id": "bd45bf77",
   "metadata": {},
   "source": [
    "## Check if any weird data\n",
    "- There are blank categories for some products"
   ]
  },
  {
   "cell_type": "code",
   "execution_count": 133,
   "id": "15a88d85",
   "metadata": {},
   "outputs": [
    {
     "data": {
      "text/plain": [
       "array(['outer', 'tops', 'dresses', 'skirts', 'jumpsuits & rompers',\n",
       "       'pants', 'jewellery', 'heels', 'skorts', 'shorts',\n",
       "       'jumpers & cardigans', 'jeans', 'lifestyle', 'bags & purses',\n",
       "       'flats', '', 'swimsuit', 'books & stationery', 'bra', 'bikini',\n",
       "       'sneakers', 'scarves', 'sunglasses', 'panties', 'tights',\n",
       "       'bralettes', 'slippers', 'platforms', 'hats'], dtype=object)"
      ]
     },
     "execution_count": 133,
     "metadata": {},
     "output_type": "execute_result"
    }
   ],
   "source": [
    "df_products.subcategory.unique()"
   ]
  },
  {
   "cell_type": "code",
   "execution_count": 134,
   "id": "7b807f6f",
   "metadata": {},
   "outputs": [
    {
     "data": {
      "text/plain": [
       "(33, 3)"
      ]
     },
     "execution_count": 134,
     "metadata": {},
     "output_type": "execute_result"
    }
   ],
   "source": [
    "# 33 empty subcat products\n",
    "df_products[df_products['subcategory'] == ''].shape"
   ]
  },
  {
   "cell_type": "code",
   "execution_count": 135,
   "id": "4eb2ffce",
   "metadata": {},
   "outputs": [
    {
     "data": {
      "text/plain": [
       "array(['A', 'B', 'C'], dtype=object)"
      ]
     },
     "execution_count": 135,
     "metadata": {},
     "output_type": "execute_result"
    }
   ],
   "source": [
    "df_order_items.city.unique()"
   ]
  },
  {
   "cell_type": "code",
   "execution_count": null,
   "id": "f3329ad2",
   "metadata": {},
   "outputs": [],
   "source": []
  },
  {
   "cell_type": "markdown",
   "id": "6e4e56cc",
   "metadata": {},
   "source": [
    "## Check for outliers"
   ]
  },
  {
   "cell_type": "code",
   "execution_count": 136,
   "id": "4adc6f13",
   "metadata": {},
   "outputs": [
    {
     "data": {
      "text/html": [
       "<div>\n",
       "<style scoped>\n",
       "    .dataframe tbody tr th:only-of-type {\n",
       "        vertical-align: middle;\n",
       "    }\n",
       "\n",
       "    .dataframe tbody tr th {\n",
       "        vertical-align: top;\n",
       "    }\n",
       "\n",
       "    .dataframe thead th {\n",
       "        text-align: right;\n",
       "    }\n",
       "</style>\n",
       "<table border=\"1\" class=\"dataframe\">\n",
       "  <thead>\n",
       "    <tr style=\"text-align: right;\">\n",
       "      <th></th>\n",
       "      <th>order_item_id</th>\n",
       "      <th>order_id</th>\n",
       "      <th>customer_id</th>\n",
       "      <th>product_id</th>\n",
       "      <th>gmv_amount</th>\n",
       "      <th>markdown_amount</th>\n",
       "      <th>coupon_code_amount</th>\n",
       "      <th>nsbr_amount</th>\n",
       "      <th>qty_ordered</th>\n",
       "      <th>qty_returned</th>\n",
       "    </tr>\n",
       "  </thead>\n",
       "  <tbody>\n",
       "    <tr>\n",
       "      <th>count</th>\n",
       "      <td>2876375.000</td>\n",
       "      <td>2876375.000</td>\n",
       "      <td>2876375.000</td>\n",
       "      <td>2876375.000</td>\n",
       "      <td>2876375.000</td>\n",
       "      <td>2876375.000</td>\n",
       "      <td>2876375.000</td>\n",
       "      <td>2876375.000</td>\n",
       "      <td>2876375.000</td>\n",
       "      <td>2876375.000</td>\n",
       "    </tr>\n",
       "    <tr>\n",
       "      <th>mean</th>\n",
       "      <td>1378003.822</td>\n",
       "      <td>695487.121</td>\n",
       "      <td>126867.933</td>\n",
       "      <td>3519.334</td>\n",
       "      <td>253.036</td>\n",
       "      <td>17.268</td>\n",
       "      <td>13.451</td>\n",
       "      <td>208.683</td>\n",
       "      <td>1.004</td>\n",
       "      <td>0.100</td>\n",
       "    </tr>\n",
       "    <tr>\n",
       "      <th>std</th>\n",
       "      <td>795570.349</td>\n",
       "      <td>401472.212</td>\n",
       "      <td>63909.109</td>\n",
       "      <td>2066.247</td>\n",
       "      <td>65.183</td>\n",
       "      <td>43.187</td>\n",
       "      <td>22.407</td>\n",
       "      <td>71.087</td>\n",
       "      <td>0.080</td>\n",
       "      <td>0.302</td>\n",
       "    </tr>\n",
       "    <tr>\n",
       "      <th>min</th>\n",
       "      <td>0.000</td>\n",
       "      <td>0.000</td>\n",
       "      <td>0.000</td>\n",
       "      <td>0.000</td>\n",
       "      <td>0.000</td>\n",
       "      <td>-207.914</td>\n",
       "      <td>0.000</td>\n",
       "      <td>-1853.915</td>\n",
       "      <td>0.000</td>\n",
       "      <td>0.000</td>\n",
       "    </tr>\n",
       "    <tr>\n",
       "      <th>25%</th>\n",
       "      <td>689007.500</td>\n",
       "      <td>347477.500</td>\n",
       "      <td>82848.000</td>\n",
       "      <td>1698.000</td>\n",
       "      <td>210.330</td>\n",
       "      <td>0.000</td>\n",
       "      <td>0.000</td>\n",
       "      <td>167.085</td>\n",
       "      <td>1.000</td>\n",
       "      <td>0.000</td>\n",
       "    </tr>\n",
       "    <tr>\n",
       "      <th>50%</th>\n",
       "      <td>1378095.000</td>\n",
       "      <td>695529.000</td>\n",
       "      <td>127334.000</td>\n",
       "      <td>3530.000</td>\n",
       "      <td>250.230</td>\n",
       "      <td>0.000</td>\n",
       "      <td>0.000</td>\n",
       "      <td>211.724</td>\n",
       "      <td>1.000</td>\n",
       "      <td>0.000</td>\n",
       "    </tr>\n",
       "    <tr>\n",
       "      <th>75%</th>\n",
       "      <td>2066967.000</td>\n",
       "      <td>1042937.000</td>\n",
       "      <td>170412.000</td>\n",
       "      <td>5351.000</td>\n",
       "      <td>284.430</td>\n",
       "      <td>0.000</td>\n",
       "      <td>26.163</td>\n",
       "      <td>256.930</td>\n",
       "      <td>1.000</td>\n",
       "      <td>0.000</td>\n",
       "    </tr>\n",
       "    <tr>\n",
       "      <th>90%</th>\n",
       "      <td>2480293.600</td>\n",
       "      <td>1252146.000</td>\n",
       "      <td>220164.000</td>\n",
       "      <td>6393.000</td>\n",
       "      <td>324.330</td>\n",
       "      <td>79.800</td>\n",
       "      <td>37.529</td>\n",
       "      <td>287.109</td>\n",
       "      <td>1.000</td>\n",
       "      <td>0.000</td>\n",
       "    </tr>\n",
       "    <tr>\n",
       "      <th>95%</th>\n",
       "      <td>2618168.300</td>\n",
       "      <td>1321711.300</td>\n",
       "      <td>236668.000</td>\n",
       "      <td>6746.000</td>\n",
       "      <td>341.430</td>\n",
       "      <td>125.400</td>\n",
       "      <td>46.056</td>\n",
       "      <td>313.749</td>\n",
       "      <td>1.000</td>\n",
       "      <td>1.000</td>\n",
       "    </tr>\n",
       "    <tr>\n",
       "      <th>99%</th>\n",
       "      <td>2728314.260</td>\n",
       "      <td>1377098.260</td>\n",
       "      <td>249985.000</td>\n",
       "      <td>6999.000</td>\n",
       "      <td>421.230</td>\n",
       "      <td>184.557</td>\n",
       "      <td>71.108</td>\n",
       "      <td>376.182</td>\n",
       "      <td>1.000</td>\n",
       "      <td>1.000</td>\n",
       "    </tr>\n",
       "    <tr>\n",
       "      <th>99.25%</th>\n",
       "      <td>2735166.195</td>\n",
       "      <td>1380495.195</td>\n",
       "      <td>250769.000</td>\n",
       "      <td>7020.000</td>\n",
       "      <td>455.430</td>\n",
       "      <td>193.800</td>\n",
       "      <td>75.827</td>\n",
       "      <td>393.699</td>\n",
       "      <td>1.000</td>\n",
       "      <td>1.000</td>\n",
       "    </tr>\n",
       "    <tr>\n",
       "      <th>99.5%</th>\n",
       "      <td>2742049.130</td>\n",
       "      <td>1383995.130</td>\n",
       "      <td>251613.000</td>\n",
       "      <td>7030.000</td>\n",
       "      <td>477.660</td>\n",
       "      <td>206.961</td>\n",
       "      <td>85.358</td>\n",
       "      <td>425.619</td>\n",
       "      <td>1.000</td>\n",
       "      <td>1.000</td>\n",
       "    </tr>\n",
       "    <tr>\n",
       "      <th>99.9%</th>\n",
       "      <td>2753070.626</td>\n",
       "      <td>1389550.000</td>\n",
       "      <td>252959.000</td>\n",
       "      <td>7051.000</td>\n",
       "      <td>626.430</td>\n",
       "      <td>262.200</td>\n",
       "      <td>284.430</td>\n",
       "      <td>545.178</td>\n",
       "      <td>2.000</td>\n",
       "      <td>1.000</td>\n",
       "    </tr>\n",
       "    <tr>\n",
       "      <th>99.99%</th>\n",
       "      <td>2755546.363</td>\n",
       "      <td>1390801.000</td>\n",
       "      <td>253219.000</td>\n",
       "      <td>7058.000</td>\n",
       "      <td>972.990</td>\n",
       "      <td>387.600</td>\n",
       "      <td>369.997</td>\n",
       "      <td>783.082</td>\n",
       "      <td>4.000</td>\n",
       "      <td>2.000</td>\n",
       "    </tr>\n",
       "    <tr>\n",
       "      <th>max</th>\n",
       "      <td>2755822.000</td>\n",
       "      <td>1390937.000</td>\n",
       "      <td>253250.000</td>\n",
       "      <td>7058.000</td>\n",
       "      <td>7284.600</td>\n",
       "      <td>2138.822</td>\n",
       "      <td>945.630</td>\n",
       "      <td>6816.902</td>\n",
       "      <td>31.000</td>\n",
       "      <td>5.000</td>\n",
       "    </tr>\n",
       "  </tbody>\n",
       "</table>\n",
       "</div>"
      ],
      "text/plain": [
       "        order_item_id    order_id  customer_id  product_id  gmv_amount  \\\n",
       "count     2876375.000 2876375.000  2876375.000 2876375.000 2876375.000   \n",
       "mean      1378003.822  695487.121   126867.933    3519.334     253.036   \n",
       "std        795570.349  401472.212    63909.109    2066.247      65.183   \n",
       "min             0.000       0.000        0.000       0.000       0.000   \n",
       "25%        689007.500  347477.500    82848.000    1698.000     210.330   \n",
       "50%       1378095.000  695529.000   127334.000    3530.000     250.230   \n",
       "75%       2066967.000 1042937.000   170412.000    5351.000     284.430   \n",
       "90%       2480293.600 1252146.000   220164.000    6393.000     324.330   \n",
       "95%       2618168.300 1321711.300   236668.000    6746.000     341.430   \n",
       "99%       2728314.260 1377098.260   249985.000    6999.000     421.230   \n",
       "99.25%    2735166.195 1380495.195   250769.000    7020.000     455.430   \n",
       "99.5%     2742049.130 1383995.130   251613.000    7030.000     477.660   \n",
       "99.9%     2753070.626 1389550.000   252959.000    7051.000     626.430   \n",
       "99.99%    2755546.363 1390801.000   253219.000    7058.000     972.990   \n",
       "max       2755822.000 1390937.000   253250.000    7058.000    7284.600   \n",
       "\n",
       "        markdown_amount  coupon_code_amount  nsbr_amount  qty_ordered  \\\n",
       "count       2876375.000         2876375.000  2876375.000  2876375.000   \n",
       "mean             17.268              13.451      208.683        1.004   \n",
       "std              43.187              22.407       71.087        0.080   \n",
       "min            -207.914               0.000    -1853.915        0.000   \n",
       "25%               0.000               0.000      167.085        1.000   \n",
       "50%               0.000               0.000      211.724        1.000   \n",
       "75%               0.000              26.163      256.930        1.000   \n",
       "90%              79.800              37.529      287.109        1.000   \n",
       "95%             125.400              46.056      313.749        1.000   \n",
       "99%             184.557              71.108      376.182        1.000   \n",
       "99.25%          193.800              75.827      393.699        1.000   \n",
       "99.5%           206.961              85.358      425.619        1.000   \n",
       "99.9%           262.200             284.430      545.178        2.000   \n",
       "99.99%          387.600             369.997      783.082        4.000   \n",
       "max            2138.822             945.630     6816.902       31.000   \n",
       "\n",
       "        qty_returned  \n",
       "count    2876375.000  \n",
       "mean           0.100  \n",
       "std            0.302  \n",
       "min            0.000  \n",
       "25%            0.000  \n",
       "50%            0.000  \n",
       "75%            0.000  \n",
       "90%            0.000  \n",
       "95%            1.000  \n",
       "99%            1.000  \n",
       "99.25%         1.000  \n",
       "99.5%          1.000  \n",
       "99.9%          1.000  \n",
       "99.99%         2.000  \n",
       "max            5.000  "
      ]
     },
     "execution_count": 136,
     "metadata": {},
     "output_type": "execute_result"
    }
   ],
   "source": [
    "df_order_items.describe(percentiles = [0.25, 0.5, 0.75, 0.9, 0.95, 0.99, 0.9925, 0.995, 0.999, 0.9999])"
   ]
  },
  {
   "cell_type": "markdown",
   "id": "3f24c455",
   "metadata": {},
   "source": [
    "#### nsbr and markdown got negative value?\n",
    "- not sure why got negative"
   ]
  },
  {
   "cell_type": "code",
   "execution_count": 137,
   "id": "20b7700d",
   "metadata": {},
   "outputs": [
    {
     "data": {
      "text/plain": [
       "No     2875873\n",
       "Yes        502\n",
       "Name: negative_nsbr, dtype: int64"
      ]
     },
     "execution_count": 137,
     "metadata": {},
     "output_type": "execute_result"
    }
   ],
   "source": [
    "df_order_items['negative_nsbr'] = np.where(df_order_items['nsbr_amount'] < 0, 'Yes', 'No')\n",
    "df_order_items['negative_nsbr'].value_counts()\n",
    "# Outlier, can make it as a feature for future development"
   ]
  },
  {
   "cell_type": "code",
   "execution_count": 138,
   "id": "6193d18b",
   "metadata": {},
   "outputs": [
    {
     "data": {
      "text/plain": [
       "No     2876366\n",
       "Yes          9\n",
       "Name: negative_markdown, dtype: int64"
      ]
     },
     "execution_count": 138,
     "metadata": {},
     "output_type": "execute_result"
    }
   ],
   "source": [
    "df_order_items['negative_markdown'] = np.where(df_order_items['markdown_amount'] < 0, 'Yes', 'No')\n",
    "df_order_items['negative_markdown'].value_counts()\n",
    "# Outlier, can make it as a feature for future development"
   ]
  },
  {
   "cell_type": "markdown",
   "id": "e37ee823",
   "metadata": {},
   "source": [
    "# Feature Engineering"
   ]
  },
  {
   "cell_type": "markdown",
   "id": "aae66cd1",
   "metadata": {},
   "source": [
    "## Convert ids into char"
   ]
  },
  {
   "cell_type": "code",
   "execution_count": 139,
   "id": "7ea16108",
   "metadata": {},
   "outputs": [
    {
     "data": {
      "text/html": [
       "<div>\n",
       "<style scoped>\n",
       "    .dataframe tbody tr th:only-of-type {\n",
       "        vertical-align: middle;\n",
       "    }\n",
       "\n",
       "    .dataframe tbody tr th {\n",
       "        vertical-align: top;\n",
       "    }\n",
       "\n",
       "    .dataframe thead th {\n",
       "        text-align: right;\n",
       "    }\n",
       "</style>\n",
       "<table border=\"1\" class=\"dataframe\">\n",
       "  <thead>\n",
       "    <tr style=\"text-align: right;\">\n",
       "      <th></th>\n",
       "      <th>gmv_amount</th>\n",
       "      <th>markdown_amount</th>\n",
       "      <th>coupon_code_amount</th>\n",
       "      <th>nsbr_amount</th>\n",
       "      <th>qty_ordered</th>\n",
       "      <th>qty_returned</th>\n",
       "    </tr>\n",
       "  </thead>\n",
       "  <tbody>\n",
       "    <tr>\n",
       "      <th>0</th>\n",
       "      <td>250.230</td>\n",
       "      <td>0.000</td>\n",
       "      <td>25.023</td>\n",
       "      <td>210.501</td>\n",
       "      <td>1.000</td>\n",
       "      <td>0.000</td>\n",
       "    </tr>\n",
       "    <tr>\n",
       "      <th>1</th>\n",
       "      <td>210.330</td>\n",
       "      <td>0.000</td>\n",
       "      <td>21.033</td>\n",
       "      <td>176.928</td>\n",
       "      <td>1.000</td>\n",
       "      <td>0.000</td>\n",
       "    </tr>\n",
       "    <tr>\n",
       "      <th>2</th>\n",
       "      <td>210.330</td>\n",
       "      <td>0.000</td>\n",
       "      <td>21.033</td>\n",
       "      <td>176.871</td>\n",
       "      <td>1.000</td>\n",
       "      <td>0.000</td>\n",
       "    </tr>\n",
       "    <tr>\n",
       "      <th>3</th>\n",
       "      <td>264.189</td>\n",
       "      <td>0.000</td>\n",
       "      <td>0.000</td>\n",
       "      <td>264.189</td>\n",
       "      <td>1.000</td>\n",
       "      <td>1.000</td>\n",
       "    </tr>\n",
       "    <tr>\n",
       "      <th>4</th>\n",
       "      <td>245.304</td>\n",
       "      <td>0.000</td>\n",
       "      <td>0.000</td>\n",
       "      <td>245.304</td>\n",
       "      <td>1.000</td>\n",
       "      <td>0.000</td>\n",
       "    </tr>\n",
       "  </tbody>\n",
       "</table>\n",
       "</div>"
      ],
      "text/plain": [
       "   gmv_amount  markdown_amount  coupon_code_amount  nsbr_amount  qty_ordered  \\\n",
       "0     250.230            0.000              25.023      210.501        1.000   \n",
       "1     210.330            0.000              21.033      176.928        1.000   \n",
       "2     210.330            0.000              21.033      176.871        1.000   \n",
       "3     264.189            0.000               0.000      264.189        1.000   \n",
       "4     245.304            0.000               0.000      245.304        1.000   \n",
       "\n",
       "   qty_returned  \n",
       "0         0.000  \n",
       "1         0.000  \n",
       "2         0.000  \n",
       "3         1.000  \n",
       "4         0.000  "
      ]
     },
     "execution_count": 139,
     "metadata": {},
     "output_type": "execute_result"
    }
   ],
   "source": [
    "change_type_list = ['order_item_id', 'order_id', 'customer_id', 'product_id']\n",
    "for i in change_type_list:\n",
    "    df_order_items[i] = df_order_items[i].astype(str)\n",
    "    \n",
    "df_order_items.select_dtypes(include=np.number).head()"
   ]
  },
  {
   "cell_type": "code",
   "execution_count": 140,
   "id": "854f2103",
   "metadata": {
    "scrolled": false
   },
   "outputs": [
    {
     "data": {
      "text/plain": [
       "<AxesSubplot:>"
      ]
     },
     "execution_count": 140,
     "metadata": {},
     "output_type": "execute_result"
    },
    {
     "data": {
      "image/png": "[encoded data removed]",
      "text/plain": [
       "<Figure size 576x396 with 2 Axes>"
      ]
     },
     "metadata": {},
     "output_type": "display_data"
    }
   ],
   "source": [
    "sns.heatmap(df_order_items.corr(), annot=True)"
   ]
  },
  {
   "cell_type": "markdown",
   "id": "44de7c8c",
   "metadata": {},
   "source": [
    "No multicollinearity problem for now"
   ]
  },
  {
   "cell_type": "markdown",
   "id": "620198bd",
   "metadata": {},
   "source": [
    "### Data Inconsistency?"
   ]
  },
  {
   "cell_type": "markdown",
   "id": "6418cffb",
   "metadata": {},
   "source": [
    "nsbr = gmv - markdown - coupon code? But it doesn't match, calculate the difference between nsbr and the \"unknown amt\" and see if it's a fixed number. Hypothesis: Tax? Shipping fee?"
   ]
  },
  {
   "cell_type": "code",
   "execution_count": 141,
   "id": "b027a0bf",
   "metadata": {},
   "outputs": [],
   "source": [
    "df_order_items['unknown_amt'] = df_order_items['gmv_amount'] - df_order_items['markdown_amount'] - df_order_items['coupon_code_amount']\n",
    "df_order_items['price_diff'] = df_order_items['unknown_amt'] - df_order_items['nsbr_amount']"
   ]
  },
  {
   "cell_type": "markdown",
   "id": "d6c612b8",
   "metadata": {},
   "source": [
    "Result: not fixed % nor fixed value. So not tax either, maybe can be used as a feature in the future"
   ]
  },
  {
   "cell_type": "code",
   "execution_count": 142,
   "id": "e5eaa8bb",
   "metadata": {},
   "outputs": [
    {
     "data": {
      "text/plain": [
       "array([14.706     , 12.369     , 12.426     , ..., 16.21673448,\n",
       "       17.4179118 ,  6.3427434 ])"
      ]
     },
     "execution_count": 142,
     "metadata": {},
     "output_type": "execute_result"
    }
   ],
   "source": [
    "df_order_items['price_diff'].unique()"
   ]
  },
  {
   "cell_type": "code",
   "execution_count": 143,
   "id": "094ff33d",
   "metadata": {},
   "outputs": [
    {
     "data": {
      "text/plain": [
       "(array([2.10000e+01, 7.80000e+01, 3.96000e+02, 1.07000e+02, 6.66000e+02,\n",
       "        8.67000e+02, 3.95000e+02, 1.29200e+03, 1.27900e+03, 6.18000e+02,\n",
       "        7.39000e+02, 4.34000e+02, 3.07000e+02, 2.27000e+02, 2.49000e+02,\n",
       "        2.16000e+02, 3.21000e+02, 3.09000e+02, 2.84000e+02, 3.78000e+02,\n",
       "        3.43000e+02, 3.96000e+02, 6.55000e+02, 9.36000e+02, 4.88490e+04,\n",
       "        2.89507e+05, 1.46493e+05, 3.68830e+04, 1.06458e+05, 7.45790e+04,\n",
       "        1.03593e+05, 1.56865e+05, 2.59161e+05, 8.09221e+05, 2.76247e+05,\n",
       "        4.71078e+05, 2.75630e+04, 5.11860e+04, 1.26400e+03, 3.41900e+03,\n",
       "        4.72000e+02, 1.11000e+02, 1.00000e+01, 1.90000e+01, 2.60000e+01,\n",
       "        1.00000e+00, 0.00000e+00, 0.00000e+00, 0.00000e+00, 0.00000e+00]),\n",
       " array([-0.2  , -0.192, -0.184, -0.176, -0.168, -0.16 , -0.152, -0.144,\n",
       "        -0.136, -0.128, -0.12 , -0.112, -0.104, -0.096, -0.088, -0.08 ,\n",
       "        -0.072, -0.064, -0.056, -0.048, -0.04 , -0.032, -0.024, -0.016,\n",
       "        -0.008,  0.   ,  0.008,  0.016,  0.024,  0.032,  0.04 ,  0.048,\n",
       "         0.056,  0.064,  0.072,  0.08 ,  0.088,  0.096,  0.104,  0.112,\n",
       "         0.12 ,  0.128,  0.136,  0.144,  0.152,  0.16 ,  0.168,  0.176,\n",
       "         0.184,  0.192,  0.2  ]),\n",
       " <BarContainer object of 50 artists>)"
      ]
     },
     "execution_count": 143,
     "metadata": {},
     "output_type": "execute_result"
    },
    {
     "data": {
      "image/png": "[encoded data removed]",
      "text/plain": [
       "<Figure size 576x396 with 1 Axes>"
      ]
     },
     "metadata": {},
     "output_type": "display_data"
    }
   ],
   "source": [
    "plt.hist(df_order_items['price_diff']/df_order_items['gmv_amount'], bins= 50, range=[-.2, .2])"
   ]
  },
  {
   "cell_type": "markdown",
   "id": "39489eba",
   "metadata": {},
   "source": [
    "### Make outliers and categorical data into feature (sample only, not going to use it for this modelling)"
   ]
  },
  {
   "cell_type": "code",
   "execution_count": 144,
   "id": "176c0f0a",
   "metadata": {},
   "outputs": [],
   "source": [
    "col_to_convert = ['channel', 'negative_nsbr', 'negative_markdown', 'city']\n",
    "df_sample = df_order_items.copy()\n",
    "for i in col_to_convert:\n",
    "    df_sample = pd.concat([df_sample, pd.get_dummies(df_order_items[i], prefix=i)], axis=1).drop(i, axis = 1)"
   ]
  },
  {
   "cell_type": "code",
   "execution_count": 145,
   "id": "38819e0d",
   "metadata": {},
   "outputs": [
    {
     "data": {
      "text/html": [
       "<div>\n",
       "<style scoped>\n",
       "    .dataframe tbody tr th:only-of-type {\n",
       "        vertical-align: middle;\n",
       "    }\n",
       "\n",
       "    .dataframe tbody tr th {\n",
       "        vertical-align: top;\n",
       "    }\n",
       "\n",
       "    .dataframe thead th {\n",
       "        text-align: right;\n",
       "    }\n",
       "</style>\n",
       "<table border=\"1\" class=\"dataframe\">\n",
       "  <thead>\n",
       "    <tr style=\"text-align: right;\">\n",
       "      <th></th>\n",
       "      <th>order_item_id</th>\n",
       "      <th>order_id</th>\n",
       "      <th>customer_id</th>\n",
       "      <th>product_id</th>\n",
       "      <th>date</th>\n",
       "      <th>gmv_amount</th>\n",
       "      <th>markdown_amount</th>\n",
       "      <th>coupon_code_amount</th>\n",
       "      <th>nsbr_amount</th>\n",
       "      <th>qty_ordered</th>\n",
       "      <th>...</th>\n",
       "      <th>price_diff</th>\n",
       "      <th>channel_offline</th>\n",
       "      <th>channel_online</th>\n",
       "      <th>negative_nsbr_No</th>\n",
       "      <th>negative_nsbr_Yes</th>\n",
       "      <th>negative_markdown_No</th>\n",
       "      <th>negative_markdown_Yes</th>\n",
       "      <th>city_A</th>\n",
       "      <th>city_B</th>\n",
       "      <th>city_C</th>\n",
       "    </tr>\n",
       "  </thead>\n",
       "  <tbody>\n",
       "    <tr>\n",
       "      <th>0</th>\n",
       "      <td>1783282</td>\n",
       "      <td>59179</td>\n",
       "      <td>218963</td>\n",
       "      <td>4007</td>\n",
       "      <td>2015-03-04 15:55:22</td>\n",
       "      <td>250.230</td>\n",
       "      <td>0.000</td>\n",
       "      <td>25.023</td>\n",
       "      <td>210.501</td>\n",
       "      <td>1.000</td>\n",
       "      <td>...</td>\n",
       "      <td>14.706</td>\n",
       "      <td>0</td>\n",
       "      <td>1</td>\n",
       "      <td>1</td>\n",
       "      <td>0</td>\n",
       "      <td>1</td>\n",
       "      <td>0</td>\n",
       "      <td>1</td>\n",
       "      <td>0</td>\n",
       "      <td>0</td>\n",
       "    </tr>\n",
       "    <tr>\n",
       "      <th>1</th>\n",
       "      <td>1799828</td>\n",
       "      <td>59179</td>\n",
       "      <td>218963</td>\n",
       "      <td>514</td>\n",
       "      <td>2015-03-04 15:55:22</td>\n",
       "      <td>210.330</td>\n",
       "      <td>0.000</td>\n",
       "      <td>21.033</td>\n",
       "      <td>176.928</td>\n",
       "      <td>1.000</td>\n",
       "      <td>...</td>\n",
       "      <td>12.369</td>\n",
       "      <td>0</td>\n",
       "      <td>1</td>\n",
       "      <td>1</td>\n",
       "      <td>0</td>\n",
       "      <td>1</td>\n",
       "      <td>0</td>\n",
       "      <td>1</td>\n",
       "      <td>0</td>\n",
       "      <td>0</td>\n",
       "    </tr>\n",
       "    <tr>\n",
       "      <th>2</th>\n",
       "      <td>439862</td>\n",
       "      <td>59179</td>\n",
       "      <td>218963</td>\n",
       "      <td>1830</td>\n",
       "      <td>2015-03-04 15:55:22</td>\n",
       "      <td>210.330</td>\n",
       "      <td>0.000</td>\n",
       "      <td>21.033</td>\n",
       "      <td>176.871</td>\n",
       "      <td>1.000</td>\n",
       "      <td>...</td>\n",
       "      <td>12.426</td>\n",
       "      <td>0</td>\n",
       "      <td>1</td>\n",
       "      <td>1</td>\n",
       "      <td>0</td>\n",
       "      <td>1</td>\n",
       "      <td>0</td>\n",
       "      <td>1</td>\n",
       "      <td>0</td>\n",
       "      <td>0</td>\n",
       "    </tr>\n",
       "    <tr>\n",
       "      <th>3</th>\n",
       "      <td>2491214</td>\n",
       "      <td>763486</td>\n",
       "      <td>117379</td>\n",
       "      <td>878</td>\n",
       "      <td>2015-03-04 15:57:36</td>\n",
       "      <td>264.189</td>\n",
       "      <td>0.000</td>\n",
       "      <td>0.000</td>\n",
       "      <td>264.189</td>\n",
       "      <td>1.000</td>\n",
       "      <td>...</td>\n",
       "      <td>0.000</td>\n",
       "      <td>0</td>\n",
       "      <td>1</td>\n",
       "      <td>1</td>\n",
       "      <td>0</td>\n",
       "      <td>1</td>\n",
       "      <td>0</td>\n",
       "      <td>0</td>\n",
       "      <td>1</td>\n",
       "      <td>0</td>\n",
       "    </tr>\n",
       "    <tr>\n",
       "      <th>4</th>\n",
       "      <td>1100357</td>\n",
       "      <td>763486</td>\n",
       "      <td>117379</td>\n",
       "      <td>4007</td>\n",
       "      <td>2015-03-04 15:57:36</td>\n",
       "      <td>245.304</td>\n",
       "      <td>0.000</td>\n",
       "      <td>0.000</td>\n",
       "      <td>245.304</td>\n",
       "      <td>1.000</td>\n",
       "      <td>...</td>\n",
       "      <td>0.000</td>\n",
       "      <td>0</td>\n",
       "      <td>1</td>\n",
       "      <td>1</td>\n",
       "      <td>0</td>\n",
       "      <td>1</td>\n",
       "      <td>0</td>\n",
       "      <td>0</td>\n",
       "      <td>1</td>\n",
       "      <td>0</td>\n",
       "    </tr>\n",
       "  </tbody>\n",
       "</table>\n",
       "<p>5 rows × 22 columns</p>\n",
       "</div>"
      ],
      "text/plain": [
       "  order_item_id order_id customer_id product_id                 date  \\\n",
       "0       1783282    59179      218963       4007  2015-03-04 15:55:22   \n",
       "1       1799828    59179      218963        514  2015-03-04 15:55:22   \n",
       "2        439862    59179      218963       1830  2015-03-04 15:55:22   \n",
       "3       2491214   763486      117379        878  2015-03-04 15:57:36   \n",
       "4       1100357   763486      117379       4007  2015-03-04 15:57:36   \n",
       "\n",
       "   gmv_amount  markdown_amount  coupon_code_amount  nsbr_amount  qty_ordered  \\\n",
       "0     250.230            0.000              25.023      210.501        1.000   \n",
       "1     210.330            0.000              21.033      176.928        1.000   \n",
       "2     210.330            0.000              21.033      176.871        1.000   \n",
       "3     264.189            0.000               0.000      264.189        1.000   \n",
       "4     245.304            0.000               0.000      245.304        1.000   \n",
       "\n",
       "   ...  price_diff  channel_offline  channel_online  negative_nsbr_No  \\\n",
       "0  ...      14.706                0               1                 1   \n",
       "1  ...      12.369                0               1                 1   \n",
       "2  ...      12.426                0               1                 1   \n",
       "3  ...       0.000                0               1                 1   \n",
       "4  ...       0.000                0               1                 1   \n",
       "\n",
       "   negative_nsbr_Yes  negative_markdown_No  negative_markdown_Yes  city_A  \\\n",
       "0                  0                     1                      0       1   \n",
       "1                  0                     1                      0       1   \n",
       "2                  0                     1                      0       1   \n",
       "3                  0                     1                      0       0   \n",
       "4                  0                     1                      0       0   \n",
       "\n",
       "   city_B  city_C  \n",
       "0       0       0  \n",
       "1       0       0  \n",
       "2       0       0  \n",
       "3       1       0  \n",
       "4       1       0  \n",
       "\n",
       "[5 rows x 22 columns]"
      ]
     },
     "execution_count": 145,
     "metadata": {},
     "output_type": "execute_result"
    }
   ],
   "source": [
    "df_sample.head()"
   ]
  },
  {
   "cell_type": "code",
   "execution_count": 146,
   "id": "2d8515c8",
   "metadata": {},
   "outputs": [],
   "source": [
    "del df_sample"
   ]
  },
  {
   "cell_type": "code",
   "execution_count": null,
   "id": "104b6f06",
   "metadata": {},
   "outputs": [],
   "source": []
  },
  {
   "cell_type": "markdown",
   "id": "27cb0050",
   "metadata": {},
   "source": [
    "## Prepare features for Modelling, converting data into 3 months block and then create RFM"
   ]
  },
  {
   "cell_type": "markdown",
   "id": "98ec536d",
   "metadata": {},
   "source": [
    "## For assessment purpose, will only take transaction data (primarily numerical data) and returns for modelling."
   ]
  },
  {
   "cell_type": "code",
   "execution_count": 147,
   "id": "1f576ab0",
   "metadata": {},
   "outputs": [
    {
     "data": {
      "text/html": [
       "<div>\n",
       "<style scoped>\n",
       "    .dataframe tbody tr th:only-of-type {\n",
       "        vertical-align: middle;\n",
       "    }\n",
       "\n",
       "    .dataframe tbody tr th {\n",
       "        vertical-align: top;\n",
       "    }\n",
       "\n",
       "    .dataframe thead th {\n",
       "        text-align: right;\n",
       "    }\n",
       "</style>\n",
       "<table border=\"1\" class=\"dataframe\">\n",
       "  <thead>\n",
       "    <tr style=\"text-align: right;\">\n",
       "      <th></th>\n",
       "      <th>order_item_id</th>\n",
       "      <th>order_id</th>\n",
       "      <th>customer_id</th>\n",
       "      <th>product_id</th>\n",
       "      <th>date</th>\n",
       "      <th>gmv_amount</th>\n",
       "      <th>markdown_amount</th>\n",
       "      <th>coupon_code_amount</th>\n",
       "      <th>nsbr_amount</th>\n",
       "      <th>qty_ordered</th>\n",
       "      <th>qty_returned</th>\n",
       "      <th>year_month</th>\n",
       "    </tr>\n",
       "  </thead>\n",
       "  <tbody>\n",
       "    <tr>\n",
       "      <th>2801525</th>\n",
       "      <td>2231228</td>\n",
       "      <td>623979</td>\n",
       "      <td>167034</td>\n",
       "      <td>6228</td>\n",
       "      <td>2015-01-24</td>\n",
       "      <td>206.597</td>\n",
       "      <td>0.000</td>\n",
       "      <td>0.000</td>\n",
       "      <td>206.597</td>\n",
       "      <td>1.000</td>\n",
       "      <td>0.000</td>\n",
       "      <td>2015-01</td>\n",
       "    </tr>\n",
       "    <tr>\n",
       "      <th>2776688</th>\n",
       "      <td>1757629</td>\n",
       "      <td>283851</td>\n",
       "      <td>29372</td>\n",
       "      <td>215</td>\n",
       "      <td>2015-01-17</td>\n",
       "      <td>250.230</td>\n",
       "      <td>0.000</td>\n",
       "      <td>25.023</td>\n",
       "      <td>210.501</td>\n",
       "      <td>1.000</td>\n",
       "      <td>0.000</td>\n",
       "      <td>2015-01</td>\n",
       "    </tr>\n",
       "    <tr>\n",
       "      <th>2776687</th>\n",
       "      <td>784607</td>\n",
       "      <td>283851</td>\n",
       "      <td>29372</td>\n",
       "      <td>1047</td>\n",
       "      <td>2015-01-17</td>\n",
       "      <td>284.430</td>\n",
       "      <td>0.000</td>\n",
       "      <td>28.443</td>\n",
       "      <td>239.229</td>\n",
       "      <td>1.000</td>\n",
       "      <td>0.000</td>\n",
       "      <td>2015-01</td>\n",
       "    </tr>\n",
       "    <tr>\n",
       "      <th>2776686</th>\n",
       "      <td>1874944</td>\n",
       "      <td>575330</td>\n",
       "      <td>16276</td>\n",
       "      <td>5495</td>\n",
       "      <td>2015-01-17</td>\n",
       "      <td>324.330</td>\n",
       "      <td>0.000</td>\n",
       "      <td>0.000</td>\n",
       "      <td>303.126</td>\n",
       "      <td>1.000</td>\n",
       "      <td>1.000</td>\n",
       "      <td>2015-01</td>\n",
       "    </tr>\n",
       "    <tr>\n",
       "      <th>2776685</th>\n",
       "      <td>230929</td>\n",
       "      <td>1252712</td>\n",
       "      <td>145182</td>\n",
       "      <td>955</td>\n",
       "      <td>2015-01-17</td>\n",
       "      <td>225.395</td>\n",
       "      <td>0.000</td>\n",
       "      <td>0.000</td>\n",
       "      <td>225.395</td>\n",
       "      <td>1.000</td>\n",
       "      <td>1.000</td>\n",
       "      <td>2015-01</td>\n",
       "    </tr>\n",
       "  </tbody>\n",
       "</table>\n",
       "</div>"
      ],
      "text/plain": [
       "        order_item_id order_id customer_id product_id        date  gmv_amount  \\\n",
       "2801525       2231228   623979      167034       6228  2015-01-24     206.597   \n",
       "2776688       1757629   283851       29372        215  2015-01-17     250.230   \n",
       "2776687        784607   283851       29372       1047  2015-01-17     284.430   \n",
       "2776686       1874944   575330       16276       5495  2015-01-17     324.330   \n",
       "2776685        230929  1252712      145182        955  2015-01-17     225.395   \n",
       "\n",
       "         markdown_amount  coupon_code_amount  nsbr_amount  qty_ordered  \\\n",
       "2801525            0.000               0.000      206.597        1.000   \n",
       "2776688            0.000              25.023      210.501        1.000   \n",
       "2776687            0.000              28.443      239.229        1.000   \n",
       "2776686            0.000               0.000      303.126        1.000   \n",
       "2776685            0.000               0.000      225.395        1.000   \n",
       "\n",
       "         qty_returned year_month  \n",
       "2801525         0.000    2015-01  \n",
       "2776688         0.000    2015-01  \n",
       "2776687         0.000    2015-01  \n",
       "2776686         1.000    2015-01  \n",
       "2776685         1.000    2015-01  "
      ]
     },
     "execution_count": 147,
     "metadata": {},
     "output_type": "execute_result"
    }
   ],
   "source": [
    "feature_base = df_order_items[['order_item_id', 'order_id', 'customer_id', 'product_id', 'date',\n",
    "       'gmv_amount', 'markdown_amount', 'coupon_code_amount', 'nsbr_amount',\n",
    "       'qty_ordered', 'qty_returned']]\n",
    "\n",
    "# Convert datetime into year_month and date to date format\n",
    "feature_base['year_month'] = feature_base['date'].str[:7]\n",
    "feature_base['date'] = pd.to_datetime(feature_base['date']).apply(lambda x: x.date())\n",
    "\n",
    "# Sort the data by date, for observation-result period segmentation\n",
    "feature_base = feature_base.sort_values(by='year_month')\n",
    "feature_base.head()"
   ]
  },
  {
   "cell_type": "code",
   "execution_count": 148,
   "id": "0dfc3dc5",
   "metadata": {},
   "outputs": [
    {
     "data": {
      "text/plain": [
       "array(['2015-01', '2015-02', '2015-03', '2015-04', '2015-05', '2015-06',\n",
       "       '2015-07', '2015-08', '2015-09', '2015-10', '2015-11', '2015-12',\n",
       "       '2016-01', '2016-02', '2016-03', '2016-04', '2016-05', '2016-06',\n",
       "       '2016-07', '2016-08', '2016-09', '2016-10', '2016-11', '2016-12',\n",
       "       '2017-01', '2017-02', '2017-03', '2017-04', '2017-05', '2017-06',\n",
       "       '2017-07', '2017-08', '2017-09', '2017-10', '2017-11', '2017-12'],\n",
       "      dtype=object)"
      ]
     },
     "execution_count": 148,
     "metadata": {},
     "output_type": "execute_result"
    }
   ],
   "source": [
    "feature_base.year_month.unique()"
   ]
  },
  {
   "cell_type": "code",
   "execution_count": 149,
   "id": "8524732b",
   "metadata": {},
   "outputs": [
    {
     "data": {
      "text/html": [
       "<div>\n",
       "<style scoped>\n",
       "    .dataframe tbody tr th:only-of-type {\n",
       "        vertical-align: middle;\n",
       "    }\n",
       "\n",
       "    .dataframe tbody tr th {\n",
       "        vertical-align: top;\n",
       "    }\n",
       "\n",
       "    .dataframe thead th {\n",
       "        text-align: right;\n",
       "    }\n",
       "</style>\n",
       "<table border=\"1\" class=\"dataframe\">\n",
       "  <thead>\n",
       "    <tr style=\"text-align: right;\">\n",
       "      <th></th>\n",
       "      <th>year_month</th>\n",
       "      <th>group</th>\n",
       "    </tr>\n",
       "  </thead>\n",
       "  <tbody>\n",
       "    <tr>\n",
       "      <th>0</th>\n",
       "      <td>2015-01</td>\n",
       "      <td>1</td>\n",
       "    </tr>\n",
       "    <tr>\n",
       "      <th>1</th>\n",
       "      <td>2015-02</td>\n",
       "      <td>1</td>\n",
       "    </tr>\n",
       "    <tr>\n",
       "      <th>2</th>\n",
       "      <td>2015-03</td>\n",
       "      <td>1</td>\n",
       "    </tr>\n",
       "    <tr>\n",
       "      <th>3</th>\n",
       "      <td>2015-04</td>\n",
       "      <td>2</td>\n",
       "    </tr>\n",
       "    <tr>\n",
       "      <th>4</th>\n",
       "      <td>2015-05</td>\n",
       "      <td>2</td>\n",
       "    </tr>\n",
       "  </tbody>\n",
       "</table>\n",
       "</div>"
      ],
      "text/plain": [
       "  year_month  group\n",
       "0    2015-01      1\n",
       "1    2015-02      1\n",
       "2    2015-03      1\n",
       "3    2015-04      2\n",
       "4    2015-05      2"
      ]
     },
     "execution_count": 149,
     "metadata": {},
     "output_type": "execute_result"
    }
   ],
   "source": [
    "# Segment every 3 months into a group\n",
    "# Helper function to chunk list into groups\n",
    "def chunker(seq, size):\n",
    "    return (seq[pos:pos + size] for pos in range(0, len(seq), size))\n",
    "\n",
    "grp_dict = dict()\n",
    "\n",
    "counter = 0\n",
    "for i in chunker(feature_base.year_month.unique(), 3):\n",
    "    counter += 1\n",
    "    for j in i:\n",
    "        grp_dict[j] = counter\n",
    "        \n",
    "date_grp = pd.DataFrame({'year_month': grp_dict.keys() , 'group' : grp_dict.values()})\n",
    "date_grp.head()"
   ]
  },
  {
   "cell_type": "code",
   "execution_count": 150,
   "id": "741bc966",
   "metadata": {},
   "outputs": [],
   "source": [
    "feature_base = feature_base.merge(date_grp, on = ['year_month'], how='left')"
   ]
  },
  {
   "cell_type": "markdown",
   "id": "f0db314e",
   "metadata": {},
   "source": [
    "### Recency - Generate the average days between each order and days since last purchase"
   ]
  },
  {
   "cell_type": "code",
   "execution_count": 151,
   "id": "b0b1506b",
   "metadata": {
    "scrolled": false
   },
   "outputs": [
    {
     "data": {
      "text/html": [
       "<div>\n",
       "<style scoped>\n",
       "    .dataframe tbody tr th:only-of-type {\n",
       "        vertical-align: middle;\n",
       "    }\n",
       "\n",
       "    .dataframe tbody tr th {\n",
       "        vertical-align: top;\n",
       "    }\n",
       "\n",
       "    .dataframe thead th {\n",
       "        text-align: right;\n",
       "    }\n",
       "</style>\n",
       "<table border=\"1\" class=\"dataframe\">\n",
       "  <thead>\n",
       "    <tr style=\"text-align: right;\">\n",
       "      <th></th>\n",
       "      <th></th>\n",
       "      <th></th>\n",
       "      <th>date</th>\n",
       "    </tr>\n",
       "    <tr>\n",
       "      <th>group</th>\n",
       "      <th>customer_id</th>\n",
       "      <th>order_id</th>\n",
       "      <th></th>\n",
       "    </tr>\n",
       "  </thead>\n",
       "  <tbody>\n",
       "  </tbody>\n",
       "</table>\n",
       "</div>"
      ],
      "text/plain": [
       "Empty DataFrame\n",
       "Columns: [date]\n",
       "Index: []"
      ]
     },
     "execution_count": 151,
     "metadata": {},
     "output_type": "execute_result"
    }
   ],
   "source": [
    "# Check if there are any order with more than 1 date\n",
    "cust_order_date = feature_base[['group', 'customer_id', 'order_id', 'date']].drop_duplicates()\n",
    "cust_order_date.groupby(['group', 'customer_id', 'order_id']).nunique()[cust_order_date.groupby(['group', 'customer_id', 'order_id']).nunique()['date']>1]\n",
    "\n",
    "# looks ok"
   ]
  },
  {
   "cell_type": "code",
   "execution_count": 152,
   "id": "be489470",
   "metadata": {
    "scrolled": true
   },
   "outputs": [],
   "source": [
    "# For each group and each customer, calculate the average days between transactions\n",
    "cust_order_date = cust_order_date.sort_values(by = ['group', 'customer_id', 'date'])\n",
    "cust_order_date['next_purchase'] = cust_order_date.groupby(['group', 'customer_id'])['date'].shift(-1)\n",
    "cust_order_date['day_diff'] = abs(cust_order_date['date'] - cust_order_date['next_purchase'])\n",
    "cust_order_date = cust_order_date[~cust_order_date['day_diff'].isnull()]\n",
    "cust_order_date['day_diff'] = cust_order_date['day_diff'].apply(lambda x: x.days)\n",
    "df_recency_1 = cust_order_date.groupby(['group', 'customer_id'])['day_diff'].mean()\n",
    "df_recency_1 = pd.DataFrame(df_recency_1).reset_index()"
   ]
  },
  {
   "cell_type": "code",
   "execution_count": 153,
   "id": "4a19b640",
   "metadata": {},
   "outputs": [],
   "source": [
    "# Calculate how many days since last purchase before end of observation period\n",
    "df_recency_2 = pd.DataFrame(cust_order_date.groupby(['group', 'customer_id'])['date'].max()).reset_index()\n",
    "df_recency_3 = pd.DataFrame(cust_order_date.groupby(['group'])['date'].max()).reset_index()\n",
    "\n",
    "df_recency_2 = df_recency_2.merge(df_recency_3, on = ['group'], how = 'left')\n",
    "\n",
    "df_recency_2['days_since_last'] = df_recency_2['date_y'] - df_recency_2['date_x']\n",
    "df_recency_2['days_since_last'] = df_recency_2['days_since_last'].apply(lambda x: x.days)"
   ]
  },
  {
   "cell_type": "code",
   "execution_count": 154,
   "id": "5bd1b246",
   "metadata": {},
   "outputs": [],
   "source": [
    "df_recency = df_recency_1.merge(df_recency_2, on = ['group', 'customer_id'], how = 'left').drop(columns = ['date_x', 'date_y'], axis = 1)"
   ]
  },
  {
   "cell_type": "code",
   "execution_count": 155,
   "id": "dc30f7e4",
   "metadata": {},
   "outputs": [
    {
     "data": {
      "text/plain": [
       "(array([14210.,  8630.,  9407., 11738., 11583.,  8921., 11347., 11791.,\n",
       "         9647.,  9122.,  8890.,  6300.,  6807.,  6120.,  6218.,  6156.,\n",
       "         2797.,  4309.,  3894.,  3475.,  3137.,  2886.,  1500.,  2543.,\n",
       "         1780.,  1659.,  1842.,   771.,  1493.,  1423.,  1510.,  1209.,\n",
       "         1044.,   528.,  1099.,   909.,   848.,   782.,   480.,   756.,\n",
       "          575.,   575.,   536.,   366.,   170.,   339.,   288.,   169.,\n",
       "          108.,    30.]),\n",
       " array([ 0.  ,  1.82,  3.64,  5.46,  7.28,  9.1 , 10.92, 12.74, 14.56,\n",
       "        16.38, 18.2 , 20.02, 21.84, 23.66, 25.48, 27.3 , 29.12, 30.94,\n",
       "        32.76, 34.58, 36.4 , 38.22, 40.04, 41.86, 43.68, 45.5 , 47.32,\n",
       "        49.14, 50.96, 52.78, 54.6 , 56.42, 58.24, 60.06, 61.88, 63.7 ,\n",
       "        65.52, 67.34, 69.16, 70.98, 72.8 , 74.62, 76.44, 78.26, 80.08,\n",
       "        81.9 , 83.72, 85.54, 87.36, 89.18, 91.  ]),\n",
       " <BarContainer object of 50 artists>)"
      ]
     },
     "execution_count": 155,
     "metadata": {},
     "output_type": "execute_result"
    },
    {
     "data": {
      "image/png": "[encoded data removed]",
      "text/plain": [
       "<Figure size 576x396 with 1 Axes>"
      ]
     },
     "metadata": {},
     "output_type": "display_data"
    }
   ],
   "source": [
    "plt.hist(df_recency['day_diff'], bins = 50)"
   ]
  },
  {
   "cell_type": "code",
   "execution_count": 156,
   "id": "fec1a5df",
   "metadata": {},
   "outputs": [
    {
     "data": {
      "text/plain": [
       "(array([1224., 2398., 3012., 3142., 3953., 1709., 3485., 3914., 3652.,\n",
       "        4439., 4531., 2351., 4154., 4658., 3683., 3857., 1936., 4834.,\n",
       "        5479., 5482., 4271., 3886., 1864., 4055., 3648., 3248., 4740.,\n",
       "        2682., 5085., 5844., 5823., 5818., 4698., 2673., 4635., 4006.,\n",
       "        4408., 4520., 2141., 3994., 4426., 4793., 4686., 4121., 2485.,\n",
       "        4505., 3698., 3423., 4121., 2527.]),\n",
       " array([ 0.  ,  1.82,  3.64,  5.46,  7.28,  9.1 , 10.92, 12.74, 14.56,\n",
       "        16.38, 18.2 , 20.02, 21.84, 23.66, 25.48, 27.3 , 29.12, 30.94,\n",
       "        32.76, 34.58, 36.4 , 38.22, 40.04, 41.86, 43.68, 45.5 , 47.32,\n",
       "        49.14, 50.96, 52.78, 54.6 , 56.42, 58.24, 60.06, 61.88, 63.7 ,\n",
       "        65.52, 67.34, 69.16, 70.98, 72.8 , 74.62, 76.44, 78.26, 80.08,\n",
       "        81.9 , 83.72, 85.54, 87.36, 89.18, 91.  ]),\n",
       " <BarContainer object of 50 artists>)"
      ]
     },
     "execution_count": 156,
     "metadata": {},
     "output_type": "execute_result"
    },
    {
     "data": {
      "image/png": "[encoded data removed]",
      "text/plain": [
       "<Figure size 576x396 with 1 Axes>"
      ]
     },
     "metadata": {},
     "output_type": "display_data"
    }
   ],
   "source": [
    "plt.hist(df_recency['days_since_last'], bins = 50)"
   ]
  },
  {
   "cell_type": "code",
   "execution_count": 157,
   "id": "4e94d899",
   "metadata": {},
   "outputs": [
    {
     "data": {
      "text/html": [
       "<div>\n",
       "<style scoped>\n",
       "    .dataframe tbody tr th:only-of-type {\n",
       "        vertical-align: middle;\n",
       "    }\n",
       "\n",
       "    .dataframe tbody tr th {\n",
       "        vertical-align: top;\n",
       "    }\n",
       "\n",
       "    .dataframe thead th {\n",
       "        text-align: right;\n",
       "    }\n",
       "</style>\n",
       "<table border=\"1\" class=\"dataframe\">\n",
       "  <thead>\n",
       "    <tr style=\"text-align: right;\">\n",
       "      <th></th>\n",
       "      <th>group</th>\n",
       "      <th>customer_id</th>\n",
       "      <th>day_diff</th>\n",
       "      <th>days_since_last</th>\n",
       "    </tr>\n",
       "  </thead>\n",
       "  <tbody>\n",
       "    <tr>\n",
       "      <th>0</th>\n",
       "      <td>1</td>\n",
       "      <td>100051</td>\n",
       "      <td>43.000</td>\n",
       "      <td>62</td>\n",
       "    </tr>\n",
       "    <tr>\n",
       "      <th>1</th>\n",
       "      <td>1</td>\n",
       "      <td>10006</td>\n",
       "      <td>38.000</td>\n",
       "      <td>80</td>\n",
       "    </tr>\n",
       "    <tr>\n",
       "      <th>2</th>\n",
       "      <td>1</td>\n",
       "      <td>100063</td>\n",
       "      <td>30.000</td>\n",
       "      <td>74</td>\n",
       "    </tr>\n",
       "    <tr>\n",
       "      <th>3</th>\n",
       "      <td>1</td>\n",
       "      <td>100072</td>\n",
       "      <td>32.000</td>\n",
       "      <td>83</td>\n",
       "    </tr>\n",
       "    <tr>\n",
       "      <th>4</th>\n",
       "      <td>1</td>\n",
       "      <td>10010</td>\n",
       "      <td>37.000</td>\n",
       "      <td>3</td>\n",
       "    </tr>\n",
       "  </tbody>\n",
       "</table>\n",
       "</div>"
      ],
      "text/plain": [
       "   group customer_id  day_diff  days_since_last\n",
       "0      1      100051    43.000               62\n",
       "1      1       10006    38.000               80\n",
       "2      1      100063    30.000               74\n",
       "3      1      100072    32.000               83\n",
       "4      1       10010    37.000                3"
      ]
     },
     "execution_count": 157,
     "metadata": {},
     "output_type": "execute_result"
    }
   ],
   "source": [
    "df_recency.head()"
   ]
  },
  {
   "cell_type": "code",
   "execution_count": 158,
   "id": "1d7979d8",
   "metadata": {},
   "outputs": [
    {
     "data": {
      "text/plain": [
       "(192717, 4)"
      ]
     },
     "execution_count": 158,
     "metadata": {},
     "output_type": "execute_result"
    }
   ],
   "source": [
    "df_recency.shape"
   ]
  },
  {
   "cell_type": "markdown",
   "id": "2cc59938",
   "metadata": {},
   "source": [
    "### Frequency - How many transactions and how many items they ordered"
   ]
  },
  {
   "cell_type": "code",
   "execution_count": 159,
   "id": "dc8a64e1",
   "metadata": {},
   "outputs": [],
   "source": [
    "order_freq = feature_base.groupby(['group', 'customer_id'])['order_id'].nunique().reset_index().rename({'order_id': 'order_cnt'}, axis = 1)\n",
    "item_order_freq = feature_base.groupby(['group', 'customer_id'])['qty_ordered'].sum().reset_index()\n",
    "item_return_freq = feature_base.groupby(['group', 'customer_id'])['qty_returned'].sum().reset_index()"
   ]
  },
  {
   "cell_type": "code",
   "execution_count": 160,
   "id": "88c58b0c",
   "metadata": {},
   "outputs": [],
   "source": [
    "df_frequency = order_freq.merge(item_order_freq, on = ['group', 'customer_id'], how = 'left')\n",
    "df_frequency = df_frequency.merge(item_return_freq, on = ['group', 'customer_id'], how = 'left')\n",
    "\n",
    "# Calculate return rate\n",
    "df_frequency['return_rate'] = df_frequency['qty_returned']/df_frequency['qty_ordered']"
   ]
  },
  {
   "cell_type": "code",
   "execution_count": 161,
   "id": "ccc4e008",
   "metadata": {},
   "outputs": [
    {
     "data": {
      "text/html": [
       "<div>\n",
       "<style scoped>\n",
       "    .dataframe tbody tr th:only-of-type {\n",
       "        vertical-align: middle;\n",
       "    }\n",
       "\n",
       "    .dataframe tbody tr th {\n",
       "        vertical-align: top;\n",
       "    }\n",
       "\n",
       "    .dataframe thead th {\n",
       "        text-align: right;\n",
       "    }\n",
       "</style>\n",
       "<table border=\"1\" class=\"dataframe\">\n",
       "  <thead>\n",
       "    <tr style=\"text-align: right;\">\n",
       "      <th></th>\n",
       "      <th>group</th>\n",
       "      <th>customer_id</th>\n",
       "      <th>order_cnt</th>\n",
       "      <th>qty_ordered</th>\n",
       "      <th>qty_returned</th>\n",
       "      <th>return_rate</th>\n",
       "    </tr>\n",
       "  </thead>\n",
       "  <tbody>\n",
       "    <tr>\n",
       "      <th>0</th>\n",
       "      <td>1</td>\n",
       "      <td>100007</td>\n",
       "      <td>1</td>\n",
       "      <td>2.000</td>\n",
       "      <td>0.000</td>\n",
       "      <td>0.000</td>\n",
       "    </tr>\n",
       "    <tr>\n",
       "      <th>1</th>\n",
       "      <td>1</td>\n",
       "      <td>100017</td>\n",
       "      <td>1</td>\n",
       "      <td>3.000</td>\n",
       "      <td>0.000</td>\n",
       "      <td>0.000</td>\n",
       "    </tr>\n",
       "    <tr>\n",
       "      <th>2</th>\n",
       "      <td>1</td>\n",
       "      <td>100022</td>\n",
       "      <td>1</td>\n",
       "      <td>1.000</td>\n",
       "      <td>1.000</td>\n",
       "      <td>1.000</td>\n",
       "    </tr>\n",
       "    <tr>\n",
       "      <th>3</th>\n",
       "      <td>1</td>\n",
       "      <td>100032</td>\n",
       "      <td>1</td>\n",
       "      <td>4.000</td>\n",
       "      <td>1.000</td>\n",
       "      <td>0.250</td>\n",
       "    </tr>\n",
       "    <tr>\n",
       "      <th>4</th>\n",
       "      <td>1</td>\n",
       "      <td>100051</td>\n",
       "      <td>3</td>\n",
       "      <td>5.000</td>\n",
       "      <td>0.000</td>\n",
       "      <td>0.000</td>\n",
       "    </tr>\n",
       "  </tbody>\n",
       "</table>\n",
       "</div>"
      ],
      "text/plain": [
       "   group customer_id  order_cnt  qty_ordered  qty_returned  return_rate\n",
       "0      1      100007          1        2.000         0.000        0.000\n",
       "1      1      100017          1        3.000         0.000        0.000\n",
       "2      1      100022          1        1.000         1.000        1.000\n",
       "3      1      100032          1        4.000         1.000        0.250\n",
       "4      1      100051          3        5.000         0.000        0.000"
      ]
     },
     "execution_count": 161,
     "metadata": {},
     "output_type": "execute_result"
    }
   ],
   "source": [
    "df_frequency.head()"
   ]
  },
  {
   "cell_type": "code",
   "execution_count": 162,
   "id": "3eeefa99",
   "metadata": {},
   "outputs": [
    {
     "data": {
      "text/plain": [
       "(558517, 6)"
      ]
     },
     "execution_count": 162,
     "metadata": {},
     "output_type": "execute_result"
    }
   ],
   "source": [
    "df_frequency.shape"
   ]
  },
  {
   "cell_type": "markdown",
   "id": "d444f768",
   "metadata": {},
   "source": [
    "### Monetary - Total amount spent and total amount discounted"
   ]
  },
  {
   "cell_type": "code",
   "execution_count": 163,
   "id": "05271ea2",
   "metadata": {},
   "outputs": [],
   "source": [
    "df_monetary = feature_base.groupby(['group', 'customer_id'])['gmv_amount', 'markdown_amount', 'coupon_code_amount', 'nsbr_amount'].sum().reset_index()\n",
    "\n",
    "# Combine markdown amount and coupon code amount into a single metric\n",
    "df_monetary['discounted_amount'] = df_monetary['markdown_amount'] + df_monetary['coupon_code_amount']\n",
    "\n",
    "# nsbr and gmv amount have a very high correlation as well, dropping the nsbr_amount\n",
    "df_monetary = df_monetary.drop(['markdown_amount', 'coupon_code_amount', 'nsbr_amount'], axis = 1)"
   ]
  },
  {
   "cell_type": "code",
   "execution_count": 164,
   "id": "e17944b8",
   "metadata": {},
   "outputs": [
    {
     "data": {
      "text/html": [
       "<div>\n",
       "<style scoped>\n",
       "    .dataframe tbody tr th:only-of-type {\n",
       "        vertical-align: middle;\n",
       "    }\n",
       "\n",
       "    .dataframe tbody tr th {\n",
       "        vertical-align: top;\n",
       "    }\n",
       "\n",
       "    .dataframe thead th {\n",
       "        text-align: right;\n",
       "    }\n",
       "</style>\n",
       "<table border=\"1\" class=\"dataframe\">\n",
       "  <thead>\n",
       "    <tr style=\"text-align: right;\">\n",
       "      <th></th>\n",
       "      <th>group</th>\n",
       "      <th>customer_id</th>\n",
       "      <th>gmv_amount</th>\n",
       "      <th>discounted_amount</th>\n",
       "    </tr>\n",
       "  </thead>\n",
       "  <tbody>\n",
       "    <tr>\n",
       "      <th>0</th>\n",
       "      <td>1</td>\n",
       "      <td>100007</td>\n",
       "      <td>544.783</td>\n",
       "      <td>0.000</td>\n",
       "    </tr>\n",
       "    <tr>\n",
       "      <th>1</th>\n",
       "      <td>1</td>\n",
       "      <td>100017</td>\n",
       "      <td>773.682</td>\n",
       "      <td>0.000</td>\n",
       "    </tr>\n",
       "    <tr>\n",
       "      <th>2</th>\n",
       "      <td>1</td>\n",
       "      <td>100022</td>\n",
       "      <td>324.330</td>\n",
       "      <td>0.000</td>\n",
       "    </tr>\n",
       "    <tr>\n",
       "      <th>3</th>\n",
       "      <td>1</td>\n",
       "      <td>100032</td>\n",
       "      <td>983.820</td>\n",
       "      <td>0.000</td>\n",
       "    </tr>\n",
       "    <tr>\n",
       "      <th>4</th>\n",
       "      <td>1</td>\n",
       "      <td>100051</td>\n",
       "      <td>1399.350</td>\n",
       "      <td>68.400</td>\n",
       "    </tr>\n",
       "  </tbody>\n",
       "</table>\n",
       "</div>"
      ],
      "text/plain": [
       "   group customer_id  gmv_amount  discounted_amount\n",
       "0      1      100007     544.783              0.000\n",
       "1      1      100017     773.682              0.000\n",
       "2      1      100022     324.330              0.000\n",
       "3      1      100032     983.820              0.000\n",
       "4      1      100051    1399.350             68.400"
      ]
     },
     "execution_count": 164,
     "metadata": {},
     "output_type": "execute_result"
    }
   ],
   "source": [
    "df_monetary.head()"
   ]
  },
  {
   "cell_type": "code",
   "execution_count": 165,
   "id": "2e912a3a",
   "metadata": {},
   "outputs": [
    {
     "data": {
      "text/plain": [
       "(558517, 4)"
      ]
     },
     "execution_count": 165,
     "metadata": {},
     "output_type": "execute_result"
    }
   ],
   "source": [
    "df_monetary.shape"
   ]
  },
  {
   "cell_type": "markdown",
   "id": "ac71fef7",
   "metadata": {},
   "source": [
    "### Aggregating all the data back into one table"
   ]
  },
  {
   "cell_type": "code",
   "execution_count": 166,
   "id": "38f17318",
   "metadata": {},
   "outputs": [],
   "source": [
    "df = df_frequency.merge(df_recency, on = ['group', 'customer_id'], how = 'left')\n",
    "df = df.merge(df_monetary, on = ['group', 'customer_id'], how = 'left')\n",
    "\n",
    "# Fill date_diff and days_since_last. This is not the best way to handle it because it mixes up with active user. \n",
    "# For assessment purpose, not going to spend too much time perfecting it for now.\n",
    "# The frequency and monetary part will be able to differentiate the active and inactive customer.\n",
    "\n",
    "df = df.fillna(0)"
   ]
  },
  {
   "cell_type": "code",
   "execution_count": 167,
   "id": "72d9f14d",
   "metadata": {},
   "outputs": [
    {
     "data": {
      "text/html": [
       "<div>\n",
       "<style scoped>\n",
       "    .dataframe tbody tr th:only-of-type {\n",
       "        vertical-align: middle;\n",
       "    }\n",
       "\n",
       "    .dataframe tbody tr th {\n",
       "        vertical-align: top;\n",
       "    }\n",
       "\n",
       "    .dataframe thead th {\n",
       "        text-align: right;\n",
       "    }\n",
       "</style>\n",
       "<table border=\"1\" class=\"dataframe\">\n",
       "  <thead>\n",
       "    <tr style=\"text-align: right;\">\n",
       "      <th></th>\n",
       "      <th>group</th>\n",
       "      <th>customer_id</th>\n",
       "      <th>order_cnt</th>\n",
       "      <th>qty_ordered</th>\n",
       "      <th>qty_returned</th>\n",
       "      <th>return_rate</th>\n",
       "      <th>day_diff</th>\n",
       "      <th>days_since_last</th>\n",
       "      <th>gmv_amount</th>\n",
       "      <th>discounted_amount</th>\n",
       "    </tr>\n",
       "  </thead>\n",
       "  <tbody>\n",
       "    <tr>\n",
       "      <th>0</th>\n",
       "      <td>1</td>\n",
       "      <td>100007</td>\n",
       "      <td>1</td>\n",
       "      <td>2.000</td>\n",
       "      <td>0.000</td>\n",
       "      <td>0.000</td>\n",
       "      <td>0.000</td>\n",
       "      <td>0.000</td>\n",
       "      <td>544.783</td>\n",
       "      <td>0.000</td>\n",
       "    </tr>\n",
       "    <tr>\n",
       "      <th>1</th>\n",
       "      <td>1</td>\n",
       "      <td>100017</td>\n",
       "      <td>1</td>\n",
       "      <td>3.000</td>\n",
       "      <td>0.000</td>\n",
       "      <td>0.000</td>\n",
       "      <td>0.000</td>\n",
       "      <td>0.000</td>\n",
       "      <td>773.682</td>\n",
       "      <td>0.000</td>\n",
       "    </tr>\n",
       "    <tr>\n",
       "      <th>2</th>\n",
       "      <td>1</td>\n",
       "      <td>100022</td>\n",
       "      <td>1</td>\n",
       "      <td>1.000</td>\n",
       "      <td>1.000</td>\n",
       "      <td>1.000</td>\n",
       "      <td>0.000</td>\n",
       "      <td>0.000</td>\n",
       "      <td>324.330</td>\n",
       "      <td>0.000</td>\n",
       "    </tr>\n",
       "    <tr>\n",
       "      <th>3</th>\n",
       "      <td>1</td>\n",
       "      <td>100032</td>\n",
       "      <td>1</td>\n",
       "      <td>4.000</td>\n",
       "      <td>1.000</td>\n",
       "      <td>0.250</td>\n",
       "      <td>0.000</td>\n",
       "      <td>0.000</td>\n",
       "      <td>983.820</td>\n",
       "      <td>0.000</td>\n",
       "    </tr>\n",
       "    <tr>\n",
       "      <th>4</th>\n",
       "      <td>1</td>\n",
       "      <td>100051</td>\n",
       "      <td>3</td>\n",
       "      <td>5.000</td>\n",
       "      <td>0.000</td>\n",
       "      <td>0.000</td>\n",
       "      <td>43.000</td>\n",
       "      <td>62.000</td>\n",
       "      <td>1399.350</td>\n",
       "      <td>68.400</td>\n",
       "    </tr>\n",
       "  </tbody>\n",
       "</table>\n",
       "</div>"
      ],
      "text/plain": [
       "   group customer_id  order_cnt  qty_ordered  qty_returned  return_rate  \\\n",
       "0      1      100007          1        2.000         0.000        0.000   \n",
       "1      1      100017          1        3.000         0.000        0.000   \n",
       "2      1      100022          1        1.000         1.000        1.000   \n",
       "3      1      100032          1        4.000         1.000        0.250   \n",
       "4      1      100051          3        5.000         0.000        0.000   \n",
       "\n",
       "   day_diff  days_since_last  gmv_amount  discounted_amount  \n",
       "0     0.000            0.000     544.783              0.000  \n",
       "1     0.000            0.000     773.682              0.000  \n",
       "2     0.000            0.000     324.330              0.000  \n",
       "3     0.000            0.000     983.820              0.000  \n",
       "4    43.000           62.000    1399.350             68.400  "
      ]
     },
     "execution_count": 167,
     "metadata": {},
     "output_type": "execute_result"
    }
   ],
   "source": [
    "df.head()"
   ]
  },
  {
   "cell_type": "markdown",
   "id": "1a37b094",
   "metadata": {},
   "source": [
    "### Check collinearity"
   ]
  },
  {
   "cell_type": "code",
   "execution_count": 168,
   "id": "c9a0bb3c",
   "metadata": {
    "scrolled": true
   },
   "outputs": [
    {
     "data": {
      "text/html": [
       "<div>\n",
       "<style scoped>\n",
       "    .dataframe tbody tr th:only-of-type {\n",
       "        vertical-align: middle;\n",
       "    }\n",
       "\n",
       "    .dataframe tbody tr th {\n",
       "        vertical-align: top;\n",
       "    }\n",
       "\n",
       "    .dataframe thead th {\n",
       "        text-align: right;\n",
       "    }\n",
       "</style>\n",
       "<table border=\"1\" class=\"dataframe\">\n",
       "  <thead>\n",
       "    <tr style=\"text-align: right;\">\n",
       "      <th></th>\n",
       "      <th>group</th>\n",
       "      <th>order_cnt</th>\n",
       "      <th>qty_ordered</th>\n",
       "      <th>qty_returned</th>\n",
       "      <th>return_rate</th>\n",
       "      <th>day_diff</th>\n",
       "      <th>days_since_last</th>\n",
       "      <th>gmv_amount</th>\n",
       "      <th>discounted_amount</th>\n",
       "    </tr>\n",
       "  </thead>\n",
       "  <tbody>\n",
       "    <tr>\n",
       "      <th>count</th>\n",
       "      <td>558517.000</td>\n",
       "      <td>558517.000</td>\n",
       "      <td>558517.000</td>\n",
       "      <td>558517.000</td>\n",
       "      <td>558517.000</td>\n",
       "      <td>558517.000</td>\n",
       "      <td>558517.000</td>\n",
       "      <td>558517.000</td>\n",
       "      <td>558517.000</td>\n",
       "    </tr>\n",
       "    <tr>\n",
       "      <th>mean</th>\n",
       "      <td>7.696</td>\n",
       "      <td>2.490</td>\n",
       "      <td>5.169</td>\n",
       "      <td>0.516</td>\n",
       "      <td>0.095</td>\n",
       "      <td>7.184</td>\n",
       "      <td>16.318</td>\n",
       "      <td>1303.142</td>\n",
       "      <td>158.205</td>\n",
       "    </tr>\n",
       "    <tr>\n",
       "      <th>std</th>\n",
       "      <td>3.316</td>\n",
       "      <td>208.670</td>\n",
       "      <td>348.488</td>\n",
       "      <td>7.955</td>\n",
       "      <td>0.224</td>\n",
       "      <td>14.265</td>\n",
       "      <td>26.783</td>\n",
       "      <td>89319.342</td>\n",
       "      <td>7691.695</td>\n",
       "    </tr>\n",
       "    <tr>\n",
       "      <th>min</th>\n",
       "      <td>1.000</td>\n",
       "      <td>1.000</td>\n",
       "      <td>1.000</td>\n",
       "      <td>0.000</td>\n",
       "      <td>0.000</td>\n",
       "      <td>0.000</td>\n",
       "      <td>0.000</td>\n",
       "      <td>0.000</td>\n",
       "      <td>0.000</td>\n",
       "    </tr>\n",
       "    <tr>\n",
       "      <th>25%</th>\n",
       "      <td>5.000</td>\n",
       "      <td>1.000</td>\n",
       "      <td>1.000</td>\n",
       "      <td>0.000</td>\n",
       "      <td>0.000</td>\n",
       "      <td>0.000</td>\n",
       "      <td>0.000</td>\n",
       "      <td>307.230</td>\n",
       "      <td>0.000</td>\n",
       "    </tr>\n",
       "    <tr>\n",
       "      <th>50%</th>\n",
       "      <td>8.000</td>\n",
       "      <td>1.000</td>\n",
       "      <td>3.000</td>\n",
       "      <td>0.000</td>\n",
       "      <td>0.000</td>\n",
       "      <td>0.000</td>\n",
       "      <td>0.000</td>\n",
       "      <td>631.560</td>\n",
       "      <td>0.000</td>\n",
       "    </tr>\n",
       "    <tr>\n",
       "      <th>75%</th>\n",
       "      <td>10.000</td>\n",
       "      <td>2.000</td>\n",
       "      <td>5.000</td>\n",
       "      <td>0.000</td>\n",
       "      <td>0.000</td>\n",
       "      <td>9.000</td>\n",
       "      <td>29.000</td>\n",
       "      <td>1183.307</td>\n",
       "      <td>114.000</td>\n",
       "    </tr>\n",
       "    <tr>\n",
       "      <th>max</th>\n",
       "      <td>12.000</td>\n",
       "      <td>80600.000</td>\n",
       "      <td>140385.000</td>\n",
       "      <td>3102.000</td>\n",
       "      <td>1.000</td>\n",
       "      <td>91.000</td>\n",
       "      <td>91.000</td>\n",
       "      <td>36391222.510</td>\n",
       "      <td>3871265.259</td>\n",
       "    </tr>\n",
       "  </tbody>\n",
       "</table>\n",
       "</div>"
      ],
      "text/plain": [
       "           group  order_cnt  qty_ordered  qty_returned  return_rate  \\\n",
       "count 558517.000 558517.000   558517.000    558517.000   558517.000   \n",
       "mean       7.696      2.490        5.169         0.516        0.095   \n",
       "std        3.316    208.670      348.488         7.955        0.224   \n",
       "min        1.000      1.000        1.000         0.000        0.000   \n",
       "25%        5.000      1.000        1.000         0.000        0.000   \n",
       "50%        8.000      1.000        3.000         0.000        0.000   \n",
       "75%       10.000      2.000        5.000         0.000        0.000   \n",
       "max       12.000  80600.000   140385.000      3102.000        1.000   \n",
       "\n",
       "        day_diff  days_since_last   gmv_amount  discounted_amount  \n",
       "count 558517.000       558517.000   558517.000         558517.000  \n",
       "mean       7.184           16.318     1303.142            158.205  \n",
       "std       14.265           26.783    89319.342           7691.695  \n",
       "min        0.000            0.000        0.000              0.000  \n",
       "25%        0.000            0.000      307.230              0.000  \n",
       "50%        0.000            0.000      631.560              0.000  \n",
       "75%        9.000           29.000     1183.307            114.000  \n",
       "max       91.000           91.000 36391222.510        3871265.259  "
      ]
     },
     "execution_count": 168,
     "metadata": {},
     "output_type": "execute_result"
    }
   ],
   "source": [
    "df.describe()"
   ]
  },
  {
   "cell_type": "code",
   "execution_count": 169,
   "id": "46e8e946",
   "metadata": {
    "scrolled": false
   },
   "outputs": [
    {
     "data": {
      "text/plain": [
       "<AxesSubplot:>"
      ]
     },
     "execution_count": 169,
     "metadata": {},
     "output_type": "execute_result"
    },
    {
     "data": {
      "image/png": "[encoded data removed]",
      "text/plain": [
       "<Figure size 640x480 with 2 Axes>"
      ]
     },
     "metadata": {},
     "output_type": "display_data"
    }
   ],
   "source": [
    "from matplotlib.pyplot import figure\n",
    "\n",
    "figure(figsize=(8, 6), dpi=80)\n",
    "\n",
    "sns.heatmap(df[df.columns[2:]].corr(), annot = True)"
   ]
  },
  {
   "cell_type": "markdown",
   "id": "bc64ba66",
   "metadata": {},
   "source": [
    "- dropping order_count because closely related to gmv_amount\n",
    "- dropping qty_ordered because closely related to gmv_amount\n",
    "- dropping qty_returned because already have return rate\n",
    "\n",
    "- creating discounted_pct instead of discounted amount\n"
   ]
  },
  {
   "cell_type": "code",
   "execution_count": 170,
   "id": "5d9bffb4",
   "metadata": {},
   "outputs": [],
   "source": [
    "# gmv_amount = doesn't seems right, dropping them\n",
    "df = df[df['gmv_amount'] != 0]\n",
    "\n",
    "# create a discount pct col instead of using discount number\n",
    "df['discount_pct'] = df['discounted_amount']/df['gmv_amount']\n",
    "df = df.drop(columns=['discounted_amount', 'order_cnt', 'qty_ordered', 'qty_returned'], axis = 1)\n"
   ]
  },
  {
   "cell_type": "code",
   "execution_count": 171,
   "id": "c3570261",
   "metadata": {
    "scrolled": false
   },
   "outputs": [
    {
     "data": {
      "text/plain": [
       "<AxesSubplot:>"
      ]
     },
     "execution_count": 171,
     "metadata": {},
     "output_type": "execute_result"
    },
    {
     "data": {
      "image/png": "[encoded data removed]",
      "text/plain": [
       "<Figure size 640x480 with 2 Axes>"
      ]
     },
     "metadata": {},
     "output_type": "display_data"
    }
   ],
   "source": [
    "figure(figsize=(8, 6), dpi=80)\n",
    "sns.heatmap(df[df.columns[2:]].corr(), annot = True)"
   ]
  },
  {
   "cell_type": "markdown",
   "id": "5544bbec",
   "metadata": {},
   "source": [
    "## Create label - future GMV vs previous GMV delta"
   ]
  },
  {
   "cell_type": "code",
   "execution_count": 172,
   "id": "91f373d8",
   "metadata": {},
   "outputs": [],
   "source": [
    "df['shift'] = df['group'] + 1\n",
    "df = df.merge(df[['group', 'customer_id', 'gmv_amount']].rename({'gmv_amount':'future_gmv'}, axis = 1)\n",
    "              , left_on = ['shift', 'customer_id']\n",
    "              , right_on = ['group', 'customer_id']\n",
    "              , how = 'left') \\\n",
    "                .drop(['shift', 'group_y'], axis = 1) \\\n",
    "                .rename({'group_x':'group'}, axis = 1).fillna(0)"
   ]
  },
  {
   "cell_type": "code",
   "execution_count": 173,
   "id": "05bd878c",
   "metadata": {},
   "outputs": [],
   "source": [
    "df['next_month_delta'] = ((df['future_gmv'] - df['gmv_amount'])/df['gmv_amount'])\n",
    "df['next_month_delta'] = df['next_month_delta'].astype(float)\n",
    "\n",
    "df['result'] = np.where(df['next_month_delta']  <= 0, 'Reducing Purchase', df['next_month_delta'])\n",
    "df['result'] = np.where(df['next_month_delta'] == -1, 'No Purchase', df['result'])\n",
    "df['result'] = np.where(df['next_month_delta'] > 0, 'Increase Purchase', df['result'])\n"
   ]
  },
  {
   "cell_type": "code",
   "execution_count": 174,
   "id": "f874ba54",
   "metadata": {},
   "outputs": [
    {
     "data": {
      "text/html": [
       "<div>\n",
       "<style scoped>\n",
       "    .dataframe tbody tr th:only-of-type {\n",
       "        vertical-align: middle;\n",
       "    }\n",
       "\n",
       "    .dataframe tbody tr th {\n",
       "        vertical-align: top;\n",
       "    }\n",
       "\n",
       "    .dataframe thead th {\n",
       "        text-align: right;\n",
       "    }\n",
       "</style>\n",
       "<table border=\"1\" class=\"dataframe\">\n",
       "  <thead>\n",
       "    <tr style=\"text-align: right;\">\n",
       "      <th></th>\n",
       "      <th>group</th>\n",
       "      <th>customer_id</th>\n",
       "      <th>return_rate</th>\n",
       "      <th>day_diff</th>\n",
       "      <th>days_since_last</th>\n",
       "      <th>gmv_amount</th>\n",
       "      <th>discount_pct</th>\n",
       "      <th>future_gmv</th>\n",
       "      <th>next_month_delta</th>\n",
       "      <th>result</th>\n",
       "    </tr>\n",
       "  </thead>\n",
       "  <tbody>\n",
       "    <tr>\n",
       "      <th>0</th>\n",
       "      <td>1</td>\n",
       "      <td>100007</td>\n",
       "      <td>0.000</td>\n",
       "      <td>0.000</td>\n",
       "      <td>0.000</td>\n",
       "      <td>544.783</td>\n",
       "      <td>0.000</td>\n",
       "      <td>0.000</td>\n",
       "      <td>-1.000</td>\n",
       "      <td>No Purchase</td>\n",
       "    </tr>\n",
       "    <tr>\n",
       "      <th>1</th>\n",
       "      <td>1</td>\n",
       "      <td>100017</td>\n",
       "      <td>0.000</td>\n",
       "      <td>0.000</td>\n",
       "      <td>0.000</td>\n",
       "      <td>773.682</td>\n",
       "      <td>0.000</td>\n",
       "      <td>1819.386</td>\n",
       "      <td>1.352</td>\n",
       "      <td>Increase Purchase</td>\n",
       "    </tr>\n",
       "    <tr>\n",
       "      <th>2</th>\n",
       "      <td>1</td>\n",
       "      <td>100022</td>\n",
       "      <td>1.000</td>\n",
       "      <td>0.000</td>\n",
       "      <td>0.000</td>\n",
       "      <td>324.330</td>\n",
       "      <td>0.000</td>\n",
       "      <td>210.330</td>\n",
       "      <td>-0.351</td>\n",
       "      <td>Reducing Purchase</td>\n",
       "    </tr>\n",
       "    <tr>\n",
       "      <th>3</th>\n",
       "      <td>1</td>\n",
       "      <td>100032</td>\n",
       "      <td>0.250</td>\n",
       "      <td>0.000</td>\n",
       "      <td>0.000</td>\n",
       "      <td>983.820</td>\n",
       "      <td>0.000</td>\n",
       "      <td>0.000</td>\n",
       "      <td>-1.000</td>\n",
       "      <td>No Purchase</td>\n",
       "    </tr>\n",
       "    <tr>\n",
       "      <th>4</th>\n",
       "      <td>1</td>\n",
       "      <td>100051</td>\n",
       "      <td>0.000</td>\n",
       "      <td>43.000</td>\n",
       "      <td>62.000</td>\n",
       "      <td>1399.350</td>\n",
       "      <td>0.049</td>\n",
       "      <td>876.090</td>\n",
       "      <td>-0.374</td>\n",
       "      <td>Reducing Purchase</td>\n",
       "    </tr>\n",
       "  </tbody>\n",
       "</table>\n",
       "</div>"
      ],
      "text/plain": [
       "   group customer_id  return_rate  day_diff  days_since_last  gmv_amount  \\\n",
       "0      1      100007        0.000     0.000            0.000     544.783   \n",
       "1      1      100017        0.000     0.000            0.000     773.682   \n",
       "2      1      100022        1.000     0.000            0.000     324.330   \n",
       "3      1      100032        0.250     0.000            0.000     983.820   \n",
       "4      1      100051        0.000    43.000           62.000    1399.350   \n",
       "\n",
       "   discount_pct  future_gmv  next_month_delta             result  \n",
       "0         0.000       0.000            -1.000        No Purchase  \n",
       "1         0.000    1819.386             1.352  Increase Purchase  \n",
       "2         0.000     210.330            -0.351  Reducing Purchase  \n",
       "3         0.000       0.000            -1.000        No Purchase  \n",
       "4         0.049     876.090            -0.374  Reducing Purchase  "
      ]
     },
     "execution_count": 174,
     "metadata": {},
     "output_type": "execute_result"
    }
   ],
   "source": [
    "df.head()\n",
    "# next_month_delta is the future activity trend"
   ]
  },
  {
   "cell_type": "code",
   "execution_count": null,
   "id": "696cdd15",
   "metadata": {},
   "outputs": [],
   "source": []
  },
  {
   "cell_type": "markdown",
   "id": "8780e08b",
   "metadata": {},
   "source": [
    "### EDA Findings"
   ]
  },
  {
   "cell_type": "markdown",
   "id": "388983e7",
   "metadata": {},
   "source": [
    "- About 34% of customers have repeat purchase\n",
    "- About 17% of customers generate equal or more revenue than previous 3 month\n",
    "- About 7.5% of customers generate double revenue compared to previous 3 months"
   ]
  },
  {
   "cell_type": "code",
   "execution_count": 175,
   "id": "3475f7f0",
   "metadata": {
    "scrolled": false
   },
   "outputs": [
    {
     "data": {
      "text/plain": [
       "count    558514.000\n",
       "mean         -0.462\n",
       "std           1.431\n",
       "min          -1.000\n",
       "25%          -1.000\n",
       "50%          -1.000\n",
       "65.5%        -1.000\n",
       "66%          -0.903\n",
       "75%          -0.444\n",
       "80%          -0.176\n",
       "82.5%        -0.029\n",
       "83%           0.000\n",
       "85%           0.120\n",
       "90%           0.635\n",
       "92.5%         1.033\n",
       "95%           1.678\n",
       "99%           5.157\n",
       "99.25%        5.955\n",
       "99.5%         7.197\n",
       "99.9%        13.508\n",
       "99.99%       30.545\n",
       "max         179.329\n",
       "Name: next_month_delta, dtype: float64"
      ]
     },
     "execution_count": 175,
     "metadata": {},
     "output_type": "execute_result"
    }
   ],
   "source": [
    "df['next_month_delta'].describe(percentiles = [0.25, 0.5, .655, .66, 0.75, 0.8, 0.825, 0.83, 0.85, 0.9, .925, 0.95, 0.99, 0.9925, 0.995, 0.999, 0.9999])"
   ]
  },
  {
   "cell_type": "code",
   "execution_count": 176,
   "id": "6583e5c2",
   "metadata": {},
   "outputs": [],
   "source": [
    "df = df.drop(columns = ['future_gmv'], axis = 1)"
   ]
  },
  {
   "cell_type": "code",
   "execution_count": 177,
   "id": "80054a14",
   "metadata": {},
   "outputs": [
    {
     "data": {
      "text/plain": [
       "Text(0, 0.5, 'Count')"
      ]
     },
     "execution_count": 177,
     "metadata": {},
     "output_type": "execute_result"
    },
    {
     "data": {
      "image/png": "[encoded data removed]",
      "text/plain": [
       "<Figure size 576x396 with 1 Axes>"
      ]
     },
     "metadata": {},
     "output_type": "display_data"
    }
   ],
   "source": [
    "# Training data are heavily skewed toward -1, a very high chance of having a not so good performing \n",
    "plt.hist(df['next_month_delta'], bins = 50, range=[-.2, .2])\n",
    "plt.xlabel('Customer Action')\n",
    "plt.ylabel('Count')"
   ]
  },
  {
   "cell_type": "markdown",
   "id": "812179a5",
   "metadata": {},
   "source": [
    "### Split data for validation and training"
   ]
  },
  {
   "cell_type": "code",
   "execution_count": 178,
   "id": "80d8309c",
   "metadata": {},
   "outputs": [],
   "source": [
    "df = df.drop(columns = ['next_month_delta'], axis = 1)"
   ]
  },
  {
   "cell_type": "code",
   "execution_count": 179,
   "id": "b45a0b75",
   "metadata": {},
   "outputs": [],
   "source": [
    "# Train Data\n",
    "df_train = df[df['group'] < 11]\n",
    "\n",
    "# Keep only feature column\n",
    "df_train = df.drop(['group', 'customer_id'], axis = 1)"
   ]
  },
  {
   "cell_type": "code",
   "execution_count": 180,
   "id": "250142b6",
   "metadata": {},
   "outputs": [],
   "source": [
    "# Store group 11 for test score\n",
    "df_validation = df[df['group'] == 11].copy()\n",
    "\n",
    "# Keep only feature column\n",
    "df_validation = df_validation.drop(['group', 'customer_id'], axis = 1)"
   ]
  },
  {
   "cell_type": "code",
   "execution_count": 181,
   "id": "70f897f1",
   "metadata": {},
   "outputs": [
    {
     "data": {
      "text/html": [
       "<div>\n",
       "<style scoped>\n",
       "    .dataframe tbody tr th:only-of-type {\n",
       "        vertical-align: middle;\n",
       "    }\n",
       "\n",
       "    .dataframe tbody tr th {\n",
       "        vertical-align: top;\n",
       "    }\n",
       "\n",
       "    .dataframe thead th {\n",
       "        text-align: right;\n",
       "    }\n",
       "</style>\n",
       "<table border=\"1\" class=\"dataframe\">\n",
       "  <thead>\n",
       "    <tr style=\"text-align: right;\">\n",
       "      <th></th>\n",
       "      <th>return_rate</th>\n",
       "      <th>day_diff</th>\n",
       "      <th>days_since_last</th>\n",
       "      <th>gmv_amount</th>\n",
       "      <th>discount_pct</th>\n",
       "    </tr>\n",
       "  </thead>\n",
       "  <tbody>\n",
       "    <tr>\n",
       "      <th>count</th>\n",
       "      <td>558514.000</td>\n",
       "      <td>558514.000</td>\n",
       "      <td>558514.000</td>\n",
       "      <td>558514.000</td>\n",
       "      <td>558514.000</td>\n",
       "    </tr>\n",
       "    <tr>\n",
       "      <th>mean</th>\n",
       "      <td>0.095</td>\n",
       "      <td>7.184</td>\n",
       "      <td>16.318</td>\n",
       "      <td>1303.149</td>\n",
       "      <td>0.097</td>\n",
       "    </tr>\n",
       "    <tr>\n",
       "      <th>std</th>\n",
       "      <td>0.224</td>\n",
       "      <td>14.265</td>\n",
       "      <td>26.783</td>\n",
       "      <td>89319.582</td>\n",
       "      <td>0.159</td>\n",
       "    </tr>\n",
       "    <tr>\n",
       "      <th>min</th>\n",
       "      <td>0.000</td>\n",
       "      <td>0.000</td>\n",
       "      <td>0.000</td>\n",
       "      <td>18.210</td>\n",
       "      <td>0.000</td>\n",
       "    </tr>\n",
       "    <tr>\n",
       "      <th>25%</th>\n",
       "      <td>0.000</td>\n",
       "      <td>0.000</td>\n",
       "      <td>0.000</td>\n",
       "      <td>307.230</td>\n",
       "      <td>0.000</td>\n",
       "    </tr>\n",
       "    <tr>\n",
       "      <th>50%</th>\n",
       "      <td>0.000</td>\n",
       "      <td>0.000</td>\n",
       "      <td>0.000</td>\n",
       "      <td>631.560</td>\n",
       "      <td>0.000</td>\n",
       "    </tr>\n",
       "    <tr>\n",
       "      <th>75%</th>\n",
       "      <td>0.000</td>\n",
       "      <td>9.000</td>\n",
       "      <td>29.000</td>\n",
       "      <td>1183.317</td>\n",
       "      <td>0.114</td>\n",
       "    </tr>\n",
       "    <tr>\n",
       "      <th>max</th>\n",
       "      <td>1.000</td>\n",
       "      <td>91.000</td>\n",
       "      <td>91.000</td>\n",
       "      <td>36391222.510</td>\n",
       "      <td>1.000</td>\n",
       "    </tr>\n",
       "  </tbody>\n",
       "</table>\n",
       "</div>"
      ],
      "text/plain": [
       "       return_rate   day_diff  days_since_last   gmv_amount  discount_pct\n",
       "count   558514.000 558514.000       558514.000   558514.000    558514.000\n",
       "mean         0.095      7.184           16.318     1303.149         0.097\n",
       "std          0.224     14.265           26.783    89319.582         0.159\n",
       "min          0.000      0.000            0.000       18.210         0.000\n",
       "25%          0.000      0.000            0.000      307.230         0.000\n",
       "50%          0.000      0.000            0.000      631.560         0.000\n",
       "75%          0.000      9.000           29.000     1183.317         0.114\n",
       "max          1.000     91.000           91.000 36391222.510         1.000"
      ]
     },
     "execution_count": 181,
     "metadata": {},
     "output_type": "execute_result"
    }
   ],
   "source": [
    "df_train.describe()"
   ]
  },
  {
   "cell_type": "markdown",
   "id": "b243c8e9",
   "metadata": {},
   "source": [
    "## Scale Data"
   ]
  },
  {
   "cell_type": "code",
   "execution_count": 182,
   "id": "753b4185",
   "metadata": {},
   "outputs": [],
   "source": [
    "def scale_data(x):\n",
    "    label = pd.DataFrame(x['result']).reset_index(drop=True)\n",
    "    pre_scale_feature = x.drop('result', axis = 1).reset_index(drop=True)\n",
    "\n",
    "    model = StandardScaler()\n",
    "    df_scaled = model.fit_transform(pre_scale_feature)\n",
    "    df_scaled = pd.DataFrame(df_scaled)\n",
    "    df_scaled = pd.concat([df_scaled, label], axis = 1)\n",
    "    df_scaled.columns = x.columns\n",
    "    return df_scaled"
   ]
  },
  {
   "cell_type": "code",
   "execution_count": 183,
   "id": "44260003",
   "metadata": {},
   "outputs": [],
   "source": [
    "df_train_scaled = scale_data(df_train)\n",
    "df_validation_scaled = scale_data(df_validation)"
   ]
  },
  {
   "cell_type": "code",
   "execution_count": 184,
   "id": "05f2946b",
   "metadata": {},
   "outputs": [
    {
     "data": {
      "text/html": [
       "<div>\n",
       "<style scoped>\n",
       "    .dataframe tbody tr th:only-of-type {\n",
       "        vertical-align: middle;\n",
       "    }\n",
       "\n",
       "    .dataframe tbody tr th {\n",
       "        vertical-align: top;\n",
       "    }\n",
       "\n",
       "    .dataframe thead th {\n",
       "        text-align: right;\n",
       "    }\n",
       "</style>\n",
       "<table border=\"1\" class=\"dataframe\">\n",
       "  <thead>\n",
       "    <tr style=\"text-align: right;\">\n",
       "      <th></th>\n",
       "      <th>return_rate</th>\n",
       "      <th>day_diff</th>\n",
       "      <th>days_since_last</th>\n",
       "      <th>gmv_amount</th>\n",
       "      <th>discount_pct</th>\n",
       "      <th>result</th>\n",
       "    </tr>\n",
       "  </thead>\n",
       "  <tbody>\n",
       "    <tr>\n",
       "      <th>0</th>\n",
       "      <td>-0.424</td>\n",
       "      <td>-0.504</td>\n",
       "      <td>-0.609</td>\n",
       "      <td>-0.008</td>\n",
       "      <td>-0.613</td>\n",
       "      <td>No Purchase</td>\n",
       "    </tr>\n",
       "    <tr>\n",
       "      <th>1</th>\n",
       "      <td>-0.424</td>\n",
       "      <td>-0.504</td>\n",
       "      <td>-0.609</td>\n",
       "      <td>-0.006</td>\n",
       "      <td>-0.613</td>\n",
       "      <td>Increase Purchase</td>\n",
       "    </tr>\n",
       "    <tr>\n",
       "      <th>2</th>\n",
       "      <td>4.033</td>\n",
       "      <td>-0.504</td>\n",
       "      <td>-0.609</td>\n",
       "      <td>-0.011</td>\n",
       "      <td>-0.613</td>\n",
       "      <td>Reducing Purchase</td>\n",
       "    </tr>\n",
       "    <tr>\n",
       "      <th>3</th>\n",
       "      <td>0.690</td>\n",
       "      <td>-0.504</td>\n",
       "      <td>-0.609</td>\n",
       "      <td>-0.004</td>\n",
       "      <td>-0.613</td>\n",
       "      <td>No Purchase</td>\n",
       "    </tr>\n",
       "    <tr>\n",
       "      <th>4</th>\n",
       "      <td>-0.424</td>\n",
       "      <td>2.511</td>\n",
       "      <td>1.706</td>\n",
       "      <td>0.001</td>\n",
       "      <td>-0.305</td>\n",
       "      <td>Reducing Purchase</td>\n",
       "    </tr>\n",
       "  </tbody>\n",
       "</table>\n",
       "</div>"
      ],
      "text/plain": [
       "   return_rate  day_diff  days_since_last  gmv_amount  discount_pct  \\\n",
       "0       -0.424    -0.504           -0.609      -0.008        -0.613   \n",
       "1       -0.424    -0.504           -0.609      -0.006        -0.613   \n",
       "2        4.033    -0.504           -0.609      -0.011        -0.613   \n",
       "3        0.690    -0.504           -0.609      -0.004        -0.613   \n",
       "4       -0.424     2.511            1.706       0.001        -0.305   \n",
       "\n",
       "              result  \n",
       "0        No Purchase  \n",
       "1  Increase Purchase  \n",
       "2  Reducing Purchase  \n",
       "3        No Purchase  \n",
       "4  Reducing Purchase  "
      ]
     },
     "execution_count": 184,
     "metadata": {},
     "output_type": "execute_result"
    }
   ],
   "source": [
    "df_train_scaled.head()"
   ]
  },
  {
   "cell_type": "markdown",
   "id": "f78b9459",
   "metadata": {},
   "source": [
    "# Modelling"
   ]
  },
  {
   "cell_type": "code",
   "execution_count": 185,
   "id": "5701f9ca",
   "metadata": {
    "scrolled": true
   },
   "outputs": [
    {
     "data": {
      "text/html": [
       "<style  type=\"text/css\" >\n",
       "#T_67d7e_row18_col1,#T_67d7e_row44_col1{\n",
       "            background-color:  lightgreen;\n",
       "        }</style><table id=\"T_67d7e_\" ><thead>    <tr>        <th class=\"blank level0\" ></th>        <th class=\"col_heading level0 col0\" >Description</th>        <th class=\"col_heading level0 col1\" >Value</th>    </tr></thead><tbody>\n",
       "                <tr>\n",
       "                        <th id=\"T_67d7e_level0_row0\" class=\"row_heading level0 row0\" >0</th>\n",
       "                        <td id=\"T_67d7e_row0_col0\" class=\"data row0 col0\" >session_id</td>\n",
       "                        <td id=\"T_67d7e_row0_col1\" class=\"data row0 col1\" >1658</td>\n",
       "            </tr>\n",
       "            <tr>\n",
       "                        <th id=\"T_67d7e_level0_row1\" class=\"row_heading level0 row1\" >1</th>\n",
       "                        <td id=\"T_67d7e_row1_col0\" class=\"data row1 col0\" >Target</td>\n",
       "                        <td id=\"T_67d7e_row1_col1\" class=\"data row1 col1\" >result</td>\n",
       "            </tr>\n",
       "            <tr>\n",
       "                        <th id=\"T_67d7e_level0_row2\" class=\"row_heading level0 row2\" >2</th>\n",
       "                        <td id=\"T_67d7e_row2_col0\" class=\"data row2 col0\" >Target Type</td>\n",
       "                        <td id=\"T_67d7e_row2_col1\" class=\"data row2 col1\" >Multiclass</td>\n",
       "            </tr>\n",
       "            <tr>\n",
       "                        <th id=\"T_67d7e_level0_row3\" class=\"row_heading level0 row3\" >3</th>\n",
       "                        <td id=\"T_67d7e_row3_col0\" class=\"data row3 col0\" >Label Encoded</td>\n",
       "                        <td id=\"T_67d7e_row3_col1\" class=\"data row3 col1\" >Increase Purchase: 0, No Purchase: 1, Reducing Purchase: 2</td>\n",
       "            </tr>\n",
       "            <tr>\n",
       "                        <th id=\"T_67d7e_level0_row4\" class=\"row_heading level0 row4\" >4</th>\n",
       "                        <td id=\"T_67d7e_row4_col0\" class=\"data row4 col0\" >Original Data</td>\n",
       "                        <td id=\"T_67d7e_row4_col1\" class=\"data row4 col1\" >(558514, 6)</td>\n",
       "            </tr>\n",
       "            <tr>\n",
       "                        <th id=\"T_67d7e_level0_row5\" class=\"row_heading level0 row5\" >5</th>\n",
       "                        <td id=\"T_67d7e_row5_col0\" class=\"data row5 col0\" >Missing Values</td>\n",
       "                        <td id=\"T_67d7e_row5_col1\" class=\"data row5 col1\" >False</td>\n",
       "            </tr>\n",
       "            <tr>\n",
       "                        <th id=\"T_67d7e_level0_row6\" class=\"row_heading level0 row6\" >6</th>\n",
       "                        <td id=\"T_67d7e_row6_col0\" class=\"data row6 col0\" >Numeric Features</td>\n",
       "                        <td id=\"T_67d7e_row6_col1\" class=\"data row6 col1\" >5</td>\n",
       "            </tr>\n",
       "            <tr>\n",
       "                        <th id=\"T_67d7e_level0_row7\" class=\"row_heading level0 row7\" >7</th>\n",
       "                        <td id=\"T_67d7e_row7_col0\" class=\"data row7 col0\" >Categorical Features</td>\n",
       "                        <td id=\"T_67d7e_row7_col1\" class=\"data row7 col1\" >0</td>\n",
       "            </tr>\n",
       "            <tr>\n",
       "                        <th id=\"T_67d7e_level0_row8\" class=\"row_heading level0 row8\" >8</th>\n",
       "                        <td id=\"T_67d7e_row8_col0\" class=\"data row8 col0\" >Ordinal Features</td>\n",
       "                        <td id=\"T_67d7e_row8_col1\" class=\"data row8 col1\" >False</td>\n",
       "            </tr>\n",
       "            <tr>\n",
       "                        <th id=\"T_67d7e_level0_row9\" class=\"row_heading level0 row9\" >9</th>\n",
       "                        <td id=\"T_67d7e_row9_col0\" class=\"data row9 col0\" >High Cardinality Features</td>\n",
       "                        <td id=\"T_67d7e_row9_col1\" class=\"data row9 col1\" >False</td>\n",
       "            </tr>\n",
       "            <tr>\n",
       "                        <th id=\"T_67d7e_level0_row10\" class=\"row_heading level0 row10\" >10</th>\n",
       "                        <td id=\"T_67d7e_row10_col0\" class=\"data row10 col0\" >High Cardinality Method</td>\n",
       "                        <td id=\"T_67d7e_row10_col1\" class=\"data row10 col1\" >None</td>\n",
       "            </tr>\n",
       "            <tr>\n",
       "                        <th id=\"T_67d7e_level0_row11\" class=\"row_heading level0 row11\" >11</th>\n",
       "                        <td id=\"T_67d7e_row11_col0\" class=\"data row11 col0\" >Transformed Train Set</td>\n",
       "                        <td id=\"T_67d7e_row11_col1\" class=\"data row11 col1\" >(390959, 5)</td>\n",
       "            </tr>\n",
       "            <tr>\n",
       "                        <th id=\"T_67d7e_level0_row12\" class=\"row_heading level0 row12\" >12</th>\n",
       "                        <td id=\"T_67d7e_row12_col0\" class=\"data row12 col0\" >Transformed Test Set</td>\n",
       "                        <td id=\"T_67d7e_row12_col1\" class=\"data row12 col1\" >(167555, 5)</td>\n",
       "            </tr>\n",
       "            <tr>\n",
       "                        <th id=\"T_67d7e_level0_row13\" class=\"row_heading level0 row13\" >13</th>\n",
       "                        <td id=\"T_67d7e_row13_col0\" class=\"data row13 col0\" >Shuffle Train-Test</td>\n",
       "                        <td id=\"T_67d7e_row13_col1\" class=\"data row13 col1\" >True</td>\n",
       "            </tr>\n",
       "            <tr>\n",
       "                        <th id=\"T_67d7e_level0_row14\" class=\"row_heading level0 row14\" >14</th>\n",
       "                        <td id=\"T_67d7e_row14_col0\" class=\"data row14 col0\" >Stratify Train-Test</td>\n",
       "                        <td id=\"T_67d7e_row14_col1\" class=\"data row14 col1\" >False</td>\n",
       "            </tr>\n",
       "            <tr>\n",
       "                        <th id=\"T_67d7e_level0_row15\" class=\"row_heading level0 row15\" >15</th>\n",
       "                        <td id=\"T_67d7e_row15_col0\" class=\"data row15 col0\" >Fold Generator</td>\n",
       "                        <td id=\"T_67d7e_row15_col1\" class=\"data row15 col1\" >StratifiedKFold</td>\n",
       "            </tr>\n",
       "            <tr>\n",
       "                        <th id=\"T_67d7e_level0_row16\" class=\"row_heading level0 row16\" >16</th>\n",
       "                        <td id=\"T_67d7e_row16_col0\" class=\"data row16 col0\" >Fold Number</td>\n",
       "                        <td id=\"T_67d7e_row16_col1\" class=\"data row16 col1\" >5</td>\n",
       "            </tr>\n",
       "            <tr>\n",
       "                        <th id=\"T_67d7e_level0_row17\" class=\"row_heading level0 row17\" >17</th>\n",
       "                        <td id=\"T_67d7e_row17_col0\" class=\"data row17 col0\" >CPU Jobs</td>\n",
       "                        <td id=\"T_67d7e_row17_col1\" class=\"data row17 col1\" >-1</td>\n",
       "            </tr>\n",
       "            <tr>\n",
       "                        <th id=\"T_67d7e_level0_row18\" class=\"row_heading level0 row18\" >18</th>\n",
       "                        <td id=\"T_67d7e_row18_col0\" class=\"data row18 col0\" >Use GPU</td>\n",
       "                        <td id=\"T_67d7e_row18_col1\" class=\"data row18 col1\" >True</td>\n",
       "            </tr>\n",
       "            <tr>\n",
       "                        <th id=\"T_67d7e_level0_row19\" class=\"row_heading level0 row19\" >19</th>\n",
       "                        <td id=\"T_67d7e_row19_col0\" class=\"data row19 col0\" >Log Experiment</td>\n",
       "                        <td id=\"T_67d7e_row19_col1\" class=\"data row19 col1\" >False</td>\n",
       "            </tr>\n",
       "            <tr>\n",
       "                        <th id=\"T_67d7e_level0_row20\" class=\"row_heading level0 row20\" >20</th>\n",
       "                        <td id=\"T_67d7e_row20_col0\" class=\"data row20 col0\" >Experiment Name</td>\n",
       "                        <td id=\"T_67d7e_row20_col1\" class=\"data row20 col1\" >clf-default-name</td>\n",
       "            </tr>\n",
       "            <tr>\n",
       "                        <th id=\"T_67d7e_level0_row21\" class=\"row_heading level0 row21\" >21</th>\n",
       "                        <td id=\"T_67d7e_row21_col0\" class=\"data row21 col0\" >USI</td>\n",
       "                        <td id=\"T_67d7e_row21_col1\" class=\"data row21 col1\" >265c</td>\n",
       "            </tr>\n",
       "            <tr>\n",
       "                        <th id=\"T_67d7e_level0_row22\" class=\"row_heading level0 row22\" >22</th>\n",
       "                        <td id=\"T_67d7e_row22_col0\" class=\"data row22 col0\" >Imputation Type</td>\n",
       "                        <td id=\"T_67d7e_row22_col1\" class=\"data row22 col1\" >simple</td>\n",
       "            </tr>\n",
       "            <tr>\n",
       "                        <th id=\"T_67d7e_level0_row23\" class=\"row_heading level0 row23\" >23</th>\n",
       "                        <td id=\"T_67d7e_row23_col0\" class=\"data row23 col0\" >Iterative Imputation Iteration</td>\n",
       "                        <td id=\"T_67d7e_row23_col1\" class=\"data row23 col1\" >None</td>\n",
       "            </tr>\n",
       "            <tr>\n",
       "                        <th id=\"T_67d7e_level0_row24\" class=\"row_heading level0 row24\" >24</th>\n",
       "                        <td id=\"T_67d7e_row24_col0\" class=\"data row24 col0\" >Numeric Imputer</td>\n",
       "                        <td id=\"T_67d7e_row24_col1\" class=\"data row24 col1\" >mean</td>\n",
       "            </tr>\n",
       "            <tr>\n",
       "                        <th id=\"T_67d7e_level0_row25\" class=\"row_heading level0 row25\" >25</th>\n",
       "                        <td id=\"T_67d7e_row25_col0\" class=\"data row25 col0\" >Iterative Imputation Numeric Model</td>\n",
       "                        <td id=\"T_67d7e_row25_col1\" class=\"data row25 col1\" >None</td>\n",
       "            </tr>\n",
       "            <tr>\n",
       "                        <th id=\"T_67d7e_level0_row26\" class=\"row_heading level0 row26\" >26</th>\n",
       "                        <td id=\"T_67d7e_row26_col0\" class=\"data row26 col0\" >Categorical Imputer</td>\n",
       "                        <td id=\"T_67d7e_row26_col1\" class=\"data row26 col1\" >constant</td>\n",
       "            </tr>\n",
       "            <tr>\n",
       "                        <th id=\"T_67d7e_level0_row27\" class=\"row_heading level0 row27\" >27</th>\n",
       "                        <td id=\"T_67d7e_row27_col0\" class=\"data row27 col0\" >Iterative Imputation Categorical Model</td>\n",
       "                        <td id=\"T_67d7e_row27_col1\" class=\"data row27 col1\" >None</td>\n",
       "            </tr>\n",
       "            <tr>\n",
       "                        <th id=\"T_67d7e_level0_row28\" class=\"row_heading level0 row28\" >28</th>\n",
       "                        <td id=\"T_67d7e_row28_col0\" class=\"data row28 col0\" >Unknown Categoricals Handling</td>\n",
       "                        <td id=\"T_67d7e_row28_col1\" class=\"data row28 col1\" >least_frequent</td>\n",
       "            </tr>\n",
       "            <tr>\n",
       "                        <th id=\"T_67d7e_level0_row29\" class=\"row_heading level0 row29\" >29</th>\n",
       "                        <td id=\"T_67d7e_row29_col0\" class=\"data row29 col0\" >Normalize</td>\n",
       "                        <td id=\"T_67d7e_row29_col1\" class=\"data row29 col1\" >False</td>\n",
       "            </tr>\n",
       "            <tr>\n",
       "                        <th id=\"T_67d7e_level0_row30\" class=\"row_heading level0 row30\" >30</th>\n",
       "                        <td id=\"T_67d7e_row30_col0\" class=\"data row30 col0\" >Normalize Method</td>\n",
       "                        <td id=\"T_67d7e_row30_col1\" class=\"data row30 col1\" >None</td>\n",
       "            </tr>\n",
       "            <tr>\n",
       "                        <th id=\"T_67d7e_level0_row31\" class=\"row_heading level0 row31\" >31</th>\n",
       "                        <td id=\"T_67d7e_row31_col0\" class=\"data row31 col0\" >Transformation</td>\n",
       "                        <td id=\"T_67d7e_row31_col1\" class=\"data row31 col1\" >False</td>\n",
       "            </tr>\n",
       "            <tr>\n",
       "                        <th id=\"T_67d7e_level0_row32\" class=\"row_heading level0 row32\" >32</th>\n",
       "                        <td id=\"T_67d7e_row32_col0\" class=\"data row32 col0\" >Transformation Method</td>\n",
       "                        <td id=\"T_67d7e_row32_col1\" class=\"data row32 col1\" >None</td>\n",
       "            </tr>\n",
       "            <tr>\n",
       "                        <th id=\"T_67d7e_level0_row33\" class=\"row_heading level0 row33\" >33</th>\n",
       "                        <td id=\"T_67d7e_row33_col0\" class=\"data row33 col0\" >PCA</td>\n",
       "                        <td id=\"T_67d7e_row33_col1\" class=\"data row33 col1\" >False</td>\n",
       "            </tr>\n",
       "            <tr>\n",
       "                        <th id=\"T_67d7e_level0_row34\" class=\"row_heading level0 row34\" >34</th>\n",
       "                        <td id=\"T_67d7e_row34_col0\" class=\"data row34 col0\" >PCA Method</td>\n",
       "                        <td id=\"T_67d7e_row34_col1\" class=\"data row34 col1\" >None</td>\n",
       "            </tr>\n",
       "            <tr>\n",
       "                        <th id=\"T_67d7e_level0_row35\" class=\"row_heading level0 row35\" >35</th>\n",
       "                        <td id=\"T_67d7e_row35_col0\" class=\"data row35 col0\" >PCA Components</td>\n",
       "                        <td id=\"T_67d7e_row35_col1\" class=\"data row35 col1\" >None</td>\n",
       "            </tr>\n",
       "            <tr>\n",
       "                        <th id=\"T_67d7e_level0_row36\" class=\"row_heading level0 row36\" >36</th>\n",
       "                        <td id=\"T_67d7e_row36_col0\" class=\"data row36 col0\" >Ignore Low Variance</td>\n",
       "                        <td id=\"T_67d7e_row36_col1\" class=\"data row36 col1\" >False</td>\n",
       "            </tr>\n",
       "            <tr>\n",
       "                        <th id=\"T_67d7e_level0_row37\" class=\"row_heading level0 row37\" >37</th>\n",
       "                        <td id=\"T_67d7e_row37_col0\" class=\"data row37 col0\" >Combine Rare Levels</td>\n",
       "                        <td id=\"T_67d7e_row37_col1\" class=\"data row37 col1\" >False</td>\n",
       "            </tr>\n",
       "            <tr>\n",
       "                        <th id=\"T_67d7e_level0_row38\" class=\"row_heading level0 row38\" >38</th>\n",
       "                        <td id=\"T_67d7e_row38_col0\" class=\"data row38 col0\" >Rare Level Threshold</td>\n",
       "                        <td id=\"T_67d7e_row38_col1\" class=\"data row38 col1\" >None</td>\n",
       "            </tr>\n",
       "            <tr>\n",
       "                        <th id=\"T_67d7e_level0_row39\" class=\"row_heading level0 row39\" >39</th>\n",
       "                        <td id=\"T_67d7e_row39_col0\" class=\"data row39 col0\" >Numeric Binning</td>\n",
       "                        <td id=\"T_67d7e_row39_col1\" class=\"data row39 col1\" >False</td>\n",
       "            </tr>\n",
       "            <tr>\n",
       "                        <th id=\"T_67d7e_level0_row40\" class=\"row_heading level0 row40\" >40</th>\n",
       "                        <td id=\"T_67d7e_row40_col0\" class=\"data row40 col0\" >Remove Outliers</td>\n",
       "                        <td id=\"T_67d7e_row40_col1\" class=\"data row40 col1\" >False</td>\n",
       "            </tr>\n",
       "            <tr>\n",
       "                        <th id=\"T_67d7e_level0_row41\" class=\"row_heading level0 row41\" >41</th>\n",
       "                        <td id=\"T_67d7e_row41_col0\" class=\"data row41 col0\" >Outliers Threshold</td>\n",
       "                        <td id=\"T_67d7e_row41_col1\" class=\"data row41 col1\" >None</td>\n",
       "            </tr>\n",
       "            <tr>\n",
       "                        <th id=\"T_67d7e_level0_row42\" class=\"row_heading level0 row42\" >42</th>\n",
       "                        <td id=\"T_67d7e_row42_col0\" class=\"data row42 col0\" >Remove Multicollinearity</td>\n",
       "                        <td id=\"T_67d7e_row42_col1\" class=\"data row42 col1\" >False</td>\n",
       "            </tr>\n",
       "            <tr>\n",
       "                        <th id=\"T_67d7e_level0_row43\" class=\"row_heading level0 row43\" >43</th>\n",
       "                        <td id=\"T_67d7e_row43_col0\" class=\"data row43 col0\" >Multicollinearity Threshold</td>\n",
       "                        <td id=\"T_67d7e_row43_col1\" class=\"data row43 col1\" >None</td>\n",
       "            </tr>\n",
       "            <tr>\n",
       "                        <th id=\"T_67d7e_level0_row44\" class=\"row_heading level0 row44\" >44</th>\n",
       "                        <td id=\"T_67d7e_row44_col0\" class=\"data row44 col0\" >Remove Perfect Collinearity</td>\n",
       "                        <td id=\"T_67d7e_row44_col1\" class=\"data row44 col1\" >True</td>\n",
       "            </tr>\n",
       "            <tr>\n",
       "                        <th id=\"T_67d7e_level0_row45\" class=\"row_heading level0 row45\" >45</th>\n",
       "                        <td id=\"T_67d7e_row45_col0\" class=\"data row45 col0\" >Clustering</td>\n",
       "                        <td id=\"T_67d7e_row45_col1\" class=\"data row45 col1\" >False</td>\n",
       "            </tr>\n",
       "            <tr>\n",
       "                        <th id=\"T_67d7e_level0_row46\" class=\"row_heading level0 row46\" >46</th>\n",
       "                        <td id=\"T_67d7e_row46_col0\" class=\"data row46 col0\" >Clustering Iteration</td>\n",
       "                        <td id=\"T_67d7e_row46_col1\" class=\"data row46 col1\" >None</td>\n",
       "            </tr>\n",
       "            <tr>\n",
       "                        <th id=\"T_67d7e_level0_row47\" class=\"row_heading level0 row47\" >47</th>\n",
       "                        <td id=\"T_67d7e_row47_col0\" class=\"data row47 col0\" >Polynomial Features</td>\n",
       "                        <td id=\"T_67d7e_row47_col1\" class=\"data row47 col1\" >False</td>\n",
       "            </tr>\n",
       "            <tr>\n",
       "                        <th id=\"T_67d7e_level0_row48\" class=\"row_heading level0 row48\" >48</th>\n",
       "                        <td id=\"T_67d7e_row48_col0\" class=\"data row48 col0\" >Polynomial Degree</td>\n",
       "                        <td id=\"T_67d7e_row48_col1\" class=\"data row48 col1\" >None</td>\n",
       "            </tr>\n",
       "            <tr>\n",
       "                        <th id=\"T_67d7e_level0_row49\" class=\"row_heading level0 row49\" >49</th>\n",
       "                        <td id=\"T_67d7e_row49_col0\" class=\"data row49 col0\" >Trignometry Features</td>\n",
       "                        <td id=\"T_67d7e_row49_col1\" class=\"data row49 col1\" >False</td>\n",
       "            </tr>\n",
       "            <tr>\n",
       "                        <th id=\"T_67d7e_level0_row50\" class=\"row_heading level0 row50\" >50</th>\n",
       "                        <td id=\"T_67d7e_row50_col0\" class=\"data row50 col0\" >Polynomial Threshold</td>\n",
       "                        <td id=\"T_67d7e_row50_col1\" class=\"data row50 col1\" >None</td>\n",
       "            </tr>\n",
       "            <tr>\n",
       "                        <th id=\"T_67d7e_level0_row51\" class=\"row_heading level0 row51\" >51</th>\n",
       "                        <td id=\"T_67d7e_row51_col0\" class=\"data row51 col0\" >Group Features</td>\n",
       "                        <td id=\"T_67d7e_row51_col1\" class=\"data row51 col1\" >False</td>\n",
       "            </tr>\n",
       "            <tr>\n",
       "                        <th id=\"T_67d7e_level0_row52\" class=\"row_heading level0 row52\" >52</th>\n",
       "                        <td id=\"T_67d7e_row52_col0\" class=\"data row52 col0\" >Feature Selection</td>\n",
       "                        <td id=\"T_67d7e_row52_col1\" class=\"data row52 col1\" >False</td>\n",
       "            </tr>\n",
       "            <tr>\n",
       "                        <th id=\"T_67d7e_level0_row53\" class=\"row_heading level0 row53\" >53</th>\n",
       "                        <td id=\"T_67d7e_row53_col0\" class=\"data row53 col0\" >Feature Selection Method</td>\n",
       "                        <td id=\"T_67d7e_row53_col1\" class=\"data row53 col1\" >classic</td>\n",
       "            </tr>\n",
       "            <tr>\n",
       "                        <th id=\"T_67d7e_level0_row54\" class=\"row_heading level0 row54\" >54</th>\n",
       "                        <td id=\"T_67d7e_row54_col0\" class=\"data row54 col0\" >Features Selection Threshold</td>\n",
       "                        <td id=\"T_67d7e_row54_col1\" class=\"data row54 col1\" >None</td>\n",
       "            </tr>\n",
       "            <tr>\n",
       "                        <th id=\"T_67d7e_level0_row55\" class=\"row_heading level0 row55\" >55</th>\n",
       "                        <td id=\"T_67d7e_row55_col0\" class=\"data row55 col0\" >Feature Interaction</td>\n",
       "                        <td id=\"T_67d7e_row55_col1\" class=\"data row55 col1\" >False</td>\n",
       "            </tr>\n",
       "            <tr>\n",
       "                        <th id=\"T_67d7e_level0_row56\" class=\"row_heading level0 row56\" >56</th>\n",
       "                        <td id=\"T_67d7e_row56_col0\" class=\"data row56 col0\" >Feature Ratio</td>\n",
       "                        <td id=\"T_67d7e_row56_col1\" class=\"data row56 col1\" >False</td>\n",
       "            </tr>\n",
       "            <tr>\n",
       "                        <th id=\"T_67d7e_level0_row57\" class=\"row_heading level0 row57\" >57</th>\n",
       "                        <td id=\"T_67d7e_row57_col0\" class=\"data row57 col0\" >Interaction Threshold</td>\n",
       "                        <td id=\"T_67d7e_row57_col1\" class=\"data row57 col1\" >None</td>\n",
       "            </tr>\n",
       "            <tr>\n",
       "                        <th id=\"T_67d7e_level0_row58\" class=\"row_heading level0 row58\" >58</th>\n",
       "                        <td id=\"T_67d7e_row58_col0\" class=\"data row58 col0\" >Fix Imbalance</td>\n",
       "                        <td id=\"T_67d7e_row58_col1\" class=\"data row58 col1\" >False</td>\n",
       "            </tr>\n",
       "            <tr>\n",
       "                        <th id=\"T_67d7e_level0_row59\" class=\"row_heading level0 row59\" >59</th>\n",
       "                        <td id=\"T_67d7e_row59_col0\" class=\"data row59 col0\" >Fix Imbalance Method</td>\n",
       "                        <td id=\"T_67d7e_row59_col1\" class=\"data row59 col1\" >SMOTE</td>\n",
       "            </tr>\n",
       "    </tbody></table>"
      ],
      "text/plain": [
       "<pandas.io.formats.style.Styler at 0x28852f44df0>"
      ]
     },
     "metadata": {},
     "output_type": "display_data"
    }
   ],
   "source": [
    "s = setup(df_train_scaled, target='result', use_gpu = True, fold = 5)"
   ]
  },
  {
   "cell_type": "code",
   "execution_count": 186,
   "id": "a3eea86f",
   "metadata": {},
   "outputs": [
    {
     "data": {
      "text/html": [
       "<style  type=\"text/css\" >\n",
       "    #T_11ba5_ th {\n",
       "          text-align: left;\n",
       "    }#T_11ba5_row0_col0,#T_11ba5_row0_col2,#T_11ba5_row0_col3,#T_11ba5_row0_col4,#T_11ba5_row0_col5,#T_11ba5_row0_col6,#T_11ba5_row0_col7,#T_11ba5_row1_col0,#T_11ba5_row1_col1,#T_11ba5_row1_col3,#T_11ba5_row2_col0,#T_11ba5_row2_col1,#T_11ba5_row2_col2,#T_11ba5_row2_col3,#T_11ba5_row2_col4,#T_11ba5_row2_col5,#T_11ba5_row2_col6,#T_11ba5_row2_col7,#T_11ba5_row3_col0,#T_11ba5_row3_col1,#T_11ba5_row3_col2,#T_11ba5_row3_col3,#T_11ba5_row3_col4,#T_11ba5_row3_col5,#T_11ba5_row3_col6,#T_11ba5_row3_col7,#T_11ba5_row4_col0,#T_11ba5_row4_col1,#T_11ba5_row4_col2,#T_11ba5_row4_col3,#T_11ba5_row4_col4,#T_11ba5_row4_col5,#T_11ba5_row4_col6,#T_11ba5_row4_col7,#T_11ba5_row5_col0,#T_11ba5_row5_col1,#T_11ba5_row5_col2,#T_11ba5_row5_col3,#T_11ba5_row5_col4,#T_11ba5_row5_col5,#T_11ba5_row5_col6,#T_11ba5_row5_col7,#T_11ba5_row6_col0,#T_11ba5_row6_col1,#T_11ba5_row6_col2,#T_11ba5_row6_col3,#T_11ba5_row6_col4,#T_11ba5_row6_col5,#T_11ba5_row6_col6,#T_11ba5_row6_col7,#T_11ba5_row7_col0,#T_11ba5_row7_col1,#T_11ba5_row7_col2,#T_11ba5_row7_col4,#T_11ba5_row7_col5,#T_11ba5_row7_col6,#T_11ba5_row7_col7,#T_11ba5_row8_col0,#T_11ba5_row8_col1,#T_11ba5_row8_col2,#T_11ba5_row8_col3,#T_11ba5_row8_col4,#T_11ba5_row8_col5,#T_11ba5_row8_col6,#T_11ba5_row8_col7,#T_11ba5_row9_col0,#T_11ba5_row9_col1,#T_11ba5_row9_col2,#T_11ba5_row9_col3,#T_11ba5_row9_col4,#T_11ba5_row9_col5,#T_11ba5_row9_col6,#T_11ba5_row9_col7,#T_11ba5_row10_col0,#T_11ba5_row10_col1,#T_11ba5_row10_col2,#T_11ba5_row10_col3,#T_11ba5_row10_col4,#T_11ba5_row10_col5,#T_11ba5_row10_col6,#T_11ba5_row10_col7,#T_11ba5_row11_col0,#T_11ba5_row11_col1,#T_11ba5_row11_col2,#T_11ba5_row11_col3,#T_11ba5_row11_col4,#T_11ba5_row11_col5,#T_11ba5_row11_col6,#T_11ba5_row11_col7,#T_11ba5_row12_col0,#T_11ba5_row12_col1,#T_11ba5_row12_col2,#T_11ba5_row12_col4,#T_11ba5_row12_col5,#T_11ba5_row12_col6,#T_11ba5_row12_col7,#T_11ba5_row13_col0,#T_11ba5_row13_col1,#T_11ba5_row13_col2,#T_11ba5_row13_col3,#T_11ba5_row13_col4,#T_11ba5_row13_col5,#T_11ba5_row13_col6,#T_11ba5_row13_col7,#T_11ba5_row14_col0,#T_11ba5_row14_col1,#T_11ba5_row14_col2,#T_11ba5_row14_col3,#T_11ba5_row14_col4,#T_11ba5_row14_col5,#T_11ba5_row14_col6,#T_11ba5_row14_col7{\n",
       "            text-align:  left;\n",
       "            text-align:  left;\n",
       "        }#T_11ba5_row0_col1,#T_11ba5_row1_col2,#T_11ba5_row1_col4,#T_11ba5_row1_col5,#T_11ba5_row1_col6,#T_11ba5_row1_col7,#T_11ba5_row7_col3,#T_11ba5_row12_col3{\n",
       "            text-align:  left;\n",
       "            text-align:  left;\n",
       "            background-color:  yellow;\n",
       "        }#T_11ba5_row0_col8,#T_11ba5_row1_col8,#T_11ba5_row2_col8,#T_11ba5_row3_col8,#T_11ba5_row4_col8,#T_11ba5_row5_col8,#T_11ba5_row6_col8,#T_11ba5_row7_col8,#T_11ba5_row9_col8,#T_11ba5_row10_col8,#T_11ba5_row11_col8,#T_11ba5_row12_col8,#T_11ba5_row13_col8,#T_11ba5_row14_col8{\n",
       "            text-align:  left;\n",
       "            text-align:  left;\n",
       "            background-color:  lightgrey;\n",
       "        }#T_11ba5_row8_col8{\n",
       "            text-align:  left;\n",
       "            text-align:  left;\n",
       "            background-color:  yellow;\n",
       "            background-color:  lightgrey;\n",
       "        }</style><table id=\"T_11ba5_\" ><thead>    <tr>        <th class=\"blank level0\" ></th>        <th class=\"col_heading level0 col0\" >Model</th>        <th class=\"col_heading level0 col1\" >Accuracy</th>        <th class=\"col_heading level0 col2\" >AUC</th>        <th class=\"col_heading level0 col3\" >Recall</th>        <th class=\"col_heading level0 col4\" >Prec.</th>        <th class=\"col_heading level0 col5\" >F1</th>        <th class=\"col_heading level0 col6\" >Kappa</th>        <th class=\"col_heading level0 col7\" >MCC</th>        <th class=\"col_heading level0 col8\" >TT (Sec)</th>    </tr></thead><tbody>\n",
       "                <tr>\n",
       "                        <th id=\"T_11ba5_level0_row0\" class=\"row_heading level0 row0\" >lightgbm</th>\n",
       "                        <td id=\"T_11ba5_row0_col0\" class=\"data row0 col0\" >Light Gradient Boosting Machine</td>\n",
       "                        <td id=\"T_11ba5_row0_col1\" class=\"data row0 col1\" >0.6807</td>\n",
       "                        <td id=\"T_11ba5_row0_col2\" class=\"data row0 col2\" >0.7090</td>\n",
       "                        <td id=\"T_11ba5_row0_col3\" class=\"data row0 col3\" >0.4206</td>\n",
       "                        <td id=\"T_11ba5_row0_col4\" class=\"data row0 col4\" >0.6041</td>\n",
       "                        <td id=\"T_11ba5_row0_col5\" class=\"data row0 col5\" >0.5987</td>\n",
       "                        <td id=\"T_11ba5_row0_col6\" class=\"data row0 col6\" >0.1882</td>\n",
       "                        <td id=\"T_11ba5_row0_col7\" class=\"data row0 col7\" >0.2388</td>\n",
       "                        <td id=\"T_11ba5_row0_col8\" class=\"data row0 col8\" >5.2300</td>\n",
       "            </tr>\n",
       "            <tr>\n",
       "                        <th id=\"T_11ba5_level0_row1\" class=\"row_heading level0 row1\" >xgboost</th>\n",
       "                        <td id=\"T_11ba5_row1_col0\" class=\"data row1 col0\" >Extreme Gradient Boosting</td>\n",
       "                        <td id=\"T_11ba5_row1_col1\" class=\"data row1 col1\" >0.6801</td>\n",
       "                        <td id=\"T_11ba5_row1_col2\" class=\"data row1 col2\" >0.7093</td>\n",
       "                        <td id=\"T_11ba5_row1_col3\" class=\"data row1 col3\" >0.4227</td>\n",
       "                        <td id=\"T_11ba5_row1_col4\" class=\"data row1 col4\" >0.6124</td>\n",
       "                        <td id=\"T_11ba5_row1_col5\" class=\"data row1 col5\" >0.6006</td>\n",
       "                        <td id=\"T_11ba5_row1_col6\" class=\"data row1 col6\" >0.1916</td>\n",
       "                        <td id=\"T_11ba5_row1_col7\" class=\"data row1 col7\" >0.2394</td>\n",
       "                        <td id=\"T_11ba5_row1_col8\" class=\"data row1 col8\" >8.0780</td>\n",
       "            </tr>\n",
       "            <tr>\n",
       "                        <th id=\"T_11ba5_level0_row2\" class=\"row_heading level0 row2\" >gbc</th>\n",
       "                        <td id=\"T_11ba5_row2_col0\" class=\"data row2 col0\" >Gradient Boosting Classifier</td>\n",
       "                        <td id=\"T_11ba5_row2_col1\" class=\"data row2 col1\" >0.6798</td>\n",
       "                        <td id=\"T_11ba5_row2_col2\" class=\"data row2 col2\" >0.7048</td>\n",
       "                        <td id=\"T_11ba5_row2_col3\" class=\"data row2 col3\" >0.4173</td>\n",
       "                        <td id=\"T_11ba5_row2_col4\" class=\"data row2 col4\" >0.6024</td>\n",
       "                        <td id=\"T_11ba5_row2_col5\" class=\"data row2 col5\" >0.5966</td>\n",
       "                        <td id=\"T_11ba5_row2_col6\" class=\"data row2 col6\" >0.1815</td>\n",
       "                        <td id=\"T_11ba5_row2_col7\" class=\"data row2 col7\" >0.2333</td>\n",
       "                        <td id=\"T_11ba5_row2_col8\" class=\"data row2 col8\" >71.2920</td>\n",
       "            </tr>\n",
       "            <tr>\n",
       "                        <th id=\"T_11ba5_level0_row3\" class=\"row_heading level0 row3\" >catboost</th>\n",
       "                        <td id=\"T_11ba5_row3_col0\" class=\"data row3 col0\" >CatBoost Classifier</td>\n",
       "                        <td id=\"T_11ba5_row3_col1\" class=\"data row3 col1\" >0.6790</td>\n",
       "                        <td id=\"T_11ba5_row3_col2\" class=\"data row3 col2\" >0.7046</td>\n",
       "                        <td id=\"T_11ba5_row3_col3\" class=\"data row3 col3\" >0.4227</td>\n",
       "                        <td id=\"T_11ba5_row3_col4\" class=\"data row3 col4\" >0.6006</td>\n",
       "                        <td id=\"T_11ba5_row3_col5\" class=\"data row3 col5\" >0.6004</td>\n",
       "                        <td id=\"T_11ba5_row3_col6\" class=\"data row3 col6\" >0.1913</td>\n",
       "                        <td id=\"T_11ba5_row3_col7\" class=\"data row3 col7\" >0.2373</td>\n",
       "                        <td id=\"T_11ba5_row3_col8\" class=\"data row3 col8\" >10.5160</td>\n",
       "            </tr>\n",
       "            <tr>\n",
       "                        <th id=\"T_11ba5_level0_row4\" class=\"row_heading level0 row4\" >ada</th>\n",
       "                        <td id=\"T_11ba5_row4_col0\" class=\"data row4 col0\" >Ada Boost Classifier</td>\n",
       "                        <td id=\"T_11ba5_row4_col1\" class=\"data row4 col1\" >0.6766</td>\n",
       "                        <td id=\"T_11ba5_row4_col2\" class=\"data row4 col2\" >0.6869</td>\n",
       "                        <td id=\"T_11ba5_row4_col3\" class=\"data row4 col3\" >0.4202</td>\n",
       "                        <td id=\"T_11ba5_row4_col4\" class=\"data row4 col4\" >0.6094</td>\n",
       "                        <td id=\"T_11ba5_row4_col5\" class=\"data row4 col5\" >0.5963</td>\n",
       "                        <td id=\"T_11ba5_row4_col6\" class=\"data row4 col6\" >0.1849</td>\n",
       "                        <td id=\"T_11ba5_row4_col7\" class=\"data row4 col7\" >0.2300</td>\n",
       "                        <td id=\"T_11ba5_row4_col8\" class=\"data row4 col8\" >9.2500</td>\n",
       "            </tr>\n",
       "            <tr>\n",
       "                        <th id=\"T_11ba5_level0_row5\" class=\"row_heading level0 row5\" >lr</th>\n",
       "                        <td id=\"T_11ba5_row5_col0\" class=\"data row5 col0\" >Logistic Regression</td>\n",
       "                        <td id=\"T_11ba5_row5_col1\" class=\"data row5 col1\" >0.6608</td>\n",
       "                        <td id=\"T_11ba5_row5_col2\" class=\"data row5 col2\" >0.6775</td>\n",
       "                        <td id=\"T_11ba5_row5_col3\" class=\"data row5 col3\" >0.3703</td>\n",
       "                        <td id=\"T_11ba5_row5_col4\" class=\"data row5 col4\" >0.5490</td>\n",
       "                        <td id=\"T_11ba5_row5_col5\" class=\"data row5 col5\" >0.5626</td>\n",
       "                        <td id=\"T_11ba5_row5_col6\" class=\"data row5 col6\" >0.0878</td>\n",
       "                        <td id=\"T_11ba5_row5_col7\" class=\"data row5 col7\" >0.1348</td>\n",
       "                        <td id=\"T_11ba5_row5_col8\" class=\"data row5 col8\" >2.1920</td>\n",
       "            </tr>\n",
       "            <tr>\n",
       "                        <th id=\"T_11ba5_level0_row6\" class=\"row_heading level0 row6\" >svm</th>\n",
       "                        <td id=\"T_11ba5_row6_col0\" class=\"data row6 col0\" >SVM - Linear Kernel</td>\n",
       "                        <td id=\"T_11ba5_row6_col1\" class=\"data row6 col1\" >0.6536</td>\n",
       "                        <td id=\"T_11ba5_row6_col2\" class=\"data row6 col2\" >0.0000</td>\n",
       "                        <td id=\"T_11ba5_row6_col3\" class=\"data row6 col3\" >0.3421</td>\n",
       "                        <td id=\"T_11ba5_row6_col4\" class=\"data row6 col4\" >0.5317</td>\n",
       "                        <td id=\"T_11ba5_row6_col5\" class=\"data row6 col5\" >0.5338</td>\n",
       "                        <td id=\"T_11ba5_row6_col6\" class=\"data row6 col6\" >0.0229</td>\n",
       "                        <td id=\"T_11ba5_row6_col7\" class=\"data row6 col7\" >0.0502</td>\n",
       "                        <td id=\"T_11ba5_row6_col8\" class=\"data row6 col8\" >1.0500</td>\n",
       "            </tr>\n",
       "            <tr>\n",
       "                        <th id=\"T_11ba5_level0_row7\" class=\"row_heading level0 row7\" >rf</th>\n",
       "                        <td id=\"T_11ba5_row7_col0\" class=\"data row7 col0\" >Random Forest Classifier</td>\n",
       "                        <td id=\"T_11ba5_row7_col1\" class=\"data row7 col1\" >0.6528</td>\n",
       "                        <td id=\"T_11ba5_row7_col2\" class=\"data row7 col2\" >0.6783</td>\n",
       "                        <td id=\"T_11ba5_row7_col3\" class=\"data row7 col3\" >0.4255</td>\n",
       "                        <td id=\"T_11ba5_row7_col4\" class=\"data row7 col4\" >0.5815</td>\n",
       "                        <td id=\"T_11ba5_row7_col5\" class=\"data row7 col5\" >0.6001</td>\n",
       "                        <td id=\"T_11ba5_row7_col6\" class=\"data row7 col6\" >0.1862</td>\n",
       "                        <td id=\"T_11ba5_row7_col7\" class=\"data row7 col7\" >0.2039</td>\n",
       "                        <td id=\"T_11ba5_row7_col8\" class=\"data row7 col8\" >17.0820</td>\n",
       "            </tr>\n",
       "            <tr>\n",
       "                        <th id=\"T_11ba5_level0_row8\" class=\"row_heading level0 row8\" >ridge</th>\n",
       "                        <td id=\"T_11ba5_row8_col0\" class=\"data row8 col0\" >Ridge Classifier</td>\n",
       "                        <td id=\"T_11ba5_row8_col1\" class=\"data row8 col1\" >0.6520</td>\n",
       "                        <td id=\"T_11ba5_row8_col2\" class=\"data row8 col2\" >0.0000</td>\n",
       "                        <td id=\"T_11ba5_row8_col3\" class=\"data row8 col3\" >0.3472</td>\n",
       "                        <td id=\"T_11ba5_row8_col4\" class=\"data row8 col4\" >0.4933</td>\n",
       "                        <td id=\"T_11ba5_row8_col5\" class=\"data row8 col5\" >0.5392</td>\n",
       "                        <td id=\"T_11ba5_row8_col6\" class=\"data row8 col6\" >0.0342</td>\n",
       "                        <td id=\"T_11ba5_row8_col7\" class=\"data row8 col7\" >0.0646</td>\n",
       "                        <td id=\"T_11ba5_row8_col8\" class=\"data row8 col8\" >0.3180</td>\n",
       "            </tr>\n",
       "            <tr>\n",
       "                        <th id=\"T_11ba5_level0_row9\" class=\"row_heading level0 row9\" >nb</th>\n",
       "                        <td id=\"T_11ba5_row9_col0\" class=\"data row9 col0\" >Naive Bayes</td>\n",
       "                        <td id=\"T_11ba5_row9_col1\" class=\"data row9 col1\" >0.6519</td>\n",
       "                        <td id=\"T_11ba5_row9_col2\" class=\"data row9 col2\" >0.6567</td>\n",
       "                        <td id=\"T_11ba5_row9_col3\" class=\"data row9 col3\" >0.3524</td>\n",
       "                        <td id=\"T_11ba5_row9_col4\" class=\"data row9 col4\" >0.5363</td>\n",
       "                        <td id=\"T_11ba5_row9_col5\" class=\"data row9 col5\" >0.5480</td>\n",
       "                        <td id=\"T_11ba5_row9_col6\" class=\"data row9 col6\" >0.0577</td>\n",
       "                        <td id=\"T_11ba5_row9_col7\" class=\"data row9 col7\" >0.0923</td>\n",
       "                        <td id=\"T_11ba5_row9_col8\" class=\"data row9 col8\" >0.3660</td>\n",
       "            </tr>\n",
       "            <tr>\n",
       "                        <th id=\"T_11ba5_level0_row10\" class=\"row_heading level0 row10\" >qda</th>\n",
       "                        <td id=\"T_11ba5_row10_col0\" class=\"data row10 col0\" >Quadratic Discriminant Analysis</td>\n",
       "                        <td id=\"T_11ba5_row10_col1\" class=\"data row10 col1\" >0.6492</td>\n",
       "                        <td id=\"T_11ba5_row10_col2\" class=\"data row10 col2\" >0.6574</td>\n",
       "                        <td id=\"T_11ba5_row10_col3\" class=\"data row10 col3\" >0.3551</td>\n",
       "                        <td id=\"T_11ba5_row10_col4\" class=\"data row10 col4\" >0.5453</td>\n",
       "                        <td id=\"T_11ba5_row10_col5\" class=\"data row10 col5\" >0.5504</td>\n",
       "                        <td id=\"T_11ba5_row10_col6\" class=\"data row10 col6\" >0.0615</td>\n",
       "                        <td id=\"T_11ba5_row10_col7\" class=\"data row10 col7\" >0.0924</td>\n",
       "                        <td id=\"T_11ba5_row10_col8\" class=\"data row10 col8\" >0.3840</td>\n",
       "            </tr>\n",
       "            <tr>\n",
       "                        <th id=\"T_11ba5_level0_row11\" class=\"row_heading level0 row11\" >lda</th>\n",
       "                        <td id=\"T_11ba5_row11_col0\" class=\"data row11 col0\" >Linear Discriminant Analysis</td>\n",
       "                        <td id=\"T_11ba5_row11_col1\" class=\"data row11 col1\" >0.6476</td>\n",
       "                        <td id=\"T_11ba5_row11_col2\" class=\"data row11 col2\" >0.6618</td>\n",
       "                        <td id=\"T_11ba5_row11_col3\" class=\"data row11 col3\" >0.3553</td>\n",
       "                        <td id=\"T_11ba5_row11_col4\" class=\"data row11 col4\" >0.4954</td>\n",
       "                        <td id=\"T_11ba5_row11_col5\" class=\"data row11 col5\" >0.5461</td>\n",
       "                        <td id=\"T_11ba5_row11_col6\" class=\"data row11 col6\" >0.0518</td>\n",
       "                        <td id=\"T_11ba5_row11_col7\" class=\"data row11 col7\" >0.0800</td>\n",
       "                        <td id=\"T_11ba5_row11_col8\" class=\"data row11 col8\" >0.4200</td>\n",
       "            </tr>\n",
       "            <tr>\n",
       "                        <th id=\"T_11ba5_level0_row12\" class=\"row_heading level0 row12\" >et</th>\n",
       "                        <td id=\"T_11ba5_row12_col0\" class=\"data row12 col0\" >Extra Trees Classifier</td>\n",
       "                        <td id=\"T_11ba5_row12_col1\" class=\"data row12 col1\" >0.6462</td>\n",
       "                        <td id=\"T_11ba5_row12_col2\" class=\"data row12 col2\" >0.6679</td>\n",
       "                        <td id=\"T_11ba5_row12_col3\" class=\"data row12 col3\" >0.4255</td>\n",
       "                        <td id=\"T_11ba5_row12_col4\" class=\"data row12 col4\" >0.5794</td>\n",
       "                        <td id=\"T_11ba5_row12_col5\" class=\"data row12 col5\" >0.5993</td>\n",
       "                        <td id=\"T_11ba5_row12_col6\" class=\"data row12 col6\" >0.1838</td>\n",
       "                        <td id=\"T_11ba5_row12_col7\" class=\"data row12 col7\" >0.1976</td>\n",
       "                        <td id=\"T_11ba5_row12_col8\" class=\"data row12 col8\" >23.2080</td>\n",
       "            </tr>\n",
       "            <tr>\n",
       "                        <th id=\"T_11ba5_level0_row13\" class=\"row_heading level0 row13\" >knn</th>\n",
       "                        <td id=\"T_11ba5_row13_col0\" class=\"data row13 col0\" >K Neighbors Classifier</td>\n",
       "                        <td id=\"T_11ba5_row13_col1\" class=\"data row13 col1\" >0.6211</td>\n",
       "                        <td id=\"T_11ba5_row13_col2\" class=\"data row13 col2\" >0.6352</td>\n",
       "                        <td id=\"T_11ba5_row13_col3\" class=\"data row13 col3\" >0.4055</td>\n",
       "                        <td id=\"T_11ba5_row13_col4\" class=\"data row13 col4\" >0.5720</td>\n",
       "                        <td id=\"T_11ba5_row13_col5\" class=\"data row13 col5\" >0.5859</td>\n",
       "                        <td id=\"T_11ba5_row13_col6\" class=\"data row13 col6\" >0.1470</td>\n",
       "                        <td id=\"T_11ba5_row13_col7\" class=\"data row13 col7\" >0.1544</td>\n",
       "                        <td id=\"T_11ba5_row13_col8\" class=\"data row13 col8\" >44.7440</td>\n",
       "            </tr>\n",
       "            <tr>\n",
       "                        <th id=\"T_11ba5_level0_row14\" class=\"row_heading level0 row14\" >dt</th>\n",
       "                        <td id=\"T_11ba5_row14_col0\" class=\"data row14 col0\" >Decision Tree Classifier</td>\n",
       "                        <td id=\"T_11ba5_row14_col1\" class=\"data row14 col1\" >0.6150</td>\n",
       "                        <td id=\"T_11ba5_row14_col2\" class=\"data row14 col2\" >0.5660</td>\n",
       "                        <td id=\"T_11ba5_row14_col3\" class=\"data row14 col3\" >0.4130</td>\n",
       "                        <td id=\"T_11ba5_row14_col4\" class=\"data row14 col4\" >0.5674</td>\n",
       "                        <td id=\"T_11ba5_row14_col5\" class=\"data row14 col5\" >0.5859</td>\n",
       "                        <td id=\"T_11ba5_row14_col6\" class=\"data row14 col6\" >0.1587</td>\n",
       "                        <td id=\"T_11ba5_row14_col7\" class=\"data row14 col7\" >0.1632</td>\n",
       "                        <td id=\"T_11ba5_row14_col8\" class=\"data row14 col8\" >1.5220</td>\n",
       "            </tr>\n",
       "    </tbody></table>"
      ],
      "text/plain": [
       "<pandas.io.formats.style.Styler at 0x28776a81fd0>"
      ]
     },
     "metadata": {},
     "output_type": "display_data"
    }
   ],
   "source": [
    "best = compare_models()"
   ]
  },
  {
   "cell_type": "code",
   "execution_count": 187,
   "id": "d623ed0f",
   "metadata": {},
   "outputs": [
    {
     "data": {
      "application/vnd.jupyter.widget-view+json": {
       "model_id": "c66f5faaf02c4f8199b21b5b7b66f19f",
       "version_major": 2,
       "version_minor": 0
      },
      "text/plain": [
       "interactive(children=(ToggleButtons(description='Plot Type:', icons=('',), options=(('Hyperparameters', 'param…"
      ]
     },
     "metadata": {},
     "output_type": "display_data"
    }
   ],
   "source": [
    "evaluate_model(best)"
   ]
  },
  {
   "cell_type": "code",
   "execution_count": 188,
   "id": "6cf702b8",
   "metadata": {
    "scrolled": true
   },
   "outputs": [
    {
     "data": {
      "text/html": [
       "<style  type=\"text/css\" >\n",
       "#T_ce13d_row5_col0,#T_ce13d_row5_col1,#T_ce13d_row5_col2,#T_ce13d_row5_col3,#T_ce13d_row5_col4,#T_ce13d_row5_col5,#T_ce13d_row5_col6{\n",
       "            background:  yellow;\n",
       "        }</style><table id=\"T_ce13d_\" ><thead>    <tr>        <th class=\"blank level0\" ></th>        <th class=\"col_heading level0 col0\" >Accuracy</th>        <th class=\"col_heading level0 col1\" >AUC</th>        <th class=\"col_heading level0 col2\" >Recall</th>        <th class=\"col_heading level0 col3\" >Prec.</th>        <th class=\"col_heading level0 col4\" >F1</th>        <th class=\"col_heading level0 col5\" >Kappa</th>        <th class=\"col_heading level0 col6\" >MCC</th>    </tr></thead><tbody>\n",
       "                <tr>\n",
       "                        <th id=\"T_ce13d_level0_row0\" class=\"row_heading level0 row0\" >0</th>\n",
       "                        <td id=\"T_ce13d_row0_col0\" class=\"data row0 col0\" >0.6806</td>\n",
       "                        <td id=\"T_ce13d_row0_col1\" class=\"data row0 col1\" >0.7092</td>\n",
       "                        <td id=\"T_ce13d_row0_col2\" class=\"data row0 col2\" >0.4211</td>\n",
       "                        <td id=\"T_ce13d_row0_col3\" class=\"data row0 col3\" >0.5962</td>\n",
       "                        <td id=\"T_ce13d_row0_col4\" class=\"data row0 col4\" >0.5988</td>\n",
       "                        <td id=\"T_ce13d_row0_col5\" class=\"data row0 col5\" >0.1886</td>\n",
       "                        <td id=\"T_ce13d_row0_col6\" class=\"data row0 col6\" >0.2388</td>\n",
       "            </tr>\n",
       "            <tr>\n",
       "                        <th id=\"T_ce13d_level0_row1\" class=\"row_heading level0 row1\" >1</th>\n",
       "                        <td id=\"T_ce13d_row1_col0\" class=\"data row1 col0\" >0.6810</td>\n",
       "                        <td id=\"T_ce13d_row1_col1\" class=\"data row1 col1\" >0.7096</td>\n",
       "                        <td id=\"T_ce13d_row1_col2\" class=\"data row1 col2\" >0.4213</td>\n",
       "                        <td id=\"T_ce13d_row1_col3\" class=\"data row1 col3\" >0.5990</td>\n",
       "                        <td id=\"T_ce13d_row1_col4\" class=\"data row1 col4\" >0.5992</td>\n",
       "                        <td id=\"T_ce13d_row1_col5\" class=\"data row1 col5\" >0.1897</td>\n",
       "                        <td id=\"T_ce13d_row1_col6\" class=\"data row1 col6\" >0.2401</td>\n",
       "            </tr>\n",
       "            <tr>\n",
       "                        <th id=\"T_ce13d_level0_row2\" class=\"row_heading level0 row2\" >2</th>\n",
       "                        <td id=\"T_ce13d_row2_col0\" class=\"data row2 col0\" >0.6806</td>\n",
       "                        <td id=\"T_ce13d_row2_col1\" class=\"data row2 col1\" >0.7093</td>\n",
       "                        <td id=\"T_ce13d_row2_col2\" class=\"data row2 col2\" >0.4190</td>\n",
       "                        <td id=\"T_ce13d_row2_col3\" class=\"data row2 col3\" >0.6077</td>\n",
       "                        <td id=\"T_ce13d_row2_col4\" class=\"data row2 col4\" >0.5980</td>\n",
       "                        <td id=\"T_ce13d_row2_col5\" class=\"data row2 col5\" >0.1862</td>\n",
       "                        <td id=\"T_ce13d_row2_col6\" class=\"data row2 col6\" >0.2375</td>\n",
       "            </tr>\n",
       "            <tr>\n",
       "                        <th id=\"T_ce13d_level0_row3\" class=\"row_heading level0 row3\" >3</th>\n",
       "                        <td id=\"T_ce13d_row3_col0\" class=\"data row3 col0\" >0.6813</td>\n",
       "                        <td id=\"T_ce13d_row3_col1\" class=\"data row3 col1\" >0.7100</td>\n",
       "                        <td id=\"T_ce13d_row3_col2\" class=\"data row3 col2\" >0.4207</td>\n",
       "                        <td id=\"T_ce13d_row3_col3\" class=\"data row3 col3\" >0.6203</td>\n",
       "                        <td id=\"T_ce13d_row3_col4\" class=\"data row3 col4\" >0.5990</td>\n",
       "                        <td id=\"T_ce13d_row3_col5\" class=\"data row3 col5\" >0.1885</td>\n",
       "                        <td id=\"T_ce13d_row3_col6\" class=\"data row3 col6\" >0.2401</td>\n",
       "            </tr>\n",
       "            <tr>\n",
       "                        <th id=\"T_ce13d_level0_row4\" class=\"row_heading level0 row4\" >4</th>\n",
       "                        <td id=\"T_ce13d_row4_col0\" class=\"data row4 col0\" >0.6800</td>\n",
       "                        <td id=\"T_ce13d_row4_col1\" class=\"data row4 col1\" >0.7068</td>\n",
       "                        <td id=\"T_ce13d_row4_col2\" class=\"data row4 col2\" >0.4208</td>\n",
       "                        <td id=\"T_ce13d_row4_col3\" class=\"data row4 col3\" >0.5971</td>\n",
       "                        <td id=\"T_ce13d_row4_col4\" class=\"data row4 col4\" >0.5984</td>\n",
       "                        <td id=\"T_ce13d_row4_col5\" class=\"data row4 col5\" >0.1881</td>\n",
       "                        <td id=\"T_ce13d_row4_col6\" class=\"data row4 col6\" >0.2375</td>\n",
       "            </tr>\n",
       "            <tr>\n",
       "                        <th id=\"T_ce13d_level0_row5\" class=\"row_heading level0 row5\" >Mean</th>\n",
       "                        <td id=\"T_ce13d_row5_col0\" class=\"data row5 col0\" >0.6807</td>\n",
       "                        <td id=\"T_ce13d_row5_col1\" class=\"data row5 col1\" >0.7090</td>\n",
       "                        <td id=\"T_ce13d_row5_col2\" class=\"data row5 col2\" >0.4206</td>\n",
       "                        <td id=\"T_ce13d_row5_col3\" class=\"data row5 col3\" >0.6041</td>\n",
       "                        <td id=\"T_ce13d_row5_col4\" class=\"data row5 col4\" >0.5987</td>\n",
       "                        <td id=\"T_ce13d_row5_col5\" class=\"data row5 col5\" >0.1882</td>\n",
       "                        <td id=\"T_ce13d_row5_col6\" class=\"data row5 col6\" >0.2388</td>\n",
       "            </tr>\n",
       "            <tr>\n",
       "                        <th id=\"T_ce13d_level0_row6\" class=\"row_heading level0 row6\" >SD</th>\n",
       "                        <td id=\"T_ce13d_row6_col0\" class=\"data row6 col0\" >0.0004</td>\n",
       "                        <td id=\"T_ce13d_row6_col1\" class=\"data row6 col1\" >0.0011</td>\n",
       "                        <td id=\"T_ce13d_row6_col2\" class=\"data row6 col2\" >0.0008</td>\n",
       "                        <td id=\"T_ce13d_row6_col3\" class=\"data row6 col3\" >0.0091</td>\n",
       "                        <td id=\"T_ce13d_row6_col4\" class=\"data row6 col4\" >0.0004</td>\n",
       "                        <td id=\"T_ce13d_row6_col5\" class=\"data row6 col5\" >0.0011</td>\n",
       "                        <td id=\"T_ce13d_row6_col6\" class=\"data row6 col6\" >0.0012</td>\n",
       "            </tr>\n",
       "    </tbody></table>"
      ],
      "text/plain": [
       "<pandas.io.formats.style.Styler at 0x2885267cc70>"
      ]
     },
     "metadata": {},
     "output_type": "display_data"
    }
   ],
   "source": [
    "lightgbm = create_model('lightgbm')"
   ]
  },
  {
   "cell_type": "code",
   "execution_count": 189,
   "id": "4bee41d2",
   "metadata": {
    "scrolled": true
   },
   "outputs": [
    {
     "data": {
      "text/html": [
       "<style  type=\"text/css\" >\n",
       "#T_75a04_row5_col0,#T_75a04_row5_col1,#T_75a04_row5_col2,#T_75a04_row5_col3,#T_75a04_row5_col4,#T_75a04_row5_col5,#T_75a04_row5_col6{\n",
       "            background:  yellow;\n",
       "        }</style><table id=\"T_75a04_\" ><thead>    <tr>        <th class=\"blank level0\" ></th>        <th class=\"col_heading level0 col0\" >Accuracy</th>        <th class=\"col_heading level0 col1\" >AUC</th>        <th class=\"col_heading level0 col2\" >Recall</th>        <th class=\"col_heading level0 col3\" >Prec.</th>        <th class=\"col_heading level0 col4\" >F1</th>        <th class=\"col_heading level0 col5\" >Kappa</th>        <th class=\"col_heading level0 col6\" >MCC</th>    </tr></thead><tbody>\n",
       "                <tr>\n",
       "                        <th id=\"T_75a04_level0_row0\" class=\"row_heading level0 row0\" >0</th>\n",
       "                        <td id=\"T_75a04_row0_col0\" class=\"data row0 col0\" >0.6803</td>\n",
       "                        <td id=\"T_75a04_row0_col1\" class=\"data row0 col1\" >0.7087</td>\n",
       "                        <td id=\"T_75a04_row0_col2\" class=\"data row0 col2\" >0.4207</td>\n",
       "                        <td id=\"T_75a04_row0_col3\" class=\"data row0 col3\" >0.5946</td>\n",
       "                        <td id=\"T_75a04_row0_col4\" class=\"data row0 col4\" >0.5984</td>\n",
       "                        <td id=\"T_75a04_row0_col5\" class=\"data row0 col5\" >0.1874</td>\n",
       "                        <td id=\"T_75a04_row0_col6\" class=\"data row0 col6\" >0.2376</td>\n",
       "            </tr>\n",
       "            <tr>\n",
       "                        <th id=\"T_75a04_level0_row1\" class=\"row_heading level0 row1\" >1</th>\n",
       "                        <td id=\"T_75a04_row1_col0\" class=\"data row1 col0\" >0.6815</td>\n",
       "                        <td id=\"T_75a04_row1_col1\" class=\"data row1 col1\" >0.7092</td>\n",
       "                        <td id=\"T_75a04_row1_col2\" class=\"data row1 col2\" >0.4219</td>\n",
       "                        <td id=\"T_75a04_row1_col3\" class=\"data row1 col3\" >0.6182</td>\n",
       "                        <td id=\"T_75a04_row1_col4\" class=\"data row1 col4\" >0.5994</td>\n",
       "                        <td id=\"T_75a04_row1_col5\" class=\"data row1 col5\" >0.1906</td>\n",
       "                        <td id=\"T_75a04_row1_col6\" class=\"data row1 col6\" >0.2415</td>\n",
       "            </tr>\n",
       "            <tr>\n",
       "                        <th id=\"T_75a04_level0_row2\" class=\"row_heading level0 row2\" >2</th>\n",
       "                        <td id=\"T_75a04_row2_col0\" class=\"data row2 col0\" >0.6805</td>\n",
       "                        <td id=\"T_75a04_row2_col1\" class=\"data row2 col1\" >0.7088</td>\n",
       "                        <td id=\"T_75a04_row2_col2\" class=\"data row2 col2\" >0.4187</td>\n",
       "                        <td id=\"T_75a04_row2_col3\" class=\"data row2 col3\" >0.6166</td>\n",
       "                        <td id=\"T_75a04_row2_col4\" class=\"data row2 col4\" >0.5975</td>\n",
       "                        <td id=\"T_75a04_row2_col5\" class=\"data row2 col5\" >0.1856</td>\n",
       "                        <td id=\"T_75a04_row2_col6\" class=\"data row2 col6\" >0.2369</td>\n",
       "            </tr>\n",
       "            <tr>\n",
       "                        <th id=\"T_75a04_level0_row3\" class=\"row_heading level0 row3\" >3</th>\n",
       "                        <td id=\"T_75a04_row3_col0\" class=\"data row3 col0\" >0.6813</td>\n",
       "                        <td id=\"T_75a04_row3_col1\" class=\"data row3 col1\" >0.7095</td>\n",
       "                        <td id=\"T_75a04_row3_col2\" class=\"data row3 col2\" >0.4202</td>\n",
       "                        <td id=\"T_75a04_row3_col3\" class=\"data row3 col3\" >0.6119</td>\n",
       "                        <td id=\"T_75a04_row3_col4\" class=\"data row3 col4\" >0.5985</td>\n",
       "                        <td id=\"T_75a04_row3_col5\" class=\"data row3 col5\" >0.1874</td>\n",
       "                        <td id=\"T_75a04_row3_col6\" class=\"data row3 col6\" >0.2394</td>\n",
       "            </tr>\n",
       "            <tr>\n",
       "                        <th id=\"T_75a04_level0_row4\" class=\"row_heading level0 row4\" >4</th>\n",
       "                        <td id=\"T_75a04_row4_col0\" class=\"data row4 col0\" >0.6804</td>\n",
       "                        <td id=\"T_75a04_row4_col1\" class=\"data row4 col1\" >0.7063</td>\n",
       "                        <td id=\"T_75a04_row4_col2\" class=\"data row4 col2\" >0.4212</td>\n",
       "                        <td id=\"T_75a04_row4_col3\" class=\"data row4 col3\" >0.6245</td>\n",
       "                        <td id=\"T_75a04_row4_col4\" class=\"data row4 col4\" >0.5985</td>\n",
       "                        <td id=\"T_75a04_row4_col5\" class=\"data row4 col5\" >0.1887</td>\n",
       "                        <td id=\"T_75a04_row4_col6\" class=\"data row4 col6\" >0.2386</td>\n",
       "            </tr>\n",
       "            <tr>\n",
       "                        <th id=\"T_75a04_level0_row5\" class=\"row_heading level0 row5\" >Mean</th>\n",
       "                        <td id=\"T_75a04_row5_col0\" class=\"data row5 col0\" >0.6808</td>\n",
       "                        <td id=\"T_75a04_row5_col1\" class=\"data row5 col1\" >0.7085</td>\n",
       "                        <td id=\"T_75a04_row5_col2\" class=\"data row5 col2\" >0.4205</td>\n",
       "                        <td id=\"T_75a04_row5_col3\" class=\"data row5 col3\" >0.6132</td>\n",
       "                        <td id=\"T_75a04_row5_col4\" class=\"data row5 col4\" >0.5985</td>\n",
       "                        <td id=\"T_75a04_row5_col5\" class=\"data row5 col5\" >0.1879</td>\n",
       "                        <td id=\"T_75a04_row5_col6\" class=\"data row5 col6\" >0.2388</td>\n",
       "            </tr>\n",
       "            <tr>\n",
       "                        <th id=\"T_75a04_level0_row6\" class=\"row_heading level0 row6\" >SD</th>\n",
       "                        <td id=\"T_75a04_row6_col0\" class=\"data row6 col0\" >0.0005</td>\n",
       "                        <td id=\"T_75a04_row6_col1\" class=\"data row6 col1\" >0.0011</td>\n",
       "                        <td id=\"T_75a04_row6_col2\" class=\"data row6 col2\" >0.0010</td>\n",
       "                        <td id=\"T_75a04_row6_col3\" class=\"data row6 col3\" >0.0101</td>\n",
       "                        <td id=\"T_75a04_row6_col4\" class=\"data row6 col4\" >0.0006</td>\n",
       "                        <td id=\"T_75a04_row6_col5\" class=\"data row6 col5\" >0.0017</td>\n",
       "                        <td id=\"T_75a04_row6_col6\" class=\"data row6 col6\" >0.0016</td>\n",
       "            </tr>\n",
       "    </tbody></table>"
      ],
      "text/plain": [
       "<pandas.io.formats.style.Styler at 0x28850737580>"
      ]
     },
     "metadata": {},
     "output_type": "display_data"
    }
   ],
   "source": [
    "tuned_lightgbm = tune_model(lightgbm)"
   ]
  },
  {
   "cell_type": "code",
   "execution_count": 190,
   "id": "89cf98e4",
   "metadata": {},
   "outputs": [
    {
     "name": "stdout",
     "output_type": "stream",
     "text": [
      "LGBMClassifier(bagging_fraction=0.7, bagging_freq=5, boosting_type='gbdt',\n",
      "               class_weight=None, colsample_bytree=1.0, device='gpu',\n",
      "               feature_fraction=0.8, importance_type='split',\n",
      "               learning_rate=0.05, max_depth=-1, min_child_samples=66,\n",
      "               min_child_weight=0.001, min_split_gain=0.1, n_estimators=100,\n",
      "               n_jobs=-1, num_leaves=40, objective=None, random_state=1658,\n",
      "               reg_alpha=10, reg_lambda=0.01, silent=True, subsample=1.0,\n",
      "               subsample_for_bin=200000, subsample_freq=0)\n"
     ]
    }
   ],
   "source": [
    "print(tuned_lightgbm)"
   ]
  },
  {
   "cell_type": "code",
   "execution_count": 191,
   "id": "118a2a9e",
   "metadata": {},
   "outputs": [
    {
     "name": "stdout",
     "output_type": "stream",
     "text": [
      "[LightGBM] [Warning] feature_fraction is set=0.8, colsample_bytree=1.0 will be ignored. Current value: feature_fraction=0.8\n",
      "[LightGBM] [Warning] bagging_fraction is set=0.7, subsample=1.0 will be ignored. Current value: bagging_fraction=0.7\n",
      "[LightGBM] [Warning] bagging_freq is set=5, subsample_freq=0 will be ignored. Current value: bagging_freq=5\n",
      "[LightGBM] [Warning] feature_fraction is set=0.8, colsample_bytree=1.0 will be ignored. Current value: feature_fraction=0.8\n",
      "[LightGBM] [Warning] bagging_fraction is set=0.7, subsample=1.0 will be ignored. Current value: bagging_fraction=0.7\n",
      "[LightGBM] [Warning] bagging_freq is set=5, subsample_freq=0 will be ignored. Current value: bagging_freq=5\n",
      "[LightGBM] [Warning] feature_fraction is set=0.8, colsample_bytree=1.0 will be ignored. Current value: feature_fraction=0.8\n",
      "[LightGBM] [Warning] bagging_fraction is set=0.7, subsample=1.0 will be ignored. Current value: bagging_fraction=0.7\n",
      "[LightGBM] [Warning] bagging_freq is set=5, subsample_freq=0 will be ignored. Current value: bagging_freq=5\n",
      "[LightGBM] [Warning] feature_fraction is set=0.8, colsample_bytree=1.0 will be ignored. Current value: feature_fraction=0.8\n",
      "[LightGBM] [Warning] bagging_fraction is set=0.7, subsample=1.0 will be ignored. Current value: bagging_fraction=0.7\n",
      "[LightGBM] [Warning] bagging_freq is set=5, subsample_freq=0 will be ignored. Current value: bagging_freq=5\n"
     ]
    }
   ],
   "source": [
    "final_lightgbm = finalize_model(tuned_lightgbm)"
   ]
  },
  {
   "cell_type": "code",
   "execution_count": 192,
   "id": "7ec32869",
   "metadata": {},
   "outputs": [],
   "source": [
    "unseen_predictions = predict_model(final_lightgbm, data=df_validation_scaled)"
   ]
  },
  {
   "cell_type": "code",
   "execution_count": 193,
   "id": "f68f82ce",
   "metadata": {
    "scrolled": true
   },
   "outputs": [],
   "source": [
    "from sklearn.metrics import accuracy_score, confusion_matrix, f1_score, ConfusionMatrixDisplay\n",
    "\n",
    "y_pred = unseen_predictions['Label']\n",
    "y_true = unseen_predictions['result']"
   ]
  },
  {
   "cell_type": "code",
   "execution_count": 194,
   "id": "f59742ed",
   "metadata": {},
   "outputs": [
    {
     "data": {
      "text/plain": [
       "No Purchase          44191\n",
       "Reducing Purchase     7551\n",
       "Increase Purchase       16\n",
       "Name: Label, dtype: int64"
      ]
     },
     "execution_count": 194,
     "metadata": {},
     "output_type": "execute_result"
    }
   ],
   "source": [
    "unseen_predictions['Label'].value_counts()"
   ]
  },
  {
   "cell_type": "code",
   "execution_count": 195,
   "id": "fbe7f328",
   "metadata": {},
   "outputs": [
    {
     "data": {
      "text/plain": [
       "No Purchase          27370\n",
       "Increase Purchase    13815\n",
       "Reducing Purchase    10573\n",
       "Name: result, dtype: int64"
      ]
     },
     "execution_count": 195,
     "metadata": {},
     "output_type": "execute_result"
    }
   ],
   "source": [
    "unseen_predictions['result'].value_counts()"
   ]
  },
  {
   "cell_type": "code",
   "execution_count": 196,
   "id": "f90c1470",
   "metadata": {},
   "outputs": [
    {
     "data": {
      "text/plain": [
       "<sklearn.metrics._plot.confusion_matrix.ConfusionMatrixDisplay at 0x2885267cf40>"
      ]
     },
     "execution_count": 196,
     "metadata": {},
     "output_type": "execute_result"
    },
    {
     "data": {
      "image/png": "[encoded data removed]",
      "text/plain": [
       "<Figure size 576x396 with 2 Axes>"
      ]
     },
     "metadata": {},
     "output_type": "display_data"
    }
   ],
   "source": [
    "cm = confusion_matrix(y_true, y_pred)\n",
    "disp = ConfusionMatrixDisplay(confusion_matrix=cm)\n",
    "disp.plot(cmap=plt.cm.Reds)"
   ]
  },
  {
   "cell_type": "code",
   "execution_count": 197,
   "id": "2b7e1c18",
   "metadata": {},
   "outputs": [
    {
     "data": {
      "text/plain": [
       "0.5773020595849917"
      ]
     },
     "execution_count": 197,
     "metadata": {},
     "output_type": "execute_result"
    }
   ],
   "source": [
    "accuracy_score(y_true, y_pred)"
   ]
  },
  {
   "cell_type": "code",
   "execution_count": 198,
   "id": "a44e0807",
   "metadata": {},
   "outputs": [
    {
     "data": {
      "text/plain": [
       "0.4722101162732021"
      ]
     },
     "execution_count": 198,
     "metadata": {},
     "output_type": "execute_result"
    }
   ],
   "source": [
    "f1_score(y_true, y_pred, average='weighted')"
   ]
  }
 ],
 "metadata": {
  "kernelspec": {
   "display_name": "Python 3",
   "language": "python",
   "name": "python3"
  },
  "language_info": {
   "codemirror_mode": {
    "name": "ipython",
    "version": 3
   },
   "file_extension": ".py",
   "mimetype": "text/x-python",
   "name": "python",
   "nbconvert_exporter": "python",
   "pygments_lexer": "ipython3",
   "version": "3.9.6"
  }
 },
 "nbformat": 4,
 "nbformat_minor": 5
}
